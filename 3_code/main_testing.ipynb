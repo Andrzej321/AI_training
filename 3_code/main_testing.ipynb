{
 "cells": [
  {
   "cell_type": "code",
   "id": "initial_id",
   "metadata": {
    "collapsed": true,
    "ExecuteTime": {
     "end_time": "2025-09-05T11:55:12.054610Z",
     "start_time": "2025-09-05T11:55:12.024046Z"
    }
   },
   "source": [
    "import pandas as pd\n",
    "\n",
    "# defining the hyperparameter set as DataFrame\n",
    "param_matrix = [\n",
    "    [1, \"RNN\",  20, 64, 1, 1e-3,  64, 0.2, \"Adam\"],\n",
    "    [2, \"LSTM\", 30, 128, 2, 5e-4, 128, 0.3, \"RMSProp\"],\n",
    "    [3, \"GRU\",  50, 64, 3, 1e-3,  64, 0.1, \"Adam\"],\n",
    "]\n",
    "\n",
    "# Define column names\n",
    "columns = [\"ID\" \"Model\", \"Input_ID\", \"Seq_len\", \"Hidden_size\", \"Layers\", \"LR\",\n",
    "           \"Batch_size\", \"Dropout_rate\", \"Optimizer\"]\n",
    "\n",
    "# Build DataFrame\n",
    "df = pd.DataFrame(param_matrix, columns=columns)\n",
    "\n",
    "input_matrix = [\n",
    "    []\n",
    "]\n",
    "\n",
    "print(df)"
   ],
   "outputs": [
    {
     "name": "stdout",
     "output_type": "stream",
     "text": [
      "   ID Model  Seq_len  Hidden_size  Layers      LR  Batch  Dropout Optimizer\n",
      "0   1   RNN       20           64       1  0.0010     64      0.2      Adam\n",
      "1   2  LSTM       30          128       2  0.0005    128      0.3   RMSProp\n",
      "2   3   GRU       50           64       3  0.0010     64      0.1      Adam\n"
     ]
    }
   ],
   "execution_count": 2
  },
  {
   "metadata": {
    "ExecuteTime": {
     "end_time": "2025-09-05T11:58:40.916663Z",
     "start_time": "2025-09-05T11:58:40.908673Z"
    }
   },
   "cell_type": "code",
   "source": [
    "config = df.loc[df[\"ID\"] == 3].to_dict(orient=\"records\")[0]\n",
    "config[\"Optimizer\"]"
   ],
   "id": "1d588f861c290f5c",
   "outputs": [
    {
     "data": {
      "text/plain": [
       "'Adam'"
      ]
     },
     "execution_count": 7,
     "metadata": {},
     "output_type": "execute_result"
    }
   ],
   "execution_count": 7
  },
  {
   "metadata": {
    "ExecuteTime": {
     "end_time": "2025-09-05T12:09:35.239363Z",
     "start_time": "2025-09-05T12:09:35.231678Z"
    }
   },
   "cell_type": "code",
   "source": [
    "# Get row by index\n",
    "config = df.loc[2].to_dict()   # row with ID=1 (LSTM config)\n",
    "\n",
    "print(config)\n",
    "\n",
    "config[\"Model\"]"
   ],
   "id": "f58af48a183c6fa8",
   "outputs": [
    {
     "name": "stdout",
     "output_type": "stream",
     "text": [
      "{'ID': 3, 'Model': 'GRU', 'Seq_len': 50, 'Hidden_size': 64, 'Layers': 3, 'LR': 0.001, 'Batch': 64, 'Dropout': 0.1, 'Optimizer': 'Adam'}\n"
     ]
    },
    {
     "data": {
      "text/plain": [
       "'GRU'"
      ]
     },
     "execution_count": 13,
     "metadata": {},
     "output_type": "execute_result"
    }
   ],
   "execution_count": 13
  }
 ],
 "metadata": {
  "kernelspec": {
   "display_name": "Python 3",
   "language": "python",
   "name": "python3"
  },
  "language_info": {
   "codemirror_mode": {
    "name": "ipython",
    "version": 2
   },
   "file_extension": ".py",
   "mimetype": "text/x-python",
   "name": "python",
   "nbconvert_exporter": "python",
   "pygments_lexer": "ipython2",
   "version": "2.7.6"
  }
 },
 "nbformat": 4,
 "nbformat_minor": 5
}

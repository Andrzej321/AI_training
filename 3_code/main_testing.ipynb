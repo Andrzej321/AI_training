{
 "cells": [
  {
   "cell_type": "code",
   "id": "initial_id",
   "metadata": {
    "collapsed": true,
    "ExecuteTime": {
     "end_time": "2025-09-18T10:16:23.008108Z",
     "start_time": "2025-09-18T10:16:22.985069Z"
    }
   },
   "source": [
    "import pandas as pd\n",
    "import numpy as np\n",
    "import os\n",
    "\n",
    "#Reading in the num of models and model locations\n",
    "model_folder_loc = \"../2_trained_models/GRU/trained_models/i7/it_4_norm/state_models/lon/\"\n",
    "pt_files = [f for f in os.listdir(model_folder_loc) if f.endswith(\".pt\")]\n",
    "\n",
    "num_of_models = len(pt_files)"
   ],
   "outputs": [],
   "execution_count": 4
  },
  {
   "metadata": {
    "ExecuteTime": {
     "end_time": "2025-09-18T10:17:12.405747Z",
     "start_time": "2025-09-18T10:17:12.399741Z"
    }
   },
   "cell_type": "code",
   "source": "pt_files.sort()",
   "id": "1d588f861c290f5c",
   "outputs": [
    {
     "data": {
      "text/plain": [
       "['model_GRU_lon_0.pt',\n",
       " 'model_GRU_lon_1.pt',\n",
       " 'model_GRU_lon_10.pt',\n",
       " 'model_GRU_lon_11.pt',\n",
       " 'model_GRU_lon_12.pt',\n",
       " 'model_GRU_lon_13.pt',\n",
       " 'model_GRU_lon_14.pt',\n",
       " 'model_GRU_lon_15.pt',\n",
       " 'model_GRU_lon_16.pt',\n",
       " 'model_GRU_lon_17.pt',\n",
       " 'model_GRU_lon_18.pt',\n",
       " 'model_GRU_lon_19.pt',\n",
       " 'model_GRU_lon_2.pt',\n",
       " 'model_GRU_lon_20.pt',\n",
       " 'model_GRU_lon_21.pt',\n",
       " 'model_GRU_lon_22.pt',\n",
       " 'model_GRU_lon_23.pt',\n",
       " 'model_GRU_lon_24.pt',\n",
       " 'model_GRU_lon_3.pt',\n",
       " 'model_GRU_lon_4.pt',\n",
       " 'model_GRU_lon_5.pt',\n",
       " 'model_GRU_lon_6.pt',\n",
       " 'model_GRU_lon_7.pt',\n",
       " 'model_GRU_lon_8.pt',\n",
       " 'model_GRU_lon_9.pt']"
      ]
     },
     "execution_count": 8,
     "metadata": {},
     "output_type": "execute_result"
    }
   ],
   "execution_count": 8
  },
  {
   "metadata": {
    "ExecuteTime": {
     "end_time": "2025-09-05T12:09:35.239363Z",
     "start_time": "2025-09-05T12:09:35.231678Z"
    }
   },
   "cell_type": "code",
   "source": [
    "# Get row by index\n",
    "config = df.loc[2].to_dict()   # row with ID=1 (LSTM config)\n",
    "\n",
    "print(config)\n",
    "\n",
    "config[\"Model\"]"
   ],
   "id": "f58af48a183c6fa8",
   "outputs": [
    {
     "name": "stdout",
     "output_type": "stream",
     "text": [
      "{'ID': 3, 'Model': 'GRU', 'Seq_len': 50, 'Hidden_size': 64, 'Layers': 3, 'LR': 0.001, 'Batch': 64, 'Dropout': 0.1, 'Optimizer': 'Adam'}\n"
     ]
    },
    {
     "data": {
      "text/plain": [
       "'GRU'"
      ]
     },
     "execution_count": 13,
     "metadata": {},
     "output_type": "execute_result"
    }
   ],
   "execution_count": 13
  }
 ],
 "metadata": {
  "kernelspec": {
   "display_name": "Python 3",
   "language": "python",
   "name": "python3"
  },
  "language_info": {
   "codemirror_mode": {
    "name": "ipython",
    "version": 2
   },
   "file_extension": ".py",
   "mimetype": "text/x-python",
   "name": "python",
   "nbconvert_exporter": "python",
   "pygments_lexer": "ipython2",
   "version": "2.7.6"
  }
 },
 "nbformat": 4,
 "nbformat_minor": 5
}

{
 "cells": [
  {
   "cell_type": "code",
   "id": "initial_id",
   "metadata": {
    "collapsed": true,
    "ExecuteTime": {
     "end_time": "2025-04-11T00:31:58.961974Z",
     "start_time": "2025-04-11T00:31:53.118392Z"
    }
   },
   "source": [
    "import torch\n",
    "from classes import FullFileForTestings  # Import dataset class and model\n",
    "import matplotlib.pyplot as plt\n",
    "import torch.nn as nn\n",
    "from torch.utils.tensorboard import SummaryWriter\n",
    "\n",
    "\n",
    "class SpeedEstimatorRNNModified(nn.Module):\n",
    "    def __init__(self, input_size, hidden_size, num_layers, output_size):\n",
    "        super(SpeedEstimatorRNNModified, self).__init__()\n",
    "        self.rnn = nn.RNN(input_size, hidden_size, num_layers, batch_first=True)\n",
    "        self.fc = nn.Linear(hidden_size, output_size)  # Fully connected layer\n",
    "\n",
    "    def forward(self, x):\n",
    "        out, _ = self.rnn(x)  # RNN returns (output, hidden_state)\n",
    "        out = self.fc(out)  # Apply the fully connected layer to all time steps\n",
    "        return out"
   ],
   "outputs": [],
   "execution_count": 1
  },
  {
   "metadata": {
    "ExecuteTime": {
     "end_time": "2025-04-11T00:32:15.038164Z",
     "start_time": "2025-04-11T00:32:15.034936Z"
    }
   },
   "cell_type": "code",
   "source": [
    "#Hyperparameters\n",
    "input_size = 14  # Number of CAN signals per timestep\n",
    "hidden_size = [64, 64, 64, 128, 128, 256, 128, 128, 128, 128, 128, 128]\n",
    "num_layers = [1, 2, 3, 1, 3, 3, 2, 2, 2, 2, 4, 3]\n",
    "output_size = 1\n",
    "learning_rate = [0.001, 0.001, 0.001, 0.001, 0.001, 0.001, 0.005, 0.001, 0.001, 0.0001, 0.0005, 0.001]\n",
    "num_epochs = 15"
   ],
   "id": "87aff2eedc0faec4",
   "outputs": [],
   "execution_count": 2
  },
  {
   "metadata": {
    "ExecuteTime": {
     "end_time": "2025-04-11T00:49:35.754557Z",
     "start_time": "2025-04-11T00:49:08.862768Z"
    }
   },
   "cell_type": "code",
   "source": [
    "num_models = 12\n",
    "num_test_data_path = [r\"C:\\my files\\thesis\\AI_training\\data\\testing_data\\testing_data_1\\test_auax\\auax_drv_30.csv\", r\"C:\\my files\\thesis\\AI_training\\data\\testing_data\\testing_data_1\\test_buax\\buax_brk_30.csv\", r\"C:\\my files\\thesis\\AI_training\\data\\testing_data\\testing_data_1\\test_sin_steer\\sin_steer_30.csv\", r\"C:\\my files\\thesis\\AI_training\\data\\testing_data\\testing_data_1\\test_suay\\suay_mid_99.csv\"]\n",
    "test_data = [\"auax_drv\", \"buax_brk\", \"sin_steer\", \"suay_mid\"]\n",
    "model_location = r\"C:\\my files\\thesis\\AI_training\\trained_models\\iteration_2\\model_\"\n",
    "\n",
    "for i in range(num_models):\n",
    "    # Set paths and parameters for testing\n",
    "    model_path = model_location + str(i)  # Replace with the path to your saved model\n",
    "\n",
    "    for j in range(len(num_test_data_path)):\n",
    "        test_csv_path = num_test_data_path[j]\n",
    "        # Prepare the test dataset\n",
    "        test_dataset = FullFileForTestings(test_csv_path)\n",
    "        features, actual_speeds = test_dataset.get_full_data()\n",
    "\n",
    "        # Pass all data to the model directly\n",
    "        device = torch.device('cuda' if torch.cuda.is_available() else 'cpu')\n",
    "        features = features.unsqueeze(0)  # Add batch dimension\n",
    "        features = features.to(device)\n",
    "\n",
    "        # Define and load the model\n",
    "        model = SpeedEstimatorRNNModified(input_size, hidden_size[i], num_layers[i], output_size)  # Instantiate your RNN model\n",
    "        checkpoint = torch.load(model_path, map_location=device)\n",
    "\n",
    "        model.load_state_dict(checkpoint['model_state_dict'])  # Load the trained weights\n",
    "        model = model.to(device)  # Move model to the appropriate device\n",
    "        model.eval()  # Set model to evaluation mode\n",
    "\n",
    "        # Inference\n",
    "        with torch.no_grad():\n",
    "            predictions = model(features)\n",
    "            predicted_speeds = predictions.cpu().numpy().flatten()\n",
    "\n",
    "        plt.figure(figsize=(10, 6))\n",
    "        plt.plot(actual_speeds.numpy(), label=\"Actual Speeds\")\n",
    "        plt.plot(predicted_speeds, label=\"Predicted Speeds\", linestyle=\"dashed\")\n",
    "        plt.legend()\n",
    "        plt.title(\"Comparison of Actual vs. Predicted Vehicle Speeds (\" + test_data[j] + \")\")\n",
    "        plt.xlabel(\"Time Step [s]\")\n",
    "        plt.ylabel(\"Speed [m/s]\")\n",
    "        plt.grid()\n",
    "        plt.savefig(r\"C:\\my files\\thesis\\AI_training\\testing_graphs\\iteration_2\\model_\" + str(i) + \"\\model_\" + str(i) + \"_\" +test_data[j] + \"_act_vs_predicted_speed.png\", dpi=300,)\n",
    "        plt.close()\n",
    "\n",
    "        plt.figure(figsize=(10, 6))\n",
    "        plt.plot(actual_speeds.numpy()-predicted_speeds, label=\"Difference\")\n",
    "        plt.legend()\n",
    "        plt.title(\"Difference of Actual vs. Predicted Vehicle Speeds (\" + test_data[j] + \")\")\n",
    "        plt.xlabel(\"Time Step [s]\")\n",
    "        plt.ylabel(\"Speed difference [m/s]\")\n",
    "        plt.grid()\n",
    "        plt.savefig(r\"C:\\my files\\thesis\\AI_training\\testing_graphs\\iteration_2\\model_\" + str(i) + \"\\model_\" + str(i) + \"_\" + test_data[j] + \"_act_vs_predicted_speed_diff.png\", dpi=300)\n",
    "        plt.close()"
   ],
   "id": "6f9a52a21169108c",
   "outputs": [
    {
     "name": "stderr",
     "output_type": "stream",
     "text": [
      "<>:42: SyntaxWarning: invalid escape sequence '\\m'\n",
      "<>:52: SyntaxWarning: invalid escape sequence '\\m'\n",
      "<>:42: SyntaxWarning: invalid escape sequence '\\m'\n",
      "<>:52: SyntaxWarning: invalid escape sequence '\\m'\n",
      "C:\\Users\\ROG\\AppData\\Local\\Temp\\ipykernel_22888\\879203956.py:42: SyntaxWarning: invalid escape sequence '\\m'\n",
      "  plt.savefig(r\"C:\\my files\\thesis\\AI_training\\testing_graphs\\iteration_2\\model_\" + str(i) + \"\\model_\" + str(i) + \"_\" +test_data[j] + \"_act_vs_predicted_speed.png\", dpi=300,)\n",
      "C:\\Users\\ROG\\AppData\\Local\\Temp\\ipykernel_22888\\879203956.py:52: SyntaxWarning: invalid escape sequence '\\m'\n",
      "  plt.savefig(r\"C:\\my files\\thesis\\AI_training\\testing_graphs\\iteration_2\\model_\" + str(i) + \"\\model_\" + str(i) + \"_\" + test_data[j] + \"_act_vs_predicted_speed_diff.png\", dpi=300)\n"
     ]
    }
   ],
   "execution_count": 8
  },
  {
   "metadata": {
    "ExecuteTime": {
     "end_time": "2025-04-11T00:28:20.640816Z",
     "start_time": "2025-04-11T00:28:20.634068Z"
    }
   },
   "cell_type": "code",
   "source": [
    "import os\n",
    "\n",
    "# Define the path where you want to create the directory\n",
    "directory_path = r\"C:\\my files\\thesis\\AI_training\\testing_graphs\\iteration_2\\model_\"\n",
    "\n",
    "for k in range(12):\n",
    "    # Create the directory\n",
    "    directory = directory_path + str(k)\n",
    "    os.makedirs(directory, exist_ok=True)\n"
   ],
   "id": "d57085f3b4fe43ce",
   "outputs": [],
   "execution_count": 5
  }
 ],
 "metadata": {
  "kernelspec": {
   "display_name": "Python 3",
   "language": "python",
   "name": "python3"
  },
  "language_info": {
   "codemirror_mode": {
    "name": "ipython",
    "version": 2
   },
   "file_extension": ".py",
   "mimetype": "text/x-python",
   "name": "python",
   "nbconvert_exporter": "python",
   "pygments_lexer": "ipython2",
   "version": "2.7.6"
  }
 },
 "nbformat": 4,
 "nbformat_minor": 5
}

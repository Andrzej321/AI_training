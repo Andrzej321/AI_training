{
 "cells": [
  {
   "metadata": {
    "ExecuteTime": {
     "end_time": "2025-06-06T11:24:07.325776Z",
     "start_time": "2025-06-06T11:24:00.406969Z"
    }
   },
   "cell_type": "code",
   "source": [
    "import torch\n",
    "from tensorflow.python.ops.ragged.ragged_util import lengths_to_splits\n",
    "\n",
    "from classes import FullFileForTestings  # Import dataset class and model\n",
    "import matplotlib.pyplot as plt\n",
    "import torch.nn as nn\n",
    "from torch.utils.tensorboard import SummaryWriter\n",
    "from classes import SpeedEstimatorRNNModified, SpeedEstimatorLSTMModified\n",
    "import numpy as np"
   ],
   "id": "cd89150f1a3960e9",
   "outputs": [],
   "execution_count": 1
  },
  {
   "metadata": {
    "ExecuteTime": {
     "end_time": "2025-06-06T11:24:07.539308Z",
     "start_time": "2025-06-06T11:24:07.534296Z"
    }
   },
   "cell_type": "code",
   "source": [
    "#Hyperparameters\n",
    "input_size = 20  # Number of CAN signals per timestep\n",
    "hidden_size = [256]\n",
    "num_layers = [3]\n",
    "output_size = 2"
   ],
   "id": "bb2730a34dc746a1",
   "outputs": [],
   "execution_count": 2
  },
  {
   "metadata": {
    "ExecuteTime": {
     "end_time": "2025-06-06T11:24:07.570409Z",
     "start_time": "2025-06-06T11:24:07.565297Z"
    }
   },
   "cell_type": "code",
   "source": [
    "num_models = 1\n",
    "num_test_data_path = [\"data/i7/it_1/3_validation/i7_8.csv\", \"data/i7/it_1/3_validation/i7_16.csv\",\n",
    " \"data/i7/it_1/3_validation/i7_31.csv\", \"data/i7/it_1/3_validation/i7_37.csv\", \"data/i7/it_1/3_validation/i7_43.csv\", \"data/i7/it_1/3_validation/i7_49.csv\"]\n",
    "test_data = [\"suay_steer_ON\", \"suay_steer_OFF\", \"auax_drv_OFF\", \"buax_brk_ON\", \"buax_brk_OFF\", \"sin_steer_ON\"]\n",
    "model_location = \"LSTM/trained_models/i7/it_1/state_models/model_LSTM_\"\n",
    "\n",
    "plot_location = \"LSTM/trained_models/i7/it_1/validation_plots/model_LSTM_\""
   ],
   "id": "91ba8e38b6ccd8b1",
   "outputs": [],
   "execution_count": 3
  },
  {
   "metadata": {
    "ExecuteTime": {
     "end_time": "2025-06-06T11:25:10.879408Z",
     "start_time": "2025-06-06T11:24:59.006087Z"
    }
   },
   "cell_type": "code",
   "source": [
    "for i in range(num_models):\n",
    "    # Set paths and parameters for testing\n",
    "    model_path = model_location + str(i) + '.pt'  # Replace with the path to your saved model\n",
    "\n",
    "    for j in range(len(num_test_data_path)):\n",
    "        test_csv_path = num_test_data_path[j]\n",
    "        # Prepare the test dataset\n",
    "        test_dataset = FullFileForTestings(test_csv_path)\n",
    "        features, actual_speeds = test_dataset.get_full_data()\n",
    "\n",
    "        # Pass all data to the model directly\n",
    "        device = torch.device('cuda' if torch.cuda.is_available() else 'cpu')\n",
    "        features = features.unsqueeze(0)  # Add batch dimension\n",
    "        features = features.to(device)\n",
    "\n",
    "        # Define and load the model\n",
    "        model = SpeedEstimatorLSTMModified(input_size, hidden_size[i], num_layers[i], output_size)  # Instantiate your LSTM model\n",
    "        checkpoint = torch.load(model_path, map_location=device)\n",
    "\n",
    "        model.load_state_dict(checkpoint['model_state_dict'])  # Load the trained weights\n",
    "        model = model.to(device)  # Move model to the appropriate device\n",
    "        model.eval()  # Set model to evaluation model\n",
    "\n",
    "        # Inference\n",
    "        with torch.no_grad():\n",
    "            predictions = model(features)\n",
    "            predicted_speeds = predictions.cpu().numpy().flatten()\n",
    "\n",
    "        length = len(predicted_speeds)/2\n",
    "        u = [0]*int(length)\n",
    "        v = [0]*int(length)\n",
    "\n",
    "        for k in range(len(predicted_speeds)):\n",
    "            if k % 2 == 0:\n",
    "                u[int(k/2)] = predicted_speeds[k]\n",
    "            else:\n",
    "                v[int((k-1)/2)] = predicted_speeds[k]\n",
    "\n",
    "        # longitudinal plots\n",
    "        plt.figure(figsize=(10, 6))\n",
    "        plt.plot(actual_speeds[:, 0], label=\"Actual Speed\")\n",
    "        plt.plot(u, label=\"Estimated Speed\", linestyle=\"dashed\")\n",
    "        plt.legend()\n",
    "        plt.title(\"Comparison of Actual vs. Predicted Longitudinal Speed (\" + test_data[j] + \")\")\n",
    "        plt.xlabel(\"Time Step [s]\")\n",
    "        plt.ylabel(\"Speed [m/s]\")\n",
    "        plt.grid()\n",
    "        plt.savefig(plot_location + str(i) + \"/u/model_LSTM_\" + str(i) + \"_\" + test_data[j] + \"_act_vs_predicted_u.png\", dpi=300,)\n",
    "        plt.close()\n",
    "\n",
    "        plt.figure(figsize=(10, 6))\n",
    "        plt.plot(actual_speeds[:, 0].numpy() - u, label=\"Difference\")\n",
    "        plt.legend()\n",
    "        plt.title(\"Difference of Actual vs. Predicted Longitudinal Speed (\" + test_data[j] + \")\")\n",
    "        plt.xlabel(\"Time Step [s]\")\n",
    "        plt.ylabel(\"Speed difference [m/s]\")\n",
    "        plt.grid()\n",
    "        plt.savefig(plot_location + str(i) + \"/u/model_LSTM_\" + str(i) + \"_\" + test_data[j] + \"_act_vs_predicted_u_diff.png\", dpi=300)\n",
    "        plt.close()\n",
    "\n",
    "        # lateral plots\n",
    "        plt.figure(figsize=(10, 6))\n",
    "        plt.plot(actual_speeds[:, 1], label=\"Actual Speed\")\n",
    "        plt.plot(v, label=\"Estimated Speed\", linestyle=\"dashed\")\n",
    "        plt.legend()\n",
    "        plt.title(\"Comparison of Actual vs. Predicted Lateral Speed (\" + test_data[j] + \")\")\n",
    "        plt.xlabel(\"Time Step [s]\")\n",
    "        plt.ylabel(\"Speed [m/s]\")\n",
    "        plt.grid()\n",
    "        plt.savefig(plot_location + str(i) + \"/v/model_LSTM_\" + str(i) + \"_\" + test_data[j] + \"_act_vs_predicted_v.png\", dpi=300,)\n",
    "        plt.close()\n",
    "\n",
    "        plt.figure(figsize=(10, 6))\n",
    "        plt.plot(actual_speeds[:, 1].numpy() - v, label=\"Difference\")\n",
    "        plt.legend()\n",
    "        plt.title(\"Difference of Actual vs. Predicted Lateral Speed (\" + test_data[j] + \")\")\n",
    "        plt.xlabel(\"Time Step [s]\")\n",
    "        plt.ylabel(\"Speed difference [m/s]\")\n",
    "        plt.grid()\n",
    "        plt.savefig(plot_location + str(i) + \"/v/model_LSTM_\" + str(i) + \"_\" + test_data[j] + \"_act_vs_predicted_v_diff.png\", dpi=300)\n",
    "        plt.close()"
   ],
   "id": "6f9a52a21169108c",
   "outputs": [],
   "execution_count": 5
  },
  {
   "metadata": {},
   "cell_type": "markdown",
   "source": [
    "------------------------------------------------------------------------------------------------\n",
    "debugging"
   ],
   "id": "c3a4d4604c0bae3"
  }
 ],
 "metadata": {
  "kernelspec": {
   "display_name": "Python 3",
   "language": "python",
   "name": "python3"
  },
  "language_info": {
   "codemirror_mode": {
    "name": "ipython",
    "version": 2
   },
   "file_extension": ".py",
   "mimetype": "text/x-python",
   "name": "python",
   "nbconvert_exporter": "python",
   "pygments_lexer": "ipython2",
   "version": "2.7.6"
  }
 },
 "nbformat": 4,
 "nbformat_minor": 5
}

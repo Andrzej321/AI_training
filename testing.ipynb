{
 "cells": [
  {
   "cell_type": "code",
   "id": "initial_id",
   "metadata": {
    "collapsed": true,
    "ExecuteTime": {
     "end_time": "2025-05-19T11:34:29.289693Z",
     "start_time": "2025-05-19T11:34:11.482600Z"
    }
   },
   "source": [
    "import torch\n",
    "from classes import FullFileForTestings  # Import dataset class and model\n",
    "import matplotlib.pyplot as plt\n",
    "import torch.nn as nn\n",
    "from torch.utils.tensorboard import SummaryWriter\n",
    "from classes import SpeedEstimatorRNNModified"
   ],
   "outputs": [],
   "execution_count": 1
  },
  {
   "metadata": {
    "ExecuteTime": {
     "end_time": "2025-05-19T11:34:34.302890Z",
     "start_time": "2025-05-19T11:34:34.295891Z"
    }
   },
   "cell_type": "code",
   "source": [
    "#Hyperparameters\n",
    "input_size = 14  # Number of CAN signals per timestep\n",
    "hidden_size = [64, 64, 64, 128, 128, 256, 128, 128, 128, 128, 128, 128]\n",
    "num_layers = [1, 2, 3, 1, 3, 3, 2, 2, 2, 2, 4, 3]\n",
    "output_size = 1\n",
    "learning_rate = [0.001, 0.001, 0.001, 0.001, 0.001, 0.001, 0.005, 0.001, 0.001, 0.0001, 0.0005, 0.001]\n",
    "num_epochs = 15"
   ],
   "id": "87aff2eedc0faec4",
   "outputs": [],
   "execution_count": 2
  },
  {
   "metadata": {
    "ExecuteTime": {
     "end_time": "2025-05-19T11:41:00.418996Z",
     "start_time": "2025-05-19T11:40:21.156088Z"
    }
   },
   "cell_type": "code",
   "source": [
    "num_models = 12\n",
    "num_test_data_path = [r\"C:\\work\\AI_training\\data\\testing_data\\testing_data_noise_1\\auax_drv_noise_30.csv\", r\"C:\\work\\AI_training\\data\\testing_data\\testing_data_noise_1\\buax_brk_noise_30.csv\", r\"C:\\work\\AI_training\\data\\testing_data\\testing_data_noise_1\\sin_steer_noise_30.csv\", r\"C:\\work\\AI_training\\data\\testing_data\\testing_data_noise_1\\suay_mid_noise_30.csv\"]\n",
    "test_data = [\"auax_drv\", \"buax_brk\", \"sin_steer\", \"suay_mid\"]\n",
    "model_location = r\"C:\\work\\AI_training\\Simple RNN\\trained_models\\iteration_3\\model_\"\n",
    "\n",
    "for i in range(num_models):\n",
    "    # Set paths and parameters for testing\n",
    "    model_path = model_location + str(i)  # Replace with the path to your saved model\n",
    "\n",
    "    for j in range(len(num_test_data_path)):\n",
    "        test_csv_path = num_test_data_path[j]\n",
    "        # Prepare the test dataset\n",
    "        test_dataset = FullFileForTestings(test_csv_path)\n",
    "        features, actual_speeds = test_dataset.get_full_data()\n",
    "\n",
    "        # Pass all data to the model directly\n",
    "        device = torch.device('cuda' if torch.cuda.is_available() else 'cpu')\n",
    "        features = features.unsqueeze(0)  # Add batch dimension\n",
    "        features = features.to(device)\n",
    "\n",
    "        # Define and load the model\n",
    "        model = SpeedEstimatorRNNModified(input_size, hidden_size[i], num_layers[i], output_size)  # Instantiate your RNN model\n",
    "        checkpoint = torch.load(model_path, map_location=device)\n",
    "\n",
    "        model.load_state_dict(checkpoint['model_state_dict'])  # Load the trained weights\n",
    "        model = model.to(device)  # Move model to the appropriate device\n",
    "        model.eval()  # Set model to evaluation mode\n",
    "\n",
    "        # Inference\n",
    "        with torch.no_grad():\n",
    "            predictions = model(features)\n",
    "            predicted_speeds = predictions.cpu().numpy().flatten()\n",
    "\n",
    "        plt.figure(figsize=(10, 6))\n",
    "        plt.plot(actual_speeds.numpy(), label=\"Actual Speeds\")\n",
    "        plt.plot(predicted_speeds, label=\"Predicted Speeds\", linestyle=\"dashed\")\n",
    "        plt.legend()\n",
    "        plt.title(\"Comparison of Actual vs. Predicted Vehicle Speeds (\" + test_data[j] + \")\")\n",
    "        plt.xlabel(\"Time Step [s]\")\n",
    "        plt.ylabel(\"Speed [m/s]\")\n",
    "        plt.grid()\n",
    "        plt.savefig(r\"C:\\work\\AI_training\\Simple RNN\\testing_graphs\\iteration_3\\model_\" + str(i) + \"\\model_\" + str(i) + \"_\" +test_data[j] + \"_act_vs_predicted_speed.png\", dpi=300,)\n",
    "        plt.close()\n",
    "\n",
    "        plt.figure(figsize=(10, 6))\n",
    "        plt.plot(actual_speeds.numpy()-predicted_speeds, label=\"Difference\")\n",
    "        plt.legend()\n",
    "        plt.title(\"Difference of Actual vs. Predicted Vehicle Speeds (\" + test_data[j] + \")\")\n",
    "        plt.xlabel(\"Time Step [s]\")\n",
    "        plt.ylabel(\"Speed difference [m/s]\")\n",
    "        plt.grid()\n",
    "        plt.savefig(r\"C:\\work\\AI_training\\Simple RNN\\testing_graphs\\iteration_3\\model_\" + str(i) + \"\\model_\" + str(i) + \"_\" + test_data[j] + \"_act_vs_predicted_speed_diff.png\", dpi=300)\n",
    "        plt.close()\n",
    "\n",
    "\n"
   ],
   "id": "6f9a52a21169108c",
   "outputs": [],
   "execution_count": 6
  },
  {
   "metadata": {
    "ExecuteTime": {
     "end_time": "2025-05-19T11:39:24.908713Z",
     "start_time": "2025-05-19T11:39:24.896631Z"
    }
   },
   "cell_type": "code",
   "source": [
    "import os\n",
    "\n",
    "# Define the path where you want to create the directory\n",
    "directory_path = r\"C:\\work\\AI_training\\Simple RNN\\testing_graphs\\iteration_3\\model_\"\n",
    "\n",
    "for k in range(12):\n",
    "    # Create the directory\n",
    "    directory = directory_path + str(k)\n",
    "    os.makedirs(directory, exist_ok=True)\n"
   ],
   "id": "d57085f3b4fe43ce",
   "outputs": [],
   "execution_count": 5
  }
 ],
 "metadata": {
  "kernelspec": {
   "display_name": "Python 3",
   "language": "python",
   "name": "python3"
  },
  "language_info": {
   "codemirror_mode": {
    "name": "ipython",
    "version": 2
   },
   "file_extension": ".py",
   "mimetype": "text/x-python",
   "name": "python",
   "nbconvert_exporter": "python",
   "pygments_lexer": "ipython2",
   "version": "2.7.6"
  }
 },
 "nbformat": 4,
 "nbformat_minor": 5
}

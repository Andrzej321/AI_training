{
 "cells": [
  {
   "metadata": {},
   "cell_type": "code",
   "outputs": [],
   "execution_count": null,
   "source": [
    "import torch\n",
    "from classes import FullFileForTestings  # Import dataset class and model\n",
    "import matplotlib.pyplot as plt\n",
    "import torch.nn as nn\n",
    "from torch.utils.tensorboard import SummaryWriter\n",
    "from classes import SpeedEstimatorRNNModified"
   ],
   "id": "cd89150f1a3960e9"
  },
  {
   "metadata": {},
   "cell_type": "code",
   "outputs": [],
   "execution_count": null,
   "source": [
    "#Hyperparameters\n",
    "input_size = 26  # Number of CAN signals per timestep\n",
    "hidden_size = [256, 256, 512, 512, 512]\n",
    "num_layers = [3, 4, 3, 4, 3]\n",
    "output_size = 1"
   ],
   "id": "bb2730a34dc746a1"
  },
  {
   "metadata": {
    "ExecuteTime": {
     "end_time": "2025-05-22T06:46:03.094042Z",
     "start_time": "2025-05-22T06:45:50.655868Z"
    }
   },
   "cell_type": "code",
   "source": [
    "num_models = 4\n",
    "num_test_data_path = [r\"C:\\my files\\thesis\\AI_training\\data\\testing_data\\testing_data_noise_extended\\auax_drv_noise_30.csv\", r\"C:\\my files\\thesis\\AI_training\\data\\testing_data\\testing_data_noise_extended\\buax_brk_noise_30.csv\",\n",
    " r\"C:\\my files\\thesis\\AI_training\\data\\testing_data\\testing_data_noise_extended\\sin_steer_noise_30.csv\",\n",
    "    r\"C:\\my files\\thesis\\AI_training\\data\\testing_data\\testing_data_noise_extended\\suay_mid_noise_30.csv\"]\n",
    "test_data = [\"auax_drv\", \"buax_brk\", \"sin_steer\", \"suay_mid\"]\n",
    "model_location = r\"C:\\my files\\thesis\\AI_training\\Simple RNN\\trained_models\\iteration_7\\model_\"\n",
    "\n",
    "for i in range(num_models):\n",
    "    # Set paths and parameters for testing\n",
    "    model_path = model_location + str(i) + '.pt'  # Replace with the path to your saved model\n",
    "\n",
    "    for j in range(len(num_test_data_path)):\n",
    "        test_csv_path = num_test_data_path[j]\n",
    "        # Prepare the test dataset\n",
    "        test_dataset = FullFileForTestings(test_csv_path)\n",
    "        features, actual_speeds = test_dataset.get_full_data()\n",
    "\n",
    "        # Pass all data to the model directly\n",
    "        device = torch.device('cuda' if torch.cuda.is_available() else 'cpu')\n",
    "        features = features.unsqueeze(0)  # Add batch dimension\n",
    "        features = features.to(device)\n",
    "\n",
    "        # Define and load the model\n",
    "        model = SpeedEstimatorRNNModified(input_size, hidden_size[i], num_layers[i], output_size)  # Instantiate your RNN model\n",
    "        checkpoint = torch.load(model_path, map_location=device)\n",
    "\n",
    "        model.load_state_dict(checkpoint['model_state_dict'])  # Load the trained weights\n",
    "        model = model.to(device)  # Move model to the appropriate device\n",
    "        model.eval()  # Set model to evaluation mode\n",
    "\n",
    "        # Inference\n",
    "        with torch.no_grad():\n",
    "            predictions = model(features)\n",
    "            predicted_speeds = predictions.cpu().numpy().flatten()\n",
    "\n",
    "        plt.figure(figsize=(10, 6))\n",
    "        plt.plot(actual_speeds.numpy(), label=\"Actual Speeds\")\n",
    "        plt.plot(predicted_speeds, label=\"Predicted Speeds\", linestyle=\"dashed\")\n",
    "        plt.legend()\n",
    "        plt.title(\"Comparison of Actual vs. Predicted Vehicle Speeds (\" + test_data[j] + \")\")\n",
    "        plt.xlabel(\"Time Step [s]\")\n",
    "        plt.ylabel(\"Speed [m/s]\")\n",
    "        plt.grid()\n",
    "        plt.savefig(r\"C:\\my files\\thesis\\AI_training\\Simple RNN\\testing_graphs\\iteration_7\\model_\" + str(i) + \"\\model_\" + str(i) + \"_\" +test_data[j] + \"_act_vs_predicted_speed.png\", dpi=300,)\n",
    "        plt.close()\n",
    "\n",
    "        plt.figure(figsize=(10, 6))\n",
    "        plt.plot(actual_speeds.numpy()-predicted_speeds, label=\"Difference\")\n",
    "        plt.legend()\n",
    "        plt.title(\"Difference of Actual vs. Predicted Vehicle Speeds (\" + test_data[j] + \")\")\n",
    "        plt.xlabel(\"Time Step [s]\")\n",
    "        plt.ylabel(\"Speed difference [m/s]\")\n",
    "        plt.grid()\n",
    "        plt.savefig(r\"C:\\my files\\thesis\\AI_training\\Simple RNN\\testing_graphs\\iteration_7\\model_\" + str(i) + \"\\model_\" + str(i) + \"_\" + test_data[j] + \"_act_vs_predicted_speed_diff.png\", dpi=300)\n",
    "        plt.close()\n",
    "\n",
    "\n"
   ],
   "id": "6f9a52a21169108c",
   "outputs": [
    {
     "name": "stderr",
     "output_type": "stream",
     "text": [
      "<>:44: SyntaxWarning: invalid escape sequence '\\m'\n",
      "<>:54: SyntaxWarning: invalid escape sequence '\\m'\n",
      "<>:44: SyntaxWarning: invalid escape sequence '\\m'\n",
      "<>:54: SyntaxWarning: invalid escape sequence '\\m'\n",
      "C:\\Users\\ROG\\AppData\\Local\\Temp\\ipykernel_3052\\938855127.py:44: SyntaxWarning: invalid escape sequence '\\m'\n",
      "  plt.savefig(r\"C:\\my files\\thesis\\AI_training\\Simple RNN\\testing_graphs\\iteration_7\\model_\" + str(i) + \"\\model_\" + str(i) + \"_\" +test_data[j] + \"_act_vs_predicted_speed.png\", dpi=300,)\n",
      "C:\\Users\\ROG\\AppData\\Local\\Temp\\ipykernel_3052\\938855127.py:54: SyntaxWarning: invalid escape sequence '\\m'\n",
      "  plt.savefig(r\"C:\\my files\\thesis\\AI_training\\Simple RNN\\testing_graphs\\iteration_7\\model_\" + str(i) + \"\\model_\" + str(i) + \"_\" + test_data[j] + \"_act_vs_predicted_speed_diff.png\", dpi=300)\n"
     ]
    }
   ],
   "execution_count": 6
  }
 ],
 "metadata": {
  "kernelspec": {
   "display_name": "Python 3",
   "language": "python",
   "name": "python3"
  },
  "language_info": {
   "codemirror_mode": {
    "name": "ipython",
    "version": 2
   },
   "file_extension": ".py",
   "mimetype": "text/x-python",
   "name": "python",
   "nbconvert_exporter": "python",
   "pygments_lexer": "ipython2",
   "version": "2.7.6"
  }
 },
 "nbformat": 4,
 "nbformat_minor": 5
}

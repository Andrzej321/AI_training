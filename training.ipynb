{
 "cells": [
  {
   "cell_type": "code",
   "id": "initial_id",
   "metadata": {
    "collapsed": true,
    "ExecuteTime": {
     "end_time": "2025-05-21T22:04:47.998494Z",
     "start_time": "2025-05-21T22:04:46.015863Z"
    }
   },
   "source": [
    "import torch.nn as nn\n",
    "import torch.optim as optim\n",
    "from classes import SpeedEstimatorRNN, VehicleSpeedDataset\n",
    "from torch.utils.data import DataLoader"
   ],
   "outputs": [],
   "execution_count": 1
  },
  {
   "metadata": {
    "ExecuteTime": {
     "end_time": "2025-05-21T22:04:48.325417Z",
     "start_time": "2025-05-21T22:04:48.299870Z"
    }
   },
   "cell_type": "code",
   "source": [
    "import torch\n",
    "\n",
    "if torch.cuda.is_available():\n",
    "    print(\"CUDA is available! You can use a GPU for training.\")\n",
    "    print(\"Number of GPUs available:\", torch.cuda.device_count())\n",
    "    print(\"Current GPU being used:\", torch.cuda.current_device())\n",
    "    print(\"GPU Name:\", torch.cuda.get_device_name(torch.cuda.current_device()))\n",
    "else:\n",
    "    print(\"CUDA is not available. Training will be performed on the CPU.\")"
   ],
   "id": "9c82fbe67df87554",
   "outputs": [
    {
     "name": "stdout",
     "output_type": "stream",
     "text": [
      "CUDA is available! You can use a GPU for training.\n",
      "Number of GPUs available: 1\n",
      "Current GPU being used: 0\n",
      "GPU Name: NVIDIA GeForce RTX 3050 Laptop GPU\n"
     ]
    }
   ],
   "execution_count": 2
  },
  {
   "metadata": {
    "ExecuteTime": {
     "end_time": "2025-05-21T22:04:50.211761Z",
     "start_time": "2025-05-21T22:04:50.208356Z"
    }
   },
   "cell_type": "code",
   "source": [
    "# Set dataset path\n",
    "data_path = r'C:\\my files\\thesis\\AI_training\\data\\training_data\\training_data_noise_extended'\n",
    "extension = \"*.csv\"\n",
    "\n",
    "# Hyperparameters that will alter throughout the model creations\n",
    "input_size = 26  # Number of CAN signals per timestep\n",
    "hidden_size = [256, 256, 512, 512, 512]\n",
    "num_layers = [3, 4, 3, 4, 3]\n",
    "learning_rate = [0.0001] * 5\n",
    "# num of sequences in one batch\n",
    "batch_size = [128] * 5\n",
    "dropout_rate = [0.2] * 5\n",
    "sequence_length = [800, 800, 800, 800, 1000]\n",
    "\n",
    "\n",
    "# parameters of the simulation\n",
    "step_size = 10 # what the overlap between the sequences should look like in the extracted dataset\n",
    "output_size = 1\n",
    "num_epochs = 20\n",
    "\n",
    "num_models = 5\n",
    "\n",
    "default_location = r\"C:\\my files\\thesis\\AI_training\\Simple RNN\\trained_models\\iteration_7\\model_\""
   ],
   "id": "65139ecfaf0a1ccf",
   "outputs": [],
   "execution_count": 3
  },
  {
   "metadata": {
    "ExecuteTime": {
     "end_time": "2025-05-20T17:32:56.837634Z",
     "start_time": "2025-05-20T17:32:56.831777Z"
    }
   },
   "cell_type": "code",
   "source": "range(num_models)",
   "id": "e396db2fb932dd6e",
   "outputs": [
    {
     "data": {
      "text/plain": [
       "range(0, 1)"
      ]
     },
     "execution_count": 6,
     "metadata": {},
     "output_type": "execute_result"
    }
   ],
   "execution_count": 6
  },
  {
   "metadata": {
    "ExecuteTime": {
     "end_time": "2025-05-22T01:34:12.653277Z",
     "start_time": "2025-05-21T22:04:54.102852Z"
    }
   },
   "cell_type": "code",
   "source": [
    "# Training loops\n",
    "for j in range(num_models):\n",
    "    # Load dataset and DataLoader\n",
    "    dataset = VehicleSpeedDataset(data_path, extension, seq_length = sequence_length[j], step_size = step_size)\n",
    "    dataloader = DataLoader(dataset, batch_size=batch_size[j], shuffle=True, num_workers= 6, pin_memory=True)\n",
    "\n",
    "    # Initialize model, loss function, and optimizer\n",
    "    device = torch.device(\"cuda\" if torch.cuda.is_available() else \"cpu\")\n",
    "    model = SpeedEstimatorRNN(input_size, hidden_size[j], num_layers[j], output_size).to(device)\n",
    "    criterion = nn.MSELoss()\n",
    "    optimizer = optim.Adam(model.parameters(), lr=learning_rate[j])\n",
    "\n",
    "    for epoch in range(num_epochs):\n",
    "        total_loss = 0\n",
    "\n",
    "        for batch_idx, (features, speeds) in enumerate(dataloader):\n",
    "            features, speeds = features.to(device), speeds.to(device)\n",
    "\n",
    "            # Forward pass\n",
    "            outputs = model(features)\n",
    "            loss = criterion(outputs, speeds)\n",
    "\n",
    "            # Backward pass\n",
    "            optimizer.zero_grad()\n",
    "            loss.backward()\n",
    "            optimizer.step()\n",
    "\n",
    "            total_loss += loss.item()\n",
    "\n",
    "        print(f\"Model: {j}, Epoch [{epoch+1}/{num_epochs}], Loss: {total_loss/len(dataloader):.4f}\")\n",
    "\n",
    "    torch.save({\n",
    "        \"model_state_dict\": model.state_dict(),\n",
    "        \"optimizer_state_dict\": optimizer.state_dict(),\n",
    "        \"sequence_length\": sequence_length,\n",
    "        \"input_size\": input_size,\n",
    "        \"hidden_size\": hidden_size,\n",
    "        \"num_layers\": num_layers,\n",
    "        \"output_size\": output_size,\n",
    "        \"learning_rate\": learning_rate,\n",
    "        \"num_epochs\": num_epochs\n",
    "    }, default_location + str(j) + \".pt\")"
   ],
   "id": "420abcdd902a5bd7",
   "outputs": [
    {
     "name": "stdout",
     "output_type": "stream",
     "text": [
      "Model: 0, Epoch [1/20], Loss: 40.2904\n",
      "Model: 0, Epoch [2/20], Loss: 7.4543\n",
      "Model: 0, Epoch [3/20], Loss: 2.1809\n",
      "Model: 0, Epoch [4/20], Loss: 0.8189\n",
      "Model: 0, Epoch [5/20], Loss: 0.3578\n",
      "Model: 0, Epoch [6/20], Loss: 0.1766\n",
      "Model: 0, Epoch [7/20], Loss: 0.0968\n",
      "Model: 0, Epoch [8/20], Loss: 0.0565\n",
      "Model: 0, Epoch [9/20], Loss: 0.0347\n",
      "Model: 0, Epoch [10/20], Loss: 0.0241\n",
      "Model: 0, Epoch [11/20], Loss: 0.0174\n",
      "Model: 0, Epoch [12/20], Loss: 0.0137\n",
      "Model: 0, Epoch [13/20], Loss: 0.0106\n",
      "Model: 0, Epoch [14/20], Loss: 0.0105\n",
      "Model: 0, Epoch [15/20], Loss: 0.0121\n",
      "Model: 0, Epoch [16/20], Loss: 0.0068\n",
      "Model: 0, Epoch [17/20], Loss: 0.0073\n",
      "Model: 0, Epoch [18/20], Loss: 0.0086\n",
      "Model: 0, Epoch [19/20], Loss: 0.0071\n",
      "Model: 0, Epoch [20/20], Loss: 0.0073\n",
      "Model: 1, Epoch [1/20], Loss: 43.6167\n",
      "Model: 1, Epoch [2/20], Loss: 8.1757\n",
      "Model: 1, Epoch [3/20], Loss: 2.2464\n",
      "Model: 1, Epoch [4/20], Loss: 0.8246\n",
      "Model: 1, Epoch [5/20], Loss: 0.3609\n",
      "Model: 1, Epoch [6/20], Loss: 0.1792\n",
      "Model: 1, Epoch [7/20], Loss: 0.0964\n",
      "Model: 1, Epoch [8/20], Loss: 0.0582\n",
      "Model: 1, Epoch [9/20], Loss: 0.0389\n",
      "Model: 1, Epoch [10/20], Loss: 0.0273\n",
      "Model: 1, Epoch [11/20], Loss: 0.0176\n",
      "Model: 1, Epoch [12/20], Loss: 0.0169\n",
      "Model: 1, Epoch [13/20], Loss: 0.0137\n",
      "Model: 1, Epoch [14/20], Loss: 0.0122\n",
      "Model: 1, Epoch [15/20], Loss: 0.0107\n",
      "Model: 1, Epoch [16/20], Loss: 0.0157\n",
      "Model: 1, Epoch [17/20], Loss: 0.0083\n",
      "Model: 1, Epoch [18/20], Loss: 0.0101\n",
      "Model: 1, Epoch [19/20], Loss: 0.0108\n",
      "Model: 1, Epoch [20/20], Loss: 0.0083\n",
      "Model: 2, Epoch [1/20], Loss: 17.0043\n",
      "Model: 2, Epoch [2/20], Loss: 0.7215\n",
      "Model: 2, Epoch [3/20], Loss: 0.1544\n",
      "Model: 2, Epoch [4/20], Loss: 0.0588\n",
      "Model: 2, Epoch [5/20], Loss: 0.0317\n",
      "Model: 2, Epoch [6/20], Loss: 0.0188\n",
      "Model: 2, Epoch [7/20], Loss: 0.0193\n",
      "Model: 2, Epoch [8/20], Loss: 0.0132\n",
      "Model: 2, Epoch [9/20], Loss: 0.0140\n",
      "Model: 2, Epoch [10/20], Loss: 0.0121\n",
      "Model: 2, Epoch [11/20], Loss: 0.0123\n",
      "Model: 2, Epoch [12/20], Loss: 0.0105\n",
      "Model: 2, Epoch [13/20], Loss: 0.0107\n",
      "Model: 2, Epoch [14/20], Loss: 0.0136\n",
      "Model: 2, Epoch [15/20], Loss: 0.0076\n",
      "Model: 2, Epoch [16/20], Loss: 0.0107\n",
      "Model: 2, Epoch [17/20], Loss: 0.0108\n",
      "Model: 2, Epoch [18/20], Loss: 0.0099\n",
      "Model: 2, Epoch [19/20], Loss: 0.0118\n",
      "Model: 2, Epoch [20/20], Loss: 0.0079\n",
      "Model: 3, Epoch [1/20], Loss: 18.3929\n",
      "Model: 3, Epoch [2/20], Loss: 0.7609\n",
      "Model: 3, Epoch [3/20], Loss: 0.1601\n",
      "Model: 3, Epoch [4/20], Loss: 0.0651\n",
      "Model: 3, Epoch [5/20], Loss: 0.0348\n",
      "Model: 3, Epoch [6/20], Loss: 0.0231\n",
      "Model: 3, Epoch [7/20], Loss: 0.0172\n",
      "Model: 3, Epoch [8/20], Loss: 0.0187\n",
      "Model: 3, Epoch [9/20], Loss: 0.0203\n",
      "Model: 3, Epoch [10/20], Loss: 0.0109\n",
      "Model: 3, Epoch [11/20], Loss: 0.0251\n",
      "Model: 3, Epoch [12/20], Loss: 0.0083\n",
      "Model: 3, Epoch [13/20], Loss: 0.0118\n",
      "Model: 3, Epoch [14/20], Loss: 0.0122\n",
      "Model: 3, Epoch [15/20], Loss: 0.0106\n",
      "Model: 3, Epoch [16/20], Loss: 0.0156\n",
      "Model: 3, Epoch [17/20], Loss: 0.0122\n",
      "Model: 3, Epoch [18/20], Loss: 0.0146\n",
      "Model: 3, Epoch [19/20], Loss: 0.0112\n",
      "Model: 3, Epoch [20/20], Loss: 0.0100\n"
     ]
    },
    {
     "ename": "IndexError",
     "evalue": "list index out of range",
     "output_type": "error",
     "traceback": [
      "\u001B[31m---------------------------------------------------------------------------\u001B[39m",
      "\u001B[31mIndexError\u001B[39m                                Traceback (most recent call last)",
      "\u001B[36mCell\u001B[39m\u001B[36m \u001B[39m\u001B[32mIn[4]\u001B[39m\u001B[32m, line 5\u001B[39m\n\u001B[32m      2\u001B[39m \u001B[38;5;28;01mfor\u001B[39;00m j \u001B[38;5;129;01min\u001B[39;00m \u001B[38;5;28mrange\u001B[39m(num_models):\n\u001B[32m      3\u001B[39m     \u001B[38;5;66;03m# Load dataset and DataLoader\u001B[39;00m\n\u001B[32m      4\u001B[39m     dataset = VehicleSpeedDataset(data_path, extension, seq_length = sequence_length[j], step_size = step_size)\n\u001B[32m----> \u001B[39m\u001B[32m5\u001B[39m     dataloader = DataLoader(dataset, batch_size=\u001B[43mbatch_size\u001B[49m\u001B[43m[\u001B[49m\u001B[43mj\u001B[49m\u001B[43m]\u001B[49m, shuffle=\u001B[38;5;28;01mTrue\u001B[39;00m, num_workers= \u001B[32m6\u001B[39m, pin_memory=\u001B[38;5;28;01mTrue\u001B[39;00m)\n\u001B[32m      7\u001B[39m     \u001B[38;5;66;03m# Initialize model, loss function, and optimizer\u001B[39;00m\n\u001B[32m      8\u001B[39m     device = torch.device(\u001B[33m\"\u001B[39m\u001B[33mcuda\u001B[39m\u001B[33m\"\u001B[39m \u001B[38;5;28;01mif\u001B[39;00m torch.cuda.is_available() \u001B[38;5;28;01melse\u001B[39;00m \u001B[33m\"\u001B[39m\u001B[33mcpu\u001B[39m\u001B[33m\"\u001B[39m)\n",
      "\u001B[31mIndexError\u001B[39m: list index out of range"
     ]
    }
   ],
   "execution_count": 4
  },
  {
   "metadata": {
    "ExecuteTime": {
     "end_time": "2025-04-24T10:34:30.072850Z",
     "start_time": "2025-04-24T10:34:26.813760Z"
    }
   },
   "cell_type": "code",
   "source": [
    "#To change the format of the created models\n",
    "import torch\n",
    "from classes import SpeedEstimatorRNNModified  # Import your model structure\n",
    "\n",
    "# Define paths\n",
    "num_models = 12  # Total number of models\n",
    "input_size = 14  # Define these based on your training setup\n",
    "output_size = 1\n",
    "hidden_size = [64, 64, 64, 128, 128, 256, 128, 128, 128, 128, 128, 128]  # Same as during training\n",
    "num_layers = [1, 2, 3, 1, 3, 3, 2, 2, 2, 2, 4, 3]  # Model config during training\n",
    "\n",
    "# Path to existing models and new .pt files\n",
    "old_model_location = r\"C:\\work\\AI_training\\Simple RNN\\trained_models\\iteration_3\\model_\"\n",
    "new_save_location = r\"C:\\work\\AI_training\\Simple RNN\\trained_models\\converted_models\\iteration_3\\model_\"  # New path to save the .pt files\n",
    "\n",
    "# Convert each model\n",
    "for i in range(num_models):\n",
    "    # Define model architecture\n",
    "    model = SpeedEstimatorRNNModified(input_size, hidden_size[i], num_layers[i], output_size)\n",
    "\n",
    "    # Load trained weights\n",
    "    checkpoint = torch.load(old_model_location + str(i), map_location=torch.device('cpu'))  # Adjust path as needed\n",
    "    model.load_state_dict(checkpoint[\"model_state_dict\"])  # Load the weights\n",
    "    model.eval()  # Set model to evaluation mode\n",
    "\n",
    "    # Save the model in .pt format\n",
    "    torch.save(model, new_save_location + str(i) + \".pt\")\n",
    "    print(f\"Model {i} saved in .pt format at {new_save_location + str(i) + '.pt'}\")"
   ],
   "id": "7d8deb826d54daa9",
   "outputs": [
    {
     "name": "stdout",
     "output_type": "stream",
     "text": [
      "Model 0 saved in .pt format at C:\\work\\AI_training\\Simple RNN\\trained_models\\converted_models\\iteration_3\\model_0.pt\n",
      "Model 1 saved in .pt format at C:\\work\\AI_training\\Simple RNN\\trained_models\\converted_models\\iteration_3\\model_1.pt\n",
      "Model 2 saved in .pt format at C:\\work\\AI_training\\Simple RNN\\trained_models\\converted_models\\iteration_3\\model_2.pt\n",
      "Model 3 saved in .pt format at C:\\work\\AI_training\\Simple RNN\\trained_models\\converted_models\\iteration_3\\model_3.pt\n",
      "Model 4 saved in .pt format at C:\\work\\AI_training\\Simple RNN\\trained_models\\converted_models\\iteration_3\\model_4.pt\n",
      "Model 5 saved in .pt format at C:\\work\\AI_training\\Simple RNN\\trained_models\\converted_models\\iteration_3\\model_5.pt\n",
      "Model 6 saved in .pt format at C:\\work\\AI_training\\Simple RNN\\trained_models\\converted_models\\iteration_3\\model_6.pt\n",
      "Model 7 saved in .pt format at C:\\work\\AI_training\\Simple RNN\\trained_models\\converted_models\\iteration_3\\model_7.pt\n",
      "Model 8 saved in .pt format at C:\\work\\AI_training\\Simple RNN\\trained_models\\converted_models\\iteration_3\\model_8.pt\n",
      "Model 9 saved in .pt format at C:\\work\\AI_training\\Simple RNN\\trained_models\\converted_models\\iteration_3\\model_9.pt\n",
      "Model 10 saved in .pt format at C:\\work\\AI_training\\Simple RNN\\trained_models\\converted_models\\iteration_3\\model_10.pt\n",
      "Model 11 saved in .pt format at C:\\work\\AI_training\\Simple RNN\\trained_models\\converted_models\\iteration_3\\model_11.pt\n"
     ]
    }
   ],
   "execution_count": 1
  }
 ],
 "metadata": {
  "kernelspec": {
   "display_name": "Python 3",
   "language": "python",
   "name": "python3"
  },
  "language_info": {
   "codemirror_mode": {
    "name": "ipython",
    "version": 2
   },
   "file_extension": ".py",
   "mimetype": "text/x-python",
   "name": "python",
   "nbconvert_exporter": "python",
   "pygments_lexer": "ipython2",
   "version": "2.7.6"
  }
 },
 "nbformat": 4,
 "nbformat_minor": 5
}

{
 "cells": [
  {
   "metadata": {
    "ExecuteTime": {
     "end_time": "2025-07-10T15:03:40.199341Z",
     "start_time": "2025-07-10T15:03:38.073300Z"
    }
   },
   "cell_type": "code",
   "source": [
    "import torch.nn as nn\n",
    "import torch.optim as optim\n",
    "from classes import SpeedEstimatorRNN, VehicleSpeedDatasetLongLat, VehicleSpeedDatasetLong, SpeedEstimatorLSTM, SpeedEstimatorGRU\n",
    "from torch.utils.data import DataLoader\n",
    "import torch\n",
    "import torch.onnx"
   ],
   "id": "1c27703c12ca4f80",
   "outputs": [],
   "execution_count": 1
  },
  {
   "metadata": {
    "ExecuteTime": {
     "end_time": "2025-07-10T15:03:40.925893Z",
     "start_time": "2025-07-10T15:03:40.798317Z"
    }
   },
   "cell_type": "code",
   "source": [
    "if torch.cuda.is_available():\n",
    "    print(\"CUDA is available! You can use a GPU for training.\")\n",
    "    print(\"Number of GPUs available:\", torch.cuda.device_count())\n",
    "    print(\"Current GPU being used:\", torch.cuda.current_device())\n",
    "    print(\"GPU Name:\", torch.cuda.get_device_name(torch.cuda.current_device()))\n",
    "else:\n",
    "    print(\"CUDA is not available. Training will be performed on the CPU.\")"
   ],
   "id": "9e05ace579cb653b",
   "outputs": [
    {
     "name": "stdout",
     "output_type": "stream",
     "text": [
      "CUDA is available! You can use a GPU for training.\n",
      "Number of GPUs available: 1\n",
      "Current GPU being used: 0\n",
      "GPU Name: NVIDIA GeForce RTX 3050 Laptop GPU\n"
     ]
    }
   ],
   "execution_count": 2
  },
  {
   "metadata": {
    "ExecuteTime": {
     "end_time": "2025-07-10T15:03:42.317782Z",
     "start_time": "2025-07-10T15:03:42.311191Z"
    }
   },
   "cell_type": "code",
   "source": [
    "# Set dataset path\n",
    "training_data_path = \"data/i7/it_1/1_training\"\n",
    "extension = \"*.csv\"\n",
    "\n",
    "test_data_path = \"data/i7/it_1/2_testing\"\n",
    "\n",
    "# Hyperparameters that will alter throughout the model creations\n",
    "input_size = 20  # Number of CAN signals per timestep\n",
    "hidden_size = [32, 64, 128, 64, 96]\n",
    "num_layers = [1, 2, 1, 2, 2]\n",
    "learning_rate = [0.0001] * 5\n",
    "# num of sequences in one batch\n",
    "batch_size = [128] * 5\n",
    "dropout_rate = [0.2] * 5\n",
    "sequence_length = [800, 800, 800, 800, 1000]\n",
    "\n",
    "\n",
    "# parameters of the simulation\n",
    "step_size = 10 # what the overlap between the sequences should look like in the extracted dataset\n",
    "\n",
    "output_size = 1\n",
    "\n",
    "num_epochs = 60\n",
    "\n",
    "num_models = len(num_layers)\n",
    "\n",
    "location_state = \"Simple RNN/trained_models/i7/it_1/state_models/model_\"\n",
    "location_traced = \"Simple RNN/trained_models/i7/it_1/traced_models/model_\"\n",
    "\n",
    "location_state_LSTM = \"LSTM/trained_models/i7/it_1/state_models/model_LSTM_\"\n",
    "location_traced_LSTM = \"LSTM/trained_models/i7/it_1/traced_models/model_LSTM_\"\n",
    "\n",
    "location_state_GRU = \"GRU/trained_models/i7/it_2/state_models/model_GRU_long\"\n",
    "location_traced_GRU = \"GRU/trained_models/i7/it_2/traced_models/model_GRU_long\""
   ],
   "id": "195f2955b83482f3",
   "outputs": [],
   "execution_count": 4
  },
  {
   "metadata": {},
   "cell_type": "markdown",
   "source": "RNN",
   "id": "5a758621e131cc05"
  },
  {
   "metadata": {
    "tags": [
     "RNN training"
    ]
   },
   "cell_type": "code",
   "outputs": [],
   "execution_count": null,
   "source": [
    "# Initialize variables to track the best test/validation loss\n",
    "patience = 5\n",
    "\n",
    "# Training loops\n",
    "for j in range(num_models):\n",
    "\n",
    "    early_stopping_counter = 0\n",
    "    best_test_loss = float('inf')\n",
    "\n",
    "    print(\"-------------------------------------\")\n",
    "    print(f\"Training has started for simple RNN model {j}\")\n",
    "\n",
    "    # Load dataset and DataLoader\n",
    "    train_dataset = VehicleSpeedDatasetLongLat(training_data_path, extension, seq_length = sequence_length[j], step_size = step_size)\n",
    "    train_dataloader = DataLoader(train_dataset, batch_size=batch_size[j], shuffle=True, num_workers= 6, pin_memory=True)\n",
    "\n",
    "    # Load test dataset and DataLoader\n",
    "    test_dataset = VehicleSpeedDatasetLongLat(test_data_path, extension, seq_length=sequence_length[j], step_size=step_size)\n",
    "    test_dataloader = DataLoader(test_dataset, batch_size=1, shuffle=False)  # Batch size = 1 for test evaluation\n",
    "\n",
    "\n",
    "    # Initialize model, loss function, and optimizer\n",
    "    device = torch.device(\"cuda\" if torch.cuda.is_available() else \"cpu\")\n",
    "    model = SpeedEstimatorRNN(input_size, hidden_size[j], num_layers[j], output_size).to(device)\n",
    "    criterion = nn.MSELoss()\n",
    "    optimizer = optim.Adam(model.parameters(), lr=learning_rate[j])\n",
    "\n",
    "    example_input = torch.rand(1, sequence_length[j], input_size).to(device)  # Example input matching model dimensions\n",
    "\n",
    "    for epoch in range(num_epochs):\n",
    "        model.train()\n",
    "        total_train_loss = 0\n",
    "\n",
    "        for batch_idx, (features, speeds) in enumerate(train_dataloader):\n",
    "            speeds = speeds.squeeze(1)  # Remove extra dimension from speeds if present\n",
    "            features, speeds = features.to(device), speeds.to(device)\n",
    "\n",
    "            # Forward pass\n",
    "            outputs = model(features)\n",
    "\n",
    "            assert outputs.shape == speeds.shape, f\"Shape mismatch: outputs {outputs.shape} vs speeds {speeds.shape}\"\n",
    "\n",
    "            train_loss = criterion(outputs, speeds)\n",
    "\n",
    "            # Backward pass\n",
    "            optimizer.zero_grad()\n",
    "            train_loss.backward()\n",
    "            optimizer.step()\n",
    "\n",
    "            total_train_loss += train_loss.item()\n",
    "\n",
    "        print(f\"Model: {j}, Epoch [{epoch+1}/{num_epochs}], Loss: {total_train_loss/len(train_dataloader):.4f}\")\n",
    "\n",
    "        model.eval()\n",
    "        total_test_loss = 0\n",
    "\n",
    "        with torch.no_grad():  # No need to compute gradients for validation/test\n",
    "            for features, speeds in test_dataloader:\n",
    "                speeds = speeds.squeeze(1)\n",
    "                features, speeds = features.to(device), speeds.to(device)\n",
    "\n",
    "                # Forward pass\n",
    "                test_outputs = model(features)\n",
    "                test_loss = criterion(test_outputs, speeds)\n",
    "\n",
    "                total_test_loss += test_loss.item()\n",
    "\n",
    "        avg_test_loss = total_test_loss / len(test_dataloader)\n",
    "\n",
    "        print(f\"Model: {j}, Epoch [{epoch+1}/{num_epochs}], Test Loss: {avg_test_loss:.4f}\")\n",
    "\n",
    "         # Checkpoint: Save model if test loss improves\n",
    "        if avg_test_loss < best_test_loss:\n",
    "            print(f\"New best model found! Test Loss improved from {best_test_loss:.4f} to {avg_test_loss:.4f}\")\n",
    "            best_test_loss = avg_test_loss\n",
    "            early_stopping_counter = 0\n",
    "\n",
    "            # Save model state and optimizer state\n",
    "            torch.save({\n",
    "                \"model_state_dict\": model.state_dict(),\n",
    "                \"optimizer_state_dict\": optimizer.state_dict(),\n",
    "                \"sequence_length\": sequence_length,\n",
    "                \"input_size\": input_size,\n",
    "                \"hidden_size\": hidden_size,\n",
    "                \"num_layers\": num_layers,\n",
    "                \"output_size\": output_size,\n",
    "                \"learning_rate\": learning_rate,\n",
    "                \"num_epochs\": num_epochs\n",
    "            }, location_state + str(j) + \".pt\")\n",
    "\n",
    "            # Save traced model for MATLAB -> taken out\n",
    "            \"\"\"\n",
    "            traced_model = torch.jit.trace(model, example_input)\n",
    "            torch.jit.save(traced_model, location_traced + str(j) + \"_traced.pt\")  # Save as traced TorchScript model\n",
    "\n",
    "            traced_model.save(location_traced + str(j) + \"_traced_simple_save.pt\")  # Save as traced TorchScript model\n",
    "            \"\"\"\n",
    "\n",
    "\n",
    "            # Export model to ONNX\n",
    "            onnx_model_path = location_traced + str(j) + \"_traced.onnx\"\n",
    "\n",
    "            torch.onnx.export(\n",
    "                model,                     # PyTorch model\n",
    "                example_input,             # Example input (same as used for tracing)\n",
    "                onnx_model_path,           # Output filename\n",
    "                export_params=True,\n",
    "                opset_version=11,          # MATLAB supports up to opset 11/12 reliably\n",
    "                do_constant_folding=True,\n",
    "                input_names=['input'],\n",
    "                output_names=['output'],\n",
    "                dynamic_axes={'input': {0: 'batch_size'}, 'output': {0: 'batch_size'}}\n",
    "            )\n",
    "\n",
    "            print(f\"all model_{j} saved\")\n",
    "        else:\n",
    "            early_stopping_counter += 1\n",
    "            print(f\"Test loss has not improved; early stopping counter: {early_stopping_counter}\")\n",
    "\n",
    "        if early_stopping_counter >= patience:\n",
    "            print(\"Early stopping triggered -> starting next model!\")\n",
    "            print(\"------------------------------------------------\")\n",
    "            break  # Exit the training loop early\n",
    "\n",
    "    if early_stopping_counter < patience:\n",
    "        print(\"We're out of epochs but patience limit has not been reached -> starting next model!\")\n",
    "        print(\"-----------------------------------------------------------------------------------\")"
   ],
   "id": "cba7299d3753fdd1"
  },
  {
   "metadata": {},
   "cell_type": "markdown",
   "source": "LSTM",
   "id": "ca1baacdd6bb5f1d"
  },
  {
   "metadata": {},
   "cell_type": "code",
   "source": [
    "# Initialize variables to track the best test/validation loss\n",
    "patience = 5\n",
    "\n",
    "# Training loops\n",
    "for j in range(1, num_models):\n",
    "\n",
    "    early_stopping_counter = 0\n",
    "    best_test_loss = float('inf')\n",
    "\n",
    "    print(\"-------------------------------------\")\n",
    "    print(f\"Training has started for LSTM model {j}\")\n",
    "\n",
    "    # Load dataset and DataLoader\n",
    "    train_dataset = VehicleSpeedDatasetLongLat(training_data_path, extension, seq_length = sequence_length[j], step_size = step_size)\n",
    "    train_dataloader = DataLoader(train_dataset, batch_size=batch_size[j], shuffle=True, num_workers= 6, pin_memory=True)\n",
    "\n",
    "    # Load test dataset and DataLoader\n",
    "    test_dataset = VehicleSpeedDatasetLongLat(test_data_path, extension, seq_length=sequence_length[j], step_size=step_size)\n",
    "    test_dataloader = DataLoader(test_dataset, batch_size=1, shuffle=False)  # Batch size = 1 for test evaluation\n",
    "\n",
    "\n",
    "    # Initialize model, loss function, and optimizer\n",
    "    device = torch.device(\"cuda\" if torch.cuda.is_available() else \"cpu\")\n",
    "    model = SpeedEstimatorLSTM(input_size, hidden_size[j], num_layers[j], output_size).to(device)\n",
    "    criterion = nn.MSELoss()\n",
    "    optimizer = optim.Adam(model.parameters(), lr=learning_rate[j])\n",
    "\n",
    "    example_input = torch.rand(1, sequence_length[j], input_size).to(device)  # Example input matching model dimensions\n",
    "\n",
    "    for epoch in range(num_epochs):\n",
    "        model.train()\n",
    "        total_train_loss = 0\n",
    "\n",
    "        for batch_idx, (features, speeds) in enumerate(train_dataloader):\n",
    "            speeds = speeds.squeeze(1)  # Remove extra dimension from speeds if present\n",
    "            features, speeds = features.to(device), speeds.to(device)\n",
    "\n",
    "            # Forward pass\n",
    "            outputs = model(features)\n",
    "\n",
    "            assert outputs.shape == speeds.shape, f\"Shape mismatch: outputs {outputs.shape} vs speeds {speeds.shape}\"\n",
    "\n",
    "            train_loss = criterion(outputs, speeds)\n",
    "\n",
    "            # Backward pass\n",
    "            optimizer.zero_grad()\n",
    "            train_loss.backward()\n",
    "            optimizer.step()\n",
    "\n",
    "            total_train_loss += train_loss.item()\n",
    "\n",
    "        print(f\"Model: {j}, Epoch [{epoch+1}/{num_epochs}], Loss: {total_train_loss/len(train_dataloader):.4f}\")\n",
    "\n",
    "        model.eval()\n",
    "        total_test_loss = 0\n",
    "\n",
    "        with torch.no_grad():  # No need to compute gradients for validation/test\n",
    "            for features, speeds in test_dataloader:\n",
    "                speeds = speeds.squeeze(1)\n",
    "                features, speeds = features.to(device), speeds.to(device)\n",
    "\n",
    "                # Forward pass\n",
    "                test_outputs = model(features)\n",
    "                test_loss = criterion(test_outputs, speeds)\n",
    "\n",
    "                total_test_loss += test_loss.item()\n",
    "\n",
    "        avg_test_loss = total_test_loss / len(test_dataloader)\n",
    "\n",
    "        print(f\"Model: {j}, Epoch [{epoch+1}/{num_epochs}], Test Loss: {avg_test_loss:.4f}\")\n",
    "\n",
    "         # Checkpoint: Save model if test loss improves\n",
    "        if avg_test_loss < best_test_loss:\n",
    "            print(f\"New best model found! Test Loss improved from {best_test_loss:.4f} to {avg_test_loss:.4f}\")\n",
    "            best_test_loss = avg_test_loss\n",
    "            early_stopping_counter = 0\n",
    "\n",
    "            # Save model state and optimizer state\n",
    "            torch.save({\n",
    "                \"model_state_dict\": model.state_dict(),\n",
    "                \"optimizer_state_dict\": optimizer.state_dict(),\n",
    "                \"sequence_length\": sequence_length,\n",
    "                \"input_size\": input_size,\n",
    "                \"hidden_size\": hidden_size,\n",
    "                \"num_layers\": num_layers,\n",
    "                \"output_size\": output_size,\n",
    "                \"learning_rate\": learning_rate,\n",
    "                \"num_epochs\": num_epochs\n",
    "            }, location_state_LSTM + str(j) + \".pt\")\n",
    "\n",
    "            # Save traced model for MATLAB -> taken out\n",
    "            \"\"\"\n",
    "            traced_model = torch.jit.trace(model, example_input)\n",
    "            torch.jit.save(traced_model, location_traced + str(j) + \"_traced.pt\")  # Save as traced TorchScript model\n",
    "\n",
    "            traced_model.save(location_traced + str(j) + \"_traced_simple_save.pt\")  # Save as traced TorchScript model\n",
    "            \"\"\"\n",
    "\n",
    "\n",
    "            # Export model to ONNX\n",
    "            onnx_model_path = location_traced_LSTM + str(j) + \"_traced.onnx\"\n",
    "\n",
    "            torch.onnx.export(\n",
    "                model,                     # PyTorch model\n",
    "                example_input,             # Example input (same as used for tracing)\n",
    "                onnx_model_path,           # Output filename\n",
    "                export_params=True,\n",
    "                opset_version=11,          # MATLAB supports up to opset 11/12 reliably\n",
    "                do_constant_folding=True,\n",
    "                input_names=['input'],\n",
    "                output_names=['output'],\n",
    "                dynamic_axes={'input': {0: 'batch_size'}, 'output': {0: 'batch_size'}}\n",
    "            )\n",
    "\n",
    "            print(f\"all model_{j} saved\")\n",
    "        else:\n",
    "            early_stopping_counter += 1\n",
    "            print(f\"Test loss has not improved; early stopping counter: {early_stopping_counter}\")\n",
    "\n",
    "        if early_stopping_counter >= patience:\n",
    "            print(\"Early stopping triggered -> starting next model!\")\n",
    "            print(\"------------------------------------------------\")\n",
    "            break  # Exit the training loop early\n",
    "\n",
    "    if early_stopping_counter < patience:\n",
    "        print(\"We're out of epochs but patience limit has not been reached -> starting next model!\")\n",
    "        print(\"-----------------------------------------------------------------------------------\")"
   ],
   "id": "b9340f285099bb56",
   "outputs": [],
   "execution_count": null
  },
  {
   "metadata": {},
   "cell_type": "markdown",
   "source": "GRU",
   "id": "bb20a94cc3d4ddda"
  },
  {
   "metadata": {
    "ExecuteTime": {
     "end_time": "2025-07-11T04:45:05.743232Z",
     "start_time": "2025-07-10T15:03:44.201212Z"
    }
   },
   "cell_type": "code",
   "source": [
    "# Initialize variables to track the best test/validation loss\n",
    "patience = 5\n",
    "\n",
    "# Training loops\n",
    "for j in range(1, num_models):\n",
    "\n",
    "    early_stopping_counter = 0\n",
    "    best_test_loss = float('inf')\n",
    "\n",
    "    print(\"-------------------------------------\")\n",
    "    print(f\"Training has started for GRU model {j}\")\n",
    "\n",
    "    # Load dataset and DataLoader\n",
    "    train_dataset = VehicleSpeedDatasetLong(training_data_path, extension, seq_length = sequence_length[j], step_size = step_size)\n",
    "    train_dataloader = DataLoader(train_dataset, batch_size=batch_size[j], shuffle=True, num_workers= 6, pin_memory=True)\n",
    "\n",
    "    # Load test dataset and DataLoader\n",
    "    test_dataset = VehicleSpeedDatasetLong(test_data_path, extension, seq_length=sequence_length[j], step_size=step_size)\n",
    "    test_dataloader = DataLoader(test_dataset, batch_size=1, shuffle=False)  # Batch size = 1 for test evaluation\n",
    "\n",
    "    # Initialize model, loss function, and optimizer\n",
    "    device = torch.device(\"cuda\" if torch.cuda.is_available() else \"cpu\")\n",
    "    model = SpeedEstimatorGRU(input_size, hidden_size[j], num_layers[j], output_size).to(device)\n",
    "    criterion = nn.MSELoss()\n",
    "    optimizer = optim.Adam(model.parameters(), lr=learning_rate[j])\n",
    "\n",
    "    example_input = torch.rand(1, sequence_length[j], input_size).to(device)  # Example input matching model dimensions\n",
    "\n",
    "    for epoch in range(num_epochs):\n",
    "        model.train()\n",
    "        total_train_loss = 0\n",
    "\n",
    "        print(\"-------------------------------------\")\n",
    "        print(f\"Epoch [{epoch+1}] has started\")\n",
    "\n",
    "        for batch_idx, (features, speeds) in enumerate(train_dataloader):\n",
    "            speeds = speeds.squeeze(1)  # Remove extra dimension from speeds if present\n",
    "            features, speeds = features.to(device), speeds.to(device)\n",
    "\n",
    "            # Forward pass\n",
    "            outputs = model(features)\n",
    "\n",
    "            assert outputs.shape == speeds.shape, f\"Shape mismatch: outputs {outputs.shape} vs speeds {speeds.shape}\"\n",
    "\n",
    "            train_loss = criterion(outputs, speeds)\n",
    "\n",
    "            # Backward pass\n",
    "            optimizer.zero_grad()\n",
    "            train_loss.backward()\n",
    "            optimizer.step()\n",
    "\n",
    "            total_train_loss += train_loss.item()\n",
    "\n",
    "        print(f\"Model: {j}, Epoch [{epoch+1}/{num_epochs}], Loss: {total_train_loss/len(train_dataloader):.4f}\")\n",
    "\n",
    "        model.eval()\n",
    "        total_test_loss = 0\n",
    "\n",
    "        with torch.no_grad():  # No need to compute gradients for validation/test\n",
    "            for features, speeds in test_dataloader:\n",
    "                speeds = speeds.squeeze(1)\n",
    "                features, speeds = features.to(device), speeds.to(device)\n",
    "\n",
    "                # Forward pass\n",
    "                test_outputs = model(features)\n",
    "                test_loss = criterion(test_outputs, speeds)\n",
    "\n",
    "                total_test_loss += test_loss.item()\n",
    "\n",
    "        avg_test_loss = total_test_loss / len(test_dataloader)\n",
    "\n",
    "        print(f\"Model: {j}, Epoch [{epoch+1}/{num_epochs}], Test Loss: {avg_test_loss:.4f}\")\n",
    "\n",
    "         # Checkpoint: Save model if test loss improves\n",
    "        if avg_test_loss < best_test_loss:\n",
    "            print(f\"New best model found! Test Loss improved from {best_test_loss:.4f} to {avg_test_loss:.4f}\")\n",
    "            best_test_loss = avg_test_loss\n",
    "            early_stopping_counter = 0\n",
    "\n",
    "            # Save model state and optimizer state\n",
    "            torch.save({\n",
    "                \"model_state_dict\": model.state_dict(),\n",
    "                \"optimizer_state_dict\": optimizer.state_dict(),\n",
    "                \"sequence_length\": sequence_length,\n",
    "                \"input_size\": input_size,\n",
    "                \"hidden_size\": hidden_size,\n",
    "                \"num_layers\": num_layers,\n",
    "                \"output_size\": output_size,\n",
    "                \"learning_rate\": learning_rate,\n",
    "                \"num_epochs\": num_epochs\n",
    "            }, location_state_GRU + str(j) + \".pt\")\n",
    "            print(\"model \" + location_state_GRU + str(j) + \".pt\" + \" saved\")\n",
    "\n",
    "            # Save traced model for MATLAB -> taken out\n",
    "\n",
    "            traced_model = torch.jit.trace(model, example_input)\n",
    "            torch.jit.save(traced_model, location_traced_GRU + str(j) + \"_traced_jit_save.pt\")  # Save as traced TorchScript model\n",
    "            print(\"model \" + location_traced_GRU + str(j) + \"_traced_jit_save.pt\" + \" saved\")\n",
    "\n",
    "            traced_model.save(location_traced_GRU + str(j) + \"_traced_simple_save.pt\")  # Save as traced TorchScript model\n",
    "            print(\"model \" + location_traced_GRU + str(j) + \"_traced_simple_save.pt\" + \" saved\")\n",
    "\n",
    "\n",
    "\n",
    "            # Export model to ONNX\n",
    "            onnx_model_path = location_traced_GRU + str(j) + \"_traced.onnx\"\n",
    "\n",
    "            torch.onnx.export(\n",
    "                model,                     # PyTorch model\n",
    "                example_input,             # Example input (same as used for tracing)\n",
    "                onnx_model_path,           # Output filename\n",
    "                export_params=True,\n",
    "                opset_version=11,          # MATLAB supports up to opset 11/12 reliably\n",
    "                do_constant_folding=True,\n",
    "                input_names=['input'],\n",
    "                output_names=['output'],\n",
    "                dynamic_axes={'input': {0: 'batch_size'}, 'output': {0: 'batch_size'}}\n",
    "            )\n",
    "            print(\"model \" + location_traced_GRU + str(j) + \"_traced.onnx\" + \" saved\")\n",
    "            print(\"---------------------\")\n",
    "            print(f\"all model_{j} saved\")\n",
    "        else:\n",
    "            early_stopping_counter += 1\n",
    "            print(f\"Test loss has not improved; early stopping counter: {early_stopping_counter}\")\n",
    "\n",
    "        if early_stopping_counter >= patience:\n",
    "            print(\"Early stopping triggered -> starting next model!\")\n",
    "            print(\"------------------------------------------------\")\n",
    "            break  # Exit the training loop early\n",
    "\n",
    "    if early_stopping_counter < patience:\n",
    "        print(\"We're out of epochs but patience limit has not been reached -> starting next model!\")\n",
    "        print(\"-----------------------------------------------------------------------------------\")"
   ],
   "id": "7f651b035974ed05",
   "outputs": [
    {
     "name": "stdout",
     "output_type": "stream",
     "text": [
      "-------------------------------------\n",
      "Training has started for GRU model 1\n",
      "-------------------------------------\n",
      "Epoch [1] has started\n",
      "Model: 1, Epoch [1/60], Loss: 309.7239\n",
      "Model: 1, Epoch [1/60], Test Loss: 34.0670\n",
      "New best model found! Test Loss improved from inf to 34.0670\n",
      "model GRU/trained_models/i7/it_2/state_models/model_GRU_long1.pt saved\n",
      "model GRU/trained_models/i7/it_2/traced_models/model_GRU_long1_traced_jit_save.pt saved\n",
      "model GRU/trained_models/i7/it_2/traced_models/model_GRU_long1_traced_simple_save.pt saved\n"
     ]
    },
    {
     "name": "stderr",
     "output_type": "stream",
     "text": [
      "C:\\Users\\ROG\\miniconda3\\envs\\pytorch200_cuda118\\lib\\site-packages\\torch\\onnx\\symbolic_opset9.py:4476: UserWarning: Exporting a model to ONNX with a batch_size other than 1, with a variable length with GRU can cause an error when running the ONNX model with a different batch size. Make sure to save the model with a batch size of 1, or define the initial states (h0/c0) as inputs of the model. \n",
      "  warnings.warn(\n"
     ]
    },
    {
     "name": "stdout",
     "output_type": "stream",
     "text": [
      "================ Diagnostic Run torch.onnx.export version 2.0.0 ================\n",
      "verbose: False, log level: Level.ERROR\n",
      "======================= 0 NONE 0 NOTE 0 WARNING 0 ERROR ========================\n",
      "\n",
      "model GRU/trained_models/i7/it_2/traced_models/model_GRU_long1_traced.onnx saved\n",
      "---------------------\n",
      "all model_1 saved\n",
      "-------------------------------------\n",
      "Epoch [2] has started\n",
      "Model: 1, Epoch [2/60], Loss: 20.3662\n",
      "Model: 1, Epoch [2/60], Test Loss: 15.8649\n",
      "New best model found! Test Loss improved from 34.0670 to 15.8649\n",
      "model GRU/trained_models/i7/it_2/state_models/model_GRU_long1.pt saved\n",
      "model GRU/trained_models/i7/it_2/traced_models/model_GRU_long1_traced_jit_save.pt saved\n",
      "model GRU/trained_models/i7/it_2/traced_models/model_GRU_long1_traced_simple_save.pt saved\n",
      "================ Diagnostic Run torch.onnx.export version 2.0.0 ================\n",
      "verbose: False, log level: Level.ERROR\n",
      "======================= 0 NONE 0 NOTE 0 WARNING 0 ERROR ========================\n",
      "\n",
      "model GRU/trained_models/i7/it_2/traced_models/model_GRU_long1_traced.onnx saved\n",
      "---------------------\n",
      "all model_1 saved\n",
      "-------------------------------------\n",
      "Epoch [3] has started\n"
     ]
    },
    {
     "name": "stderr",
     "output_type": "stream",
     "text": [
      "C:\\Users\\ROG\\miniconda3\\envs\\pytorch200_cuda118\\lib\\site-packages\\torch\\onnx\\symbolic_opset9.py:4476: UserWarning: Exporting a model to ONNX with a batch_size other than 1, with a variable length with GRU can cause an error when running the ONNX model with a different batch size. Make sure to save the model with a batch size of 1, or define the initial states (h0/c0) as inputs of the model. \n",
      "  warnings.warn(\n"
     ]
    },
    {
     "name": "stdout",
     "output_type": "stream",
     "text": [
      "Model: 1, Epoch [3/60], Loss: 9.8911\n",
      "Model: 1, Epoch [3/60], Test Loss: 9.2821\n",
      "New best model found! Test Loss improved from 15.8649 to 9.2821\n",
      "model GRU/trained_models/i7/it_2/state_models/model_GRU_long1.pt saved\n",
      "model GRU/trained_models/i7/it_2/traced_models/model_GRU_long1_traced_jit_save.pt saved\n",
      "model GRU/trained_models/i7/it_2/traced_models/model_GRU_long1_traced_simple_save.pt saved\n",
      "================ Diagnostic Run torch.onnx.export version 2.0.0 ================\n",
      "verbose: False, log level: Level.ERROR\n",
      "======================= 0 NONE 0 NOTE 0 WARNING 0 ERROR ========================\n",
      "\n",
      "model GRU/trained_models/i7/it_2/traced_models/model_GRU_long1_traced.onnx saved\n",
      "---------------------\n",
      "all model_1 saved\n",
      "-------------------------------------\n",
      "Epoch [4] has started\n"
     ]
    },
    {
     "name": "stderr",
     "output_type": "stream",
     "text": [
      "C:\\Users\\ROG\\miniconda3\\envs\\pytorch200_cuda118\\lib\\site-packages\\torch\\onnx\\symbolic_opset9.py:4476: UserWarning: Exporting a model to ONNX with a batch_size other than 1, with a variable length with GRU can cause an error when running the ONNX model with a different batch size. Make sure to save the model with a batch size of 1, or define the initial states (h0/c0) as inputs of the model. \n",
      "  warnings.warn(\n"
     ]
    },
    {
     "name": "stdout",
     "output_type": "stream",
     "text": [
      "Model: 1, Epoch [4/60], Loss: 5.7397\n",
      "Model: 1, Epoch [4/60], Test Loss: 5.2357\n",
      "New best model found! Test Loss improved from 9.2821 to 5.2357\n",
      "model GRU/trained_models/i7/it_2/state_models/model_GRU_long1.pt saved\n",
      "model GRU/trained_models/i7/it_2/traced_models/model_GRU_long1_traced_jit_save.pt saved\n",
      "model GRU/trained_models/i7/it_2/traced_models/model_GRU_long1_traced_simple_save.pt saved\n",
      "================ Diagnostic Run torch.onnx.export version 2.0.0 ================\n",
      "verbose: False, log level: Level.ERROR\n",
      "======================= 0 NONE 0 NOTE 0 WARNING 0 ERROR ========================\n",
      "\n",
      "model GRU/trained_models/i7/it_2/traced_models/model_GRU_long1_traced.onnx saved\n",
      "---------------------\n",
      "all model_1 saved\n",
      "-------------------------------------\n",
      "Epoch [5] has started\n"
     ]
    },
    {
     "name": "stderr",
     "output_type": "stream",
     "text": [
      "C:\\Users\\ROG\\miniconda3\\envs\\pytorch200_cuda118\\lib\\site-packages\\torch\\onnx\\symbolic_opset9.py:4476: UserWarning: Exporting a model to ONNX with a batch_size other than 1, with a variable length with GRU can cause an error when running the ONNX model with a different batch size. Make sure to save the model with a batch size of 1, or define the initial states (h0/c0) as inputs of the model. \n",
      "  warnings.warn(\n"
     ]
    },
    {
     "name": "stdout",
     "output_type": "stream",
     "text": [
      "Model: 1, Epoch [5/60], Loss: 3.4565\n",
      "Model: 1, Epoch [5/60], Test Loss: 3.3467\n",
      "New best model found! Test Loss improved from 5.2357 to 3.3467\n",
      "model GRU/trained_models/i7/it_2/state_models/model_GRU_long1.pt saved\n",
      "model GRU/trained_models/i7/it_2/traced_models/model_GRU_long1_traced_jit_save.pt saved\n",
      "model GRU/trained_models/i7/it_2/traced_models/model_GRU_long1_traced_simple_save.pt saved\n",
      "================ Diagnostic Run torch.onnx.export version 2.0.0 ================\n",
      "verbose: False, log level: Level.ERROR\n",
      "======================= 0 NONE 0 NOTE 0 WARNING 0 ERROR ========================\n",
      "\n",
      "model GRU/trained_models/i7/it_2/traced_models/model_GRU_long1_traced.onnx saved\n",
      "---------------------\n",
      "all model_1 saved\n",
      "-------------------------------------\n",
      "Epoch [6] has started\n"
     ]
    },
    {
     "name": "stderr",
     "output_type": "stream",
     "text": [
      "C:\\Users\\ROG\\miniconda3\\envs\\pytorch200_cuda118\\lib\\site-packages\\torch\\onnx\\symbolic_opset9.py:4476: UserWarning: Exporting a model to ONNX with a batch_size other than 1, with a variable length with GRU can cause an error when running the ONNX model with a different batch size. Make sure to save the model with a batch size of 1, or define the initial states (h0/c0) as inputs of the model. \n",
      "  warnings.warn(\n"
     ]
    },
    {
     "name": "stdout",
     "output_type": "stream",
     "text": [
      "Model: 1, Epoch [6/60], Loss: 2.3195\n",
      "Model: 1, Epoch [6/60], Test Loss: 2.3734\n",
      "New best model found! Test Loss improved from 3.3467 to 2.3734\n",
      "model GRU/trained_models/i7/it_2/state_models/model_GRU_long1.pt saved\n",
      "model GRU/trained_models/i7/it_2/traced_models/model_GRU_long1_traced_jit_save.pt saved\n",
      "model GRU/trained_models/i7/it_2/traced_models/model_GRU_long1_traced_simple_save.pt saved\n",
      "================ Diagnostic Run torch.onnx.export version 2.0.0 ================\n",
      "verbose: False, log level: Level.ERROR\n",
      "======================= 0 NONE 0 NOTE 0 WARNING 0 ERROR ========================\n",
      "\n",
      "model GRU/trained_models/i7/it_2/traced_models/model_GRU_long1_traced.onnx saved\n",
      "---------------------\n",
      "all model_1 saved\n",
      "-------------------------------------\n",
      "Epoch [7] has started\n"
     ]
    },
    {
     "name": "stderr",
     "output_type": "stream",
     "text": [
      "C:\\Users\\ROG\\miniconda3\\envs\\pytorch200_cuda118\\lib\\site-packages\\torch\\onnx\\symbolic_opset9.py:4476: UserWarning: Exporting a model to ONNX with a batch_size other than 1, with a variable length with GRU can cause an error when running the ONNX model with a different batch size. Make sure to save the model with a batch size of 1, or define the initial states (h0/c0) as inputs of the model. \n",
      "  warnings.warn(\n"
     ]
    },
    {
     "name": "stdout",
     "output_type": "stream",
     "text": [
      "Model: 1, Epoch [7/60], Loss: 1.7165\n",
      "Model: 1, Epoch [7/60], Test Loss: 1.8138\n",
      "New best model found! Test Loss improved from 2.3734 to 1.8138\n",
      "model GRU/trained_models/i7/it_2/state_models/model_GRU_long1.pt saved\n",
      "model GRU/trained_models/i7/it_2/traced_models/model_GRU_long1_traced_jit_save.pt saved\n",
      "model GRU/trained_models/i7/it_2/traced_models/model_GRU_long1_traced_simple_save.pt saved\n",
      "================ Diagnostic Run torch.onnx.export version 2.0.0 ================\n",
      "verbose: False, log level: Level.ERROR\n",
      "======================= 0 NONE 0 NOTE 0 WARNING 0 ERROR ========================\n",
      "\n",
      "model GRU/trained_models/i7/it_2/traced_models/model_GRU_long1_traced.onnx saved\n",
      "---------------------\n",
      "all model_1 saved\n",
      "-------------------------------------\n",
      "Epoch [8] has started\n"
     ]
    },
    {
     "name": "stderr",
     "output_type": "stream",
     "text": [
      "C:\\Users\\ROG\\miniconda3\\envs\\pytorch200_cuda118\\lib\\site-packages\\torch\\onnx\\symbolic_opset9.py:4476: UserWarning: Exporting a model to ONNX with a batch_size other than 1, with a variable length with GRU can cause an error when running the ONNX model with a different batch size. Make sure to save the model with a batch size of 1, or define the initial states (h0/c0) as inputs of the model. \n",
      "  warnings.warn(\n"
     ]
    },
    {
     "name": "stdout",
     "output_type": "stream",
     "text": [
      "Model: 1, Epoch [8/60], Loss: 1.3787\n",
      "Model: 1, Epoch [8/60], Test Loss: 1.5203\n",
      "New best model found! Test Loss improved from 1.8138 to 1.5203\n",
      "model GRU/trained_models/i7/it_2/state_models/model_GRU_long1.pt saved\n",
      "model GRU/trained_models/i7/it_2/traced_models/model_GRU_long1_traced_jit_save.pt saved\n",
      "model GRU/trained_models/i7/it_2/traced_models/model_GRU_long1_traced_simple_save.pt saved\n",
      "================ Diagnostic Run torch.onnx.export version 2.0.0 ================\n",
      "verbose: False, log level: Level.ERROR\n",
      "======================= 0 NONE 0 NOTE 0 WARNING 0 ERROR ========================\n",
      "\n",
      "model GRU/trained_models/i7/it_2/traced_models/model_GRU_long1_traced.onnx saved\n",
      "---------------------\n",
      "all model_1 saved\n",
      "-------------------------------------\n",
      "Epoch [9] has started\n"
     ]
    },
    {
     "name": "stderr",
     "output_type": "stream",
     "text": [
      "C:\\Users\\ROG\\miniconda3\\envs\\pytorch200_cuda118\\lib\\site-packages\\torch\\onnx\\symbolic_opset9.py:4476: UserWarning: Exporting a model to ONNX with a batch_size other than 1, with a variable length with GRU can cause an error when running the ONNX model with a different batch size. Make sure to save the model with a batch size of 1, or define the initial states (h0/c0) as inputs of the model. \n",
      "  warnings.warn(\n"
     ]
    },
    {
     "name": "stdout",
     "output_type": "stream",
     "text": [
      "Model: 1, Epoch [9/60], Loss: 1.1574\n",
      "Model: 1, Epoch [9/60], Test Loss: 1.3528\n",
      "New best model found! Test Loss improved from 1.5203 to 1.3528\n",
      "model GRU/trained_models/i7/it_2/state_models/model_GRU_long1.pt saved\n",
      "model GRU/trained_models/i7/it_2/traced_models/model_GRU_long1_traced_jit_save.pt saved\n",
      "model GRU/trained_models/i7/it_2/traced_models/model_GRU_long1_traced_simple_save.pt saved\n",
      "================ Diagnostic Run torch.onnx.export version 2.0.0 ================\n",
      "verbose: False, log level: Level.ERROR\n",
      "======================= 0 NONE 0 NOTE 0 WARNING 0 ERROR ========================\n",
      "\n",
      "model GRU/trained_models/i7/it_2/traced_models/model_GRU_long1_traced.onnx saved\n",
      "---------------------\n",
      "all model_1 saved\n",
      "-------------------------------------\n",
      "Epoch [10] has started\n"
     ]
    },
    {
     "name": "stderr",
     "output_type": "stream",
     "text": [
      "C:\\Users\\ROG\\miniconda3\\envs\\pytorch200_cuda118\\lib\\site-packages\\torch\\onnx\\symbolic_opset9.py:4476: UserWarning: Exporting a model to ONNX with a batch_size other than 1, with a variable length with GRU can cause an error when running the ONNX model with a different batch size. Make sure to save the model with a batch size of 1, or define the initial states (h0/c0) as inputs of the model. \n",
      "  warnings.warn(\n"
     ]
    },
    {
     "name": "stdout",
     "output_type": "stream",
     "text": [
      "Model: 1, Epoch [10/60], Loss: 1.0037\n",
      "Model: 1, Epoch [10/60], Test Loss: 1.2206\n",
      "New best model found! Test Loss improved from 1.3528 to 1.2206\n",
      "model GRU/trained_models/i7/it_2/state_models/model_GRU_long1.pt saved\n",
      "model GRU/trained_models/i7/it_2/traced_models/model_GRU_long1_traced_jit_save.pt saved\n",
      "model GRU/trained_models/i7/it_2/traced_models/model_GRU_long1_traced_simple_save.pt saved\n",
      "================ Diagnostic Run torch.onnx.export version 2.0.0 ================\n",
      "verbose: False, log level: Level.ERROR\n",
      "======================= 0 NONE 0 NOTE 0 WARNING 0 ERROR ========================\n",
      "\n",
      "model GRU/trained_models/i7/it_2/traced_models/model_GRU_long1_traced.onnx saved\n",
      "---------------------\n",
      "all model_1 saved\n",
      "-------------------------------------\n",
      "Epoch [11] has started\n"
     ]
    },
    {
     "name": "stderr",
     "output_type": "stream",
     "text": [
      "C:\\Users\\ROG\\miniconda3\\envs\\pytorch200_cuda118\\lib\\site-packages\\torch\\onnx\\symbolic_opset9.py:4476: UserWarning: Exporting a model to ONNX with a batch_size other than 1, with a variable length with GRU can cause an error when running the ONNX model with a different batch size. Make sure to save the model with a batch size of 1, or define the initial states (h0/c0) as inputs of the model. \n",
      "  warnings.warn(\n"
     ]
    },
    {
     "name": "stdout",
     "output_type": "stream",
     "text": [
      "Model: 1, Epoch [11/60], Loss: 0.8862\n",
      "Model: 1, Epoch [11/60], Test Loss: 1.0572\n",
      "New best model found! Test Loss improved from 1.2206 to 1.0572\n",
      "model GRU/trained_models/i7/it_2/state_models/model_GRU_long1.pt saved\n",
      "model GRU/trained_models/i7/it_2/traced_models/model_GRU_long1_traced_jit_save.pt saved\n",
      "model GRU/trained_models/i7/it_2/traced_models/model_GRU_long1_traced_simple_save.pt saved\n",
      "================ Diagnostic Run torch.onnx.export version 2.0.0 ================\n",
      "verbose: False, log level: Level.ERROR\n",
      "======================= 0 NONE 0 NOTE 0 WARNING 0 ERROR ========================\n",
      "\n",
      "model GRU/trained_models/i7/it_2/traced_models/model_GRU_long1_traced.onnx saved\n",
      "---------------------\n",
      "all model_1 saved\n",
      "-------------------------------------\n",
      "Epoch [12] has started\n"
     ]
    },
    {
     "name": "stderr",
     "output_type": "stream",
     "text": [
      "C:\\Users\\ROG\\miniconda3\\envs\\pytorch200_cuda118\\lib\\site-packages\\torch\\onnx\\symbolic_opset9.py:4476: UserWarning: Exporting a model to ONNX with a batch_size other than 1, with a variable length with GRU can cause an error when running the ONNX model with a different batch size. Make sure to save the model with a batch size of 1, or define the initial states (h0/c0) as inputs of the model. \n",
      "  warnings.warn(\n"
     ]
    },
    {
     "name": "stdout",
     "output_type": "stream",
     "text": [
      "Model: 1, Epoch [12/60], Loss: 0.7968\n",
      "Model: 1, Epoch [12/60], Test Loss: 0.9571\n",
      "New best model found! Test Loss improved from 1.0572 to 0.9571\n",
      "model GRU/trained_models/i7/it_2/state_models/model_GRU_long1.pt saved\n",
      "model GRU/trained_models/i7/it_2/traced_models/model_GRU_long1_traced_jit_save.pt saved\n",
      "model GRU/trained_models/i7/it_2/traced_models/model_GRU_long1_traced_simple_save.pt saved\n",
      "================ Diagnostic Run torch.onnx.export version 2.0.0 ================\n",
      "verbose: False, log level: Level.ERROR\n",
      "======================= 0 NONE 0 NOTE 0 WARNING 0 ERROR ========================\n",
      "\n",
      "model GRU/trained_models/i7/it_2/traced_models/model_GRU_long1_traced.onnx saved\n",
      "---------------------\n",
      "all model_1 saved\n",
      "-------------------------------------\n",
      "Epoch [13] has started\n"
     ]
    },
    {
     "name": "stderr",
     "output_type": "stream",
     "text": [
      "C:\\Users\\ROG\\miniconda3\\envs\\pytorch200_cuda118\\lib\\site-packages\\torch\\onnx\\symbolic_opset9.py:4476: UserWarning: Exporting a model to ONNX with a batch_size other than 1, with a variable length with GRU can cause an error when running the ONNX model with a different batch size. Make sure to save the model with a batch size of 1, or define the initial states (h0/c0) as inputs of the model. \n",
      "  warnings.warn(\n"
     ]
    },
    {
     "name": "stdout",
     "output_type": "stream",
     "text": [
      "Model: 1, Epoch [13/60], Loss: 0.7236\n",
      "Model: 1, Epoch [13/60], Test Loss: 0.8889\n",
      "New best model found! Test Loss improved from 0.9571 to 0.8889\n",
      "model GRU/trained_models/i7/it_2/state_models/model_GRU_long1.pt saved\n",
      "model GRU/trained_models/i7/it_2/traced_models/model_GRU_long1_traced_jit_save.pt saved\n",
      "model GRU/trained_models/i7/it_2/traced_models/model_GRU_long1_traced_simple_save.pt saved\n",
      "================ Diagnostic Run torch.onnx.export version 2.0.0 ================\n",
      "verbose: False, log level: Level.ERROR\n",
      "======================= 0 NONE 0 NOTE 0 WARNING 0 ERROR ========================\n",
      "\n",
      "model GRU/trained_models/i7/it_2/traced_models/model_GRU_long1_traced.onnx saved\n",
      "---------------------\n",
      "all model_1 saved\n",
      "-------------------------------------\n",
      "Epoch [14] has started\n"
     ]
    },
    {
     "name": "stderr",
     "output_type": "stream",
     "text": [
      "C:\\Users\\ROG\\miniconda3\\envs\\pytorch200_cuda118\\lib\\site-packages\\torch\\onnx\\symbolic_opset9.py:4476: UserWarning: Exporting a model to ONNX with a batch_size other than 1, with a variable length with GRU can cause an error when running the ONNX model with a different batch size. Make sure to save the model with a batch size of 1, or define the initial states (h0/c0) as inputs of the model. \n",
      "  warnings.warn(\n"
     ]
    },
    {
     "name": "stdout",
     "output_type": "stream",
     "text": [
      "Model: 1, Epoch [14/60], Loss: 0.6648\n",
      "Model: 1, Epoch [14/60], Test Loss: 0.8314\n",
      "New best model found! Test Loss improved from 0.8889 to 0.8314\n",
      "model GRU/trained_models/i7/it_2/state_models/model_GRU_long1.pt saved\n",
      "model GRU/trained_models/i7/it_2/traced_models/model_GRU_long1_traced_jit_save.pt saved\n",
      "model GRU/trained_models/i7/it_2/traced_models/model_GRU_long1_traced_simple_save.pt saved\n",
      "================ Diagnostic Run torch.onnx.export version 2.0.0 ================\n",
      "verbose: False, log level: Level.ERROR\n",
      "======================= 0 NONE 0 NOTE 0 WARNING 0 ERROR ========================\n",
      "\n",
      "model GRU/trained_models/i7/it_2/traced_models/model_GRU_long1_traced.onnx saved\n",
      "---------------------\n",
      "all model_1 saved\n",
      "-------------------------------------\n",
      "Epoch [15] has started\n"
     ]
    },
    {
     "name": "stderr",
     "output_type": "stream",
     "text": [
      "C:\\Users\\ROG\\miniconda3\\envs\\pytorch200_cuda118\\lib\\site-packages\\torch\\onnx\\symbolic_opset9.py:4476: UserWarning: Exporting a model to ONNX with a batch_size other than 1, with a variable length with GRU can cause an error when running the ONNX model with a different batch size. Make sure to save the model with a batch size of 1, or define the initial states (h0/c0) as inputs of the model. \n",
      "  warnings.warn(\n"
     ]
    },
    {
     "name": "stdout",
     "output_type": "stream",
     "text": [
      "Model: 1, Epoch [15/60], Loss: 0.6131\n",
      "Model: 1, Epoch [15/60], Test Loss: 0.7513\n",
      "New best model found! Test Loss improved from 0.8314 to 0.7513\n",
      "model GRU/trained_models/i7/it_2/state_models/model_GRU_long1.pt saved\n",
      "model GRU/trained_models/i7/it_2/traced_models/model_GRU_long1_traced_jit_save.pt saved\n",
      "model GRU/trained_models/i7/it_2/traced_models/model_GRU_long1_traced_simple_save.pt saved\n",
      "================ Diagnostic Run torch.onnx.export version 2.0.0 ================\n",
      "verbose: False, log level: Level.ERROR\n",
      "======================= 0 NONE 0 NOTE 0 WARNING 0 ERROR ========================\n",
      "\n",
      "model GRU/trained_models/i7/it_2/traced_models/model_GRU_long1_traced.onnx saved\n",
      "---------------------\n",
      "all model_1 saved\n",
      "-------------------------------------\n",
      "Epoch [16] has started\n"
     ]
    },
    {
     "name": "stderr",
     "output_type": "stream",
     "text": [
      "C:\\Users\\ROG\\miniconda3\\envs\\pytorch200_cuda118\\lib\\site-packages\\torch\\onnx\\symbolic_opset9.py:4476: UserWarning: Exporting a model to ONNX with a batch_size other than 1, with a variable length with GRU can cause an error when running the ONNX model with a different batch size. Make sure to save the model with a batch size of 1, or define the initial states (h0/c0) as inputs of the model. \n",
      "  warnings.warn(\n"
     ]
    },
    {
     "name": "stdout",
     "output_type": "stream",
     "text": [
      "Model: 1, Epoch [16/60], Loss: 0.5672\n",
      "Model: 1, Epoch [16/60], Test Loss: 0.7157\n",
      "New best model found! Test Loss improved from 0.7513 to 0.7157\n",
      "model GRU/trained_models/i7/it_2/state_models/model_GRU_long1.pt saved\n",
      "model GRU/trained_models/i7/it_2/traced_models/model_GRU_long1_traced_jit_save.pt saved\n",
      "model GRU/trained_models/i7/it_2/traced_models/model_GRU_long1_traced_simple_save.pt saved\n",
      "================ Diagnostic Run torch.onnx.export version 2.0.0 ================\n",
      "verbose: False, log level: Level.ERROR\n",
      "======================= 0 NONE 0 NOTE 0 WARNING 0 ERROR ========================\n",
      "\n",
      "model GRU/trained_models/i7/it_2/traced_models/model_GRU_long1_traced.onnx saved\n",
      "---------------------\n",
      "all model_1 saved\n",
      "-------------------------------------\n",
      "Epoch [17] has started\n"
     ]
    },
    {
     "name": "stderr",
     "output_type": "stream",
     "text": [
      "C:\\Users\\ROG\\miniconda3\\envs\\pytorch200_cuda118\\lib\\site-packages\\torch\\onnx\\symbolic_opset9.py:4476: UserWarning: Exporting a model to ONNX with a batch_size other than 1, with a variable length with GRU can cause an error when running the ONNX model with a different batch size. Make sure to save the model with a batch size of 1, or define the initial states (h0/c0) as inputs of the model. \n",
      "  warnings.warn(\n"
     ]
    },
    {
     "name": "stdout",
     "output_type": "stream",
     "text": [
      "Model: 1, Epoch [17/60], Loss: 0.5174\n",
      "Model: 1, Epoch [17/60], Test Loss: 0.6410\n",
      "New best model found! Test Loss improved from 0.7157 to 0.6410\n",
      "model GRU/trained_models/i7/it_2/state_models/model_GRU_long1.pt saved\n",
      "model GRU/trained_models/i7/it_2/traced_models/model_GRU_long1_traced_jit_save.pt saved\n",
      "model GRU/trained_models/i7/it_2/traced_models/model_GRU_long1_traced_simple_save.pt saved\n",
      "================ Diagnostic Run torch.onnx.export version 2.0.0 ================\n",
      "verbose: False, log level: Level.ERROR\n",
      "======================= 0 NONE 0 NOTE 0 WARNING 0 ERROR ========================\n",
      "\n",
      "model GRU/trained_models/i7/it_2/traced_models/model_GRU_long1_traced.onnx saved\n",
      "---------------------\n",
      "all model_1 saved\n",
      "-------------------------------------\n",
      "Epoch [18] has started\n"
     ]
    },
    {
     "name": "stderr",
     "output_type": "stream",
     "text": [
      "C:\\Users\\ROG\\miniconda3\\envs\\pytorch200_cuda118\\lib\\site-packages\\torch\\onnx\\symbolic_opset9.py:4476: UserWarning: Exporting a model to ONNX with a batch_size other than 1, with a variable length with GRU can cause an error when running the ONNX model with a different batch size. Make sure to save the model with a batch size of 1, or define the initial states (h0/c0) as inputs of the model. \n",
      "  warnings.warn(\n"
     ]
    },
    {
     "name": "stdout",
     "output_type": "stream",
     "text": [
      "Model: 1, Epoch [18/60], Loss: 0.4737\n",
      "Model: 1, Epoch [18/60], Test Loss: 0.5906\n",
      "New best model found! Test Loss improved from 0.6410 to 0.5906\n",
      "model GRU/trained_models/i7/it_2/state_models/model_GRU_long1.pt saved\n",
      "model GRU/trained_models/i7/it_2/traced_models/model_GRU_long1_traced_jit_save.pt saved\n",
      "model GRU/trained_models/i7/it_2/traced_models/model_GRU_long1_traced_simple_save.pt saved\n",
      "================ Diagnostic Run torch.onnx.export version 2.0.0 ================\n",
      "verbose: False, log level: Level.ERROR\n",
      "======================= 0 NONE 0 NOTE 0 WARNING 0 ERROR ========================\n",
      "\n",
      "model GRU/trained_models/i7/it_2/traced_models/model_GRU_long1_traced.onnx saved\n",
      "---------------------\n",
      "all model_1 saved\n",
      "-------------------------------------\n",
      "Epoch [19] has started\n"
     ]
    },
    {
     "name": "stderr",
     "output_type": "stream",
     "text": [
      "C:\\Users\\ROG\\miniconda3\\envs\\pytorch200_cuda118\\lib\\site-packages\\torch\\onnx\\symbolic_opset9.py:4476: UserWarning: Exporting a model to ONNX with a batch_size other than 1, with a variable length with GRU can cause an error when running the ONNX model with a different batch size. Make sure to save the model with a batch size of 1, or define the initial states (h0/c0) as inputs of the model. \n",
      "  warnings.warn(\n"
     ]
    },
    {
     "name": "stdout",
     "output_type": "stream",
     "text": [
      "Model: 1, Epoch [19/60], Loss: 0.4312\n",
      "Model: 1, Epoch [19/60], Test Loss: 0.5430\n",
      "New best model found! Test Loss improved from 0.5906 to 0.5430\n",
      "model GRU/trained_models/i7/it_2/state_models/model_GRU_long1.pt saved\n",
      "model GRU/trained_models/i7/it_2/traced_models/model_GRU_long1_traced_jit_save.pt saved\n",
      "model GRU/trained_models/i7/it_2/traced_models/model_GRU_long1_traced_simple_save.pt saved\n",
      "================ Diagnostic Run torch.onnx.export version 2.0.0 ================\n",
      "verbose: False, log level: Level.ERROR\n",
      "======================= 0 NONE 0 NOTE 0 WARNING 0 ERROR ========================\n",
      "\n",
      "model GRU/trained_models/i7/it_2/traced_models/model_GRU_long1_traced.onnx saved\n",
      "---------------------\n",
      "all model_1 saved\n",
      "-------------------------------------\n",
      "Epoch [20] has started\n"
     ]
    },
    {
     "name": "stderr",
     "output_type": "stream",
     "text": [
      "C:\\Users\\ROG\\miniconda3\\envs\\pytorch200_cuda118\\lib\\site-packages\\torch\\onnx\\symbolic_opset9.py:4476: UserWarning: Exporting a model to ONNX with a batch_size other than 1, with a variable length with GRU can cause an error when running the ONNX model with a different batch size. Make sure to save the model with a batch size of 1, or define the initial states (h0/c0) as inputs of the model. \n",
      "  warnings.warn(\n"
     ]
    },
    {
     "name": "stdout",
     "output_type": "stream",
     "text": [
      "Model: 1, Epoch [20/60], Loss: 0.3841\n",
      "Model: 1, Epoch [20/60], Test Loss: 0.4725\n",
      "New best model found! Test Loss improved from 0.5430 to 0.4725\n",
      "model GRU/trained_models/i7/it_2/state_models/model_GRU_long1.pt saved\n",
      "model GRU/trained_models/i7/it_2/traced_models/model_GRU_long1_traced_jit_save.pt saved\n",
      "model GRU/trained_models/i7/it_2/traced_models/model_GRU_long1_traced_simple_save.pt saved\n",
      "================ Diagnostic Run torch.onnx.export version 2.0.0 ================\n",
      "verbose: False, log level: Level.ERROR\n",
      "======================= 0 NONE 0 NOTE 0 WARNING 0 ERROR ========================\n",
      "\n",
      "model GRU/trained_models/i7/it_2/traced_models/model_GRU_long1_traced.onnx saved\n",
      "---------------------\n",
      "all model_1 saved\n",
      "-------------------------------------\n",
      "Epoch [21] has started\n"
     ]
    },
    {
     "name": "stderr",
     "output_type": "stream",
     "text": [
      "C:\\Users\\ROG\\miniconda3\\envs\\pytorch200_cuda118\\lib\\site-packages\\torch\\onnx\\symbolic_opset9.py:4476: UserWarning: Exporting a model to ONNX with a batch_size other than 1, with a variable length with GRU can cause an error when running the ONNX model with a different batch size. Make sure to save the model with a batch size of 1, or define the initial states (h0/c0) as inputs of the model. \n",
      "  warnings.warn(\n"
     ]
    },
    {
     "name": "stdout",
     "output_type": "stream",
     "text": [
      "Model: 1, Epoch [21/60], Loss: 0.3435\n",
      "Model: 1, Epoch [21/60], Test Loss: 0.4350\n",
      "New best model found! Test Loss improved from 0.4725 to 0.4350\n",
      "model GRU/trained_models/i7/it_2/state_models/model_GRU_long1.pt saved\n",
      "model GRU/trained_models/i7/it_2/traced_models/model_GRU_long1_traced_jit_save.pt saved\n",
      "model GRU/trained_models/i7/it_2/traced_models/model_GRU_long1_traced_simple_save.pt saved\n",
      "================ Diagnostic Run torch.onnx.export version 2.0.0 ================\n",
      "verbose: False, log level: Level.ERROR\n",
      "======================= 0 NONE 0 NOTE 0 WARNING 0 ERROR ========================\n",
      "\n",
      "model GRU/trained_models/i7/it_2/traced_models/model_GRU_long1_traced.onnx saved\n",
      "---------------------\n",
      "all model_1 saved\n",
      "-------------------------------------\n",
      "Epoch [22] has started\n"
     ]
    },
    {
     "name": "stderr",
     "output_type": "stream",
     "text": [
      "C:\\Users\\ROG\\miniconda3\\envs\\pytorch200_cuda118\\lib\\site-packages\\torch\\onnx\\symbolic_opset9.py:4476: UserWarning: Exporting a model to ONNX with a batch_size other than 1, with a variable length with GRU can cause an error when running the ONNX model with a different batch size. Make sure to save the model with a batch size of 1, or define the initial states (h0/c0) as inputs of the model. \n",
      "  warnings.warn(\n"
     ]
    },
    {
     "name": "stdout",
     "output_type": "stream",
     "text": [
      "Model: 1, Epoch [22/60], Loss: 0.3037\n",
      "Model: 1, Epoch [22/60], Test Loss: 0.3901\n",
      "New best model found! Test Loss improved from 0.4350 to 0.3901\n",
      "model GRU/trained_models/i7/it_2/state_models/model_GRU_long1.pt saved\n",
      "model GRU/trained_models/i7/it_2/traced_models/model_GRU_long1_traced_jit_save.pt saved\n",
      "model GRU/trained_models/i7/it_2/traced_models/model_GRU_long1_traced_simple_save.pt saved\n",
      "================ Diagnostic Run torch.onnx.export version 2.0.0 ================\n",
      "verbose: False, log level: Level.ERROR\n",
      "======================= 0 NONE 0 NOTE 0 WARNING 0 ERROR ========================\n",
      "\n",
      "model GRU/trained_models/i7/it_2/traced_models/model_GRU_long1_traced.onnx saved\n",
      "---------------------\n",
      "all model_1 saved\n",
      "-------------------------------------\n",
      "Epoch [23] has started\n"
     ]
    },
    {
     "name": "stderr",
     "output_type": "stream",
     "text": [
      "C:\\Users\\ROG\\miniconda3\\envs\\pytorch200_cuda118\\lib\\site-packages\\torch\\onnx\\symbolic_opset9.py:4476: UserWarning: Exporting a model to ONNX with a batch_size other than 1, with a variable length with GRU can cause an error when running the ONNX model with a different batch size. Make sure to save the model with a batch size of 1, or define the initial states (h0/c0) as inputs of the model. \n",
      "  warnings.warn(\n"
     ]
    },
    {
     "name": "stdout",
     "output_type": "stream",
     "text": [
      "Model: 1, Epoch [23/60], Loss: 0.2685\n",
      "Model: 1, Epoch [23/60], Test Loss: 0.3611\n",
      "New best model found! Test Loss improved from 0.3901 to 0.3611\n",
      "model GRU/trained_models/i7/it_2/state_models/model_GRU_long1.pt saved\n",
      "model GRU/trained_models/i7/it_2/traced_models/model_GRU_long1_traced_jit_save.pt saved\n",
      "model GRU/trained_models/i7/it_2/traced_models/model_GRU_long1_traced_simple_save.pt saved\n",
      "================ Diagnostic Run torch.onnx.export version 2.0.0 ================\n",
      "verbose: False, log level: Level.ERROR\n",
      "======================= 0 NONE 0 NOTE 0 WARNING 0 ERROR ========================\n",
      "\n",
      "model GRU/trained_models/i7/it_2/traced_models/model_GRU_long1_traced.onnx saved\n",
      "---------------------\n",
      "all model_1 saved\n",
      "-------------------------------------\n",
      "Epoch [24] has started\n"
     ]
    },
    {
     "name": "stderr",
     "output_type": "stream",
     "text": [
      "C:\\Users\\ROG\\miniconda3\\envs\\pytorch200_cuda118\\lib\\site-packages\\torch\\onnx\\symbolic_opset9.py:4476: UserWarning: Exporting a model to ONNX with a batch_size other than 1, with a variable length with GRU can cause an error when running the ONNX model with a different batch size. Make sure to save the model with a batch size of 1, or define the initial states (h0/c0) as inputs of the model. \n",
      "  warnings.warn(\n"
     ]
    },
    {
     "name": "stdout",
     "output_type": "stream",
     "text": [
      "Model: 1, Epoch [24/60], Loss: 0.2368\n",
      "Model: 1, Epoch [24/60], Test Loss: 0.3287\n",
      "New best model found! Test Loss improved from 0.3611 to 0.3287\n",
      "model GRU/trained_models/i7/it_2/state_models/model_GRU_long1.pt saved\n",
      "model GRU/trained_models/i7/it_2/traced_models/model_GRU_long1_traced_jit_save.pt saved\n",
      "model GRU/trained_models/i7/it_2/traced_models/model_GRU_long1_traced_simple_save.pt saved\n",
      "================ Diagnostic Run torch.onnx.export version 2.0.0 ================\n",
      "verbose: False, log level: Level.ERROR\n",
      "======================= 0 NONE 0 NOTE 0 WARNING 0 ERROR ========================\n",
      "\n",
      "model GRU/trained_models/i7/it_2/traced_models/model_GRU_long1_traced.onnx saved\n",
      "---------------------\n",
      "all model_1 saved\n",
      "-------------------------------------\n",
      "Epoch [25] has started\n"
     ]
    },
    {
     "name": "stderr",
     "output_type": "stream",
     "text": [
      "C:\\Users\\ROG\\miniconda3\\envs\\pytorch200_cuda118\\lib\\site-packages\\torch\\onnx\\symbolic_opset9.py:4476: UserWarning: Exporting a model to ONNX with a batch_size other than 1, with a variable length with GRU can cause an error when running the ONNX model with a different batch size. Make sure to save the model with a batch size of 1, or define the initial states (h0/c0) as inputs of the model. \n",
      "  warnings.warn(\n"
     ]
    },
    {
     "name": "stdout",
     "output_type": "stream",
     "text": [
      "Model: 1, Epoch [25/60], Loss: 0.2089\n",
      "Model: 1, Epoch [25/60], Test Loss: 0.2983\n",
      "New best model found! Test Loss improved from 0.3287 to 0.2983\n",
      "model GRU/trained_models/i7/it_2/state_models/model_GRU_long1.pt saved\n",
      "model GRU/trained_models/i7/it_2/traced_models/model_GRU_long1_traced_jit_save.pt saved\n",
      "model GRU/trained_models/i7/it_2/traced_models/model_GRU_long1_traced_simple_save.pt saved\n",
      "================ Diagnostic Run torch.onnx.export version 2.0.0 ================\n",
      "verbose: False, log level: Level.ERROR\n",
      "======================= 0 NONE 0 NOTE 0 WARNING 0 ERROR ========================\n",
      "\n",
      "model GRU/trained_models/i7/it_2/traced_models/model_GRU_long1_traced.onnx saved\n",
      "---------------------\n",
      "all model_1 saved\n",
      "-------------------------------------\n",
      "Epoch [26] has started\n"
     ]
    },
    {
     "name": "stderr",
     "output_type": "stream",
     "text": [
      "C:\\Users\\ROG\\miniconda3\\envs\\pytorch200_cuda118\\lib\\site-packages\\torch\\onnx\\symbolic_opset9.py:4476: UserWarning: Exporting a model to ONNX with a batch_size other than 1, with a variable length with GRU can cause an error when running the ONNX model with a different batch size. Make sure to save the model with a batch size of 1, or define the initial states (h0/c0) as inputs of the model. \n",
      "  warnings.warn(\n"
     ]
    },
    {
     "name": "stdout",
     "output_type": "stream",
     "text": [
      "Model: 1, Epoch [26/60], Loss: 0.1869\n",
      "Model: 1, Epoch [26/60], Test Loss: 0.2776\n",
      "New best model found! Test Loss improved from 0.2983 to 0.2776\n",
      "model GRU/trained_models/i7/it_2/state_models/model_GRU_long1.pt saved\n",
      "model GRU/trained_models/i7/it_2/traced_models/model_GRU_long1_traced_jit_save.pt saved\n",
      "model GRU/trained_models/i7/it_2/traced_models/model_GRU_long1_traced_simple_save.pt saved\n",
      "================ Diagnostic Run torch.onnx.export version 2.0.0 ================\n",
      "verbose: False, log level: Level.ERROR\n",
      "======================= 0 NONE 0 NOTE 0 WARNING 0 ERROR ========================\n",
      "\n",
      "model GRU/trained_models/i7/it_2/traced_models/model_GRU_long1_traced.onnx saved\n",
      "---------------------\n",
      "all model_1 saved\n",
      "-------------------------------------\n",
      "Epoch [27] has started\n"
     ]
    },
    {
     "name": "stderr",
     "output_type": "stream",
     "text": [
      "C:\\Users\\ROG\\miniconda3\\envs\\pytorch200_cuda118\\lib\\site-packages\\torch\\onnx\\symbolic_opset9.py:4476: UserWarning: Exporting a model to ONNX with a batch_size other than 1, with a variable length with GRU can cause an error when running the ONNX model with a different batch size. Make sure to save the model with a batch size of 1, or define the initial states (h0/c0) as inputs of the model. \n",
      "  warnings.warn(\n"
     ]
    },
    {
     "name": "stdout",
     "output_type": "stream",
     "text": [
      "Model: 1, Epoch [27/60], Loss: 0.1684\n",
      "Model: 1, Epoch [27/60], Test Loss: 0.2579\n",
      "New best model found! Test Loss improved from 0.2776 to 0.2579\n",
      "model GRU/trained_models/i7/it_2/state_models/model_GRU_long1.pt saved\n",
      "model GRU/trained_models/i7/it_2/traced_models/model_GRU_long1_traced_jit_save.pt saved\n",
      "model GRU/trained_models/i7/it_2/traced_models/model_GRU_long1_traced_simple_save.pt saved\n",
      "================ Diagnostic Run torch.onnx.export version 2.0.0 ================\n",
      "verbose: False, log level: Level.ERROR\n",
      "======================= 0 NONE 0 NOTE 0 WARNING 0 ERROR ========================\n",
      "\n",
      "model GRU/trained_models/i7/it_2/traced_models/model_GRU_long1_traced.onnx saved\n",
      "---------------------\n",
      "all model_1 saved\n",
      "-------------------------------------\n",
      "Epoch [28] has started\n"
     ]
    },
    {
     "name": "stderr",
     "output_type": "stream",
     "text": [
      "C:\\Users\\ROG\\miniconda3\\envs\\pytorch200_cuda118\\lib\\site-packages\\torch\\onnx\\symbolic_opset9.py:4476: UserWarning: Exporting a model to ONNX with a batch_size other than 1, with a variable length with GRU can cause an error when running the ONNX model with a different batch size. Make sure to save the model with a batch size of 1, or define the initial states (h0/c0) as inputs of the model. \n",
      "  warnings.warn(\n"
     ]
    },
    {
     "name": "stdout",
     "output_type": "stream",
     "text": [
      "Model: 1, Epoch [28/60], Loss: 0.1504\n",
      "Model: 1, Epoch [28/60], Test Loss: 0.2486\n",
      "New best model found! Test Loss improved from 0.2579 to 0.2486\n",
      "model GRU/trained_models/i7/it_2/state_models/model_GRU_long1.pt saved\n",
      "model GRU/trained_models/i7/it_2/traced_models/model_GRU_long1_traced_jit_save.pt saved\n",
      "model GRU/trained_models/i7/it_2/traced_models/model_GRU_long1_traced_simple_save.pt saved\n",
      "================ Diagnostic Run torch.onnx.export version 2.0.0 ================\n",
      "verbose: False, log level: Level.ERROR\n",
      "======================= 0 NONE 0 NOTE 0 WARNING 0 ERROR ========================\n",
      "\n",
      "model GRU/trained_models/i7/it_2/traced_models/model_GRU_long1_traced.onnx saved\n",
      "---------------------\n",
      "all model_1 saved\n",
      "-------------------------------------\n",
      "Epoch [29] has started\n"
     ]
    },
    {
     "name": "stderr",
     "output_type": "stream",
     "text": [
      "C:\\Users\\ROG\\miniconda3\\envs\\pytorch200_cuda118\\lib\\site-packages\\torch\\onnx\\symbolic_opset9.py:4476: UserWarning: Exporting a model to ONNX with a batch_size other than 1, with a variable length with GRU can cause an error when running the ONNX model with a different batch size. Make sure to save the model with a batch size of 1, or define the initial states (h0/c0) as inputs of the model. \n",
      "  warnings.warn(\n"
     ]
    },
    {
     "name": "stdout",
     "output_type": "stream",
     "text": [
      "Model: 1, Epoch [29/60], Loss: 0.1352\n",
      "Model: 1, Epoch [29/60], Test Loss: 0.2216\n",
      "New best model found! Test Loss improved from 0.2486 to 0.2216\n",
      "model GRU/trained_models/i7/it_2/state_models/model_GRU_long1.pt saved\n",
      "model GRU/trained_models/i7/it_2/traced_models/model_GRU_long1_traced_jit_save.pt saved\n",
      "model GRU/trained_models/i7/it_2/traced_models/model_GRU_long1_traced_simple_save.pt saved\n",
      "================ Diagnostic Run torch.onnx.export version 2.0.0 ================\n",
      "verbose: False, log level: Level.ERROR\n",
      "======================= 0 NONE 0 NOTE 0 WARNING 0 ERROR ========================\n",
      "\n",
      "model GRU/trained_models/i7/it_2/traced_models/model_GRU_long1_traced.onnx saved\n",
      "---------------------\n",
      "all model_1 saved\n",
      "-------------------------------------\n",
      "Epoch [30] has started\n"
     ]
    },
    {
     "name": "stderr",
     "output_type": "stream",
     "text": [
      "C:\\Users\\ROG\\miniconda3\\envs\\pytorch200_cuda118\\lib\\site-packages\\torch\\onnx\\symbolic_opset9.py:4476: UserWarning: Exporting a model to ONNX with a batch_size other than 1, with a variable length with GRU can cause an error when running the ONNX model with a different batch size. Make sure to save the model with a batch size of 1, or define the initial states (h0/c0) as inputs of the model. \n",
      "  warnings.warn(\n"
     ]
    },
    {
     "name": "stdout",
     "output_type": "stream",
     "text": [
      "Model: 1, Epoch [30/60], Loss: 0.1221\n",
      "Model: 1, Epoch [30/60], Test Loss: 0.2214\n",
      "New best model found! Test Loss improved from 0.2216 to 0.2214\n",
      "model GRU/trained_models/i7/it_2/state_models/model_GRU_long1.pt saved\n",
      "model GRU/trained_models/i7/it_2/traced_models/model_GRU_long1_traced_jit_save.pt saved\n",
      "model GRU/trained_models/i7/it_2/traced_models/model_GRU_long1_traced_simple_save.pt saved\n",
      "================ Diagnostic Run torch.onnx.export version 2.0.0 ================\n",
      "verbose: False, log level: Level.ERROR\n",
      "======================= 0 NONE 0 NOTE 0 WARNING 0 ERROR ========================\n",
      "\n",
      "model GRU/trained_models/i7/it_2/traced_models/model_GRU_long1_traced.onnx saved\n",
      "---------------------\n",
      "all model_1 saved\n",
      "-------------------------------------\n",
      "Epoch [31] has started\n"
     ]
    },
    {
     "name": "stderr",
     "output_type": "stream",
     "text": [
      "C:\\Users\\ROG\\miniconda3\\envs\\pytorch200_cuda118\\lib\\site-packages\\torch\\onnx\\symbolic_opset9.py:4476: UserWarning: Exporting a model to ONNX with a batch_size other than 1, with a variable length with GRU can cause an error when running the ONNX model with a different batch size. Make sure to save the model with a batch size of 1, or define the initial states (h0/c0) as inputs of the model. \n",
      "  warnings.warn(\n"
     ]
    },
    {
     "name": "stdout",
     "output_type": "stream",
     "text": [
      "Model: 1, Epoch [31/60], Loss: 0.1118\n",
      "Model: 1, Epoch [31/60], Test Loss: 0.1932\n",
      "New best model found! Test Loss improved from 0.2214 to 0.1932\n",
      "model GRU/trained_models/i7/it_2/state_models/model_GRU_long1.pt saved\n",
      "model GRU/trained_models/i7/it_2/traced_models/model_GRU_long1_traced_jit_save.pt saved\n",
      "model GRU/trained_models/i7/it_2/traced_models/model_GRU_long1_traced_simple_save.pt saved\n",
      "================ Diagnostic Run torch.onnx.export version 2.0.0 ================\n",
      "verbose: False, log level: Level.ERROR\n",
      "======================= 0 NONE 0 NOTE 0 WARNING 0 ERROR ========================\n",
      "\n",
      "model GRU/trained_models/i7/it_2/traced_models/model_GRU_long1_traced.onnx saved\n",
      "---------------------\n",
      "all model_1 saved\n",
      "-------------------------------------\n",
      "Epoch [32] has started\n"
     ]
    },
    {
     "name": "stderr",
     "output_type": "stream",
     "text": [
      "C:\\Users\\ROG\\miniconda3\\envs\\pytorch200_cuda118\\lib\\site-packages\\torch\\onnx\\symbolic_opset9.py:4476: UserWarning: Exporting a model to ONNX with a batch_size other than 1, with a variable length with GRU can cause an error when running the ONNX model with a different batch size. Make sure to save the model with a batch size of 1, or define the initial states (h0/c0) as inputs of the model. \n",
      "  warnings.warn(\n"
     ]
    },
    {
     "name": "stdout",
     "output_type": "stream",
     "text": [
      "Model: 1, Epoch [32/60], Loss: 0.0998\n",
      "Model: 1, Epoch [32/60], Test Loss: 0.1915\n",
      "New best model found! Test Loss improved from 0.1932 to 0.1915\n",
      "model GRU/trained_models/i7/it_2/state_models/model_GRU_long1.pt saved\n",
      "model GRU/trained_models/i7/it_2/traced_models/model_GRU_long1_traced_jit_save.pt saved\n",
      "model GRU/trained_models/i7/it_2/traced_models/model_GRU_long1_traced_simple_save.pt saved\n",
      "================ Diagnostic Run torch.onnx.export version 2.0.0 ================\n",
      "verbose: False, log level: Level.ERROR\n",
      "======================= 0 NONE 0 NOTE 0 WARNING 0 ERROR ========================\n",
      "\n",
      "model GRU/trained_models/i7/it_2/traced_models/model_GRU_long1_traced.onnx saved\n",
      "---------------------\n",
      "all model_1 saved\n",
      "-------------------------------------\n",
      "Epoch [33] has started\n"
     ]
    },
    {
     "name": "stderr",
     "output_type": "stream",
     "text": [
      "C:\\Users\\ROG\\miniconda3\\envs\\pytorch200_cuda118\\lib\\site-packages\\torch\\onnx\\symbolic_opset9.py:4476: UserWarning: Exporting a model to ONNX with a batch_size other than 1, with a variable length with GRU can cause an error when running the ONNX model with a different batch size. Make sure to save the model with a batch size of 1, or define the initial states (h0/c0) as inputs of the model. \n",
      "  warnings.warn(\n"
     ]
    },
    {
     "name": "stdout",
     "output_type": "stream",
     "text": [
      "Model: 1, Epoch [33/60], Loss: 0.0911\n",
      "Model: 1, Epoch [33/60], Test Loss: 0.1736\n",
      "New best model found! Test Loss improved from 0.1915 to 0.1736\n",
      "model GRU/trained_models/i7/it_2/state_models/model_GRU_long1.pt saved\n",
      "model GRU/trained_models/i7/it_2/traced_models/model_GRU_long1_traced_jit_save.pt saved\n",
      "model GRU/trained_models/i7/it_2/traced_models/model_GRU_long1_traced_simple_save.pt saved\n",
      "================ Diagnostic Run torch.onnx.export version 2.0.0 ================\n",
      "verbose: False, log level: Level.ERROR\n",
      "======================= 0 NONE 0 NOTE 0 WARNING 0 ERROR ========================\n",
      "\n",
      "model GRU/trained_models/i7/it_2/traced_models/model_GRU_long1_traced.onnx saved\n",
      "---------------------\n",
      "all model_1 saved\n",
      "-------------------------------------\n",
      "Epoch [34] has started\n"
     ]
    },
    {
     "name": "stderr",
     "output_type": "stream",
     "text": [
      "C:\\Users\\ROG\\miniconda3\\envs\\pytorch200_cuda118\\lib\\site-packages\\torch\\onnx\\symbolic_opset9.py:4476: UserWarning: Exporting a model to ONNX with a batch_size other than 1, with a variable length with GRU can cause an error when running the ONNX model with a different batch size. Make sure to save the model with a batch size of 1, or define the initial states (h0/c0) as inputs of the model. \n",
      "  warnings.warn(\n"
     ]
    },
    {
     "name": "stdout",
     "output_type": "stream",
     "text": [
      "Model: 1, Epoch [34/60], Loss: 0.0844\n",
      "Model: 1, Epoch [34/60], Test Loss: 0.1650\n",
      "New best model found! Test Loss improved from 0.1736 to 0.1650\n",
      "model GRU/trained_models/i7/it_2/state_models/model_GRU_long1.pt saved\n",
      "model GRU/trained_models/i7/it_2/traced_models/model_GRU_long1_traced_jit_save.pt saved\n",
      "model GRU/trained_models/i7/it_2/traced_models/model_GRU_long1_traced_simple_save.pt saved\n",
      "================ Diagnostic Run torch.onnx.export version 2.0.0 ================\n",
      "verbose: False, log level: Level.ERROR\n",
      "======================= 0 NONE 0 NOTE 0 WARNING 0 ERROR ========================\n",
      "\n",
      "model GRU/trained_models/i7/it_2/traced_models/model_GRU_long1_traced.onnx saved\n",
      "---------------------\n",
      "all model_1 saved\n",
      "-------------------------------------\n",
      "Epoch [35] has started\n"
     ]
    },
    {
     "name": "stderr",
     "output_type": "stream",
     "text": [
      "C:\\Users\\ROG\\miniconda3\\envs\\pytorch200_cuda118\\lib\\site-packages\\torch\\onnx\\symbolic_opset9.py:4476: UserWarning: Exporting a model to ONNX with a batch_size other than 1, with a variable length with GRU can cause an error when running the ONNX model with a different batch size. Make sure to save the model with a batch size of 1, or define the initial states (h0/c0) as inputs of the model. \n",
      "  warnings.warn(\n"
     ]
    },
    {
     "name": "stdout",
     "output_type": "stream",
     "text": [
      "Model: 1, Epoch [35/60], Loss: 0.0765\n",
      "Model: 1, Epoch [35/60], Test Loss: 0.1583\n",
      "New best model found! Test Loss improved from 0.1650 to 0.1583\n",
      "model GRU/trained_models/i7/it_2/state_models/model_GRU_long1.pt saved\n",
      "model GRU/trained_models/i7/it_2/traced_models/model_GRU_long1_traced_jit_save.pt saved\n",
      "model GRU/trained_models/i7/it_2/traced_models/model_GRU_long1_traced_simple_save.pt saved\n",
      "================ Diagnostic Run torch.onnx.export version 2.0.0 ================\n",
      "verbose: False, log level: Level.ERROR\n",
      "======================= 0 NONE 0 NOTE 0 WARNING 0 ERROR ========================\n",
      "\n",
      "model GRU/trained_models/i7/it_2/traced_models/model_GRU_long1_traced.onnx saved\n",
      "---------------------\n",
      "all model_1 saved\n",
      "-------------------------------------\n",
      "Epoch [36] has started\n"
     ]
    },
    {
     "name": "stderr",
     "output_type": "stream",
     "text": [
      "C:\\Users\\ROG\\miniconda3\\envs\\pytorch200_cuda118\\lib\\site-packages\\torch\\onnx\\symbolic_opset9.py:4476: UserWarning: Exporting a model to ONNX with a batch_size other than 1, with a variable length with GRU can cause an error when running the ONNX model with a different batch size. Make sure to save the model with a batch size of 1, or define the initial states (h0/c0) as inputs of the model. \n",
      "  warnings.warn(\n"
     ]
    },
    {
     "name": "stdout",
     "output_type": "stream",
     "text": [
      "Model: 1, Epoch [36/60], Loss: 0.0703\n",
      "Model: 1, Epoch [36/60], Test Loss: 0.1505\n",
      "New best model found! Test Loss improved from 0.1583 to 0.1505\n",
      "model GRU/trained_models/i7/it_2/state_models/model_GRU_long1.pt saved\n",
      "model GRU/trained_models/i7/it_2/traced_models/model_GRU_long1_traced_jit_save.pt saved\n",
      "model GRU/trained_models/i7/it_2/traced_models/model_GRU_long1_traced_simple_save.pt saved\n",
      "================ Diagnostic Run torch.onnx.export version 2.0.0 ================\n",
      "verbose: False, log level: Level.ERROR\n",
      "======================= 0 NONE 0 NOTE 0 WARNING 0 ERROR ========================\n",
      "\n",
      "model GRU/trained_models/i7/it_2/traced_models/model_GRU_long1_traced.onnx saved\n",
      "---------------------\n",
      "all model_1 saved\n",
      "-------------------------------------\n",
      "Epoch [37] has started\n"
     ]
    },
    {
     "name": "stderr",
     "output_type": "stream",
     "text": [
      "C:\\Users\\ROG\\miniconda3\\envs\\pytorch200_cuda118\\lib\\site-packages\\torch\\onnx\\symbolic_opset9.py:4476: UserWarning: Exporting a model to ONNX with a batch_size other than 1, with a variable length with GRU can cause an error when running the ONNX model with a different batch size. Make sure to save the model with a batch size of 1, or define the initial states (h0/c0) as inputs of the model. \n",
      "  warnings.warn(\n"
     ]
    },
    {
     "name": "stdout",
     "output_type": "stream",
     "text": [
      "Model: 1, Epoch [37/60], Loss: 0.0652\n",
      "Model: 1, Epoch [37/60], Test Loss: 0.1539\n",
      "Test loss has not improved; early stopping counter: 1\n",
      "-------------------------------------\n",
      "Epoch [38] has started\n",
      "Model: 1, Epoch [38/60], Loss: 0.0598\n",
      "Model: 1, Epoch [38/60], Test Loss: 0.1438\n",
      "New best model found! Test Loss improved from 0.1505 to 0.1438\n",
      "model GRU/trained_models/i7/it_2/state_models/model_GRU_long1.pt saved\n",
      "model GRU/trained_models/i7/it_2/traced_models/model_GRU_long1_traced_jit_save.pt saved\n",
      "model GRU/trained_models/i7/it_2/traced_models/model_GRU_long1_traced_simple_save.pt saved\n",
      "================ Diagnostic Run torch.onnx.export version 2.0.0 ================\n",
      "verbose: False, log level: Level.ERROR\n",
      "======================= 0 NONE 0 NOTE 0 WARNING 0 ERROR ========================\n",
      "\n",
      "model GRU/trained_models/i7/it_2/traced_models/model_GRU_long1_traced.onnx saved\n",
      "---------------------\n",
      "all model_1 saved\n",
      "-------------------------------------\n",
      "Epoch [39] has started\n"
     ]
    },
    {
     "name": "stderr",
     "output_type": "stream",
     "text": [
      "C:\\Users\\ROG\\miniconda3\\envs\\pytorch200_cuda118\\lib\\site-packages\\torch\\onnx\\symbolic_opset9.py:4476: UserWarning: Exporting a model to ONNX with a batch_size other than 1, with a variable length with GRU can cause an error when running the ONNX model with a different batch size. Make sure to save the model with a batch size of 1, or define the initial states (h0/c0) as inputs of the model. \n",
      "  warnings.warn(\n"
     ]
    },
    {
     "name": "stdout",
     "output_type": "stream",
     "text": [
      "Model: 1, Epoch [39/60], Loss: 0.0578\n",
      "Model: 1, Epoch [39/60], Test Loss: 0.1375\n",
      "New best model found! Test Loss improved from 0.1438 to 0.1375\n",
      "model GRU/trained_models/i7/it_2/state_models/model_GRU_long1.pt saved\n",
      "model GRU/trained_models/i7/it_2/traced_models/model_GRU_long1_traced_jit_save.pt saved\n",
      "model GRU/trained_models/i7/it_2/traced_models/model_GRU_long1_traced_simple_save.pt saved\n",
      "================ Diagnostic Run torch.onnx.export version 2.0.0 ================\n",
      "verbose: False, log level: Level.ERROR\n",
      "======================= 0 NONE 0 NOTE 0 WARNING 0 ERROR ========================\n",
      "\n",
      "model GRU/trained_models/i7/it_2/traced_models/model_GRU_long1_traced.onnx saved\n",
      "---------------------\n",
      "all model_1 saved\n",
      "-------------------------------------\n",
      "Epoch [40] has started\n"
     ]
    },
    {
     "name": "stderr",
     "output_type": "stream",
     "text": [
      "C:\\Users\\ROG\\miniconda3\\envs\\pytorch200_cuda118\\lib\\site-packages\\torch\\onnx\\symbolic_opset9.py:4476: UserWarning: Exporting a model to ONNX with a batch_size other than 1, with a variable length with GRU can cause an error when running the ONNX model with a different batch size. Make sure to save the model with a batch size of 1, or define the initial states (h0/c0) as inputs of the model. \n",
      "  warnings.warn(\n"
     ]
    },
    {
     "name": "stdout",
     "output_type": "stream",
     "text": [
      "Model: 1, Epoch [40/60], Loss: 0.0523\n",
      "Model: 1, Epoch [40/60], Test Loss: 0.1385\n",
      "Test loss has not improved; early stopping counter: 1\n",
      "-------------------------------------\n",
      "Epoch [41] has started\n",
      "Model: 1, Epoch [41/60], Loss: 0.0494\n",
      "Model: 1, Epoch [41/60], Test Loss: 0.1300\n",
      "New best model found! Test Loss improved from 0.1375 to 0.1300\n",
      "model GRU/trained_models/i7/it_2/state_models/model_GRU_long1.pt saved\n",
      "model GRU/trained_models/i7/it_2/traced_models/model_GRU_long1_traced_jit_save.pt saved\n",
      "model GRU/trained_models/i7/it_2/traced_models/model_GRU_long1_traced_simple_save.pt saved\n",
      "================ Diagnostic Run torch.onnx.export version 2.0.0 ================\n",
      "verbose: False, log level: Level.ERROR\n",
      "======================= 0 NONE 0 NOTE 0 WARNING 0 ERROR ========================\n",
      "\n",
      "model GRU/trained_models/i7/it_2/traced_models/model_GRU_long1_traced.onnx saved\n",
      "---------------------\n",
      "all model_1 saved\n",
      "-------------------------------------\n",
      "Epoch [42] has started\n"
     ]
    },
    {
     "name": "stderr",
     "output_type": "stream",
     "text": [
      "C:\\Users\\ROG\\miniconda3\\envs\\pytorch200_cuda118\\lib\\site-packages\\torch\\onnx\\symbolic_opset9.py:4476: UserWarning: Exporting a model to ONNX with a batch_size other than 1, with a variable length with GRU can cause an error when running the ONNX model with a different batch size. Make sure to save the model with a batch size of 1, or define the initial states (h0/c0) as inputs of the model. \n",
      "  warnings.warn(\n"
     ]
    },
    {
     "name": "stdout",
     "output_type": "stream",
     "text": [
      "Model: 1, Epoch [42/60], Loss: 0.0471\n",
      "Model: 1, Epoch [42/60], Test Loss: 0.1403\n",
      "Test loss has not improved; early stopping counter: 1\n",
      "-------------------------------------\n",
      "Epoch [43] has started\n",
      "Model: 1, Epoch [43/60], Loss: 0.0455\n",
      "Model: 1, Epoch [43/60], Test Loss: 0.1288\n",
      "New best model found! Test Loss improved from 0.1300 to 0.1288\n",
      "model GRU/trained_models/i7/it_2/state_models/model_GRU_long1.pt saved\n",
      "model GRU/trained_models/i7/it_2/traced_models/model_GRU_long1_traced_jit_save.pt saved\n",
      "model GRU/trained_models/i7/it_2/traced_models/model_GRU_long1_traced_simple_save.pt saved\n",
      "================ Diagnostic Run torch.onnx.export version 2.0.0 ================\n",
      "verbose: False, log level: Level.ERROR\n",
      "======================= 0 NONE 0 NOTE 0 WARNING 0 ERROR ========================\n",
      "\n",
      "model GRU/trained_models/i7/it_2/traced_models/model_GRU_long1_traced.onnx saved\n",
      "---------------------\n",
      "all model_1 saved\n",
      "-------------------------------------\n",
      "Epoch [44] has started\n"
     ]
    },
    {
     "name": "stderr",
     "output_type": "stream",
     "text": [
      "C:\\Users\\ROG\\miniconda3\\envs\\pytorch200_cuda118\\lib\\site-packages\\torch\\onnx\\symbolic_opset9.py:4476: UserWarning: Exporting a model to ONNX with a batch_size other than 1, with a variable length with GRU can cause an error when running the ONNX model with a different batch size. Make sure to save the model with a batch size of 1, or define the initial states (h0/c0) as inputs of the model. \n",
      "  warnings.warn(\n"
     ]
    },
    {
     "name": "stdout",
     "output_type": "stream",
     "text": [
      "Model: 1, Epoch [44/60], Loss: 0.0411\n",
      "Model: 1, Epoch [44/60], Test Loss: 0.1230\n",
      "New best model found! Test Loss improved from 0.1288 to 0.1230\n",
      "model GRU/trained_models/i7/it_2/state_models/model_GRU_long1.pt saved\n",
      "model GRU/trained_models/i7/it_2/traced_models/model_GRU_long1_traced_jit_save.pt saved\n",
      "model GRU/trained_models/i7/it_2/traced_models/model_GRU_long1_traced_simple_save.pt saved\n",
      "================ Diagnostic Run torch.onnx.export version 2.0.0 ================\n",
      "verbose: False, log level: Level.ERROR\n",
      "======================= 0 NONE 0 NOTE 0 WARNING 0 ERROR ========================\n",
      "\n",
      "model GRU/trained_models/i7/it_2/traced_models/model_GRU_long1_traced.onnx saved\n",
      "---------------------\n",
      "all model_1 saved\n",
      "-------------------------------------\n",
      "Epoch [45] has started\n"
     ]
    },
    {
     "name": "stderr",
     "output_type": "stream",
     "text": [
      "C:\\Users\\ROG\\miniconda3\\envs\\pytorch200_cuda118\\lib\\site-packages\\torch\\onnx\\symbolic_opset9.py:4476: UserWarning: Exporting a model to ONNX with a batch_size other than 1, with a variable length with GRU can cause an error when running the ONNX model with a different batch size. Make sure to save the model with a batch size of 1, or define the initial states (h0/c0) as inputs of the model. \n",
      "  warnings.warn(\n"
     ]
    },
    {
     "name": "stdout",
     "output_type": "stream",
     "text": [
      "Model: 1, Epoch [45/60], Loss: 0.0394\n",
      "Model: 1, Epoch [45/60], Test Loss: 0.1254\n",
      "Test loss has not improved; early stopping counter: 1\n",
      "-------------------------------------\n",
      "Epoch [46] has started\n",
      "Model: 1, Epoch [46/60], Loss: 0.0374\n",
      "Model: 1, Epoch [46/60], Test Loss: 0.1368\n",
      "Test loss has not improved; early stopping counter: 2\n",
      "-------------------------------------\n",
      "Epoch [47] has started\n",
      "Model: 1, Epoch [47/60], Loss: 0.0366\n",
      "Model: 1, Epoch [47/60], Test Loss: 0.1301\n",
      "Test loss has not improved; early stopping counter: 3\n",
      "-------------------------------------\n",
      "Epoch [48] has started\n",
      "Model: 1, Epoch [48/60], Loss: 0.0351\n",
      "Model: 1, Epoch [48/60], Test Loss: 0.1240\n",
      "Test loss has not improved; early stopping counter: 4\n",
      "-------------------------------------\n",
      "Epoch [49] has started\n",
      "Model: 1, Epoch [49/60], Loss: 0.0335\n",
      "Model: 1, Epoch [49/60], Test Loss: 0.1190\n",
      "New best model found! Test Loss improved from 0.1230 to 0.1190\n",
      "model GRU/trained_models/i7/it_2/state_models/model_GRU_long1.pt saved\n",
      "model GRU/trained_models/i7/it_2/traced_models/model_GRU_long1_traced_jit_save.pt saved\n",
      "model GRU/trained_models/i7/it_2/traced_models/model_GRU_long1_traced_simple_save.pt saved\n",
      "================ Diagnostic Run torch.onnx.export version 2.0.0 ================\n",
      "verbose: False, log level: Level.ERROR\n",
      "======================= 0 NONE 0 NOTE 0 WARNING 0 ERROR ========================\n",
      "\n",
      "model GRU/trained_models/i7/it_2/traced_models/model_GRU_long1_traced.onnx saved\n",
      "---------------------\n",
      "all model_1 saved\n",
      "-------------------------------------\n",
      "Epoch [50] has started\n"
     ]
    },
    {
     "name": "stderr",
     "output_type": "stream",
     "text": [
      "C:\\Users\\ROG\\miniconda3\\envs\\pytorch200_cuda118\\lib\\site-packages\\torch\\onnx\\symbolic_opset9.py:4476: UserWarning: Exporting a model to ONNX with a batch_size other than 1, with a variable length with GRU can cause an error when running the ONNX model with a different batch size. Make sure to save the model with a batch size of 1, or define the initial states (h0/c0) as inputs of the model. \n",
      "  warnings.warn(\n"
     ]
    },
    {
     "name": "stdout",
     "output_type": "stream",
     "text": [
      "Model: 1, Epoch [50/60], Loss: 0.0316\n",
      "Model: 1, Epoch [50/60], Test Loss: 0.1087\n",
      "New best model found! Test Loss improved from 0.1190 to 0.1087\n",
      "model GRU/trained_models/i7/it_2/state_models/model_GRU_long1.pt saved\n",
      "model GRU/trained_models/i7/it_2/traced_models/model_GRU_long1_traced_jit_save.pt saved\n",
      "model GRU/trained_models/i7/it_2/traced_models/model_GRU_long1_traced_simple_save.pt saved\n",
      "================ Diagnostic Run torch.onnx.export version 2.0.0 ================\n",
      "verbose: False, log level: Level.ERROR\n",
      "======================= 0 NONE 0 NOTE 0 WARNING 0 ERROR ========================\n",
      "\n",
      "model GRU/trained_models/i7/it_2/traced_models/model_GRU_long1_traced.onnx saved\n",
      "---------------------\n",
      "all model_1 saved\n",
      "-------------------------------------\n",
      "Epoch [51] has started\n"
     ]
    },
    {
     "name": "stderr",
     "output_type": "stream",
     "text": [
      "C:\\Users\\ROG\\miniconda3\\envs\\pytorch200_cuda118\\lib\\site-packages\\torch\\onnx\\symbolic_opset9.py:4476: UserWarning: Exporting a model to ONNX with a batch_size other than 1, with a variable length with GRU can cause an error when running the ONNX model with a different batch size. Make sure to save the model with a batch size of 1, or define the initial states (h0/c0) as inputs of the model. \n",
      "  warnings.warn(\n"
     ]
    },
    {
     "name": "stdout",
     "output_type": "stream",
     "text": [
      "Model: 1, Epoch [51/60], Loss: 0.0313\n",
      "Model: 1, Epoch [51/60], Test Loss: 0.1298\n",
      "Test loss has not improved; early stopping counter: 1\n",
      "-------------------------------------\n",
      "Epoch [52] has started\n",
      "Model: 1, Epoch [52/60], Loss: 0.0287\n",
      "Model: 1, Epoch [52/60], Test Loss: 0.1239\n",
      "Test loss has not improved; early stopping counter: 2\n",
      "-------------------------------------\n",
      "Epoch [53] has started\n",
      "Model: 1, Epoch [53/60], Loss: 0.0273\n",
      "Model: 1, Epoch [53/60], Test Loss: 0.1378\n",
      "Test loss has not improved; early stopping counter: 3\n",
      "-------------------------------------\n",
      "Epoch [54] has started\n",
      "Model: 1, Epoch [54/60], Loss: 0.0286\n",
      "Model: 1, Epoch [54/60], Test Loss: 0.1209\n",
      "Test loss has not improved; early stopping counter: 4\n",
      "-------------------------------------\n",
      "Epoch [55] has started\n",
      "Model: 1, Epoch [55/60], Loss: 0.0251\n",
      "Model: 1, Epoch [55/60], Test Loss: 0.1379\n",
      "Test loss has not improved; early stopping counter: 5\n",
      "Early stopping triggered -> starting next model!\n",
      "------------------------------------------------\n",
      "-------------------------------------\n",
      "Training has started for GRU model 2\n",
      "-------------------------------------\n",
      "Epoch [1] has started\n",
      "Model: 2, Epoch [1/60], Loss: 288.5038\n",
      "Model: 2, Epoch [1/60], Test Loss: 25.9732\n",
      "New best model found! Test Loss improved from inf to 25.9732\n",
      "model GRU/trained_models/i7/it_2/state_models/model_GRU_long2.pt saved\n",
      "model GRU/trained_models/i7/it_2/traced_models/model_GRU_long2_traced_jit_save.pt saved\n",
      "model GRU/trained_models/i7/it_2/traced_models/model_GRU_long2_traced_simple_save.pt saved\n",
      "================ Diagnostic Run torch.onnx.export version 2.0.0 ================\n",
      "verbose: False, log level: Level.ERROR\n",
      "======================= 0 NONE 0 NOTE 0 WARNING 0 ERROR ========================\n",
      "\n",
      "model GRU/trained_models/i7/it_2/traced_models/model_GRU_long2_traced.onnx saved\n",
      "---------------------\n",
      "all model_2 saved\n",
      "-------------------------------------\n",
      "Epoch [2] has started\n"
     ]
    },
    {
     "name": "stderr",
     "output_type": "stream",
     "text": [
      "C:\\Users\\ROG\\miniconda3\\envs\\pytorch200_cuda118\\lib\\site-packages\\torch\\onnx\\symbolic_opset9.py:4476: UserWarning: Exporting a model to ONNX with a batch_size other than 1, with a variable length with GRU can cause an error when running the ONNX model with a different batch size. Make sure to save the model with a batch size of 1, or define the initial states (h0/c0) as inputs of the model. \n",
      "  warnings.warn(\n"
     ]
    },
    {
     "name": "stdout",
     "output_type": "stream",
     "text": [
      "Model: 2, Epoch [2/60], Loss: 13.0103\n",
      "Model: 2, Epoch [2/60], Test Loss: 9.1633\n",
      "New best model found! Test Loss improved from 25.9732 to 9.1633\n",
      "model GRU/trained_models/i7/it_2/state_models/model_GRU_long2.pt saved\n",
      "model GRU/trained_models/i7/it_2/traced_models/model_GRU_long2_traced_jit_save.pt saved\n",
      "model GRU/trained_models/i7/it_2/traced_models/model_GRU_long2_traced_simple_save.pt saved\n",
      "================ Diagnostic Run torch.onnx.export version 2.0.0 ================\n",
      "verbose: False, log level: Level.ERROR\n",
      "======================= 0 NONE 0 NOTE 0 WARNING 0 ERROR ========================\n",
      "\n",
      "model GRU/trained_models/i7/it_2/traced_models/model_GRU_long2_traced.onnx saved\n",
      "---------------------\n",
      "all model_2 saved\n",
      "-------------------------------------\n",
      "Epoch [3] has started\n"
     ]
    },
    {
     "name": "stderr",
     "output_type": "stream",
     "text": [
      "C:\\Users\\ROG\\miniconda3\\envs\\pytorch200_cuda118\\lib\\site-packages\\torch\\onnx\\symbolic_opset9.py:4476: UserWarning: Exporting a model to ONNX with a batch_size other than 1, with a variable length with GRU can cause an error when running the ONNX model with a different batch size. Make sure to save the model with a batch size of 1, or define the initial states (h0/c0) as inputs of the model. \n",
      "  warnings.warn(\n"
     ]
    },
    {
     "name": "stdout",
     "output_type": "stream",
     "text": [
      "Model: 2, Epoch [3/60], Loss: 4.8495\n",
      "Model: 2, Epoch [3/60], Test Loss: 3.9232\n",
      "New best model found! Test Loss improved from 9.1633 to 3.9232\n",
      "model GRU/trained_models/i7/it_2/state_models/model_GRU_long2.pt saved\n",
      "model GRU/trained_models/i7/it_2/traced_models/model_GRU_long2_traced_jit_save.pt saved\n",
      "model GRU/trained_models/i7/it_2/traced_models/model_GRU_long2_traced_simple_save.pt saved\n",
      "================ Diagnostic Run torch.onnx.export version 2.0.0 ================\n",
      "verbose: False, log level: Level.ERROR\n",
      "======================= 0 NONE 0 NOTE 0 WARNING 0 ERROR ========================\n",
      "\n",
      "model GRU/trained_models/i7/it_2/traced_models/model_GRU_long2_traced.onnx saved\n",
      "---------------------\n",
      "all model_2 saved\n",
      "-------------------------------------\n",
      "Epoch [4] has started\n"
     ]
    },
    {
     "name": "stderr",
     "output_type": "stream",
     "text": [
      "C:\\Users\\ROG\\miniconda3\\envs\\pytorch200_cuda118\\lib\\site-packages\\torch\\onnx\\symbolic_opset9.py:4476: UserWarning: Exporting a model to ONNX with a batch_size other than 1, with a variable length with GRU can cause an error when running the ONNX model with a different batch size. Make sure to save the model with a batch size of 1, or define the initial states (h0/c0) as inputs of the model. \n",
      "  warnings.warn(\n"
     ]
    },
    {
     "name": "stdout",
     "output_type": "stream",
     "text": [
      "Model: 2, Epoch [4/60], Loss: 2.6652\n",
      "Model: 2, Epoch [4/60], Test Loss: 2.2988\n",
      "New best model found! Test Loss improved from 3.9232 to 2.2988\n",
      "model GRU/trained_models/i7/it_2/state_models/model_GRU_long2.pt saved\n",
      "model GRU/trained_models/i7/it_2/traced_models/model_GRU_long2_traced_jit_save.pt saved\n",
      "model GRU/trained_models/i7/it_2/traced_models/model_GRU_long2_traced_simple_save.pt saved\n",
      "================ Diagnostic Run torch.onnx.export version 2.0.0 ================\n",
      "verbose: False, log level: Level.ERROR\n",
      "======================= 0 NONE 0 NOTE 0 WARNING 0 ERROR ========================\n",
      "\n",
      "model GRU/trained_models/i7/it_2/traced_models/model_GRU_long2_traced.onnx saved\n",
      "---------------------\n",
      "all model_2 saved\n",
      "-------------------------------------\n",
      "Epoch [5] has started\n"
     ]
    },
    {
     "name": "stderr",
     "output_type": "stream",
     "text": [
      "C:\\Users\\ROG\\miniconda3\\envs\\pytorch200_cuda118\\lib\\site-packages\\torch\\onnx\\symbolic_opset9.py:4476: UserWarning: Exporting a model to ONNX with a batch_size other than 1, with a variable length with GRU can cause an error when running the ONNX model with a different batch size. Make sure to save the model with a batch size of 1, or define the initial states (h0/c0) as inputs of the model. \n",
      "  warnings.warn(\n"
     ]
    },
    {
     "name": "stdout",
     "output_type": "stream",
     "text": [
      "Model: 2, Epoch [5/60], Loss: 1.7355\n",
      "Model: 2, Epoch [5/60], Test Loss: 1.6528\n",
      "New best model found! Test Loss improved from 2.2988 to 1.6528\n",
      "model GRU/trained_models/i7/it_2/state_models/model_GRU_long2.pt saved\n",
      "model GRU/trained_models/i7/it_2/traced_models/model_GRU_long2_traced_jit_save.pt saved\n",
      "model GRU/trained_models/i7/it_2/traced_models/model_GRU_long2_traced_simple_save.pt saved\n",
      "================ Diagnostic Run torch.onnx.export version 2.0.0 ================\n",
      "verbose: False, log level: Level.ERROR\n",
      "======================= 0 NONE 0 NOTE 0 WARNING 0 ERROR ========================\n",
      "\n",
      "model GRU/trained_models/i7/it_2/traced_models/model_GRU_long2_traced.onnx saved\n",
      "---------------------\n",
      "all model_2 saved\n",
      "-------------------------------------\n",
      "Epoch [6] has started\n"
     ]
    },
    {
     "name": "stderr",
     "output_type": "stream",
     "text": [
      "C:\\Users\\ROG\\miniconda3\\envs\\pytorch200_cuda118\\lib\\site-packages\\torch\\onnx\\symbolic_opset9.py:4476: UserWarning: Exporting a model to ONNX with a batch_size other than 1, with a variable length with GRU can cause an error when running the ONNX model with a different batch size. Make sure to save the model with a batch size of 1, or define the initial states (h0/c0) as inputs of the model. \n",
      "  warnings.warn(\n"
     ]
    },
    {
     "name": "stdout",
     "output_type": "stream",
     "text": [
      "Model: 2, Epoch [6/60], Loss: 1.2946\n",
      "Model: 2, Epoch [6/60], Test Loss: 1.3302\n",
      "New best model found! Test Loss improved from 1.6528 to 1.3302\n",
      "model GRU/trained_models/i7/it_2/state_models/model_GRU_long2.pt saved\n",
      "model GRU/trained_models/i7/it_2/traced_models/model_GRU_long2_traced_jit_save.pt saved\n",
      "model GRU/trained_models/i7/it_2/traced_models/model_GRU_long2_traced_simple_save.pt saved\n",
      "================ Diagnostic Run torch.onnx.export version 2.0.0 ================\n",
      "verbose: False, log level: Level.ERROR\n",
      "======================= 0 NONE 0 NOTE 0 WARNING 0 ERROR ========================\n",
      "\n",
      "model GRU/trained_models/i7/it_2/traced_models/model_GRU_long2_traced.onnx saved\n",
      "---------------------\n",
      "all model_2 saved\n",
      "-------------------------------------\n",
      "Epoch [7] has started\n"
     ]
    },
    {
     "name": "stderr",
     "output_type": "stream",
     "text": [
      "C:\\Users\\ROG\\miniconda3\\envs\\pytorch200_cuda118\\lib\\site-packages\\torch\\onnx\\symbolic_opset9.py:4476: UserWarning: Exporting a model to ONNX with a batch_size other than 1, with a variable length with GRU can cause an error when running the ONNX model with a different batch size. Make sure to save the model with a batch size of 1, or define the initial states (h0/c0) as inputs of the model. \n",
      "  warnings.warn(\n"
     ]
    },
    {
     "name": "stdout",
     "output_type": "stream",
     "text": [
      "Model: 2, Epoch [7/60], Loss: 1.0595\n",
      "Model: 2, Epoch [7/60], Test Loss: 1.1418\n",
      "New best model found! Test Loss improved from 1.3302 to 1.1418\n",
      "model GRU/trained_models/i7/it_2/state_models/model_GRU_long2.pt saved\n",
      "model GRU/trained_models/i7/it_2/traced_models/model_GRU_long2_traced_jit_save.pt saved\n",
      "model GRU/trained_models/i7/it_2/traced_models/model_GRU_long2_traced_simple_save.pt saved\n",
      "================ Diagnostic Run torch.onnx.export version 2.0.0 ================\n",
      "verbose: False, log level: Level.ERROR\n",
      "======================= 0 NONE 0 NOTE 0 WARNING 0 ERROR ========================\n",
      "\n",
      "model GRU/trained_models/i7/it_2/traced_models/model_GRU_long2_traced.onnx saved\n",
      "---------------------\n",
      "all model_2 saved\n",
      "-------------------------------------\n",
      "Epoch [8] has started\n"
     ]
    },
    {
     "name": "stderr",
     "output_type": "stream",
     "text": [
      "C:\\Users\\ROG\\miniconda3\\envs\\pytorch200_cuda118\\lib\\site-packages\\torch\\onnx\\symbolic_opset9.py:4476: UserWarning: Exporting a model to ONNX with a batch_size other than 1, with a variable length with GRU can cause an error when running the ONNX model with a different batch size. Make sure to save the model with a batch size of 1, or define the initial states (h0/c0) as inputs of the model. \n",
      "  warnings.warn(\n"
     ]
    },
    {
     "name": "stdout",
     "output_type": "stream",
     "text": [
      "Model: 2, Epoch [8/60], Loss: 0.8936\n",
      "Model: 2, Epoch [8/60], Test Loss: 1.0151\n",
      "New best model found! Test Loss improved from 1.1418 to 1.0151\n",
      "model GRU/trained_models/i7/it_2/state_models/model_GRU_long2.pt saved\n",
      "model GRU/trained_models/i7/it_2/traced_models/model_GRU_long2_traced_jit_save.pt saved\n",
      "model GRU/trained_models/i7/it_2/traced_models/model_GRU_long2_traced_simple_save.pt saved\n",
      "================ Diagnostic Run torch.onnx.export version 2.0.0 ================\n",
      "verbose: False, log level: Level.ERROR\n",
      "======================= 0 NONE 0 NOTE 0 WARNING 0 ERROR ========================\n",
      "\n",
      "model GRU/trained_models/i7/it_2/traced_models/model_GRU_long2_traced.onnx saved\n",
      "---------------------\n",
      "all model_2 saved\n",
      "-------------------------------------\n",
      "Epoch [9] has started\n"
     ]
    },
    {
     "name": "stderr",
     "output_type": "stream",
     "text": [
      "C:\\Users\\ROG\\miniconda3\\envs\\pytorch200_cuda118\\lib\\site-packages\\torch\\onnx\\symbolic_opset9.py:4476: UserWarning: Exporting a model to ONNX with a batch_size other than 1, with a variable length with GRU can cause an error when running the ONNX model with a different batch size. Make sure to save the model with a batch size of 1, or define the initial states (h0/c0) as inputs of the model. \n",
      "  warnings.warn(\n"
     ]
    },
    {
     "name": "stdout",
     "output_type": "stream",
     "text": [
      "Model: 2, Epoch [9/60], Loss: 0.7624\n",
      "Model: 2, Epoch [9/60], Test Loss: 0.9088\n",
      "New best model found! Test Loss improved from 1.0151 to 0.9088\n",
      "model GRU/trained_models/i7/it_2/state_models/model_GRU_long2.pt saved\n",
      "model GRU/trained_models/i7/it_2/traced_models/model_GRU_long2_traced_jit_save.pt saved\n",
      "model GRU/trained_models/i7/it_2/traced_models/model_GRU_long2_traced_simple_save.pt saved\n",
      "================ Diagnostic Run torch.onnx.export version 2.0.0 ================\n",
      "verbose: False, log level: Level.ERROR\n",
      "======================= 0 NONE 0 NOTE 0 WARNING 0 ERROR ========================\n",
      "\n",
      "model GRU/trained_models/i7/it_2/traced_models/model_GRU_long2_traced.onnx saved\n",
      "---------------------\n",
      "all model_2 saved\n",
      "-------------------------------------\n",
      "Epoch [10] has started\n"
     ]
    },
    {
     "name": "stderr",
     "output_type": "stream",
     "text": [
      "C:\\Users\\ROG\\miniconda3\\envs\\pytorch200_cuda118\\lib\\site-packages\\torch\\onnx\\symbolic_opset9.py:4476: UserWarning: Exporting a model to ONNX with a batch_size other than 1, with a variable length with GRU can cause an error when running the ONNX model with a different batch size. Make sure to save the model with a batch size of 1, or define the initial states (h0/c0) as inputs of the model. \n",
      "  warnings.warn(\n"
     ]
    },
    {
     "name": "stdout",
     "output_type": "stream",
     "text": [
      "Model: 2, Epoch [10/60], Loss: 0.6544\n",
      "Model: 2, Epoch [10/60], Test Loss: 0.8427\n",
      "New best model found! Test Loss improved from 0.9088 to 0.8427\n",
      "model GRU/trained_models/i7/it_2/state_models/model_GRU_long2.pt saved\n",
      "model GRU/trained_models/i7/it_2/traced_models/model_GRU_long2_traced_jit_save.pt saved\n",
      "model GRU/trained_models/i7/it_2/traced_models/model_GRU_long2_traced_simple_save.pt saved\n",
      "================ Diagnostic Run torch.onnx.export version 2.0.0 ================\n",
      "verbose: False, log level: Level.ERROR\n",
      "======================= 0 NONE 0 NOTE 0 WARNING 0 ERROR ========================\n",
      "\n",
      "model GRU/trained_models/i7/it_2/traced_models/model_GRU_long2_traced.onnx saved\n",
      "---------------------\n",
      "all model_2 saved\n",
      "-------------------------------------\n",
      "Epoch [11] has started\n"
     ]
    },
    {
     "name": "stderr",
     "output_type": "stream",
     "text": [
      "C:\\Users\\ROG\\miniconda3\\envs\\pytorch200_cuda118\\lib\\site-packages\\torch\\onnx\\symbolic_opset9.py:4476: UserWarning: Exporting a model to ONNX with a batch_size other than 1, with a variable length with GRU can cause an error when running the ONNX model with a different batch size. Make sure to save the model with a batch size of 1, or define the initial states (h0/c0) as inputs of the model. \n",
      "  warnings.warn(\n"
     ]
    },
    {
     "name": "stdout",
     "output_type": "stream",
     "text": [
      "Model: 2, Epoch [11/60], Loss: 0.5725\n",
      "Model: 2, Epoch [11/60], Test Loss: 0.7744\n",
      "New best model found! Test Loss improved from 0.8427 to 0.7744\n",
      "model GRU/trained_models/i7/it_2/state_models/model_GRU_long2.pt saved\n",
      "model GRU/trained_models/i7/it_2/traced_models/model_GRU_long2_traced_jit_save.pt saved\n",
      "model GRU/trained_models/i7/it_2/traced_models/model_GRU_long2_traced_simple_save.pt saved\n",
      "================ Diagnostic Run torch.onnx.export version 2.0.0 ================\n",
      "verbose: False, log level: Level.ERROR\n",
      "======================= 0 NONE 0 NOTE 0 WARNING 0 ERROR ========================\n",
      "\n",
      "model GRU/trained_models/i7/it_2/traced_models/model_GRU_long2_traced.onnx saved\n",
      "---------------------\n",
      "all model_2 saved\n",
      "-------------------------------------\n",
      "Epoch [12] has started\n"
     ]
    },
    {
     "name": "stderr",
     "output_type": "stream",
     "text": [
      "C:\\Users\\ROG\\miniconda3\\envs\\pytorch200_cuda118\\lib\\site-packages\\torch\\onnx\\symbolic_opset9.py:4476: UserWarning: Exporting a model to ONNX with a batch_size other than 1, with a variable length with GRU can cause an error when running the ONNX model with a different batch size. Make sure to save the model with a batch size of 1, or define the initial states (h0/c0) as inputs of the model. \n",
      "  warnings.warn(\n"
     ]
    },
    {
     "name": "stdout",
     "output_type": "stream",
     "text": [
      "Model: 2, Epoch [12/60], Loss: 0.5060\n",
      "Model: 2, Epoch [12/60], Test Loss: 0.7047\n",
      "New best model found! Test Loss improved from 0.7744 to 0.7047\n",
      "model GRU/trained_models/i7/it_2/state_models/model_GRU_long2.pt saved\n",
      "model GRU/trained_models/i7/it_2/traced_models/model_GRU_long2_traced_jit_save.pt saved\n",
      "model GRU/trained_models/i7/it_2/traced_models/model_GRU_long2_traced_simple_save.pt saved\n",
      "================ Diagnostic Run torch.onnx.export version 2.0.0 ================\n",
      "verbose: False, log level: Level.ERROR\n",
      "======================= 0 NONE 0 NOTE 0 WARNING 0 ERROR ========================\n",
      "\n",
      "model GRU/trained_models/i7/it_2/traced_models/model_GRU_long2_traced.onnx saved\n",
      "---------------------\n",
      "all model_2 saved\n",
      "-------------------------------------\n",
      "Epoch [13] has started\n"
     ]
    },
    {
     "name": "stderr",
     "output_type": "stream",
     "text": [
      "C:\\Users\\ROG\\miniconda3\\envs\\pytorch200_cuda118\\lib\\site-packages\\torch\\onnx\\symbolic_opset9.py:4476: UserWarning: Exporting a model to ONNX with a batch_size other than 1, with a variable length with GRU can cause an error when running the ONNX model with a different batch size. Make sure to save the model with a batch size of 1, or define the initial states (h0/c0) as inputs of the model. \n",
      "  warnings.warn(\n"
     ]
    },
    {
     "name": "stdout",
     "output_type": "stream",
     "text": [
      "Model: 2, Epoch [13/60], Loss: 0.4436\n",
      "Model: 2, Epoch [13/60], Test Loss: 0.6124\n",
      "New best model found! Test Loss improved from 0.7047 to 0.6124\n",
      "model GRU/trained_models/i7/it_2/state_models/model_GRU_long2.pt saved\n",
      "model GRU/trained_models/i7/it_2/traced_models/model_GRU_long2_traced_jit_save.pt saved\n",
      "model GRU/trained_models/i7/it_2/traced_models/model_GRU_long2_traced_simple_save.pt saved\n",
      "================ Diagnostic Run torch.onnx.export version 2.0.0 ================\n",
      "verbose: False, log level: Level.ERROR\n",
      "======================= 0 NONE 0 NOTE 0 WARNING 0 ERROR ========================\n",
      "\n",
      "model GRU/trained_models/i7/it_2/traced_models/model_GRU_long2_traced.onnx saved\n",
      "---------------------\n",
      "all model_2 saved\n",
      "-------------------------------------\n",
      "Epoch [14] has started\n"
     ]
    },
    {
     "name": "stderr",
     "output_type": "stream",
     "text": [
      "C:\\Users\\ROG\\miniconda3\\envs\\pytorch200_cuda118\\lib\\site-packages\\torch\\onnx\\symbolic_opset9.py:4476: UserWarning: Exporting a model to ONNX with a batch_size other than 1, with a variable length with GRU can cause an error when running the ONNX model with a different batch size. Make sure to save the model with a batch size of 1, or define the initial states (h0/c0) as inputs of the model. \n",
      "  warnings.warn(\n"
     ]
    },
    {
     "name": "stdout",
     "output_type": "stream",
     "text": [
      "Model: 2, Epoch [14/60], Loss: 0.3886\n",
      "Model: 2, Epoch [14/60], Test Loss: 0.5618\n",
      "New best model found! Test Loss improved from 0.6124 to 0.5618\n",
      "model GRU/trained_models/i7/it_2/state_models/model_GRU_long2.pt saved\n",
      "model GRU/trained_models/i7/it_2/traced_models/model_GRU_long2_traced_jit_save.pt saved\n",
      "model GRU/trained_models/i7/it_2/traced_models/model_GRU_long2_traced_simple_save.pt saved\n",
      "================ Diagnostic Run torch.onnx.export version 2.0.0 ================\n",
      "verbose: False, log level: Level.ERROR\n",
      "======================= 0 NONE 0 NOTE 0 WARNING 0 ERROR ========================\n",
      "\n",
      "model GRU/trained_models/i7/it_2/traced_models/model_GRU_long2_traced.onnx saved\n",
      "---------------------\n",
      "all model_2 saved\n",
      "-------------------------------------\n",
      "Epoch [15] has started\n"
     ]
    },
    {
     "name": "stderr",
     "output_type": "stream",
     "text": [
      "C:\\Users\\ROG\\miniconda3\\envs\\pytorch200_cuda118\\lib\\site-packages\\torch\\onnx\\symbolic_opset9.py:4476: UserWarning: Exporting a model to ONNX with a batch_size other than 1, with a variable length with GRU can cause an error when running the ONNX model with a different batch size. Make sure to save the model with a batch size of 1, or define the initial states (h0/c0) as inputs of the model. \n",
      "  warnings.warn(\n"
     ]
    },
    {
     "name": "stdout",
     "output_type": "stream",
     "text": [
      "Model: 2, Epoch [15/60], Loss: 0.3502\n",
      "Model: 2, Epoch [15/60], Test Loss: 0.5135\n",
      "New best model found! Test Loss improved from 0.5618 to 0.5135\n",
      "model GRU/trained_models/i7/it_2/state_models/model_GRU_long2.pt saved\n",
      "model GRU/trained_models/i7/it_2/traced_models/model_GRU_long2_traced_jit_save.pt saved\n",
      "model GRU/trained_models/i7/it_2/traced_models/model_GRU_long2_traced_simple_save.pt saved\n",
      "================ Diagnostic Run torch.onnx.export version 2.0.0 ================\n",
      "verbose: False, log level: Level.ERROR\n",
      "======================= 0 NONE 0 NOTE 0 WARNING 0 ERROR ========================\n",
      "\n",
      "model GRU/trained_models/i7/it_2/traced_models/model_GRU_long2_traced.onnx saved\n",
      "---------------------\n",
      "all model_2 saved\n",
      "-------------------------------------\n",
      "Epoch [16] has started\n"
     ]
    },
    {
     "name": "stderr",
     "output_type": "stream",
     "text": [
      "C:\\Users\\ROG\\miniconda3\\envs\\pytorch200_cuda118\\lib\\site-packages\\torch\\onnx\\symbolic_opset9.py:4476: UserWarning: Exporting a model to ONNX with a batch_size other than 1, with a variable length with GRU can cause an error when running the ONNX model with a different batch size. Make sure to save the model with a batch size of 1, or define the initial states (h0/c0) as inputs of the model. \n",
      "  warnings.warn(\n"
     ]
    },
    {
     "name": "stdout",
     "output_type": "stream",
     "text": [
      "Model: 2, Epoch [16/60], Loss: 0.3174\n",
      "Model: 2, Epoch [16/60], Test Loss: 0.4703\n",
      "New best model found! Test Loss improved from 0.5135 to 0.4703\n",
      "model GRU/trained_models/i7/it_2/state_models/model_GRU_long2.pt saved\n",
      "model GRU/trained_models/i7/it_2/traced_models/model_GRU_long2_traced_jit_save.pt saved\n",
      "model GRU/trained_models/i7/it_2/traced_models/model_GRU_long2_traced_simple_save.pt saved\n",
      "================ Diagnostic Run torch.onnx.export version 2.0.0 ================\n",
      "verbose: False, log level: Level.ERROR\n",
      "======================= 0 NONE 0 NOTE 0 WARNING 0 ERROR ========================\n",
      "\n",
      "model GRU/trained_models/i7/it_2/traced_models/model_GRU_long2_traced.onnx saved\n",
      "---------------------\n",
      "all model_2 saved\n",
      "-------------------------------------\n",
      "Epoch [17] has started\n"
     ]
    },
    {
     "name": "stderr",
     "output_type": "stream",
     "text": [
      "C:\\Users\\ROG\\miniconda3\\envs\\pytorch200_cuda118\\lib\\site-packages\\torch\\onnx\\symbolic_opset9.py:4476: UserWarning: Exporting a model to ONNX with a batch_size other than 1, with a variable length with GRU can cause an error when running the ONNX model with a different batch size. Make sure to save the model with a batch size of 1, or define the initial states (h0/c0) as inputs of the model. \n",
      "  warnings.warn(\n"
     ]
    },
    {
     "name": "stdout",
     "output_type": "stream",
     "text": [
      "Model: 2, Epoch [17/60], Loss: 0.2870\n",
      "Model: 2, Epoch [17/60], Test Loss: 0.4410\n",
      "New best model found! Test Loss improved from 0.4703 to 0.4410\n",
      "model GRU/trained_models/i7/it_2/state_models/model_GRU_long2.pt saved\n",
      "model GRU/trained_models/i7/it_2/traced_models/model_GRU_long2_traced_jit_save.pt saved\n",
      "model GRU/trained_models/i7/it_2/traced_models/model_GRU_long2_traced_simple_save.pt saved\n",
      "================ Diagnostic Run torch.onnx.export version 2.0.0 ================\n",
      "verbose: False, log level: Level.ERROR\n",
      "======================= 0 NONE 0 NOTE 0 WARNING 0 ERROR ========================\n",
      "\n",
      "model GRU/trained_models/i7/it_2/traced_models/model_GRU_long2_traced.onnx saved\n",
      "---------------------\n",
      "all model_2 saved\n",
      "-------------------------------------\n",
      "Epoch [18] has started\n"
     ]
    },
    {
     "name": "stderr",
     "output_type": "stream",
     "text": [
      "C:\\Users\\ROG\\miniconda3\\envs\\pytorch200_cuda118\\lib\\site-packages\\torch\\onnx\\symbolic_opset9.py:4476: UserWarning: Exporting a model to ONNX with a batch_size other than 1, with a variable length with GRU can cause an error when running the ONNX model with a different batch size. Make sure to save the model with a batch size of 1, or define the initial states (h0/c0) as inputs of the model. \n",
      "  warnings.warn(\n"
     ]
    },
    {
     "name": "stdout",
     "output_type": "stream",
     "text": [
      "Model: 2, Epoch [18/60], Loss: 0.2585\n",
      "Model: 2, Epoch [18/60], Test Loss: 0.4031\n",
      "New best model found! Test Loss improved from 0.4410 to 0.4031\n",
      "model GRU/trained_models/i7/it_2/state_models/model_GRU_long2.pt saved\n",
      "model GRU/trained_models/i7/it_2/traced_models/model_GRU_long2_traced_jit_save.pt saved\n",
      "model GRU/trained_models/i7/it_2/traced_models/model_GRU_long2_traced_simple_save.pt saved\n",
      "================ Diagnostic Run torch.onnx.export version 2.0.0 ================\n",
      "verbose: False, log level: Level.ERROR\n",
      "======================= 0 NONE 0 NOTE 0 WARNING 0 ERROR ========================\n",
      "\n",
      "model GRU/trained_models/i7/it_2/traced_models/model_GRU_long2_traced.onnx saved\n",
      "---------------------\n",
      "all model_2 saved\n",
      "-------------------------------------\n",
      "Epoch [19] has started\n"
     ]
    },
    {
     "name": "stderr",
     "output_type": "stream",
     "text": [
      "C:\\Users\\ROG\\miniconda3\\envs\\pytorch200_cuda118\\lib\\site-packages\\torch\\onnx\\symbolic_opset9.py:4476: UserWarning: Exporting a model to ONNX with a batch_size other than 1, with a variable length with GRU can cause an error when running the ONNX model with a different batch size. Make sure to save the model with a batch size of 1, or define the initial states (h0/c0) as inputs of the model. \n",
      "  warnings.warn(\n"
     ]
    },
    {
     "name": "stdout",
     "output_type": "stream",
     "text": [
      "Model: 2, Epoch [19/60], Loss: 0.2318\n",
      "Model: 2, Epoch [19/60], Test Loss: 0.3747\n",
      "New best model found! Test Loss improved from 0.4031 to 0.3747\n",
      "model GRU/trained_models/i7/it_2/state_models/model_GRU_long2.pt saved\n",
      "model GRU/trained_models/i7/it_2/traced_models/model_GRU_long2_traced_jit_save.pt saved\n",
      "model GRU/trained_models/i7/it_2/traced_models/model_GRU_long2_traced_simple_save.pt saved\n",
      "================ Diagnostic Run torch.onnx.export version 2.0.0 ================\n",
      "verbose: False, log level: Level.ERROR\n",
      "======================= 0 NONE 0 NOTE 0 WARNING 0 ERROR ========================\n",
      "\n",
      "model GRU/trained_models/i7/it_2/traced_models/model_GRU_long2_traced.onnx saved\n",
      "---------------------\n",
      "all model_2 saved\n",
      "-------------------------------------\n",
      "Epoch [20] has started\n"
     ]
    },
    {
     "name": "stderr",
     "output_type": "stream",
     "text": [
      "C:\\Users\\ROG\\miniconda3\\envs\\pytorch200_cuda118\\lib\\site-packages\\torch\\onnx\\symbolic_opset9.py:4476: UserWarning: Exporting a model to ONNX with a batch_size other than 1, with a variable length with GRU can cause an error when running the ONNX model with a different batch size. Make sure to save the model with a batch size of 1, or define the initial states (h0/c0) as inputs of the model. \n",
      "  warnings.warn(\n"
     ]
    },
    {
     "name": "stdout",
     "output_type": "stream",
     "text": [
      "Model: 2, Epoch [20/60], Loss: 0.2072\n",
      "Model: 2, Epoch [20/60], Test Loss: 0.3579\n",
      "New best model found! Test Loss improved from 0.3747 to 0.3579\n",
      "model GRU/trained_models/i7/it_2/state_models/model_GRU_long2.pt saved\n",
      "model GRU/trained_models/i7/it_2/traced_models/model_GRU_long2_traced_jit_save.pt saved\n",
      "model GRU/trained_models/i7/it_2/traced_models/model_GRU_long2_traced_simple_save.pt saved\n",
      "================ Diagnostic Run torch.onnx.export version 2.0.0 ================\n",
      "verbose: False, log level: Level.ERROR\n",
      "======================= 0 NONE 0 NOTE 0 WARNING 0 ERROR ========================\n",
      "\n",
      "model GRU/trained_models/i7/it_2/traced_models/model_GRU_long2_traced.onnx saved\n",
      "---------------------\n",
      "all model_2 saved\n",
      "-------------------------------------\n",
      "Epoch [21] has started\n"
     ]
    },
    {
     "name": "stderr",
     "output_type": "stream",
     "text": [
      "C:\\Users\\ROG\\miniconda3\\envs\\pytorch200_cuda118\\lib\\site-packages\\torch\\onnx\\symbolic_opset9.py:4476: UserWarning: Exporting a model to ONNX with a batch_size other than 1, with a variable length with GRU can cause an error when running the ONNX model with a different batch size. Make sure to save the model with a batch size of 1, or define the initial states (h0/c0) as inputs of the model. \n",
      "  warnings.warn(\n"
     ]
    },
    {
     "name": "stdout",
     "output_type": "stream",
     "text": [
      "Model: 2, Epoch [21/60], Loss: 0.1849\n",
      "Model: 2, Epoch [21/60], Test Loss: 0.3284\n",
      "New best model found! Test Loss improved from 0.3579 to 0.3284\n",
      "model GRU/trained_models/i7/it_2/state_models/model_GRU_long2.pt saved\n",
      "model GRU/trained_models/i7/it_2/traced_models/model_GRU_long2_traced_jit_save.pt saved\n",
      "model GRU/trained_models/i7/it_2/traced_models/model_GRU_long2_traced_simple_save.pt saved\n",
      "================ Diagnostic Run torch.onnx.export version 2.0.0 ================\n",
      "verbose: False, log level: Level.ERROR\n",
      "======================= 0 NONE 0 NOTE 0 WARNING 0 ERROR ========================\n",
      "\n",
      "model GRU/trained_models/i7/it_2/traced_models/model_GRU_long2_traced.onnx saved\n",
      "---------------------\n",
      "all model_2 saved\n",
      "-------------------------------------\n",
      "Epoch [22] has started\n"
     ]
    },
    {
     "name": "stderr",
     "output_type": "stream",
     "text": [
      "C:\\Users\\ROG\\miniconda3\\envs\\pytorch200_cuda118\\lib\\site-packages\\torch\\onnx\\symbolic_opset9.py:4476: UserWarning: Exporting a model to ONNX with a batch_size other than 1, with a variable length with GRU can cause an error when running the ONNX model with a different batch size. Make sure to save the model with a batch size of 1, or define the initial states (h0/c0) as inputs of the model. \n",
      "  warnings.warn(\n"
     ]
    },
    {
     "name": "stdout",
     "output_type": "stream",
     "text": [
      "Model: 2, Epoch [22/60], Loss: 0.1619\n",
      "Model: 2, Epoch [22/60], Test Loss: 0.2975\n",
      "New best model found! Test Loss improved from 0.3284 to 0.2975\n",
      "model GRU/trained_models/i7/it_2/state_models/model_GRU_long2.pt saved\n",
      "model GRU/trained_models/i7/it_2/traced_models/model_GRU_long2_traced_jit_save.pt saved\n",
      "model GRU/trained_models/i7/it_2/traced_models/model_GRU_long2_traced_simple_save.pt saved\n",
      "================ Diagnostic Run torch.onnx.export version 2.0.0 ================\n",
      "verbose: False, log level: Level.ERROR\n",
      "======================= 0 NONE 0 NOTE 0 WARNING 0 ERROR ========================\n",
      "\n",
      "model GRU/trained_models/i7/it_2/traced_models/model_GRU_long2_traced.onnx saved\n",
      "---------------------\n",
      "all model_2 saved\n",
      "-------------------------------------\n",
      "Epoch [23] has started\n"
     ]
    },
    {
     "name": "stderr",
     "output_type": "stream",
     "text": [
      "C:\\Users\\ROG\\miniconda3\\envs\\pytorch200_cuda118\\lib\\site-packages\\torch\\onnx\\symbolic_opset9.py:4476: UserWarning: Exporting a model to ONNX with a batch_size other than 1, with a variable length with GRU can cause an error when running the ONNX model with a different batch size. Make sure to save the model with a batch size of 1, or define the initial states (h0/c0) as inputs of the model. \n",
      "  warnings.warn(\n"
     ]
    },
    {
     "name": "stdout",
     "output_type": "stream",
     "text": [
      "Model: 2, Epoch [23/60], Loss: 0.1419\n",
      "Model: 2, Epoch [23/60], Test Loss: 0.2834\n",
      "New best model found! Test Loss improved from 0.2975 to 0.2834\n",
      "model GRU/trained_models/i7/it_2/state_models/model_GRU_long2.pt saved\n",
      "model GRU/trained_models/i7/it_2/traced_models/model_GRU_long2_traced_jit_save.pt saved\n",
      "model GRU/trained_models/i7/it_2/traced_models/model_GRU_long2_traced_simple_save.pt saved\n",
      "================ Diagnostic Run torch.onnx.export version 2.0.0 ================\n",
      "verbose: False, log level: Level.ERROR\n",
      "======================= 0 NONE 0 NOTE 0 WARNING 0 ERROR ========================\n",
      "\n",
      "model GRU/trained_models/i7/it_2/traced_models/model_GRU_long2_traced.onnx saved\n",
      "---------------------\n",
      "all model_2 saved\n",
      "-------------------------------------\n",
      "Epoch [24] has started\n"
     ]
    },
    {
     "name": "stderr",
     "output_type": "stream",
     "text": [
      "C:\\Users\\ROG\\miniconda3\\envs\\pytorch200_cuda118\\lib\\site-packages\\torch\\onnx\\symbolic_opset9.py:4476: UserWarning: Exporting a model to ONNX with a batch_size other than 1, with a variable length with GRU can cause an error when running the ONNX model with a different batch size. Make sure to save the model with a batch size of 1, or define the initial states (h0/c0) as inputs of the model. \n",
      "  warnings.warn(\n"
     ]
    },
    {
     "name": "stdout",
     "output_type": "stream",
     "text": [
      "Model: 2, Epoch [24/60], Loss: 0.1261\n",
      "Model: 2, Epoch [24/60], Test Loss: 0.2673\n",
      "New best model found! Test Loss improved from 0.2834 to 0.2673\n",
      "model GRU/trained_models/i7/it_2/state_models/model_GRU_long2.pt saved\n",
      "model GRU/trained_models/i7/it_2/traced_models/model_GRU_long2_traced_jit_save.pt saved\n",
      "model GRU/trained_models/i7/it_2/traced_models/model_GRU_long2_traced_simple_save.pt saved\n",
      "================ Diagnostic Run torch.onnx.export version 2.0.0 ================\n",
      "verbose: False, log level: Level.ERROR\n",
      "======================= 0 NONE 0 NOTE 0 WARNING 0 ERROR ========================\n",
      "\n",
      "model GRU/trained_models/i7/it_2/traced_models/model_GRU_long2_traced.onnx saved\n",
      "---------------------\n",
      "all model_2 saved\n",
      "-------------------------------------\n",
      "Epoch [25] has started\n"
     ]
    },
    {
     "name": "stderr",
     "output_type": "stream",
     "text": [
      "C:\\Users\\ROG\\miniconda3\\envs\\pytorch200_cuda118\\lib\\site-packages\\torch\\onnx\\symbolic_opset9.py:4476: UserWarning: Exporting a model to ONNX with a batch_size other than 1, with a variable length with GRU can cause an error when running the ONNX model with a different batch size. Make sure to save the model with a batch size of 1, or define the initial states (h0/c0) as inputs of the model. \n",
      "  warnings.warn(\n"
     ]
    },
    {
     "name": "stdout",
     "output_type": "stream",
     "text": [
      "Model: 2, Epoch [25/60], Loss: 0.1157\n",
      "Model: 2, Epoch [25/60], Test Loss: 0.2598\n",
      "New best model found! Test Loss improved from 0.2673 to 0.2598\n",
      "model GRU/trained_models/i7/it_2/state_models/model_GRU_long2.pt saved\n",
      "model GRU/trained_models/i7/it_2/traced_models/model_GRU_long2_traced_jit_save.pt saved\n",
      "model GRU/trained_models/i7/it_2/traced_models/model_GRU_long2_traced_simple_save.pt saved\n",
      "================ Diagnostic Run torch.onnx.export version 2.0.0 ================\n",
      "verbose: False, log level: Level.ERROR\n",
      "======================= 0 NONE 0 NOTE 0 WARNING 0 ERROR ========================\n",
      "\n",
      "model GRU/trained_models/i7/it_2/traced_models/model_GRU_long2_traced.onnx saved\n",
      "---------------------\n",
      "all model_2 saved\n",
      "-------------------------------------\n",
      "Epoch [26] has started\n"
     ]
    },
    {
     "name": "stderr",
     "output_type": "stream",
     "text": [
      "C:\\Users\\ROG\\miniconda3\\envs\\pytorch200_cuda118\\lib\\site-packages\\torch\\onnx\\symbolic_opset9.py:4476: UserWarning: Exporting a model to ONNX with a batch_size other than 1, with a variable length with GRU can cause an error when running the ONNX model with a different batch size. Make sure to save the model with a batch size of 1, or define the initial states (h0/c0) as inputs of the model. \n",
      "  warnings.warn(\n"
     ]
    },
    {
     "name": "stdout",
     "output_type": "stream",
     "text": [
      "Model: 2, Epoch [26/60], Loss: 0.1032\n",
      "Model: 2, Epoch [26/60], Test Loss: 0.2494\n",
      "New best model found! Test Loss improved from 0.2598 to 0.2494\n",
      "model GRU/trained_models/i7/it_2/state_models/model_GRU_long2.pt saved\n",
      "model GRU/trained_models/i7/it_2/traced_models/model_GRU_long2_traced_jit_save.pt saved\n",
      "model GRU/trained_models/i7/it_2/traced_models/model_GRU_long2_traced_simple_save.pt saved\n",
      "================ Diagnostic Run torch.onnx.export version 2.0.0 ================\n",
      "verbose: False, log level: Level.ERROR\n",
      "======================= 0 NONE 0 NOTE 0 WARNING 0 ERROR ========================\n",
      "\n",
      "model GRU/trained_models/i7/it_2/traced_models/model_GRU_long2_traced.onnx saved\n",
      "---------------------\n",
      "all model_2 saved\n",
      "-------------------------------------\n",
      "Epoch [27] has started\n"
     ]
    },
    {
     "name": "stderr",
     "output_type": "stream",
     "text": [
      "C:\\Users\\ROG\\miniconda3\\envs\\pytorch200_cuda118\\lib\\site-packages\\torch\\onnx\\symbolic_opset9.py:4476: UserWarning: Exporting a model to ONNX with a batch_size other than 1, with a variable length with GRU can cause an error when running the ONNX model with a different batch size. Make sure to save the model with a batch size of 1, or define the initial states (h0/c0) as inputs of the model. \n",
      "  warnings.warn(\n"
     ]
    },
    {
     "name": "stdout",
     "output_type": "stream",
     "text": [
      "Model: 2, Epoch [27/60], Loss: 0.0950\n",
      "Model: 2, Epoch [27/60], Test Loss: 0.2420\n",
      "New best model found! Test Loss improved from 0.2494 to 0.2420\n",
      "model GRU/trained_models/i7/it_2/state_models/model_GRU_long2.pt saved\n",
      "model GRU/trained_models/i7/it_2/traced_models/model_GRU_long2_traced_jit_save.pt saved\n",
      "model GRU/trained_models/i7/it_2/traced_models/model_GRU_long2_traced_simple_save.pt saved\n",
      "================ Diagnostic Run torch.onnx.export version 2.0.0 ================\n",
      "verbose: False, log level: Level.ERROR\n",
      "======================= 0 NONE 0 NOTE 0 WARNING 0 ERROR ========================\n",
      "\n",
      "model GRU/trained_models/i7/it_2/traced_models/model_GRU_long2_traced.onnx saved\n",
      "---------------------\n",
      "all model_2 saved\n",
      "-------------------------------------\n",
      "Epoch [28] has started\n"
     ]
    },
    {
     "name": "stderr",
     "output_type": "stream",
     "text": [
      "C:\\Users\\ROG\\miniconda3\\envs\\pytorch200_cuda118\\lib\\site-packages\\torch\\onnx\\symbolic_opset9.py:4476: UserWarning: Exporting a model to ONNX with a batch_size other than 1, with a variable length with GRU can cause an error when running the ONNX model with a different batch size. Make sure to save the model with a batch size of 1, or define the initial states (h0/c0) as inputs of the model. \n",
      "  warnings.warn(\n"
     ]
    },
    {
     "name": "stdout",
     "output_type": "stream",
     "text": [
      "Model: 2, Epoch [28/60], Loss: 0.0879\n",
      "Model: 2, Epoch [28/60], Test Loss: 0.2249\n",
      "New best model found! Test Loss improved from 0.2420 to 0.2249\n",
      "model GRU/trained_models/i7/it_2/state_models/model_GRU_long2.pt saved\n",
      "model GRU/trained_models/i7/it_2/traced_models/model_GRU_long2_traced_jit_save.pt saved\n",
      "model GRU/trained_models/i7/it_2/traced_models/model_GRU_long2_traced_simple_save.pt saved\n",
      "================ Diagnostic Run torch.onnx.export version 2.0.0 ================\n",
      "verbose: False, log level: Level.ERROR\n",
      "======================= 0 NONE 0 NOTE 0 WARNING 0 ERROR ========================\n",
      "\n",
      "model GRU/trained_models/i7/it_2/traced_models/model_GRU_long2_traced.onnx saved\n",
      "---------------------\n",
      "all model_2 saved\n",
      "-------------------------------------\n",
      "Epoch [29] has started\n"
     ]
    },
    {
     "name": "stderr",
     "output_type": "stream",
     "text": [
      "C:\\Users\\ROG\\miniconda3\\envs\\pytorch200_cuda118\\lib\\site-packages\\torch\\onnx\\symbolic_opset9.py:4476: UserWarning: Exporting a model to ONNX with a batch_size other than 1, with a variable length with GRU can cause an error when running the ONNX model with a different batch size. Make sure to save the model with a batch size of 1, or define the initial states (h0/c0) as inputs of the model. \n",
      "  warnings.warn(\n"
     ]
    },
    {
     "name": "stdout",
     "output_type": "stream",
     "text": [
      "Model: 2, Epoch [29/60], Loss: 0.0818\n",
      "Model: 2, Epoch [29/60], Test Loss: 0.2188\n",
      "New best model found! Test Loss improved from 0.2249 to 0.2188\n",
      "model GRU/trained_models/i7/it_2/state_models/model_GRU_long2.pt saved\n",
      "model GRU/trained_models/i7/it_2/traced_models/model_GRU_long2_traced_jit_save.pt saved\n",
      "model GRU/trained_models/i7/it_2/traced_models/model_GRU_long2_traced_simple_save.pt saved\n",
      "================ Diagnostic Run torch.onnx.export version 2.0.0 ================\n",
      "verbose: False, log level: Level.ERROR\n",
      "======================= 0 NONE 0 NOTE 0 WARNING 0 ERROR ========================\n",
      "\n",
      "model GRU/trained_models/i7/it_2/traced_models/model_GRU_long2_traced.onnx saved\n",
      "---------------------\n",
      "all model_2 saved\n",
      "-------------------------------------\n",
      "Epoch [30] has started\n"
     ]
    },
    {
     "name": "stderr",
     "output_type": "stream",
     "text": [
      "C:\\Users\\ROG\\miniconda3\\envs\\pytorch200_cuda118\\lib\\site-packages\\torch\\onnx\\symbolic_opset9.py:4476: UserWarning: Exporting a model to ONNX with a batch_size other than 1, with a variable length with GRU can cause an error when running the ONNX model with a different batch size. Make sure to save the model with a batch size of 1, or define the initial states (h0/c0) as inputs of the model. \n",
      "  warnings.warn(\n"
     ]
    },
    {
     "name": "stdout",
     "output_type": "stream",
     "text": [
      "Model: 2, Epoch [30/60], Loss: 0.0771\n",
      "Model: 2, Epoch [30/60], Test Loss: 0.2094\n",
      "New best model found! Test Loss improved from 0.2188 to 0.2094\n",
      "model GRU/trained_models/i7/it_2/state_models/model_GRU_long2.pt saved\n",
      "model GRU/trained_models/i7/it_2/traced_models/model_GRU_long2_traced_jit_save.pt saved\n",
      "model GRU/trained_models/i7/it_2/traced_models/model_GRU_long2_traced_simple_save.pt saved\n",
      "================ Diagnostic Run torch.onnx.export version 2.0.0 ================\n",
      "verbose: False, log level: Level.ERROR\n",
      "======================= 0 NONE 0 NOTE 0 WARNING 0 ERROR ========================\n",
      "\n",
      "model GRU/trained_models/i7/it_2/traced_models/model_GRU_long2_traced.onnx saved\n",
      "---------------------\n",
      "all model_2 saved\n",
      "-------------------------------------\n",
      "Epoch [31] has started\n"
     ]
    },
    {
     "name": "stderr",
     "output_type": "stream",
     "text": [
      "C:\\Users\\ROG\\miniconda3\\envs\\pytorch200_cuda118\\lib\\site-packages\\torch\\onnx\\symbolic_opset9.py:4476: UserWarning: Exporting a model to ONNX with a batch_size other than 1, with a variable length with GRU can cause an error when running the ONNX model with a different batch size. Make sure to save the model with a batch size of 1, or define the initial states (h0/c0) as inputs of the model. \n",
      "  warnings.warn(\n"
     ]
    },
    {
     "name": "stdout",
     "output_type": "stream",
     "text": [
      "Model: 2, Epoch [31/60], Loss: 0.0722\n",
      "Model: 2, Epoch [31/60], Test Loss: 0.1957\n",
      "New best model found! Test Loss improved from 0.2094 to 0.1957\n",
      "model GRU/trained_models/i7/it_2/state_models/model_GRU_long2.pt saved\n",
      "model GRU/trained_models/i7/it_2/traced_models/model_GRU_long2_traced_jit_save.pt saved\n",
      "model GRU/trained_models/i7/it_2/traced_models/model_GRU_long2_traced_simple_save.pt saved\n",
      "================ Diagnostic Run torch.onnx.export version 2.0.0 ================\n",
      "verbose: False, log level: Level.ERROR\n",
      "======================= 0 NONE 0 NOTE 0 WARNING 0 ERROR ========================\n",
      "\n",
      "model GRU/trained_models/i7/it_2/traced_models/model_GRU_long2_traced.onnx saved\n",
      "---------------------\n",
      "all model_2 saved\n",
      "-------------------------------------\n",
      "Epoch [32] has started\n"
     ]
    },
    {
     "name": "stderr",
     "output_type": "stream",
     "text": [
      "C:\\Users\\ROG\\miniconda3\\envs\\pytorch200_cuda118\\lib\\site-packages\\torch\\onnx\\symbolic_opset9.py:4476: UserWarning: Exporting a model to ONNX with a batch_size other than 1, with a variable length with GRU can cause an error when running the ONNX model with a different batch size. Make sure to save the model with a batch size of 1, or define the initial states (h0/c0) as inputs of the model. \n",
      "  warnings.warn(\n"
     ]
    },
    {
     "name": "stdout",
     "output_type": "stream",
     "text": [
      "Model: 2, Epoch [32/60], Loss: 0.0675\n",
      "Model: 2, Epoch [32/60], Test Loss: 0.1942\n",
      "New best model found! Test Loss improved from 0.1957 to 0.1942\n",
      "model GRU/trained_models/i7/it_2/state_models/model_GRU_long2.pt saved\n",
      "model GRU/trained_models/i7/it_2/traced_models/model_GRU_long2_traced_jit_save.pt saved\n",
      "model GRU/trained_models/i7/it_2/traced_models/model_GRU_long2_traced_simple_save.pt saved\n",
      "================ Diagnostic Run torch.onnx.export version 2.0.0 ================\n",
      "verbose: False, log level: Level.ERROR\n",
      "======================= 0 NONE 0 NOTE 0 WARNING 0 ERROR ========================\n",
      "\n",
      "model GRU/trained_models/i7/it_2/traced_models/model_GRU_long2_traced.onnx saved\n",
      "---------------------\n",
      "all model_2 saved\n",
      "-------------------------------------\n",
      "Epoch [33] has started\n"
     ]
    },
    {
     "name": "stderr",
     "output_type": "stream",
     "text": [
      "C:\\Users\\ROG\\miniconda3\\envs\\pytorch200_cuda118\\lib\\site-packages\\torch\\onnx\\symbolic_opset9.py:4476: UserWarning: Exporting a model to ONNX with a batch_size other than 1, with a variable length with GRU can cause an error when running the ONNX model with a different batch size. Make sure to save the model with a batch size of 1, or define the initial states (h0/c0) as inputs of the model. \n",
      "  warnings.warn(\n"
     ]
    },
    {
     "name": "stdout",
     "output_type": "stream",
     "text": [
      "Model: 2, Epoch [33/60], Loss: 0.0637\n",
      "Model: 2, Epoch [33/60], Test Loss: 0.1826\n",
      "New best model found! Test Loss improved from 0.1942 to 0.1826\n",
      "model GRU/trained_models/i7/it_2/state_models/model_GRU_long2.pt saved\n",
      "model GRU/trained_models/i7/it_2/traced_models/model_GRU_long2_traced_jit_save.pt saved\n",
      "model GRU/trained_models/i7/it_2/traced_models/model_GRU_long2_traced_simple_save.pt saved\n",
      "================ Diagnostic Run torch.onnx.export version 2.0.0 ================\n",
      "verbose: False, log level: Level.ERROR\n",
      "======================= 0 NONE 0 NOTE 0 WARNING 0 ERROR ========================\n",
      "\n",
      "model GRU/trained_models/i7/it_2/traced_models/model_GRU_long2_traced.onnx saved\n",
      "---------------------\n",
      "all model_2 saved\n",
      "-------------------------------------\n",
      "Epoch [34] has started\n"
     ]
    },
    {
     "name": "stderr",
     "output_type": "stream",
     "text": [
      "C:\\Users\\ROG\\miniconda3\\envs\\pytorch200_cuda118\\lib\\site-packages\\torch\\onnx\\symbolic_opset9.py:4476: UserWarning: Exporting a model to ONNX with a batch_size other than 1, with a variable length with GRU can cause an error when running the ONNX model with a different batch size. Make sure to save the model with a batch size of 1, or define the initial states (h0/c0) as inputs of the model. \n",
      "  warnings.warn(\n"
     ]
    },
    {
     "name": "stdout",
     "output_type": "stream",
     "text": [
      "Model: 2, Epoch [34/60], Loss: 0.0596\n",
      "Model: 2, Epoch [34/60], Test Loss: 0.1761\n",
      "New best model found! Test Loss improved from 0.1826 to 0.1761\n",
      "model GRU/trained_models/i7/it_2/state_models/model_GRU_long2.pt saved\n",
      "model GRU/trained_models/i7/it_2/traced_models/model_GRU_long2_traced_jit_save.pt saved\n",
      "model GRU/trained_models/i7/it_2/traced_models/model_GRU_long2_traced_simple_save.pt saved\n",
      "================ Diagnostic Run torch.onnx.export version 2.0.0 ================\n",
      "verbose: False, log level: Level.ERROR\n",
      "======================= 0 NONE 0 NOTE 0 WARNING 0 ERROR ========================\n",
      "\n",
      "model GRU/trained_models/i7/it_2/traced_models/model_GRU_long2_traced.onnx saved\n",
      "---------------------\n",
      "all model_2 saved\n",
      "-------------------------------------\n",
      "Epoch [35] has started\n"
     ]
    },
    {
     "name": "stderr",
     "output_type": "stream",
     "text": [
      "C:\\Users\\ROG\\miniconda3\\envs\\pytorch200_cuda118\\lib\\site-packages\\torch\\onnx\\symbolic_opset9.py:4476: UserWarning: Exporting a model to ONNX with a batch_size other than 1, with a variable length with GRU can cause an error when running the ONNX model with a different batch size. Make sure to save the model with a batch size of 1, or define the initial states (h0/c0) as inputs of the model. \n",
      "  warnings.warn(\n"
     ]
    },
    {
     "name": "stdout",
     "output_type": "stream",
     "text": [
      "Model: 2, Epoch [35/60], Loss: 0.0559\n",
      "Model: 2, Epoch [35/60], Test Loss: 0.1684\n",
      "New best model found! Test Loss improved from 0.1761 to 0.1684\n",
      "model GRU/trained_models/i7/it_2/state_models/model_GRU_long2.pt saved\n",
      "model GRU/trained_models/i7/it_2/traced_models/model_GRU_long2_traced_jit_save.pt saved\n",
      "model GRU/trained_models/i7/it_2/traced_models/model_GRU_long2_traced_simple_save.pt saved\n",
      "================ Diagnostic Run torch.onnx.export version 2.0.0 ================\n",
      "verbose: False, log level: Level.ERROR\n",
      "======================= 0 NONE 0 NOTE 0 WARNING 0 ERROR ========================\n",
      "\n",
      "model GRU/trained_models/i7/it_2/traced_models/model_GRU_long2_traced.onnx saved\n",
      "---------------------\n",
      "all model_2 saved\n",
      "-------------------------------------\n",
      "Epoch [36] has started\n"
     ]
    },
    {
     "name": "stderr",
     "output_type": "stream",
     "text": [
      "C:\\Users\\ROG\\miniconda3\\envs\\pytorch200_cuda118\\lib\\site-packages\\torch\\onnx\\symbolic_opset9.py:4476: UserWarning: Exporting a model to ONNX with a batch_size other than 1, with a variable length with GRU can cause an error when running the ONNX model with a different batch size. Make sure to save the model with a batch size of 1, or define the initial states (h0/c0) as inputs of the model. \n",
      "  warnings.warn(\n"
     ]
    },
    {
     "name": "stdout",
     "output_type": "stream",
     "text": [
      "Model: 2, Epoch [36/60], Loss: 0.0527\n",
      "Model: 2, Epoch [36/60], Test Loss: 0.1597\n",
      "New best model found! Test Loss improved from 0.1684 to 0.1597\n",
      "model GRU/trained_models/i7/it_2/state_models/model_GRU_long2.pt saved\n",
      "model GRU/trained_models/i7/it_2/traced_models/model_GRU_long2_traced_jit_save.pt saved\n",
      "model GRU/trained_models/i7/it_2/traced_models/model_GRU_long2_traced_simple_save.pt saved\n",
      "================ Diagnostic Run torch.onnx.export version 2.0.0 ================\n",
      "verbose: False, log level: Level.ERROR\n",
      "======================= 0 NONE 0 NOTE 0 WARNING 0 ERROR ========================\n",
      "\n",
      "model GRU/trained_models/i7/it_2/traced_models/model_GRU_long2_traced.onnx saved\n",
      "---------------------\n",
      "all model_2 saved\n",
      "-------------------------------------\n",
      "Epoch [37] has started\n"
     ]
    },
    {
     "name": "stderr",
     "output_type": "stream",
     "text": [
      "C:\\Users\\ROG\\miniconda3\\envs\\pytorch200_cuda118\\lib\\site-packages\\torch\\onnx\\symbolic_opset9.py:4476: UserWarning: Exporting a model to ONNX with a batch_size other than 1, with a variable length with GRU can cause an error when running the ONNX model with a different batch size. Make sure to save the model with a batch size of 1, or define the initial states (h0/c0) as inputs of the model. \n",
      "  warnings.warn(\n"
     ]
    },
    {
     "name": "stdout",
     "output_type": "stream",
     "text": [
      "Model: 2, Epoch [37/60], Loss: 0.0502\n",
      "Model: 2, Epoch [37/60], Test Loss: 0.1579\n",
      "New best model found! Test Loss improved from 0.1597 to 0.1579\n",
      "model GRU/trained_models/i7/it_2/state_models/model_GRU_long2.pt saved\n",
      "model GRU/trained_models/i7/it_2/traced_models/model_GRU_long2_traced_jit_save.pt saved\n",
      "model GRU/trained_models/i7/it_2/traced_models/model_GRU_long2_traced_simple_save.pt saved\n",
      "================ Diagnostic Run torch.onnx.export version 2.0.0 ================\n",
      "verbose: False, log level: Level.ERROR\n",
      "======================= 0 NONE 0 NOTE 0 WARNING 0 ERROR ========================\n",
      "\n",
      "model GRU/trained_models/i7/it_2/traced_models/model_GRU_long2_traced.onnx saved\n",
      "---------------------\n",
      "all model_2 saved\n",
      "-------------------------------------\n",
      "Epoch [38] has started\n"
     ]
    },
    {
     "name": "stderr",
     "output_type": "stream",
     "text": [
      "C:\\Users\\ROG\\miniconda3\\envs\\pytorch200_cuda118\\lib\\site-packages\\torch\\onnx\\symbolic_opset9.py:4476: UserWarning: Exporting a model to ONNX with a batch_size other than 1, with a variable length with GRU can cause an error when running the ONNX model with a different batch size. Make sure to save the model with a batch size of 1, or define the initial states (h0/c0) as inputs of the model. \n",
      "  warnings.warn(\n"
     ]
    },
    {
     "name": "stdout",
     "output_type": "stream",
     "text": [
      "Model: 2, Epoch [38/60], Loss: 0.0475\n",
      "Model: 2, Epoch [38/60], Test Loss: 0.1573\n",
      "New best model found! Test Loss improved from 0.1579 to 0.1573\n",
      "model GRU/trained_models/i7/it_2/state_models/model_GRU_long2.pt saved\n",
      "model GRU/trained_models/i7/it_2/traced_models/model_GRU_long2_traced_jit_save.pt saved\n",
      "model GRU/trained_models/i7/it_2/traced_models/model_GRU_long2_traced_simple_save.pt saved\n",
      "================ Diagnostic Run torch.onnx.export version 2.0.0 ================\n",
      "verbose: False, log level: Level.ERROR\n",
      "======================= 0 NONE 0 NOTE 0 WARNING 0 ERROR ========================\n",
      "\n",
      "model GRU/trained_models/i7/it_2/traced_models/model_GRU_long2_traced.onnx saved\n",
      "---------------------\n",
      "all model_2 saved\n",
      "-------------------------------------\n",
      "Epoch [39] has started\n"
     ]
    },
    {
     "name": "stderr",
     "output_type": "stream",
     "text": [
      "C:\\Users\\ROG\\miniconda3\\envs\\pytorch200_cuda118\\lib\\site-packages\\torch\\onnx\\symbolic_opset9.py:4476: UserWarning: Exporting a model to ONNX with a batch_size other than 1, with a variable length with GRU can cause an error when running the ONNX model with a different batch size. Make sure to save the model with a batch size of 1, or define the initial states (h0/c0) as inputs of the model. \n",
      "  warnings.warn(\n"
     ]
    },
    {
     "name": "stdout",
     "output_type": "stream",
     "text": [
      "Model: 2, Epoch [39/60], Loss: 0.0450\n",
      "Model: 2, Epoch [39/60], Test Loss: 0.1440\n",
      "New best model found! Test Loss improved from 0.1573 to 0.1440\n",
      "model GRU/trained_models/i7/it_2/state_models/model_GRU_long2.pt saved\n",
      "model GRU/trained_models/i7/it_2/traced_models/model_GRU_long2_traced_jit_save.pt saved\n",
      "model GRU/trained_models/i7/it_2/traced_models/model_GRU_long2_traced_simple_save.pt saved\n",
      "================ Diagnostic Run torch.onnx.export version 2.0.0 ================\n",
      "verbose: False, log level: Level.ERROR\n",
      "======================= 0 NONE 0 NOTE 0 WARNING 0 ERROR ========================\n",
      "\n",
      "model GRU/trained_models/i7/it_2/traced_models/model_GRU_long2_traced.onnx saved\n",
      "---------------------\n",
      "all model_2 saved\n",
      "-------------------------------------\n",
      "Epoch [40] has started\n"
     ]
    },
    {
     "name": "stderr",
     "output_type": "stream",
     "text": [
      "C:\\Users\\ROG\\miniconda3\\envs\\pytorch200_cuda118\\lib\\site-packages\\torch\\onnx\\symbolic_opset9.py:4476: UserWarning: Exporting a model to ONNX with a batch_size other than 1, with a variable length with GRU can cause an error when running the ONNX model with a different batch size. Make sure to save the model with a batch size of 1, or define the initial states (h0/c0) as inputs of the model. \n",
      "  warnings.warn(\n"
     ]
    },
    {
     "name": "stdout",
     "output_type": "stream",
     "text": [
      "Model: 2, Epoch [40/60], Loss: 0.0424\n",
      "Model: 2, Epoch [40/60], Test Loss: 0.1350\n",
      "New best model found! Test Loss improved from 0.1440 to 0.1350\n",
      "model GRU/trained_models/i7/it_2/state_models/model_GRU_long2.pt saved\n",
      "model GRU/trained_models/i7/it_2/traced_models/model_GRU_long2_traced_jit_save.pt saved\n",
      "model GRU/trained_models/i7/it_2/traced_models/model_GRU_long2_traced_simple_save.pt saved\n",
      "================ Diagnostic Run torch.onnx.export version 2.0.0 ================\n",
      "verbose: False, log level: Level.ERROR\n",
      "======================= 0 NONE 0 NOTE 0 WARNING 0 ERROR ========================\n",
      "\n",
      "model GRU/trained_models/i7/it_2/traced_models/model_GRU_long2_traced.onnx saved\n",
      "---------------------\n",
      "all model_2 saved\n",
      "-------------------------------------\n",
      "Epoch [41] has started\n"
     ]
    },
    {
     "name": "stderr",
     "output_type": "stream",
     "text": [
      "C:\\Users\\ROG\\miniconda3\\envs\\pytorch200_cuda118\\lib\\site-packages\\torch\\onnx\\symbolic_opset9.py:4476: UserWarning: Exporting a model to ONNX with a batch_size other than 1, with a variable length with GRU can cause an error when running the ONNX model with a different batch size. Make sure to save the model with a batch size of 1, or define the initial states (h0/c0) as inputs of the model. \n",
      "  warnings.warn(\n"
     ]
    },
    {
     "name": "stdout",
     "output_type": "stream",
     "text": [
      "Model: 2, Epoch [41/60], Loss: 0.0401\n",
      "Model: 2, Epoch [41/60], Test Loss: 0.1356\n",
      "Test loss has not improved; early stopping counter: 1\n",
      "-------------------------------------\n",
      "Epoch [42] has started\n",
      "Model: 2, Epoch [42/60], Loss: 0.0382\n",
      "Model: 2, Epoch [42/60], Test Loss: 0.1308\n",
      "New best model found! Test Loss improved from 0.1350 to 0.1308\n",
      "model GRU/trained_models/i7/it_2/state_models/model_GRU_long2.pt saved\n",
      "model GRU/trained_models/i7/it_2/traced_models/model_GRU_long2_traced_jit_save.pt saved\n",
      "model GRU/trained_models/i7/it_2/traced_models/model_GRU_long2_traced_simple_save.pt saved\n",
      "================ Diagnostic Run torch.onnx.export version 2.0.0 ================\n",
      "verbose: False, log level: Level.ERROR\n",
      "======================= 0 NONE 0 NOTE 0 WARNING 0 ERROR ========================\n",
      "\n",
      "model GRU/trained_models/i7/it_2/traced_models/model_GRU_long2_traced.onnx saved\n",
      "---------------------\n",
      "all model_2 saved\n",
      "-------------------------------------\n",
      "Epoch [43] has started\n"
     ]
    },
    {
     "name": "stderr",
     "output_type": "stream",
     "text": [
      "C:\\Users\\ROG\\miniconda3\\envs\\pytorch200_cuda118\\lib\\site-packages\\torch\\onnx\\symbolic_opset9.py:4476: UserWarning: Exporting a model to ONNX with a batch_size other than 1, with a variable length with GRU can cause an error when running the ONNX model with a different batch size. Make sure to save the model with a batch size of 1, or define the initial states (h0/c0) as inputs of the model. \n",
      "  warnings.warn(\n"
     ]
    },
    {
     "name": "stdout",
     "output_type": "stream",
     "text": [
      "Model: 2, Epoch [43/60], Loss: 0.0364\n",
      "Model: 2, Epoch [43/60], Test Loss: 0.1293\n",
      "New best model found! Test Loss improved from 0.1308 to 0.1293\n",
      "model GRU/trained_models/i7/it_2/state_models/model_GRU_long2.pt saved\n",
      "model GRU/trained_models/i7/it_2/traced_models/model_GRU_long2_traced_jit_save.pt saved\n",
      "model GRU/trained_models/i7/it_2/traced_models/model_GRU_long2_traced_simple_save.pt saved\n",
      "================ Diagnostic Run torch.onnx.export version 2.0.0 ================\n",
      "verbose: False, log level: Level.ERROR\n",
      "======================= 0 NONE 0 NOTE 0 WARNING 0 ERROR ========================\n",
      "\n",
      "model GRU/trained_models/i7/it_2/traced_models/model_GRU_long2_traced.onnx saved\n",
      "---------------------\n",
      "all model_2 saved\n",
      "-------------------------------------\n",
      "Epoch [44] has started\n"
     ]
    },
    {
     "name": "stderr",
     "output_type": "stream",
     "text": [
      "C:\\Users\\ROG\\miniconda3\\envs\\pytorch200_cuda118\\lib\\site-packages\\torch\\onnx\\symbolic_opset9.py:4476: UserWarning: Exporting a model to ONNX with a batch_size other than 1, with a variable length with GRU can cause an error when running the ONNX model with a different batch size. Make sure to save the model with a batch size of 1, or define the initial states (h0/c0) as inputs of the model. \n",
      "  warnings.warn(\n"
     ]
    },
    {
     "name": "stdout",
     "output_type": "stream",
     "text": [
      "Model: 2, Epoch [44/60], Loss: 0.0347\n",
      "Model: 2, Epoch [44/60], Test Loss: 0.1219\n",
      "New best model found! Test Loss improved from 0.1293 to 0.1219\n",
      "model GRU/trained_models/i7/it_2/state_models/model_GRU_long2.pt saved\n",
      "model GRU/trained_models/i7/it_2/traced_models/model_GRU_long2_traced_jit_save.pt saved\n",
      "model GRU/trained_models/i7/it_2/traced_models/model_GRU_long2_traced_simple_save.pt saved\n",
      "================ Diagnostic Run torch.onnx.export version 2.0.0 ================\n",
      "verbose: False, log level: Level.ERROR\n",
      "======================= 0 NONE 0 NOTE 0 WARNING 0 ERROR ========================\n",
      "\n",
      "model GRU/trained_models/i7/it_2/traced_models/model_GRU_long2_traced.onnx saved\n",
      "---------------------\n",
      "all model_2 saved\n",
      "-------------------------------------\n",
      "Epoch [45] has started\n"
     ]
    },
    {
     "name": "stderr",
     "output_type": "stream",
     "text": [
      "C:\\Users\\ROG\\miniconda3\\envs\\pytorch200_cuda118\\lib\\site-packages\\torch\\onnx\\symbolic_opset9.py:4476: UserWarning: Exporting a model to ONNX with a batch_size other than 1, with a variable length with GRU can cause an error when running the ONNX model with a different batch size. Make sure to save the model with a batch size of 1, or define the initial states (h0/c0) as inputs of the model. \n",
      "  warnings.warn(\n"
     ]
    },
    {
     "name": "stdout",
     "output_type": "stream",
     "text": [
      "Model: 2, Epoch [45/60], Loss: 0.0337\n",
      "Model: 2, Epoch [45/60], Test Loss: 0.1256\n",
      "Test loss has not improved; early stopping counter: 1\n",
      "-------------------------------------\n",
      "Epoch [46] has started\n",
      "Model: 2, Epoch [46/60], Loss: 0.0318\n",
      "Model: 2, Epoch [46/60], Test Loss: 0.1182\n",
      "New best model found! Test Loss improved from 0.1219 to 0.1182\n",
      "model GRU/trained_models/i7/it_2/state_models/model_GRU_long2.pt saved\n",
      "model GRU/trained_models/i7/it_2/traced_models/model_GRU_long2_traced_jit_save.pt saved\n",
      "model GRU/trained_models/i7/it_2/traced_models/model_GRU_long2_traced_simple_save.pt saved\n",
      "================ Diagnostic Run torch.onnx.export version 2.0.0 ================\n",
      "verbose: False, log level: Level.ERROR\n",
      "======================= 0 NONE 0 NOTE 0 WARNING 0 ERROR ========================\n",
      "\n",
      "model GRU/trained_models/i7/it_2/traced_models/model_GRU_long2_traced.onnx saved\n",
      "---------------------\n",
      "all model_2 saved\n",
      "-------------------------------------\n",
      "Epoch [47] has started\n"
     ]
    },
    {
     "name": "stderr",
     "output_type": "stream",
     "text": [
      "C:\\Users\\ROG\\miniconda3\\envs\\pytorch200_cuda118\\lib\\site-packages\\torch\\onnx\\symbolic_opset9.py:4476: UserWarning: Exporting a model to ONNX with a batch_size other than 1, with a variable length with GRU can cause an error when running the ONNX model with a different batch size. Make sure to save the model with a batch size of 1, or define the initial states (h0/c0) as inputs of the model. \n",
      "  warnings.warn(\n"
     ]
    },
    {
     "name": "stdout",
     "output_type": "stream",
     "text": [
      "Model: 2, Epoch [47/60], Loss: 0.0307\n",
      "Model: 2, Epoch [47/60], Test Loss: 0.1330\n",
      "Test loss has not improved; early stopping counter: 1\n",
      "-------------------------------------\n",
      "Epoch [48] has started\n",
      "Model: 2, Epoch [48/60], Loss: 0.0294\n",
      "Model: 2, Epoch [48/60], Test Loss: 0.1191\n",
      "Test loss has not improved; early stopping counter: 2\n",
      "-------------------------------------\n",
      "Epoch [49] has started\n",
      "Model: 2, Epoch [49/60], Loss: 0.0285\n",
      "Model: 2, Epoch [49/60], Test Loss: 0.1110\n",
      "New best model found! Test Loss improved from 0.1182 to 0.1110\n",
      "model GRU/trained_models/i7/it_2/state_models/model_GRU_long2.pt saved\n",
      "model GRU/trained_models/i7/it_2/traced_models/model_GRU_long2_traced_jit_save.pt saved\n",
      "model GRU/trained_models/i7/it_2/traced_models/model_GRU_long2_traced_simple_save.pt saved\n",
      "================ Diagnostic Run torch.onnx.export version 2.0.0 ================\n",
      "verbose: False, log level: Level.ERROR\n",
      "======================= 0 NONE 0 NOTE 0 WARNING 0 ERROR ========================\n",
      "\n",
      "model GRU/trained_models/i7/it_2/traced_models/model_GRU_long2_traced.onnx saved\n",
      "---------------------\n",
      "all model_2 saved\n",
      "-------------------------------------\n",
      "Epoch [50] has started\n"
     ]
    },
    {
     "name": "stderr",
     "output_type": "stream",
     "text": [
      "C:\\Users\\ROG\\miniconda3\\envs\\pytorch200_cuda118\\lib\\site-packages\\torch\\onnx\\symbolic_opset9.py:4476: UserWarning: Exporting a model to ONNX with a batch_size other than 1, with a variable length with GRU can cause an error when running the ONNX model with a different batch size. Make sure to save the model with a batch size of 1, or define the initial states (h0/c0) as inputs of the model. \n",
      "  warnings.warn(\n"
     ]
    },
    {
     "name": "stdout",
     "output_type": "stream",
     "text": [
      "Model: 2, Epoch [50/60], Loss: 0.0263\n",
      "Model: 2, Epoch [50/60], Test Loss: 0.1104\n",
      "New best model found! Test Loss improved from 0.1110 to 0.1104\n",
      "model GRU/trained_models/i7/it_2/state_models/model_GRU_long2.pt saved\n",
      "model GRU/trained_models/i7/it_2/traced_models/model_GRU_long2_traced_jit_save.pt saved\n",
      "model GRU/trained_models/i7/it_2/traced_models/model_GRU_long2_traced_simple_save.pt saved\n",
      "================ Diagnostic Run torch.onnx.export version 2.0.0 ================\n",
      "verbose: False, log level: Level.ERROR\n",
      "======================= 0 NONE 0 NOTE 0 WARNING 0 ERROR ========================\n",
      "\n",
      "model GRU/trained_models/i7/it_2/traced_models/model_GRU_long2_traced.onnx saved\n",
      "---------------------\n",
      "all model_2 saved\n",
      "-------------------------------------\n",
      "Epoch [51] has started\n"
     ]
    },
    {
     "name": "stderr",
     "output_type": "stream",
     "text": [
      "C:\\Users\\ROG\\miniconda3\\envs\\pytorch200_cuda118\\lib\\site-packages\\torch\\onnx\\symbolic_opset9.py:4476: UserWarning: Exporting a model to ONNX with a batch_size other than 1, with a variable length with GRU can cause an error when running the ONNX model with a different batch size. Make sure to save the model with a batch size of 1, or define the initial states (h0/c0) as inputs of the model. \n",
      "  warnings.warn(\n"
     ]
    },
    {
     "name": "stdout",
     "output_type": "stream",
     "text": [
      "Model: 2, Epoch [51/60], Loss: 0.0252\n",
      "Model: 2, Epoch [51/60], Test Loss: 0.1112\n",
      "Test loss has not improved; early stopping counter: 1\n",
      "-------------------------------------\n",
      "Epoch [52] has started\n",
      "Model: 2, Epoch [52/60], Loss: 0.0248\n",
      "Model: 2, Epoch [52/60], Test Loss: 0.1091\n",
      "New best model found! Test Loss improved from 0.1104 to 0.1091\n",
      "model GRU/trained_models/i7/it_2/state_models/model_GRU_long2.pt saved\n",
      "model GRU/trained_models/i7/it_2/traced_models/model_GRU_long2_traced_jit_save.pt saved\n",
      "model GRU/trained_models/i7/it_2/traced_models/model_GRU_long2_traced_simple_save.pt saved\n",
      "================ Diagnostic Run torch.onnx.export version 2.0.0 ================\n",
      "verbose: False, log level: Level.ERROR\n",
      "======================= 0 NONE 0 NOTE 0 WARNING 0 ERROR ========================\n",
      "\n",
      "model GRU/trained_models/i7/it_2/traced_models/model_GRU_long2_traced.onnx saved\n",
      "---------------------\n",
      "all model_2 saved\n",
      "-------------------------------------\n",
      "Epoch [53] has started\n"
     ]
    },
    {
     "name": "stderr",
     "output_type": "stream",
     "text": [
      "C:\\Users\\ROG\\miniconda3\\envs\\pytorch200_cuda118\\lib\\site-packages\\torch\\onnx\\symbolic_opset9.py:4476: UserWarning: Exporting a model to ONNX with a batch_size other than 1, with a variable length with GRU can cause an error when running the ONNX model with a different batch size. Make sure to save the model with a batch size of 1, or define the initial states (h0/c0) as inputs of the model. \n",
      "  warnings.warn(\n"
     ]
    },
    {
     "name": "stdout",
     "output_type": "stream",
     "text": [
      "Model: 2, Epoch [53/60], Loss: 0.0237\n",
      "Model: 2, Epoch [53/60], Test Loss: 0.1086\n",
      "New best model found! Test Loss improved from 0.1091 to 0.1086\n",
      "model GRU/trained_models/i7/it_2/state_models/model_GRU_long2.pt saved\n",
      "model GRU/trained_models/i7/it_2/traced_models/model_GRU_long2_traced_jit_save.pt saved\n",
      "model GRU/trained_models/i7/it_2/traced_models/model_GRU_long2_traced_simple_save.pt saved\n",
      "================ Diagnostic Run torch.onnx.export version 2.0.0 ================\n",
      "verbose: False, log level: Level.ERROR\n",
      "======================= 0 NONE 0 NOTE 0 WARNING 0 ERROR ========================\n",
      "\n",
      "model GRU/trained_models/i7/it_2/traced_models/model_GRU_long2_traced.onnx saved\n",
      "---------------------\n",
      "all model_2 saved\n",
      "-------------------------------------\n",
      "Epoch [54] has started\n"
     ]
    },
    {
     "name": "stderr",
     "output_type": "stream",
     "text": [
      "C:\\Users\\ROG\\miniconda3\\envs\\pytorch200_cuda118\\lib\\site-packages\\torch\\onnx\\symbolic_opset9.py:4476: UserWarning: Exporting a model to ONNX with a batch_size other than 1, with a variable length with GRU can cause an error when running the ONNX model with a different batch size. Make sure to save the model with a batch size of 1, or define the initial states (h0/c0) as inputs of the model. \n",
      "  warnings.warn(\n"
     ]
    },
    {
     "name": "stdout",
     "output_type": "stream",
     "text": [
      "Model: 2, Epoch [54/60], Loss: 0.0223\n",
      "Model: 2, Epoch [54/60], Test Loss: 0.1079\n",
      "New best model found! Test Loss improved from 0.1086 to 0.1079\n",
      "model GRU/trained_models/i7/it_2/state_models/model_GRU_long2.pt saved\n",
      "model GRU/trained_models/i7/it_2/traced_models/model_GRU_long2_traced_jit_save.pt saved\n",
      "model GRU/trained_models/i7/it_2/traced_models/model_GRU_long2_traced_simple_save.pt saved\n",
      "================ Diagnostic Run torch.onnx.export version 2.0.0 ================\n",
      "verbose: False, log level: Level.ERROR\n",
      "======================= 0 NONE 0 NOTE 0 WARNING 0 ERROR ========================\n",
      "\n",
      "model GRU/trained_models/i7/it_2/traced_models/model_GRU_long2_traced.onnx saved\n",
      "---------------------\n",
      "all model_2 saved\n",
      "-------------------------------------\n",
      "Epoch [55] has started\n"
     ]
    },
    {
     "name": "stderr",
     "output_type": "stream",
     "text": [
      "C:\\Users\\ROG\\miniconda3\\envs\\pytorch200_cuda118\\lib\\site-packages\\torch\\onnx\\symbolic_opset9.py:4476: UserWarning: Exporting a model to ONNX with a batch_size other than 1, with a variable length with GRU can cause an error when running the ONNX model with a different batch size. Make sure to save the model with a batch size of 1, or define the initial states (h0/c0) as inputs of the model. \n",
      "  warnings.warn(\n"
     ]
    },
    {
     "name": "stdout",
     "output_type": "stream",
     "text": [
      "Model: 2, Epoch [55/60], Loss: 0.0224\n",
      "Model: 2, Epoch [55/60], Test Loss: 0.1079\n",
      "Test loss has not improved; early stopping counter: 1\n",
      "-------------------------------------\n",
      "Epoch [56] has started\n",
      "Model: 2, Epoch [56/60], Loss: 0.0220\n",
      "Model: 2, Epoch [56/60], Test Loss: 0.1158\n",
      "Test loss has not improved; early stopping counter: 2\n",
      "-------------------------------------\n",
      "Epoch [57] has started\n",
      "Model: 2, Epoch [57/60], Loss: 0.0198\n",
      "Model: 2, Epoch [57/60], Test Loss: 0.1034\n",
      "New best model found! Test Loss improved from 0.1079 to 0.1034\n",
      "model GRU/trained_models/i7/it_2/state_models/model_GRU_long2.pt saved\n",
      "model GRU/trained_models/i7/it_2/traced_models/model_GRU_long2_traced_jit_save.pt saved\n",
      "model GRU/trained_models/i7/it_2/traced_models/model_GRU_long2_traced_simple_save.pt saved\n",
      "================ Diagnostic Run torch.onnx.export version 2.0.0 ================\n",
      "verbose: False, log level: Level.ERROR\n",
      "======================= 0 NONE 0 NOTE 0 WARNING 0 ERROR ========================\n",
      "\n",
      "model GRU/trained_models/i7/it_2/traced_models/model_GRU_long2_traced.onnx saved\n",
      "---------------------\n",
      "all model_2 saved\n",
      "-------------------------------------\n",
      "Epoch [58] has started\n"
     ]
    },
    {
     "name": "stderr",
     "output_type": "stream",
     "text": [
      "C:\\Users\\ROG\\miniconda3\\envs\\pytorch200_cuda118\\lib\\site-packages\\torch\\onnx\\symbolic_opset9.py:4476: UserWarning: Exporting a model to ONNX with a batch_size other than 1, with a variable length with GRU can cause an error when running the ONNX model with a different batch size. Make sure to save the model with a batch size of 1, or define the initial states (h0/c0) as inputs of the model. \n",
      "  warnings.warn(\n"
     ]
    },
    {
     "name": "stdout",
     "output_type": "stream",
     "text": [
      "Model: 2, Epoch [58/60], Loss: 0.0196\n",
      "Model: 2, Epoch [58/60], Test Loss: 0.1026\n",
      "New best model found! Test Loss improved from 0.1034 to 0.1026\n",
      "model GRU/trained_models/i7/it_2/state_models/model_GRU_long2.pt saved\n",
      "model GRU/trained_models/i7/it_2/traced_models/model_GRU_long2_traced_jit_save.pt saved\n",
      "model GRU/trained_models/i7/it_2/traced_models/model_GRU_long2_traced_simple_save.pt saved\n",
      "================ Diagnostic Run torch.onnx.export version 2.0.0 ================\n",
      "verbose: False, log level: Level.ERROR\n",
      "======================= 0 NONE 0 NOTE 0 WARNING 0 ERROR ========================\n",
      "\n",
      "model GRU/trained_models/i7/it_2/traced_models/model_GRU_long2_traced.onnx saved\n",
      "---------------------\n",
      "all model_2 saved\n",
      "-------------------------------------\n",
      "Epoch [59] has started\n"
     ]
    },
    {
     "name": "stderr",
     "output_type": "stream",
     "text": [
      "C:\\Users\\ROG\\miniconda3\\envs\\pytorch200_cuda118\\lib\\site-packages\\torch\\onnx\\symbolic_opset9.py:4476: UserWarning: Exporting a model to ONNX with a batch_size other than 1, with a variable length with GRU can cause an error when running the ONNX model with a different batch size. Make sure to save the model with a batch size of 1, or define the initial states (h0/c0) as inputs of the model. \n",
      "  warnings.warn(\n"
     ]
    },
    {
     "name": "stdout",
     "output_type": "stream",
     "text": [
      "Model: 2, Epoch [59/60], Loss: 0.0187\n",
      "Model: 2, Epoch [59/60], Test Loss: 0.1007\n",
      "New best model found! Test Loss improved from 0.1026 to 0.1007\n",
      "model GRU/trained_models/i7/it_2/state_models/model_GRU_long2.pt saved\n",
      "model GRU/trained_models/i7/it_2/traced_models/model_GRU_long2_traced_jit_save.pt saved\n",
      "model GRU/trained_models/i7/it_2/traced_models/model_GRU_long2_traced_simple_save.pt saved\n",
      "================ Diagnostic Run torch.onnx.export version 2.0.0 ================\n",
      "verbose: False, log level: Level.ERROR\n",
      "======================= 0 NONE 0 NOTE 0 WARNING 0 ERROR ========================\n",
      "\n",
      "model GRU/trained_models/i7/it_2/traced_models/model_GRU_long2_traced.onnx saved\n",
      "---------------------\n",
      "all model_2 saved\n",
      "-------------------------------------\n",
      "Epoch [60] has started\n"
     ]
    },
    {
     "name": "stderr",
     "output_type": "stream",
     "text": [
      "C:\\Users\\ROG\\miniconda3\\envs\\pytorch200_cuda118\\lib\\site-packages\\torch\\onnx\\symbolic_opset9.py:4476: UserWarning: Exporting a model to ONNX with a batch_size other than 1, with a variable length with GRU can cause an error when running the ONNX model with a different batch size. Make sure to save the model with a batch size of 1, or define the initial states (h0/c0) as inputs of the model. \n",
      "  warnings.warn(\n"
     ]
    },
    {
     "name": "stdout",
     "output_type": "stream",
     "text": [
      "Model: 2, Epoch [60/60], Loss: 0.0182\n",
      "Model: 2, Epoch [60/60], Test Loss: 0.0962\n",
      "New best model found! Test Loss improved from 0.1007 to 0.0962\n",
      "model GRU/trained_models/i7/it_2/state_models/model_GRU_long2.pt saved\n",
      "model GRU/trained_models/i7/it_2/traced_models/model_GRU_long2_traced_jit_save.pt saved\n",
      "model GRU/trained_models/i7/it_2/traced_models/model_GRU_long2_traced_simple_save.pt saved\n",
      "================ Diagnostic Run torch.onnx.export version 2.0.0 ================\n",
      "verbose: False, log level: Level.ERROR\n",
      "======================= 0 NONE 0 NOTE 0 WARNING 0 ERROR ========================\n",
      "\n",
      "model GRU/trained_models/i7/it_2/traced_models/model_GRU_long2_traced.onnx saved\n",
      "---------------------\n",
      "all model_2 saved\n",
      "We're out of epochs but patience limit has not been reached -> starting next model!\n",
      "-----------------------------------------------------------------------------------\n",
      "-------------------------------------\n",
      "Training has started for GRU model 3\n"
     ]
    },
    {
     "name": "stderr",
     "output_type": "stream",
     "text": [
      "C:\\Users\\ROG\\miniconda3\\envs\\pytorch200_cuda118\\lib\\site-packages\\torch\\onnx\\symbolic_opset9.py:4476: UserWarning: Exporting a model to ONNX with a batch_size other than 1, with a variable length with GRU can cause an error when running the ONNX model with a different batch size. Make sure to save the model with a batch size of 1, or define the initial states (h0/c0) as inputs of the model. \n",
      "  warnings.warn(\n"
     ]
    },
    {
     "name": "stdout",
     "output_type": "stream",
     "text": [
      "-------------------------------------\n",
      "Epoch [1] has started\n",
      "Model: 3, Epoch [1/60], Loss: 266.3651\n",
      "Model: 3, Epoch [1/60], Test Loss: 38.1286\n",
      "New best model found! Test Loss improved from inf to 38.1286\n",
      "model GRU/trained_models/i7/it_2/state_models/model_GRU_long3.pt saved\n",
      "model GRU/trained_models/i7/it_2/traced_models/model_GRU_long3_traced_jit_save.pt saved\n",
      "model GRU/trained_models/i7/it_2/traced_models/model_GRU_long3_traced_simple_save.pt saved\n",
      "================ Diagnostic Run torch.onnx.export version 2.0.0 ================\n",
      "verbose: False, log level: Level.ERROR\n",
      "======================= 0 NONE 0 NOTE 0 WARNING 0 ERROR ========================\n",
      "\n",
      "model GRU/trained_models/i7/it_2/traced_models/model_GRU_long3_traced.onnx saved\n",
      "---------------------\n",
      "all model_3 saved\n",
      "-------------------------------------\n",
      "Epoch [2] has started\n"
     ]
    },
    {
     "name": "stderr",
     "output_type": "stream",
     "text": [
      "C:\\Users\\ROG\\miniconda3\\envs\\pytorch200_cuda118\\lib\\site-packages\\torch\\onnx\\symbolic_opset9.py:4476: UserWarning: Exporting a model to ONNX with a batch_size other than 1, with a variable length with GRU can cause an error when running the ONNX model with a different batch size. Make sure to save the model with a batch size of 1, or define the initial states (h0/c0) as inputs of the model. \n",
      "  warnings.warn(\n"
     ]
    },
    {
     "name": "stdout",
     "output_type": "stream",
     "text": [
      "Model: 3, Epoch [2/60], Loss: 20.5808\n",
      "Model: 3, Epoch [2/60], Test Loss: 17.1026\n",
      "New best model found! Test Loss improved from 38.1286 to 17.1026\n",
      "model GRU/trained_models/i7/it_2/state_models/model_GRU_long3.pt saved\n",
      "model GRU/trained_models/i7/it_2/traced_models/model_GRU_long3_traced_jit_save.pt saved\n",
      "model GRU/trained_models/i7/it_2/traced_models/model_GRU_long3_traced_simple_save.pt saved\n",
      "================ Diagnostic Run torch.onnx.export version 2.0.0 ================\n",
      "verbose: False, log level: Level.ERROR\n",
      "======================= 0 NONE 0 NOTE 0 WARNING 0 ERROR ========================\n",
      "\n",
      "model GRU/trained_models/i7/it_2/traced_models/model_GRU_long3_traced.onnx saved\n",
      "---------------------\n",
      "all model_3 saved\n",
      "-------------------------------------\n",
      "Epoch [3] has started\n"
     ]
    },
    {
     "name": "stderr",
     "output_type": "stream",
     "text": [
      "C:\\Users\\ROG\\miniconda3\\envs\\pytorch200_cuda118\\lib\\site-packages\\torch\\onnx\\symbolic_opset9.py:4476: UserWarning: Exporting a model to ONNX with a batch_size other than 1, with a variable length with GRU can cause an error when running the ONNX model with a different batch size. Make sure to save the model with a batch size of 1, or define the initial states (h0/c0) as inputs of the model. \n",
      "  warnings.warn(\n"
     ]
    },
    {
     "name": "stdout",
     "output_type": "stream",
     "text": [
      "Model: 3, Epoch [3/60], Loss: 9.7896\n",
      "Model: 3, Epoch [3/60], Test Loss: 9.0737\n",
      "New best model found! Test Loss improved from 17.1026 to 9.0737\n",
      "model GRU/trained_models/i7/it_2/state_models/model_GRU_long3.pt saved\n",
      "model GRU/trained_models/i7/it_2/traced_models/model_GRU_long3_traced_jit_save.pt saved\n",
      "model GRU/trained_models/i7/it_2/traced_models/model_GRU_long3_traced_simple_save.pt saved\n",
      "================ Diagnostic Run torch.onnx.export version 2.0.0 ================\n",
      "verbose: False, log level: Level.ERROR\n",
      "======================= 0 NONE 0 NOTE 0 WARNING 0 ERROR ========================\n",
      "\n",
      "model GRU/trained_models/i7/it_2/traced_models/model_GRU_long3_traced.onnx saved\n",
      "---------------------\n",
      "all model_3 saved\n",
      "-------------------------------------\n",
      "Epoch [4] has started\n"
     ]
    },
    {
     "name": "stderr",
     "output_type": "stream",
     "text": [
      "C:\\Users\\ROG\\miniconda3\\envs\\pytorch200_cuda118\\lib\\site-packages\\torch\\onnx\\symbolic_opset9.py:4476: UserWarning: Exporting a model to ONNX with a batch_size other than 1, with a variable length with GRU can cause an error when running the ONNX model with a different batch size. Make sure to save the model with a batch size of 1, or define the initial states (h0/c0) as inputs of the model. \n",
      "  warnings.warn(\n"
     ]
    },
    {
     "name": "stdout",
     "output_type": "stream",
     "text": [
      "Model: 3, Epoch [4/60], Loss: 5.1593\n",
      "Model: 3, Epoch [4/60], Test Loss: 4.5718\n",
      "New best model found! Test Loss improved from 9.0737 to 4.5718\n",
      "model GRU/trained_models/i7/it_2/state_models/model_GRU_long3.pt saved\n",
      "model GRU/trained_models/i7/it_2/traced_models/model_GRU_long3_traced_jit_save.pt saved\n",
      "model GRU/trained_models/i7/it_2/traced_models/model_GRU_long3_traced_simple_save.pt saved\n",
      "================ Diagnostic Run torch.onnx.export version 2.0.0 ================\n",
      "verbose: False, log level: Level.ERROR\n",
      "======================= 0 NONE 0 NOTE 0 WARNING 0 ERROR ========================\n",
      "\n",
      "model GRU/trained_models/i7/it_2/traced_models/model_GRU_long3_traced.onnx saved\n",
      "---------------------\n",
      "all model_3 saved\n",
      "-------------------------------------\n",
      "Epoch [5] has started\n"
     ]
    },
    {
     "name": "stderr",
     "output_type": "stream",
     "text": [
      "C:\\Users\\ROG\\miniconda3\\envs\\pytorch200_cuda118\\lib\\site-packages\\torch\\onnx\\symbolic_opset9.py:4476: UserWarning: Exporting a model to ONNX with a batch_size other than 1, with a variable length with GRU can cause an error when running the ONNX model with a different batch size. Make sure to save the model with a batch size of 1, or define the initial states (h0/c0) as inputs of the model. \n",
      "  warnings.warn(\n"
     ]
    },
    {
     "name": "stdout",
     "output_type": "stream",
     "text": [
      "Model: 3, Epoch [5/60], Loss: 2.8688\n",
      "Model: 3, Epoch [5/60], Test Loss: 2.7812\n",
      "New best model found! Test Loss improved from 4.5718 to 2.7812\n",
      "model GRU/trained_models/i7/it_2/state_models/model_GRU_long3.pt saved\n",
      "model GRU/trained_models/i7/it_2/traced_models/model_GRU_long3_traced_jit_save.pt saved\n",
      "model GRU/trained_models/i7/it_2/traced_models/model_GRU_long3_traced_simple_save.pt saved\n",
      "================ Diagnostic Run torch.onnx.export version 2.0.0 ================\n",
      "verbose: False, log level: Level.ERROR\n",
      "======================= 0 NONE 0 NOTE 0 WARNING 0 ERROR ========================\n",
      "\n",
      "model GRU/trained_models/i7/it_2/traced_models/model_GRU_long3_traced.onnx saved\n",
      "---------------------\n",
      "all model_3 saved\n",
      "-------------------------------------\n",
      "Epoch [6] has started\n"
     ]
    },
    {
     "name": "stderr",
     "output_type": "stream",
     "text": [
      "C:\\Users\\ROG\\miniconda3\\envs\\pytorch200_cuda118\\lib\\site-packages\\torch\\onnx\\symbolic_opset9.py:4476: UserWarning: Exporting a model to ONNX with a batch_size other than 1, with a variable length with GRU can cause an error when running the ONNX model with a different batch size. Make sure to save the model with a batch size of 1, or define the initial states (h0/c0) as inputs of the model. \n",
      "  warnings.warn(\n"
     ]
    },
    {
     "name": "stdout",
     "output_type": "stream",
     "text": [
      "Model: 3, Epoch [6/60], Loss: 1.9146\n",
      "Model: 3, Epoch [6/60], Test Loss: 2.0904\n",
      "New best model found! Test Loss improved from 2.7812 to 2.0904\n",
      "model GRU/trained_models/i7/it_2/state_models/model_GRU_long3.pt saved\n",
      "model GRU/trained_models/i7/it_2/traced_models/model_GRU_long3_traced_jit_save.pt saved\n",
      "model GRU/trained_models/i7/it_2/traced_models/model_GRU_long3_traced_simple_save.pt saved\n",
      "================ Diagnostic Run torch.onnx.export version 2.0.0 ================\n",
      "verbose: False, log level: Level.ERROR\n",
      "======================= 0 NONE 0 NOTE 0 WARNING 0 ERROR ========================\n",
      "\n",
      "model GRU/trained_models/i7/it_2/traced_models/model_GRU_long3_traced.onnx saved\n",
      "---------------------\n",
      "all model_3 saved\n",
      "-------------------------------------\n",
      "Epoch [7] has started\n"
     ]
    },
    {
     "name": "stderr",
     "output_type": "stream",
     "text": [
      "C:\\Users\\ROG\\miniconda3\\envs\\pytorch200_cuda118\\lib\\site-packages\\torch\\onnx\\symbolic_opset9.py:4476: UserWarning: Exporting a model to ONNX with a batch_size other than 1, with a variable length with GRU can cause an error when running the ONNX model with a different batch size. Make sure to save the model with a batch size of 1, or define the initial states (h0/c0) as inputs of the model. \n",
      "  warnings.warn(\n"
     ]
    },
    {
     "name": "stdout",
     "output_type": "stream",
     "text": [
      "Model: 3, Epoch [7/60], Loss: 1.4644\n",
      "Model: 3, Epoch [7/60], Test Loss: 1.7349\n",
      "New best model found! Test Loss improved from 2.0904 to 1.7349\n",
      "model GRU/trained_models/i7/it_2/state_models/model_GRU_long3.pt saved\n",
      "model GRU/trained_models/i7/it_2/traced_models/model_GRU_long3_traced_jit_save.pt saved\n",
      "model GRU/trained_models/i7/it_2/traced_models/model_GRU_long3_traced_simple_save.pt saved\n",
      "================ Diagnostic Run torch.onnx.export version 2.0.0 ================\n",
      "verbose: False, log level: Level.ERROR\n",
      "======================= 0 NONE 0 NOTE 0 WARNING 0 ERROR ========================\n",
      "\n",
      "model GRU/trained_models/i7/it_2/traced_models/model_GRU_long3_traced.onnx saved\n",
      "---------------------\n",
      "all model_3 saved\n",
      "-------------------------------------\n",
      "Epoch [8] has started\n"
     ]
    },
    {
     "name": "stderr",
     "output_type": "stream",
     "text": [
      "C:\\Users\\ROG\\miniconda3\\envs\\pytorch200_cuda118\\lib\\site-packages\\torch\\onnx\\symbolic_opset9.py:4476: UserWarning: Exporting a model to ONNX with a batch_size other than 1, with a variable length with GRU can cause an error when running the ONNX model with a different batch size. Make sure to save the model with a batch size of 1, or define the initial states (h0/c0) as inputs of the model. \n",
      "  warnings.warn(\n"
     ]
    },
    {
     "name": "stdout",
     "output_type": "stream",
     "text": [
      "Model: 3, Epoch [8/60], Loss: 1.1844\n",
      "Model: 3, Epoch [8/60], Test Loss: 1.5146\n",
      "New best model found! Test Loss improved from 1.7349 to 1.5146\n",
      "model GRU/trained_models/i7/it_2/state_models/model_GRU_long3.pt saved\n",
      "model GRU/trained_models/i7/it_2/traced_models/model_GRU_long3_traced_jit_save.pt saved\n",
      "model GRU/trained_models/i7/it_2/traced_models/model_GRU_long3_traced_simple_save.pt saved\n",
      "================ Diagnostic Run torch.onnx.export version 2.0.0 ================\n",
      "verbose: False, log level: Level.ERROR\n",
      "======================= 0 NONE 0 NOTE 0 WARNING 0 ERROR ========================\n",
      "\n",
      "model GRU/trained_models/i7/it_2/traced_models/model_GRU_long3_traced.onnx saved\n",
      "---------------------\n",
      "all model_3 saved\n",
      "-------------------------------------\n",
      "Epoch [9] has started\n"
     ]
    },
    {
     "name": "stderr",
     "output_type": "stream",
     "text": [
      "C:\\Users\\ROG\\miniconda3\\envs\\pytorch200_cuda118\\lib\\site-packages\\torch\\onnx\\symbolic_opset9.py:4476: UserWarning: Exporting a model to ONNX with a batch_size other than 1, with a variable length with GRU can cause an error when running the ONNX model with a different batch size. Make sure to save the model with a batch size of 1, or define the initial states (h0/c0) as inputs of the model. \n",
      "  warnings.warn(\n"
     ]
    },
    {
     "name": "stdout",
     "output_type": "stream",
     "text": [
      "Model: 3, Epoch [9/60], Loss: 1.0060\n",
      "Model: 3, Epoch [9/60], Test Loss: 1.3646\n",
      "New best model found! Test Loss improved from 1.5146 to 1.3646\n",
      "model GRU/trained_models/i7/it_2/state_models/model_GRU_long3.pt saved\n",
      "model GRU/trained_models/i7/it_2/traced_models/model_GRU_long3_traced_jit_save.pt saved\n",
      "model GRU/trained_models/i7/it_2/traced_models/model_GRU_long3_traced_simple_save.pt saved\n",
      "================ Diagnostic Run torch.onnx.export version 2.0.0 ================\n",
      "verbose: False, log level: Level.ERROR\n",
      "======================= 0 NONE 0 NOTE 0 WARNING 0 ERROR ========================\n",
      "\n",
      "model GRU/trained_models/i7/it_2/traced_models/model_GRU_long3_traced.onnx saved\n",
      "---------------------\n",
      "all model_3 saved\n",
      "-------------------------------------\n",
      "Epoch [10] has started\n"
     ]
    },
    {
     "name": "stderr",
     "output_type": "stream",
     "text": [
      "C:\\Users\\ROG\\miniconda3\\envs\\pytorch200_cuda118\\lib\\site-packages\\torch\\onnx\\symbolic_opset9.py:4476: UserWarning: Exporting a model to ONNX with a batch_size other than 1, with a variable length with GRU can cause an error when running the ONNX model with a different batch size. Make sure to save the model with a batch size of 1, or define the initial states (h0/c0) as inputs of the model. \n",
      "  warnings.warn(\n"
     ]
    },
    {
     "name": "stdout",
     "output_type": "stream",
     "text": [
      "Model: 3, Epoch [10/60], Loss: 0.8788\n",
      "Model: 3, Epoch [10/60], Test Loss: 1.1586\n",
      "New best model found! Test Loss improved from 1.3646 to 1.1586\n",
      "model GRU/trained_models/i7/it_2/state_models/model_GRU_long3.pt saved\n",
      "model GRU/trained_models/i7/it_2/traced_models/model_GRU_long3_traced_jit_save.pt saved\n",
      "model GRU/trained_models/i7/it_2/traced_models/model_GRU_long3_traced_simple_save.pt saved\n",
      "================ Diagnostic Run torch.onnx.export version 2.0.0 ================\n",
      "verbose: False, log level: Level.ERROR\n",
      "======================= 0 NONE 0 NOTE 0 WARNING 0 ERROR ========================\n",
      "\n",
      "model GRU/trained_models/i7/it_2/traced_models/model_GRU_long3_traced.onnx saved\n",
      "---------------------\n",
      "all model_3 saved\n",
      "-------------------------------------\n",
      "Epoch [11] has started\n"
     ]
    },
    {
     "name": "stderr",
     "output_type": "stream",
     "text": [
      "C:\\Users\\ROG\\miniconda3\\envs\\pytorch200_cuda118\\lib\\site-packages\\torch\\onnx\\symbolic_opset9.py:4476: UserWarning: Exporting a model to ONNX with a batch_size other than 1, with a variable length with GRU can cause an error when running the ONNX model with a different batch size. Make sure to save the model with a batch size of 1, or define the initial states (h0/c0) as inputs of the model. \n",
      "  warnings.warn(\n"
     ]
    },
    {
     "name": "stdout",
     "output_type": "stream",
     "text": [
      "Model: 3, Epoch [11/60], Loss: 0.7840\n",
      "Model: 3, Epoch [11/60], Test Loss: 1.0581\n",
      "New best model found! Test Loss improved from 1.1586 to 1.0581\n",
      "model GRU/trained_models/i7/it_2/state_models/model_GRU_long3.pt saved\n",
      "model GRU/trained_models/i7/it_2/traced_models/model_GRU_long3_traced_jit_save.pt saved\n",
      "model GRU/trained_models/i7/it_2/traced_models/model_GRU_long3_traced_simple_save.pt saved\n",
      "================ Diagnostic Run torch.onnx.export version 2.0.0 ================\n",
      "verbose: False, log level: Level.ERROR\n",
      "======================= 0 NONE 0 NOTE 0 WARNING 0 ERROR ========================\n",
      "\n",
      "model GRU/trained_models/i7/it_2/traced_models/model_GRU_long3_traced.onnx saved\n",
      "---------------------\n",
      "all model_3 saved\n",
      "-------------------------------------\n",
      "Epoch [12] has started\n"
     ]
    },
    {
     "name": "stderr",
     "output_type": "stream",
     "text": [
      "C:\\Users\\ROG\\miniconda3\\envs\\pytorch200_cuda118\\lib\\site-packages\\torch\\onnx\\symbolic_opset9.py:4476: UserWarning: Exporting a model to ONNX with a batch_size other than 1, with a variable length with GRU can cause an error when running the ONNX model with a different batch size. Make sure to save the model with a batch size of 1, or define the initial states (h0/c0) as inputs of the model. \n",
      "  warnings.warn(\n"
     ]
    },
    {
     "name": "stdout",
     "output_type": "stream",
     "text": [
      "Model: 3, Epoch [12/60], Loss: 0.7096\n",
      "Model: 3, Epoch [12/60], Test Loss: 0.9719\n",
      "New best model found! Test Loss improved from 1.0581 to 0.9719\n",
      "model GRU/trained_models/i7/it_2/state_models/model_GRU_long3.pt saved\n",
      "model GRU/trained_models/i7/it_2/traced_models/model_GRU_long3_traced_jit_save.pt saved\n",
      "model GRU/trained_models/i7/it_2/traced_models/model_GRU_long3_traced_simple_save.pt saved\n",
      "================ Diagnostic Run torch.onnx.export version 2.0.0 ================\n",
      "verbose: False, log level: Level.ERROR\n",
      "======================= 0 NONE 0 NOTE 0 WARNING 0 ERROR ========================\n",
      "\n",
      "model GRU/trained_models/i7/it_2/traced_models/model_GRU_long3_traced.onnx saved\n",
      "---------------------\n",
      "all model_3 saved\n",
      "-------------------------------------\n",
      "Epoch [13] has started\n"
     ]
    },
    {
     "name": "stderr",
     "output_type": "stream",
     "text": [
      "C:\\Users\\ROG\\miniconda3\\envs\\pytorch200_cuda118\\lib\\site-packages\\torch\\onnx\\symbolic_opset9.py:4476: UserWarning: Exporting a model to ONNX with a batch_size other than 1, with a variable length with GRU can cause an error when running the ONNX model with a different batch size. Make sure to save the model with a batch size of 1, or define the initial states (h0/c0) as inputs of the model. \n",
      "  warnings.warn(\n"
     ]
    },
    {
     "name": "stdout",
     "output_type": "stream",
     "text": [
      "Model: 3, Epoch [13/60], Loss: 0.6477\n",
      "Model: 3, Epoch [13/60], Test Loss: 0.8784\n",
      "New best model found! Test Loss improved from 0.9719 to 0.8784\n",
      "model GRU/trained_models/i7/it_2/state_models/model_GRU_long3.pt saved\n",
      "model GRU/trained_models/i7/it_2/traced_models/model_GRU_long3_traced_jit_save.pt saved\n",
      "model GRU/trained_models/i7/it_2/traced_models/model_GRU_long3_traced_simple_save.pt saved\n",
      "================ Diagnostic Run torch.onnx.export version 2.0.0 ================\n",
      "verbose: False, log level: Level.ERROR\n",
      "======================= 0 NONE 0 NOTE 0 WARNING 0 ERROR ========================\n",
      "\n",
      "model GRU/trained_models/i7/it_2/traced_models/model_GRU_long3_traced.onnx saved\n",
      "---------------------\n",
      "all model_3 saved\n",
      "-------------------------------------\n",
      "Epoch [14] has started\n"
     ]
    },
    {
     "name": "stderr",
     "output_type": "stream",
     "text": [
      "C:\\Users\\ROG\\miniconda3\\envs\\pytorch200_cuda118\\lib\\site-packages\\torch\\onnx\\symbolic_opset9.py:4476: UserWarning: Exporting a model to ONNX with a batch_size other than 1, with a variable length with GRU can cause an error when running the ONNX model with a different batch size. Make sure to save the model with a batch size of 1, or define the initial states (h0/c0) as inputs of the model. \n",
      "  warnings.warn(\n"
     ]
    },
    {
     "name": "stdout",
     "output_type": "stream",
     "text": [
      "Model: 3, Epoch [14/60], Loss: 0.5902\n",
      "Model: 3, Epoch [14/60], Test Loss: 0.8069\n",
      "New best model found! Test Loss improved from 0.8784 to 0.8069\n",
      "model GRU/trained_models/i7/it_2/state_models/model_GRU_long3.pt saved\n",
      "model GRU/trained_models/i7/it_2/traced_models/model_GRU_long3_traced_jit_save.pt saved\n",
      "model GRU/trained_models/i7/it_2/traced_models/model_GRU_long3_traced_simple_save.pt saved\n",
      "================ Diagnostic Run torch.onnx.export version 2.0.0 ================\n",
      "verbose: False, log level: Level.ERROR\n",
      "======================= 0 NONE 0 NOTE 0 WARNING 0 ERROR ========================\n",
      "\n",
      "model GRU/trained_models/i7/it_2/traced_models/model_GRU_long3_traced.onnx saved\n",
      "---------------------\n",
      "all model_3 saved\n",
      "-------------------------------------\n",
      "Epoch [15] has started\n"
     ]
    },
    {
     "name": "stderr",
     "output_type": "stream",
     "text": [
      "C:\\Users\\ROG\\miniconda3\\envs\\pytorch200_cuda118\\lib\\site-packages\\torch\\onnx\\symbolic_opset9.py:4476: UserWarning: Exporting a model to ONNX with a batch_size other than 1, with a variable length with GRU can cause an error when running the ONNX model with a different batch size. Make sure to save the model with a batch size of 1, or define the initial states (h0/c0) as inputs of the model. \n",
      "  warnings.warn(\n"
     ]
    },
    {
     "name": "stdout",
     "output_type": "stream",
     "text": [
      "Model: 3, Epoch [15/60], Loss: 0.5410\n",
      "Model: 3, Epoch [15/60], Test Loss: 0.7307\n",
      "New best model found! Test Loss improved from 0.8069 to 0.7307\n",
      "model GRU/trained_models/i7/it_2/state_models/model_GRU_long3.pt saved\n",
      "model GRU/trained_models/i7/it_2/traced_models/model_GRU_long3_traced_jit_save.pt saved\n",
      "model GRU/trained_models/i7/it_2/traced_models/model_GRU_long3_traced_simple_save.pt saved\n",
      "================ Diagnostic Run torch.onnx.export version 2.0.0 ================\n",
      "verbose: False, log level: Level.ERROR\n",
      "======================= 0 NONE 0 NOTE 0 WARNING 0 ERROR ========================\n",
      "\n",
      "model GRU/trained_models/i7/it_2/traced_models/model_GRU_long3_traced.onnx saved\n",
      "---------------------\n",
      "all model_3 saved\n",
      "-------------------------------------\n",
      "Epoch [16] has started\n"
     ]
    },
    {
     "name": "stderr",
     "output_type": "stream",
     "text": [
      "C:\\Users\\ROG\\miniconda3\\envs\\pytorch200_cuda118\\lib\\site-packages\\torch\\onnx\\symbolic_opset9.py:4476: UserWarning: Exporting a model to ONNX with a batch_size other than 1, with a variable length with GRU can cause an error when running the ONNX model with a different batch size. Make sure to save the model with a batch size of 1, or define the initial states (h0/c0) as inputs of the model. \n",
      "  warnings.warn(\n"
     ]
    },
    {
     "name": "stdout",
     "output_type": "stream",
     "text": [
      "Model: 3, Epoch [16/60], Loss: 0.4966\n",
      "Model: 3, Epoch [16/60], Test Loss: 0.6666\n",
      "New best model found! Test Loss improved from 0.7307 to 0.6666\n",
      "model GRU/trained_models/i7/it_2/state_models/model_GRU_long3.pt saved\n",
      "model GRU/trained_models/i7/it_2/traced_models/model_GRU_long3_traced_jit_save.pt saved\n",
      "model GRU/trained_models/i7/it_2/traced_models/model_GRU_long3_traced_simple_save.pt saved\n",
      "================ Diagnostic Run torch.onnx.export version 2.0.0 ================\n",
      "verbose: False, log level: Level.ERROR\n",
      "======================= 0 NONE 0 NOTE 0 WARNING 0 ERROR ========================\n",
      "\n",
      "model GRU/trained_models/i7/it_2/traced_models/model_GRU_long3_traced.onnx saved\n",
      "---------------------\n",
      "all model_3 saved\n",
      "-------------------------------------\n",
      "Epoch [17] has started\n"
     ]
    },
    {
     "name": "stderr",
     "output_type": "stream",
     "text": [
      "C:\\Users\\ROG\\miniconda3\\envs\\pytorch200_cuda118\\lib\\site-packages\\torch\\onnx\\symbolic_opset9.py:4476: UserWarning: Exporting a model to ONNX with a batch_size other than 1, with a variable length with GRU can cause an error when running the ONNX model with a different batch size. Make sure to save the model with a batch size of 1, or define the initial states (h0/c0) as inputs of the model. \n",
      "  warnings.warn(\n"
     ]
    },
    {
     "name": "stdout",
     "output_type": "stream",
     "text": [
      "Model: 3, Epoch [17/60], Loss: 0.4542\n",
      "Model: 3, Epoch [17/60], Test Loss: 0.6182\n",
      "New best model found! Test Loss improved from 0.6666 to 0.6182\n",
      "model GRU/trained_models/i7/it_2/state_models/model_GRU_long3.pt saved\n",
      "model GRU/trained_models/i7/it_2/traced_models/model_GRU_long3_traced_jit_save.pt saved\n",
      "model GRU/trained_models/i7/it_2/traced_models/model_GRU_long3_traced_simple_save.pt saved\n",
      "================ Diagnostic Run torch.onnx.export version 2.0.0 ================\n",
      "verbose: False, log level: Level.ERROR\n",
      "======================= 0 NONE 0 NOTE 0 WARNING 0 ERROR ========================\n",
      "\n",
      "model GRU/trained_models/i7/it_2/traced_models/model_GRU_long3_traced.onnx saved\n",
      "---------------------\n",
      "all model_3 saved\n",
      "-------------------------------------\n",
      "Epoch [18] has started\n"
     ]
    },
    {
     "name": "stderr",
     "output_type": "stream",
     "text": [
      "C:\\Users\\ROG\\miniconda3\\envs\\pytorch200_cuda118\\lib\\site-packages\\torch\\onnx\\symbolic_opset9.py:4476: UserWarning: Exporting a model to ONNX with a batch_size other than 1, with a variable length with GRU can cause an error when running the ONNX model with a different batch size. Make sure to save the model with a batch size of 1, or define the initial states (h0/c0) as inputs of the model. \n",
      "  warnings.warn(\n"
     ]
    },
    {
     "name": "stdout",
     "output_type": "stream",
     "text": [
      "Model: 3, Epoch [18/60], Loss: 0.4135\n",
      "Model: 3, Epoch [18/60], Test Loss: 0.5661\n",
      "New best model found! Test Loss improved from 0.6182 to 0.5661\n",
      "model GRU/trained_models/i7/it_2/state_models/model_GRU_long3.pt saved\n",
      "model GRU/trained_models/i7/it_2/traced_models/model_GRU_long3_traced_jit_save.pt saved\n",
      "model GRU/trained_models/i7/it_2/traced_models/model_GRU_long3_traced_simple_save.pt saved\n",
      "================ Diagnostic Run torch.onnx.export version 2.0.0 ================\n",
      "verbose: False, log level: Level.ERROR\n",
      "======================= 0 NONE 0 NOTE 0 WARNING 0 ERROR ========================\n",
      "\n",
      "model GRU/trained_models/i7/it_2/traced_models/model_GRU_long3_traced.onnx saved\n",
      "---------------------\n",
      "all model_3 saved\n",
      "-------------------------------------\n",
      "Epoch [19] has started\n"
     ]
    },
    {
     "name": "stderr",
     "output_type": "stream",
     "text": [
      "C:\\Users\\ROG\\miniconda3\\envs\\pytorch200_cuda118\\lib\\site-packages\\torch\\onnx\\symbolic_opset9.py:4476: UserWarning: Exporting a model to ONNX with a batch_size other than 1, with a variable length with GRU can cause an error when running the ONNX model with a different batch size. Make sure to save the model with a batch size of 1, or define the initial states (h0/c0) as inputs of the model. \n",
      "  warnings.warn(\n"
     ]
    },
    {
     "name": "stdout",
     "output_type": "stream",
     "text": [
      "Model: 3, Epoch [19/60], Loss: 0.3723\n",
      "Model: 3, Epoch [19/60], Test Loss: 0.5053\n",
      "New best model found! Test Loss improved from 0.5661 to 0.5053\n",
      "model GRU/trained_models/i7/it_2/state_models/model_GRU_long3.pt saved\n",
      "model GRU/trained_models/i7/it_2/traced_models/model_GRU_long3_traced_jit_save.pt saved\n",
      "model GRU/trained_models/i7/it_2/traced_models/model_GRU_long3_traced_simple_save.pt saved\n",
      "================ Diagnostic Run torch.onnx.export version 2.0.0 ================\n",
      "verbose: False, log level: Level.ERROR\n",
      "======================= 0 NONE 0 NOTE 0 WARNING 0 ERROR ========================\n",
      "\n",
      "model GRU/trained_models/i7/it_2/traced_models/model_GRU_long3_traced.onnx saved\n",
      "---------------------\n",
      "all model_3 saved\n",
      "-------------------------------------\n",
      "Epoch [20] has started\n"
     ]
    },
    {
     "name": "stderr",
     "output_type": "stream",
     "text": [
      "C:\\Users\\ROG\\miniconda3\\envs\\pytorch200_cuda118\\lib\\site-packages\\torch\\onnx\\symbolic_opset9.py:4476: UserWarning: Exporting a model to ONNX with a batch_size other than 1, with a variable length with GRU can cause an error when running the ONNX model with a different batch size. Make sure to save the model with a batch size of 1, or define the initial states (h0/c0) as inputs of the model. \n",
      "  warnings.warn(\n"
     ]
    },
    {
     "name": "stdout",
     "output_type": "stream",
     "text": [
      "Model: 3, Epoch [20/60], Loss: 0.3331\n",
      "Model: 3, Epoch [20/60], Test Loss: 0.4591\n",
      "New best model found! Test Loss improved from 0.5053 to 0.4591\n",
      "model GRU/trained_models/i7/it_2/state_models/model_GRU_long3.pt saved\n",
      "model GRU/trained_models/i7/it_2/traced_models/model_GRU_long3_traced_jit_save.pt saved\n",
      "model GRU/trained_models/i7/it_2/traced_models/model_GRU_long3_traced_simple_save.pt saved\n",
      "================ Diagnostic Run torch.onnx.export version 2.0.0 ================\n",
      "verbose: False, log level: Level.ERROR\n",
      "======================= 0 NONE 0 NOTE 0 WARNING 0 ERROR ========================\n",
      "\n",
      "model GRU/trained_models/i7/it_2/traced_models/model_GRU_long3_traced.onnx saved\n",
      "---------------------\n",
      "all model_3 saved\n",
      "-------------------------------------\n",
      "Epoch [21] has started\n"
     ]
    },
    {
     "name": "stderr",
     "output_type": "stream",
     "text": [
      "C:\\Users\\ROG\\miniconda3\\envs\\pytorch200_cuda118\\lib\\site-packages\\torch\\onnx\\symbolic_opset9.py:4476: UserWarning: Exporting a model to ONNX with a batch_size other than 1, with a variable length with GRU can cause an error when running the ONNX model with a different batch size. Make sure to save the model with a batch size of 1, or define the initial states (h0/c0) as inputs of the model. \n",
      "  warnings.warn(\n"
     ]
    },
    {
     "name": "stdout",
     "output_type": "stream",
     "text": [
      "Model: 3, Epoch [21/60], Loss: 0.2998\n",
      "Model: 3, Epoch [21/60], Test Loss: 0.4192\n",
      "New best model found! Test Loss improved from 0.4591 to 0.4192\n",
      "model GRU/trained_models/i7/it_2/state_models/model_GRU_long3.pt saved\n",
      "model GRU/trained_models/i7/it_2/traced_models/model_GRU_long3_traced_jit_save.pt saved\n",
      "model GRU/trained_models/i7/it_2/traced_models/model_GRU_long3_traced_simple_save.pt saved\n",
      "================ Diagnostic Run torch.onnx.export version 2.0.0 ================\n",
      "verbose: False, log level: Level.ERROR\n",
      "======================= 0 NONE 0 NOTE 0 WARNING 0 ERROR ========================\n",
      "\n",
      "model GRU/trained_models/i7/it_2/traced_models/model_GRU_long3_traced.onnx saved\n",
      "---------------------\n",
      "all model_3 saved\n",
      "-------------------------------------\n",
      "Epoch [22] has started\n"
     ]
    },
    {
     "name": "stderr",
     "output_type": "stream",
     "text": [
      "C:\\Users\\ROG\\miniconda3\\envs\\pytorch200_cuda118\\lib\\site-packages\\torch\\onnx\\symbolic_opset9.py:4476: UserWarning: Exporting a model to ONNX with a batch_size other than 1, with a variable length with GRU can cause an error when running the ONNX model with a different batch size. Make sure to save the model with a batch size of 1, or define the initial states (h0/c0) as inputs of the model. \n",
      "  warnings.warn(\n"
     ]
    },
    {
     "name": "stdout",
     "output_type": "stream",
     "text": [
      "Model: 3, Epoch [22/60], Loss: 0.2655\n",
      "Model: 3, Epoch [22/60], Test Loss: 0.3895\n",
      "New best model found! Test Loss improved from 0.4192 to 0.3895\n",
      "model GRU/trained_models/i7/it_2/state_models/model_GRU_long3.pt saved\n",
      "model GRU/trained_models/i7/it_2/traced_models/model_GRU_long3_traced_jit_save.pt saved\n",
      "model GRU/trained_models/i7/it_2/traced_models/model_GRU_long3_traced_simple_save.pt saved\n",
      "================ Diagnostic Run torch.onnx.export version 2.0.0 ================\n",
      "verbose: False, log level: Level.ERROR\n",
      "======================= 0 NONE 0 NOTE 0 WARNING 0 ERROR ========================\n",
      "\n",
      "model GRU/trained_models/i7/it_2/traced_models/model_GRU_long3_traced.onnx saved\n",
      "---------------------\n",
      "all model_3 saved\n",
      "-------------------------------------\n",
      "Epoch [23] has started\n"
     ]
    },
    {
     "name": "stderr",
     "output_type": "stream",
     "text": [
      "C:\\Users\\ROG\\miniconda3\\envs\\pytorch200_cuda118\\lib\\site-packages\\torch\\onnx\\symbolic_opset9.py:4476: UserWarning: Exporting a model to ONNX with a batch_size other than 1, with a variable length with GRU can cause an error when running the ONNX model with a different batch size. Make sure to save the model with a batch size of 1, or define the initial states (h0/c0) as inputs of the model. \n",
      "  warnings.warn(\n"
     ]
    },
    {
     "name": "stdout",
     "output_type": "stream",
     "text": [
      "Model: 3, Epoch [23/60], Loss: 0.2373\n",
      "Model: 3, Epoch [23/60], Test Loss: 0.3592\n",
      "New best model found! Test Loss improved from 0.3895 to 0.3592\n",
      "model GRU/trained_models/i7/it_2/state_models/model_GRU_long3.pt saved\n",
      "model GRU/trained_models/i7/it_2/traced_models/model_GRU_long3_traced_jit_save.pt saved\n",
      "model GRU/trained_models/i7/it_2/traced_models/model_GRU_long3_traced_simple_save.pt saved\n",
      "================ Diagnostic Run torch.onnx.export version 2.0.0 ================\n",
      "verbose: False, log level: Level.ERROR\n",
      "======================= 0 NONE 0 NOTE 0 WARNING 0 ERROR ========================\n",
      "\n",
      "model GRU/trained_models/i7/it_2/traced_models/model_GRU_long3_traced.onnx saved\n",
      "---------------------\n",
      "all model_3 saved\n",
      "-------------------------------------\n",
      "Epoch [24] has started\n"
     ]
    },
    {
     "name": "stderr",
     "output_type": "stream",
     "text": [
      "C:\\Users\\ROG\\miniconda3\\envs\\pytorch200_cuda118\\lib\\site-packages\\torch\\onnx\\symbolic_opset9.py:4476: UserWarning: Exporting a model to ONNX with a batch_size other than 1, with a variable length with GRU can cause an error when running the ONNX model with a different batch size. Make sure to save the model with a batch size of 1, or define the initial states (h0/c0) as inputs of the model. \n",
      "  warnings.warn(\n"
     ]
    },
    {
     "name": "stdout",
     "output_type": "stream",
     "text": [
      "Model: 3, Epoch [24/60], Loss: 0.2109\n",
      "Model: 3, Epoch [24/60], Test Loss: 0.3155\n",
      "New best model found! Test Loss improved from 0.3592 to 0.3155\n",
      "model GRU/trained_models/i7/it_2/state_models/model_GRU_long3.pt saved\n",
      "model GRU/trained_models/i7/it_2/traced_models/model_GRU_long3_traced_jit_save.pt saved\n",
      "model GRU/trained_models/i7/it_2/traced_models/model_GRU_long3_traced_simple_save.pt saved\n",
      "================ Diagnostic Run torch.onnx.export version 2.0.0 ================\n",
      "verbose: False, log level: Level.ERROR\n",
      "======================= 0 NONE 0 NOTE 0 WARNING 0 ERROR ========================\n",
      "\n",
      "model GRU/trained_models/i7/it_2/traced_models/model_GRU_long3_traced.onnx saved\n",
      "---------------------\n",
      "all model_3 saved\n",
      "-------------------------------------\n",
      "Epoch [25] has started\n"
     ]
    },
    {
     "name": "stderr",
     "output_type": "stream",
     "text": [
      "C:\\Users\\ROG\\miniconda3\\envs\\pytorch200_cuda118\\lib\\site-packages\\torch\\onnx\\symbolic_opset9.py:4476: UserWarning: Exporting a model to ONNX with a batch_size other than 1, with a variable length with GRU can cause an error when running the ONNX model with a different batch size. Make sure to save the model with a batch size of 1, or define the initial states (h0/c0) as inputs of the model. \n",
      "  warnings.warn(\n"
     ]
    },
    {
     "name": "stdout",
     "output_type": "stream",
     "text": [
      "Model: 3, Epoch [25/60], Loss: 0.1897\n",
      "Model: 3, Epoch [25/60], Test Loss: 0.2895\n",
      "New best model found! Test Loss improved from 0.3155 to 0.2895\n",
      "model GRU/trained_models/i7/it_2/state_models/model_GRU_long3.pt saved\n",
      "model GRU/trained_models/i7/it_2/traced_models/model_GRU_long3_traced_jit_save.pt saved\n",
      "model GRU/trained_models/i7/it_2/traced_models/model_GRU_long3_traced_simple_save.pt saved\n",
      "================ Diagnostic Run torch.onnx.export version 2.0.0 ================\n",
      "verbose: False, log level: Level.ERROR\n",
      "======================= 0 NONE 0 NOTE 0 WARNING 0 ERROR ========================\n",
      "\n",
      "model GRU/trained_models/i7/it_2/traced_models/model_GRU_long3_traced.onnx saved\n",
      "---------------------\n",
      "all model_3 saved\n",
      "-------------------------------------\n",
      "Epoch [26] has started\n"
     ]
    },
    {
     "name": "stderr",
     "output_type": "stream",
     "text": [
      "C:\\Users\\ROG\\miniconda3\\envs\\pytorch200_cuda118\\lib\\site-packages\\torch\\onnx\\symbolic_opset9.py:4476: UserWarning: Exporting a model to ONNX with a batch_size other than 1, with a variable length with GRU can cause an error when running the ONNX model with a different batch size. Make sure to save the model with a batch size of 1, or define the initial states (h0/c0) as inputs of the model. \n",
      "  warnings.warn(\n"
     ]
    },
    {
     "name": "stdout",
     "output_type": "stream",
     "text": [
      "Model: 3, Epoch [26/60], Loss: 0.1696\n",
      "Model: 3, Epoch [26/60], Test Loss: 0.2711\n",
      "New best model found! Test Loss improved from 0.2895 to 0.2711\n",
      "model GRU/trained_models/i7/it_2/state_models/model_GRU_long3.pt saved\n",
      "model GRU/trained_models/i7/it_2/traced_models/model_GRU_long3_traced_jit_save.pt saved\n",
      "model GRU/trained_models/i7/it_2/traced_models/model_GRU_long3_traced_simple_save.pt saved\n",
      "================ Diagnostic Run torch.onnx.export version 2.0.0 ================\n",
      "verbose: False, log level: Level.ERROR\n",
      "======================= 0 NONE 0 NOTE 0 WARNING 0 ERROR ========================\n",
      "\n",
      "model GRU/trained_models/i7/it_2/traced_models/model_GRU_long3_traced.onnx saved\n",
      "---------------------\n",
      "all model_3 saved\n",
      "-------------------------------------\n",
      "Epoch [27] has started\n"
     ]
    },
    {
     "name": "stderr",
     "output_type": "stream",
     "text": [
      "C:\\Users\\ROG\\miniconda3\\envs\\pytorch200_cuda118\\lib\\site-packages\\torch\\onnx\\symbolic_opset9.py:4476: UserWarning: Exporting a model to ONNX with a batch_size other than 1, with a variable length with GRU can cause an error when running the ONNX model with a different batch size. Make sure to save the model with a batch size of 1, or define the initial states (h0/c0) as inputs of the model. \n",
      "  warnings.warn(\n"
     ]
    },
    {
     "name": "stdout",
     "output_type": "stream",
     "text": [
      "Model: 3, Epoch [27/60], Loss: 0.1515\n",
      "Model: 3, Epoch [27/60], Test Loss: 0.2591\n",
      "New best model found! Test Loss improved from 0.2711 to 0.2591\n",
      "model GRU/trained_models/i7/it_2/state_models/model_GRU_long3.pt saved\n",
      "model GRU/trained_models/i7/it_2/traced_models/model_GRU_long3_traced_jit_save.pt saved\n",
      "model GRU/trained_models/i7/it_2/traced_models/model_GRU_long3_traced_simple_save.pt saved\n",
      "================ Diagnostic Run torch.onnx.export version 2.0.0 ================\n",
      "verbose: False, log level: Level.ERROR\n",
      "======================= 0 NONE 0 NOTE 0 WARNING 0 ERROR ========================\n",
      "\n",
      "model GRU/trained_models/i7/it_2/traced_models/model_GRU_long3_traced.onnx saved\n",
      "---------------------\n",
      "all model_3 saved\n",
      "-------------------------------------\n",
      "Epoch [28] has started\n"
     ]
    },
    {
     "name": "stderr",
     "output_type": "stream",
     "text": [
      "C:\\Users\\ROG\\miniconda3\\envs\\pytorch200_cuda118\\lib\\site-packages\\torch\\onnx\\symbolic_opset9.py:4476: UserWarning: Exporting a model to ONNX with a batch_size other than 1, with a variable length with GRU can cause an error when running the ONNX model with a different batch size. Make sure to save the model with a batch size of 1, or define the initial states (h0/c0) as inputs of the model. \n",
      "  warnings.warn(\n"
     ]
    },
    {
     "name": "stdout",
     "output_type": "stream",
     "text": [
      "Model: 3, Epoch [28/60], Loss: 0.1366\n",
      "Model: 3, Epoch [28/60], Test Loss: 0.2430\n",
      "New best model found! Test Loss improved from 0.2591 to 0.2430\n",
      "model GRU/trained_models/i7/it_2/state_models/model_GRU_long3.pt saved\n",
      "model GRU/trained_models/i7/it_2/traced_models/model_GRU_long3_traced_jit_save.pt saved\n",
      "model GRU/trained_models/i7/it_2/traced_models/model_GRU_long3_traced_simple_save.pt saved\n",
      "================ Diagnostic Run torch.onnx.export version 2.0.0 ================\n",
      "verbose: False, log level: Level.ERROR\n",
      "======================= 0 NONE 0 NOTE 0 WARNING 0 ERROR ========================\n",
      "\n",
      "model GRU/trained_models/i7/it_2/traced_models/model_GRU_long3_traced.onnx saved\n",
      "---------------------\n",
      "all model_3 saved\n",
      "-------------------------------------\n",
      "Epoch [29] has started\n"
     ]
    },
    {
     "name": "stderr",
     "output_type": "stream",
     "text": [
      "C:\\Users\\ROG\\miniconda3\\envs\\pytorch200_cuda118\\lib\\site-packages\\torch\\onnx\\symbolic_opset9.py:4476: UserWarning: Exporting a model to ONNX with a batch_size other than 1, with a variable length with GRU can cause an error when running the ONNX model with a different batch size. Make sure to save the model with a batch size of 1, or define the initial states (h0/c0) as inputs of the model. \n",
      "  warnings.warn(\n"
     ]
    },
    {
     "name": "stdout",
     "output_type": "stream",
     "text": [
      "Model: 3, Epoch [29/60], Loss: 0.1251\n",
      "Model: 3, Epoch [29/60], Test Loss: 0.2261\n",
      "New best model found! Test Loss improved from 0.2430 to 0.2261\n",
      "model GRU/trained_models/i7/it_2/state_models/model_GRU_long3.pt saved\n",
      "model GRU/trained_models/i7/it_2/traced_models/model_GRU_long3_traced_jit_save.pt saved\n",
      "model GRU/trained_models/i7/it_2/traced_models/model_GRU_long3_traced_simple_save.pt saved\n",
      "================ Diagnostic Run torch.onnx.export version 2.0.0 ================\n",
      "verbose: False, log level: Level.ERROR\n",
      "======================= 0 NONE 0 NOTE 0 WARNING 0 ERROR ========================\n",
      "\n",
      "model GRU/trained_models/i7/it_2/traced_models/model_GRU_long3_traced.onnx saved\n",
      "---------------------\n",
      "all model_3 saved\n",
      "-------------------------------------\n",
      "Epoch [30] has started\n"
     ]
    },
    {
     "name": "stderr",
     "output_type": "stream",
     "text": [
      "C:\\Users\\ROG\\miniconda3\\envs\\pytorch200_cuda118\\lib\\site-packages\\torch\\onnx\\symbolic_opset9.py:4476: UserWarning: Exporting a model to ONNX with a batch_size other than 1, with a variable length with GRU can cause an error when running the ONNX model with a different batch size. Make sure to save the model with a batch size of 1, or define the initial states (h0/c0) as inputs of the model. \n",
      "  warnings.warn(\n"
     ]
    },
    {
     "name": "stdout",
     "output_type": "stream",
     "text": [
      "Model: 3, Epoch [30/60], Loss: 0.1127\n",
      "Model: 3, Epoch [30/60], Test Loss: 0.2185\n",
      "New best model found! Test Loss improved from 0.2261 to 0.2185\n",
      "model GRU/trained_models/i7/it_2/state_models/model_GRU_long3.pt saved\n",
      "model GRU/trained_models/i7/it_2/traced_models/model_GRU_long3_traced_jit_save.pt saved\n",
      "model GRU/trained_models/i7/it_2/traced_models/model_GRU_long3_traced_simple_save.pt saved\n",
      "================ Diagnostic Run torch.onnx.export version 2.0.0 ================\n",
      "verbose: False, log level: Level.ERROR\n",
      "======================= 0 NONE 0 NOTE 0 WARNING 0 ERROR ========================\n",
      "\n",
      "model GRU/trained_models/i7/it_2/traced_models/model_GRU_long3_traced.onnx saved\n",
      "---------------------\n",
      "all model_3 saved\n",
      "-------------------------------------\n",
      "Epoch [31] has started\n"
     ]
    },
    {
     "name": "stderr",
     "output_type": "stream",
     "text": [
      "C:\\Users\\ROG\\miniconda3\\envs\\pytorch200_cuda118\\lib\\site-packages\\torch\\onnx\\symbolic_opset9.py:4476: UserWarning: Exporting a model to ONNX with a batch_size other than 1, with a variable length with GRU can cause an error when running the ONNX model with a different batch size. Make sure to save the model with a batch size of 1, or define the initial states (h0/c0) as inputs of the model. \n",
      "  warnings.warn(\n"
     ]
    },
    {
     "name": "stdout",
     "output_type": "stream",
     "text": [
      "Model: 3, Epoch [31/60], Loss: 0.1040\n",
      "Model: 3, Epoch [31/60], Test Loss: 0.2350\n",
      "Test loss has not improved; early stopping counter: 1\n",
      "-------------------------------------\n",
      "Epoch [32] has started\n",
      "Model: 3, Epoch [32/60], Loss: 0.0961\n",
      "Model: 3, Epoch [32/60], Test Loss: 0.2103\n",
      "New best model found! Test Loss improved from 0.2185 to 0.2103\n",
      "model GRU/trained_models/i7/it_2/state_models/model_GRU_long3.pt saved\n",
      "model GRU/trained_models/i7/it_2/traced_models/model_GRU_long3_traced_jit_save.pt saved\n",
      "model GRU/trained_models/i7/it_2/traced_models/model_GRU_long3_traced_simple_save.pt saved\n",
      "================ Diagnostic Run torch.onnx.export version 2.0.0 ================\n",
      "verbose: False, log level: Level.ERROR\n",
      "======================= 0 NONE 0 NOTE 0 WARNING 0 ERROR ========================\n",
      "\n",
      "model GRU/trained_models/i7/it_2/traced_models/model_GRU_long3_traced.onnx saved\n",
      "---------------------\n",
      "all model_3 saved\n",
      "-------------------------------------\n",
      "Epoch [33] has started\n"
     ]
    },
    {
     "name": "stderr",
     "output_type": "stream",
     "text": [
      "C:\\Users\\ROG\\miniconda3\\envs\\pytorch200_cuda118\\lib\\site-packages\\torch\\onnx\\symbolic_opset9.py:4476: UserWarning: Exporting a model to ONNX with a batch_size other than 1, with a variable length with GRU can cause an error when running the ONNX model with a different batch size. Make sure to save the model with a batch size of 1, or define the initial states (h0/c0) as inputs of the model. \n",
      "  warnings.warn(\n"
     ]
    },
    {
     "name": "stdout",
     "output_type": "stream",
     "text": [
      "Model: 3, Epoch [33/60], Loss: 0.0879\n",
      "Model: 3, Epoch [33/60], Test Loss: 0.1948\n",
      "New best model found! Test Loss improved from 0.2103 to 0.1948\n",
      "model GRU/trained_models/i7/it_2/state_models/model_GRU_long3.pt saved\n",
      "model GRU/trained_models/i7/it_2/traced_models/model_GRU_long3_traced_jit_save.pt saved\n",
      "model GRU/trained_models/i7/it_2/traced_models/model_GRU_long3_traced_simple_save.pt saved\n",
      "================ Diagnostic Run torch.onnx.export version 2.0.0 ================\n",
      "verbose: False, log level: Level.ERROR\n",
      "======================= 0 NONE 0 NOTE 0 WARNING 0 ERROR ========================\n",
      "\n",
      "model GRU/trained_models/i7/it_2/traced_models/model_GRU_long3_traced.onnx saved\n",
      "---------------------\n",
      "all model_3 saved\n",
      "-------------------------------------\n",
      "Epoch [34] has started\n"
     ]
    },
    {
     "name": "stderr",
     "output_type": "stream",
     "text": [
      "C:\\Users\\ROG\\miniconda3\\envs\\pytorch200_cuda118\\lib\\site-packages\\torch\\onnx\\symbolic_opset9.py:4476: UserWarning: Exporting a model to ONNX with a batch_size other than 1, with a variable length with GRU can cause an error when running the ONNX model with a different batch size. Make sure to save the model with a batch size of 1, or define the initial states (h0/c0) as inputs of the model. \n",
      "  warnings.warn(\n"
     ]
    },
    {
     "name": "stdout",
     "output_type": "stream",
     "text": [
      "Model: 3, Epoch [34/60], Loss: 0.0822\n",
      "Model: 3, Epoch [34/60], Test Loss: 0.1910\n",
      "New best model found! Test Loss improved from 0.1948 to 0.1910\n",
      "model GRU/trained_models/i7/it_2/state_models/model_GRU_long3.pt saved\n",
      "model GRU/trained_models/i7/it_2/traced_models/model_GRU_long3_traced_jit_save.pt saved\n",
      "model GRU/trained_models/i7/it_2/traced_models/model_GRU_long3_traced_simple_save.pt saved\n",
      "================ Diagnostic Run torch.onnx.export version 2.0.0 ================\n",
      "verbose: False, log level: Level.ERROR\n",
      "======================= 0 NONE 0 NOTE 0 WARNING 0 ERROR ========================\n",
      "\n",
      "model GRU/trained_models/i7/it_2/traced_models/model_GRU_long3_traced.onnx saved\n",
      "---------------------\n",
      "all model_3 saved\n",
      "-------------------------------------\n",
      "Epoch [35] has started\n"
     ]
    },
    {
     "name": "stderr",
     "output_type": "stream",
     "text": [
      "C:\\Users\\ROG\\miniconda3\\envs\\pytorch200_cuda118\\lib\\site-packages\\torch\\onnx\\symbolic_opset9.py:4476: UserWarning: Exporting a model to ONNX with a batch_size other than 1, with a variable length with GRU can cause an error when running the ONNX model with a different batch size. Make sure to save the model with a batch size of 1, or define the initial states (h0/c0) as inputs of the model. \n",
      "  warnings.warn(\n"
     ]
    },
    {
     "name": "stdout",
     "output_type": "stream",
     "text": [
      "Model: 3, Epoch [35/60], Loss: 0.0765\n",
      "Model: 3, Epoch [35/60], Test Loss: 0.1775\n",
      "New best model found! Test Loss improved from 0.1910 to 0.1775\n",
      "model GRU/trained_models/i7/it_2/state_models/model_GRU_long3.pt saved\n",
      "model GRU/trained_models/i7/it_2/traced_models/model_GRU_long3_traced_jit_save.pt saved\n",
      "model GRU/trained_models/i7/it_2/traced_models/model_GRU_long3_traced_simple_save.pt saved\n",
      "================ Diagnostic Run torch.onnx.export version 2.0.0 ================\n",
      "verbose: False, log level: Level.ERROR\n",
      "======================= 0 NONE 0 NOTE 0 WARNING 0 ERROR ========================\n",
      "\n",
      "model GRU/trained_models/i7/it_2/traced_models/model_GRU_long3_traced.onnx saved\n",
      "---------------------\n",
      "all model_3 saved\n",
      "-------------------------------------\n",
      "Epoch [36] has started\n"
     ]
    },
    {
     "name": "stderr",
     "output_type": "stream",
     "text": [
      "C:\\Users\\ROG\\miniconda3\\envs\\pytorch200_cuda118\\lib\\site-packages\\torch\\onnx\\symbolic_opset9.py:4476: UserWarning: Exporting a model to ONNX with a batch_size other than 1, with a variable length with GRU can cause an error when running the ONNX model with a different batch size. Make sure to save the model with a batch size of 1, or define the initial states (h0/c0) as inputs of the model. \n",
      "  warnings.warn(\n"
     ]
    },
    {
     "name": "stdout",
     "output_type": "stream",
     "text": [
      "Model: 3, Epoch [36/60], Loss: 0.0699\n",
      "Model: 3, Epoch [36/60], Test Loss: 0.1743\n",
      "New best model found! Test Loss improved from 0.1775 to 0.1743\n",
      "model GRU/trained_models/i7/it_2/state_models/model_GRU_long3.pt saved\n",
      "model GRU/trained_models/i7/it_2/traced_models/model_GRU_long3_traced_jit_save.pt saved\n",
      "model GRU/trained_models/i7/it_2/traced_models/model_GRU_long3_traced_simple_save.pt saved\n",
      "================ Diagnostic Run torch.onnx.export version 2.0.0 ================\n",
      "verbose: False, log level: Level.ERROR\n",
      "======================= 0 NONE 0 NOTE 0 WARNING 0 ERROR ========================\n",
      "\n",
      "model GRU/trained_models/i7/it_2/traced_models/model_GRU_long3_traced.onnx saved\n",
      "---------------------\n",
      "all model_3 saved\n",
      "-------------------------------------\n",
      "Epoch [37] has started\n"
     ]
    },
    {
     "name": "stderr",
     "output_type": "stream",
     "text": [
      "C:\\Users\\ROG\\miniconda3\\envs\\pytorch200_cuda118\\lib\\site-packages\\torch\\onnx\\symbolic_opset9.py:4476: UserWarning: Exporting a model to ONNX with a batch_size other than 1, with a variable length with GRU can cause an error when running the ONNX model with a different batch size. Make sure to save the model with a batch size of 1, or define the initial states (h0/c0) as inputs of the model. \n",
      "  warnings.warn(\n"
     ]
    },
    {
     "name": "stdout",
     "output_type": "stream",
     "text": [
      "Model: 3, Epoch [37/60], Loss: 0.0658\n",
      "Model: 3, Epoch [37/60], Test Loss: 0.1834\n",
      "Test loss has not improved; early stopping counter: 1\n",
      "-------------------------------------\n",
      "Epoch [38] has started\n",
      "Model: 3, Epoch [38/60], Loss: 0.0619\n",
      "Model: 3, Epoch [38/60], Test Loss: 0.1626\n",
      "New best model found! Test Loss improved from 0.1743 to 0.1626\n",
      "model GRU/trained_models/i7/it_2/state_models/model_GRU_long3.pt saved\n",
      "model GRU/trained_models/i7/it_2/traced_models/model_GRU_long3_traced_jit_save.pt saved\n",
      "model GRU/trained_models/i7/it_2/traced_models/model_GRU_long3_traced_simple_save.pt saved\n",
      "================ Diagnostic Run torch.onnx.export version 2.0.0 ================\n",
      "verbose: False, log level: Level.ERROR\n",
      "======================= 0 NONE 0 NOTE 0 WARNING 0 ERROR ========================\n",
      "\n",
      "model GRU/trained_models/i7/it_2/traced_models/model_GRU_long3_traced.onnx saved\n",
      "---------------------\n",
      "all model_3 saved\n",
      "-------------------------------------\n",
      "Epoch [39] has started\n"
     ]
    },
    {
     "name": "stderr",
     "output_type": "stream",
     "text": [
      "C:\\Users\\ROG\\miniconda3\\envs\\pytorch200_cuda118\\lib\\site-packages\\torch\\onnx\\symbolic_opset9.py:4476: UserWarning: Exporting a model to ONNX with a batch_size other than 1, with a variable length with GRU can cause an error when running the ONNX model with a different batch size. Make sure to save the model with a batch size of 1, or define the initial states (h0/c0) as inputs of the model. \n",
      "  warnings.warn(\n"
     ]
    },
    {
     "name": "stdout",
     "output_type": "stream",
     "text": [
      "Model: 3, Epoch [39/60], Loss: 0.0572\n",
      "Model: 3, Epoch [39/60], Test Loss: 0.1550\n",
      "New best model found! Test Loss improved from 0.1626 to 0.1550\n",
      "model GRU/trained_models/i7/it_2/state_models/model_GRU_long3.pt saved\n",
      "model GRU/trained_models/i7/it_2/traced_models/model_GRU_long3_traced_jit_save.pt saved\n",
      "model GRU/trained_models/i7/it_2/traced_models/model_GRU_long3_traced_simple_save.pt saved\n",
      "================ Diagnostic Run torch.onnx.export version 2.0.0 ================\n",
      "verbose: False, log level: Level.ERROR\n",
      "======================= 0 NONE 0 NOTE 0 WARNING 0 ERROR ========================\n",
      "\n",
      "model GRU/trained_models/i7/it_2/traced_models/model_GRU_long3_traced.onnx saved\n",
      "---------------------\n",
      "all model_3 saved\n",
      "-------------------------------------\n",
      "Epoch [40] has started\n"
     ]
    },
    {
     "name": "stderr",
     "output_type": "stream",
     "text": [
      "C:\\Users\\ROG\\miniconda3\\envs\\pytorch200_cuda118\\lib\\site-packages\\torch\\onnx\\symbolic_opset9.py:4476: UserWarning: Exporting a model to ONNX with a batch_size other than 1, with a variable length with GRU can cause an error when running the ONNX model with a different batch size. Make sure to save the model with a batch size of 1, or define the initial states (h0/c0) as inputs of the model. \n",
      "  warnings.warn(\n"
     ]
    },
    {
     "name": "stdout",
     "output_type": "stream",
     "text": [
      "Model: 3, Epoch [40/60], Loss: 0.0536\n",
      "Model: 3, Epoch [40/60], Test Loss: 0.1666\n",
      "Test loss has not improved; early stopping counter: 1\n",
      "-------------------------------------\n",
      "Epoch [41] has started\n",
      "Model: 3, Epoch [41/60], Loss: 0.0497\n",
      "Model: 3, Epoch [41/60], Test Loss: 0.1528\n",
      "New best model found! Test Loss improved from 0.1550 to 0.1528\n",
      "model GRU/trained_models/i7/it_2/state_models/model_GRU_long3.pt saved\n",
      "model GRU/trained_models/i7/it_2/traced_models/model_GRU_long3_traced_jit_save.pt saved\n",
      "model GRU/trained_models/i7/it_2/traced_models/model_GRU_long3_traced_simple_save.pt saved\n",
      "================ Diagnostic Run torch.onnx.export version 2.0.0 ================\n",
      "verbose: False, log level: Level.ERROR\n",
      "======================= 0 NONE 0 NOTE 0 WARNING 0 ERROR ========================\n",
      "\n",
      "model GRU/trained_models/i7/it_2/traced_models/model_GRU_long3_traced.onnx saved\n",
      "---------------------\n",
      "all model_3 saved\n",
      "-------------------------------------\n",
      "Epoch [42] has started\n"
     ]
    },
    {
     "name": "stderr",
     "output_type": "stream",
     "text": [
      "C:\\Users\\ROG\\miniconda3\\envs\\pytorch200_cuda118\\lib\\site-packages\\torch\\onnx\\symbolic_opset9.py:4476: UserWarning: Exporting a model to ONNX with a batch_size other than 1, with a variable length with GRU can cause an error when running the ONNX model with a different batch size. Make sure to save the model with a batch size of 1, or define the initial states (h0/c0) as inputs of the model. \n",
      "  warnings.warn(\n"
     ]
    },
    {
     "name": "stdout",
     "output_type": "stream",
     "text": [
      "Model: 3, Epoch [42/60], Loss: 0.0470\n",
      "Model: 3, Epoch [42/60], Test Loss: 0.1489\n",
      "New best model found! Test Loss improved from 0.1528 to 0.1489\n",
      "model GRU/trained_models/i7/it_2/state_models/model_GRU_long3.pt saved\n",
      "model GRU/trained_models/i7/it_2/traced_models/model_GRU_long3_traced_jit_save.pt saved\n",
      "model GRU/trained_models/i7/it_2/traced_models/model_GRU_long3_traced_simple_save.pt saved\n",
      "================ Diagnostic Run torch.onnx.export version 2.0.0 ================\n",
      "verbose: False, log level: Level.ERROR\n",
      "======================= 0 NONE 0 NOTE 0 WARNING 0 ERROR ========================\n",
      "\n",
      "model GRU/trained_models/i7/it_2/traced_models/model_GRU_long3_traced.onnx saved\n",
      "---------------------\n",
      "all model_3 saved\n",
      "-------------------------------------\n",
      "Epoch [43] has started\n"
     ]
    },
    {
     "name": "stderr",
     "output_type": "stream",
     "text": [
      "C:\\Users\\ROG\\miniconda3\\envs\\pytorch200_cuda118\\lib\\site-packages\\torch\\onnx\\symbolic_opset9.py:4476: UserWarning: Exporting a model to ONNX with a batch_size other than 1, with a variable length with GRU can cause an error when running the ONNX model with a different batch size. Make sure to save the model with a batch size of 1, or define the initial states (h0/c0) as inputs of the model. \n",
      "  warnings.warn(\n"
     ]
    },
    {
     "name": "stdout",
     "output_type": "stream",
     "text": [
      "Model: 3, Epoch [43/60], Loss: 0.0437\n",
      "Model: 3, Epoch [43/60], Test Loss: 0.1427\n",
      "New best model found! Test Loss improved from 0.1489 to 0.1427\n",
      "model GRU/trained_models/i7/it_2/state_models/model_GRU_long3.pt saved\n",
      "model GRU/trained_models/i7/it_2/traced_models/model_GRU_long3_traced_jit_save.pt saved\n",
      "model GRU/trained_models/i7/it_2/traced_models/model_GRU_long3_traced_simple_save.pt saved\n",
      "================ Diagnostic Run torch.onnx.export version 2.0.0 ================\n",
      "verbose: False, log level: Level.ERROR\n",
      "======================= 0 NONE 0 NOTE 0 WARNING 0 ERROR ========================\n",
      "\n",
      "model GRU/trained_models/i7/it_2/traced_models/model_GRU_long3_traced.onnx saved\n",
      "---------------------\n",
      "all model_3 saved\n",
      "-------------------------------------\n",
      "Epoch [44] has started\n"
     ]
    },
    {
     "name": "stderr",
     "output_type": "stream",
     "text": [
      "C:\\Users\\ROG\\miniconda3\\envs\\pytorch200_cuda118\\lib\\site-packages\\torch\\onnx\\symbolic_opset9.py:4476: UserWarning: Exporting a model to ONNX with a batch_size other than 1, with a variable length with GRU can cause an error when running the ONNX model with a different batch size. Make sure to save the model with a batch size of 1, or define the initial states (h0/c0) as inputs of the model. \n",
      "  warnings.warn(\n"
     ]
    },
    {
     "name": "stdout",
     "output_type": "stream",
     "text": [
      "Model: 3, Epoch [44/60], Loss: 0.0410\n",
      "Model: 3, Epoch [44/60], Test Loss: 0.1436\n",
      "Test loss has not improved; early stopping counter: 1\n",
      "-------------------------------------\n",
      "Epoch [45] has started\n",
      "Model: 3, Epoch [45/60], Loss: 0.0383\n",
      "Model: 3, Epoch [45/60], Test Loss: 0.1395\n",
      "New best model found! Test Loss improved from 0.1427 to 0.1395\n",
      "model GRU/trained_models/i7/it_2/state_models/model_GRU_long3.pt saved\n",
      "model GRU/trained_models/i7/it_2/traced_models/model_GRU_long3_traced_jit_save.pt saved\n",
      "model GRU/trained_models/i7/it_2/traced_models/model_GRU_long3_traced_simple_save.pt saved\n",
      "================ Diagnostic Run torch.onnx.export version 2.0.0 ================\n",
      "verbose: False, log level: Level.ERROR\n",
      "======================= 0 NONE 0 NOTE 0 WARNING 0 ERROR ========================\n",
      "\n",
      "model GRU/trained_models/i7/it_2/traced_models/model_GRU_long3_traced.onnx saved\n",
      "---------------------\n",
      "all model_3 saved\n",
      "-------------------------------------\n",
      "Epoch [46] has started\n"
     ]
    },
    {
     "name": "stderr",
     "output_type": "stream",
     "text": [
      "C:\\Users\\ROG\\miniconda3\\envs\\pytorch200_cuda118\\lib\\site-packages\\torch\\onnx\\symbolic_opset9.py:4476: UserWarning: Exporting a model to ONNX with a batch_size other than 1, with a variable length with GRU can cause an error when running the ONNX model with a different batch size. Make sure to save the model with a batch size of 1, or define the initial states (h0/c0) as inputs of the model. \n",
      "  warnings.warn(\n"
     ]
    },
    {
     "name": "stdout",
     "output_type": "stream",
     "text": [
      "Model: 3, Epoch [46/60], Loss: 0.0366\n",
      "Model: 3, Epoch [46/60], Test Loss: 0.1333\n",
      "New best model found! Test Loss improved from 0.1395 to 0.1333\n",
      "model GRU/trained_models/i7/it_2/state_models/model_GRU_long3.pt saved\n",
      "model GRU/trained_models/i7/it_2/traced_models/model_GRU_long3_traced_jit_save.pt saved\n",
      "model GRU/trained_models/i7/it_2/traced_models/model_GRU_long3_traced_simple_save.pt saved\n",
      "================ Diagnostic Run torch.onnx.export version 2.0.0 ================\n",
      "verbose: False, log level: Level.ERROR\n",
      "======================= 0 NONE 0 NOTE 0 WARNING 0 ERROR ========================\n",
      "\n",
      "model GRU/trained_models/i7/it_2/traced_models/model_GRU_long3_traced.onnx saved\n",
      "---------------------\n",
      "all model_3 saved\n",
      "-------------------------------------\n",
      "Epoch [47] has started\n"
     ]
    },
    {
     "name": "stderr",
     "output_type": "stream",
     "text": [
      "C:\\Users\\ROG\\miniconda3\\envs\\pytorch200_cuda118\\lib\\site-packages\\torch\\onnx\\symbolic_opset9.py:4476: UserWarning: Exporting a model to ONNX with a batch_size other than 1, with a variable length with GRU can cause an error when running the ONNX model with a different batch size. Make sure to save the model with a batch size of 1, or define the initial states (h0/c0) as inputs of the model. \n",
      "  warnings.warn(\n"
     ]
    },
    {
     "name": "stdout",
     "output_type": "stream",
     "text": [
      "Model: 3, Epoch [47/60], Loss: 0.0359\n",
      "Model: 3, Epoch [47/60], Test Loss: 0.1352\n",
      "Test loss has not improved; early stopping counter: 1\n",
      "-------------------------------------\n",
      "Epoch [48] has started\n",
      "Model: 3, Epoch [48/60], Loss: 0.0322\n",
      "Model: 3, Epoch [48/60], Test Loss: 0.1284\n",
      "New best model found! Test Loss improved from 0.1333 to 0.1284\n",
      "model GRU/trained_models/i7/it_2/state_models/model_GRU_long3.pt saved\n",
      "model GRU/trained_models/i7/it_2/traced_models/model_GRU_long3_traced_jit_save.pt saved\n",
      "model GRU/trained_models/i7/it_2/traced_models/model_GRU_long3_traced_simple_save.pt saved\n",
      "================ Diagnostic Run torch.onnx.export version 2.0.0 ================\n",
      "verbose: False, log level: Level.ERROR\n",
      "======================= 0 NONE 0 NOTE 0 WARNING 0 ERROR ========================\n",
      "\n",
      "model GRU/trained_models/i7/it_2/traced_models/model_GRU_long3_traced.onnx saved\n",
      "---------------------\n",
      "all model_3 saved\n",
      "-------------------------------------\n",
      "Epoch [49] has started\n"
     ]
    },
    {
     "name": "stderr",
     "output_type": "stream",
     "text": [
      "C:\\Users\\ROG\\miniconda3\\envs\\pytorch200_cuda118\\lib\\site-packages\\torch\\onnx\\symbolic_opset9.py:4476: UserWarning: Exporting a model to ONNX with a batch_size other than 1, with a variable length with GRU can cause an error when running the ONNX model with a different batch size. Make sure to save the model with a batch size of 1, or define the initial states (h0/c0) as inputs of the model. \n",
      "  warnings.warn(\n"
     ]
    },
    {
     "name": "stdout",
     "output_type": "stream",
     "text": [
      "Model: 3, Epoch [49/60], Loss: 0.0311\n",
      "Model: 3, Epoch [49/60], Test Loss: 0.1200\n",
      "New best model found! Test Loss improved from 0.1284 to 0.1200\n",
      "model GRU/trained_models/i7/it_2/state_models/model_GRU_long3.pt saved\n",
      "model GRU/trained_models/i7/it_2/traced_models/model_GRU_long3_traced_jit_save.pt saved\n",
      "model GRU/trained_models/i7/it_2/traced_models/model_GRU_long3_traced_simple_save.pt saved\n",
      "================ Diagnostic Run torch.onnx.export version 2.0.0 ================\n",
      "verbose: False, log level: Level.ERROR\n",
      "======================= 0 NONE 0 NOTE 0 WARNING 0 ERROR ========================\n",
      "\n",
      "model GRU/trained_models/i7/it_2/traced_models/model_GRU_long3_traced.onnx saved\n",
      "---------------------\n",
      "all model_3 saved\n",
      "-------------------------------------\n",
      "Epoch [50] has started\n"
     ]
    },
    {
     "name": "stderr",
     "output_type": "stream",
     "text": [
      "C:\\Users\\ROG\\miniconda3\\envs\\pytorch200_cuda118\\lib\\site-packages\\torch\\onnx\\symbolic_opset9.py:4476: UserWarning: Exporting a model to ONNX with a batch_size other than 1, with a variable length with GRU can cause an error when running the ONNX model with a different batch size. Make sure to save the model with a batch size of 1, or define the initial states (h0/c0) as inputs of the model. \n",
      "  warnings.warn(\n"
     ]
    },
    {
     "name": "stdout",
     "output_type": "stream",
     "text": [
      "Model: 3, Epoch [50/60], Loss: 0.0301\n",
      "Model: 3, Epoch [50/60], Test Loss: 0.1225\n",
      "Test loss has not improved; early stopping counter: 1\n",
      "-------------------------------------\n",
      "Epoch [51] has started\n",
      "Model: 3, Epoch [51/60], Loss: 0.0282\n",
      "Model: 3, Epoch [51/60], Test Loss: 0.1282\n",
      "Test loss has not improved; early stopping counter: 2\n",
      "-------------------------------------\n",
      "Epoch [52] has started\n",
      "Model: 3, Epoch [52/60], Loss: 0.0268\n",
      "Model: 3, Epoch [52/60], Test Loss: 0.1377\n",
      "Test loss has not improved; early stopping counter: 3\n",
      "-------------------------------------\n",
      "Epoch [53] has started\n",
      "Model: 3, Epoch [53/60], Loss: 0.0264\n",
      "Model: 3, Epoch [53/60], Test Loss: 0.1209\n",
      "Test loss has not improved; early stopping counter: 4\n",
      "-------------------------------------\n",
      "Epoch [54] has started\n",
      "Model: 3, Epoch [54/60], Loss: 0.0232\n",
      "Model: 3, Epoch [54/60], Test Loss: 0.1114\n",
      "New best model found! Test Loss improved from 0.1200 to 0.1114\n",
      "model GRU/trained_models/i7/it_2/state_models/model_GRU_long3.pt saved\n",
      "model GRU/trained_models/i7/it_2/traced_models/model_GRU_long3_traced_jit_save.pt saved\n",
      "model GRU/trained_models/i7/it_2/traced_models/model_GRU_long3_traced_simple_save.pt saved\n",
      "================ Diagnostic Run torch.onnx.export version 2.0.0 ================\n",
      "verbose: False, log level: Level.ERROR\n",
      "======================= 0 NONE 0 NOTE 0 WARNING 0 ERROR ========================\n",
      "\n",
      "model GRU/trained_models/i7/it_2/traced_models/model_GRU_long3_traced.onnx saved\n",
      "---------------------\n",
      "all model_3 saved\n",
      "-------------------------------------\n",
      "Epoch [55] has started\n"
     ]
    },
    {
     "name": "stderr",
     "output_type": "stream",
     "text": [
      "C:\\Users\\ROG\\miniconda3\\envs\\pytorch200_cuda118\\lib\\site-packages\\torch\\onnx\\symbolic_opset9.py:4476: UserWarning: Exporting a model to ONNX with a batch_size other than 1, with a variable length with GRU can cause an error when running the ONNX model with a different batch size. Make sure to save the model with a batch size of 1, or define the initial states (h0/c0) as inputs of the model. \n",
      "  warnings.warn(\n"
     ]
    },
    {
     "name": "stdout",
     "output_type": "stream",
     "text": [
      "Model: 3, Epoch [55/60], Loss: 0.0229\n",
      "Model: 3, Epoch [55/60], Test Loss: 0.1094\n",
      "New best model found! Test Loss improved from 0.1114 to 0.1094\n",
      "model GRU/trained_models/i7/it_2/state_models/model_GRU_long3.pt saved\n",
      "model GRU/trained_models/i7/it_2/traced_models/model_GRU_long3_traced_jit_save.pt saved\n",
      "model GRU/trained_models/i7/it_2/traced_models/model_GRU_long3_traced_simple_save.pt saved\n",
      "================ Diagnostic Run torch.onnx.export version 2.0.0 ================\n",
      "verbose: False, log level: Level.ERROR\n",
      "======================= 0 NONE 0 NOTE 0 WARNING 0 ERROR ========================\n",
      "\n",
      "model GRU/trained_models/i7/it_2/traced_models/model_GRU_long3_traced.onnx saved\n",
      "---------------------\n",
      "all model_3 saved\n",
      "-------------------------------------\n",
      "Epoch [56] has started\n"
     ]
    },
    {
     "name": "stderr",
     "output_type": "stream",
     "text": [
      "C:\\Users\\ROG\\miniconda3\\envs\\pytorch200_cuda118\\lib\\site-packages\\torch\\onnx\\symbolic_opset9.py:4476: UserWarning: Exporting a model to ONNX with a batch_size other than 1, with a variable length with GRU can cause an error when running the ONNX model with a different batch size. Make sure to save the model with a batch size of 1, or define the initial states (h0/c0) as inputs of the model. \n",
      "  warnings.warn(\n"
     ]
    },
    {
     "name": "stdout",
     "output_type": "stream",
     "text": [
      "Model: 3, Epoch [56/60], Loss: 0.0223\n",
      "Model: 3, Epoch [56/60], Test Loss: 0.1214\n",
      "Test loss has not improved; early stopping counter: 1\n",
      "-------------------------------------\n",
      "Epoch [57] has started\n",
      "Model: 3, Epoch [57/60], Loss: 0.0224\n",
      "Model: 3, Epoch [57/60], Test Loss: 0.1144\n",
      "Test loss has not improved; early stopping counter: 2\n",
      "-------------------------------------\n",
      "Epoch [58] has started\n",
      "Model: 3, Epoch [58/60], Loss: 0.0226\n",
      "Model: 3, Epoch [58/60], Test Loss: 0.1111\n",
      "Test loss has not improved; early stopping counter: 3\n",
      "-------------------------------------\n",
      "Epoch [59] has started\n"
     ]
    },
    {
     "ename": "KeyboardInterrupt",
     "evalue": "",
     "output_type": "error",
     "traceback": [
      "\u001B[1;31m---------------------------------------------------------------------------\u001B[0m",
      "\u001B[1;31mKeyboardInterrupt\u001B[0m                         Traceback (most recent call last)",
      "Cell \u001B[1;32mIn[5], line 36\u001B[0m\n\u001B[0;32m     33\u001B[0m \u001B[38;5;28mprint\u001B[39m(\u001B[38;5;124m\"\u001B[39m\u001B[38;5;124m-------------------------------------\u001B[39m\u001B[38;5;124m\"\u001B[39m)\n\u001B[0;32m     34\u001B[0m \u001B[38;5;28mprint\u001B[39m(\u001B[38;5;124mf\u001B[39m\u001B[38;5;124m\"\u001B[39m\u001B[38;5;124mEpoch [\u001B[39m\u001B[38;5;132;01m{\u001B[39;00mepoch\u001B[38;5;241m+\u001B[39m\u001B[38;5;241m1\u001B[39m\u001B[38;5;132;01m}\u001B[39;00m\u001B[38;5;124m] has started\u001B[39m\u001B[38;5;124m\"\u001B[39m)\n\u001B[1;32m---> 36\u001B[0m \u001B[38;5;28;01mfor\u001B[39;00m batch_idx, (features, speeds) \u001B[38;5;129;01min\u001B[39;00m \u001B[38;5;28menumerate\u001B[39m(train_dataloader):\n\u001B[0;32m     37\u001B[0m     speeds \u001B[38;5;241m=\u001B[39m speeds\u001B[38;5;241m.\u001B[39msqueeze(\u001B[38;5;241m1\u001B[39m)  \u001B[38;5;66;03m# Remove extra dimension from speeds if present\u001B[39;00m\n\u001B[0;32m     38\u001B[0m     features, speeds \u001B[38;5;241m=\u001B[39m features\u001B[38;5;241m.\u001B[39mto(device), speeds\u001B[38;5;241m.\u001B[39mto(device)\n",
      "File \u001B[1;32m~\\miniconda3\\envs\\pytorch200_cuda118\\lib\\site-packages\\torch\\utils\\data\\dataloader.py:634\u001B[0m, in \u001B[0;36m_BaseDataLoaderIter.__next__\u001B[1;34m(self)\u001B[0m\n\u001B[0;32m    631\u001B[0m \u001B[38;5;28;01mif\u001B[39;00m \u001B[38;5;28mself\u001B[39m\u001B[38;5;241m.\u001B[39m_sampler_iter \u001B[38;5;129;01mis\u001B[39;00m \u001B[38;5;28;01mNone\u001B[39;00m:\n\u001B[0;32m    632\u001B[0m     \u001B[38;5;66;03m# TODO(https://github.com/pytorch/pytorch/issues/76750)\u001B[39;00m\n\u001B[0;32m    633\u001B[0m     \u001B[38;5;28mself\u001B[39m\u001B[38;5;241m.\u001B[39m_reset()  \u001B[38;5;66;03m# type: ignore[call-arg]\u001B[39;00m\n\u001B[1;32m--> 634\u001B[0m data \u001B[38;5;241m=\u001B[39m \u001B[38;5;28;43mself\u001B[39;49m\u001B[38;5;241;43m.\u001B[39;49m\u001B[43m_next_data\u001B[49m\u001B[43m(\u001B[49m\u001B[43m)\u001B[49m\n\u001B[0;32m    635\u001B[0m \u001B[38;5;28mself\u001B[39m\u001B[38;5;241m.\u001B[39m_num_yielded \u001B[38;5;241m+\u001B[39m\u001B[38;5;241m=\u001B[39m \u001B[38;5;241m1\u001B[39m\n\u001B[0;32m    636\u001B[0m \u001B[38;5;28;01mif\u001B[39;00m \u001B[38;5;28mself\u001B[39m\u001B[38;5;241m.\u001B[39m_dataset_kind \u001B[38;5;241m==\u001B[39m _DatasetKind\u001B[38;5;241m.\u001B[39mIterable \u001B[38;5;129;01mand\u001B[39;00m \\\n\u001B[0;32m    637\u001B[0m         \u001B[38;5;28mself\u001B[39m\u001B[38;5;241m.\u001B[39m_IterableDataset_len_called \u001B[38;5;129;01mis\u001B[39;00m \u001B[38;5;129;01mnot\u001B[39;00m \u001B[38;5;28;01mNone\u001B[39;00m \u001B[38;5;129;01mand\u001B[39;00m \\\n\u001B[0;32m    638\u001B[0m         \u001B[38;5;28mself\u001B[39m\u001B[38;5;241m.\u001B[39m_num_yielded \u001B[38;5;241m>\u001B[39m \u001B[38;5;28mself\u001B[39m\u001B[38;5;241m.\u001B[39m_IterableDataset_len_called:\n",
      "File \u001B[1;32m~\\miniconda3\\envs\\pytorch200_cuda118\\lib\\site-packages\\torch\\utils\\data\\dataloader.py:1329\u001B[0m, in \u001B[0;36m_MultiProcessingDataLoaderIter._next_data\u001B[1;34m(self)\u001B[0m\n\u001B[0;32m   1326\u001B[0m     \u001B[38;5;28;01mreturn\u001B[39;00m \u001B[38;5;28mself\u001B[39m\u001B[38;5;241m.\u001B[39m_process_data(data)\n\u001B[0;32m   1328\u001B[0m \u001B[38;5;28;01massert\u001B[39;00m \u001B[38;5;129;01mnot\u001B[39;00m \u001B[38;5;28mself\u001B[39m\u001B[38;5;241m.\u001B[39m_shutdown \u001B[38;5;129;01mand\u001B[39;00m \u001B[38;5;28mself\u001B[39m\u001B[38;5;241m.\u001B[39m_tasks_outstanding \u001B[38;5;241m>\u001B[39m \u001B[38;5;241m0\u001B[39m\n\u001B[1;32m-> 1329\u001B[0m idx, data \u001B[38;5;241m=\u001B[39m \u001B[38;5;28;43mself\u001B[39;49m\u001B[38;5;241;43m.\u001B[39;49m\u001B[43m_get_data\u001B[49m\u001B[43m(\u001B[49m\u001B[43m)\u001B[49m\n\u001B[0;32m   1330\u001B[0m \u001B[38;5;28mself\u001B[39m\u001B[38;5;241m.\u001B[39m_tasks_outstanding \u001B[38;5;241m-\u001B[39m\u001B[38;5;241m=\u001B[39m \u001B[38;5;241m1\u001B[39m\n\u001B[0;32m   1331\u001B[0m \u001B[38;5;28;01mif\u001B[39;00m \u001B[38;5;28mself\u001B[39m\u001B[38;5;241m.\u001B[39m_dataset_kind \u001B[38;5;241m==\u001B[39m _DatasetKind\u001B[38;5;241m.\u001B[39mIterable:\n\u001B[0;32m   1332\u001B[0m     \u001B[38;5;66;03m# Check for _IterableDatasetStopIteration\u001B[39;00m\n",
      "File \u001B[1;32m~\\miniconda3\\envs\\pytorch200_cuda118\\lib\\site-packages\\torch\\utils\\data\\dataloader.py:1285\u001B[0m, in \u001B[0;36m_MultiProcessingDataLoaderIter._get_data\u001B[1;34m(self)\u001B[0m\n\u001B[0;32m   1283\u001B[0m \u001B[38;5;28;01melif\u001B[39;00m \u001B[38;5;28mself\u001B[39m\u001B[38;5;241m.\u001B[39m_pin_memory:\n\u001B[0;32m   1284\u001B[0m     \u001B[38;5;28;01mwhile\u001B[39;00m \u001B[38;5;28mself\u001B[39m\u001B[38;5;241m.\u001B[39m_pin_memory_thread\u001B[38;5;241m.\u001B[39mis_alive():\n\u001B[1;32m-> 1285\u001B[0m         success, data \u001B[38;5;241m=\u001B[39m \u001B[38;5;28;43mself\u001B[39;49m\u001B[38;5;241;43m.\u001B[39;49m\u001B[43m_try_get_data\u001B[49m\u001B[43m(\u001B[49m\u001B[43m)\u001B[49m\n\u001B[0;32m   1286\u001B[0m         \u001B[38;5;28;01mif\u001B[39;00m success:\n\u001B[0;32m   1287\u001B[0m             \u001B[38;5;28;01mreturn\u001B[39;00m data\n",
      "File \u001B[1;32m~\\miniconda3\\envs\\pytorch200_cuda118\\lib\\site-packages\\torch\\utils\\data\\dataloader.py:1133\u001B[0m, in \u001B[0;36m_MultiProcessingDataLoaderIter._try_get_data\u001B[1;34m(self, timeout)\u001B[0m\n\u001B[0;32m   1120\u001B[0m \u001B[38;5;28;01mdef\u001B[39;00m\u001B[38;5;250m \u001B[39m\u001B[38;5;21m_try_get_data\u001B[39m(\u001B[38;5;28mself\u001B[39m, timeout\u001B[38;5;241m=\u001B[39m_utils\u001B[38;5;241m.\u001B[39mMP_STATUS_CHECK_INTERVAL):\n\u001B[0;32m   1121\u001B[0m     \u001B[38;5;66;03m# Tries to fetch data from `self._data_queue` once for a given timeout.\u001B[39;00m\n\u001B[0;32m   1122\u001B[0m     \u001B[38;5;66;03m# This can also be used as inner loop of fetching without timeout, with\u001B[39;00m\n\u001B[1;32m   (...)\u001B[0m\n\u001B[0;32m   1130\u001B[0m     \u001B[38;5;66;03m# Returns a 2-tuple:\u001B[39;00m\n\u001B[0;32m   1131\u001B[0m     \u001B[38;5;66;03m#   (bool: whether successfully get data, any: data if successful else None)\u001B[39;00m\n\u001B[0;32m   1132\u001B[0m     \u001B[38;5;28;01mtry\u001B[39;00m:\n\u001B[1;32m-> 1133\u001B[0m         data \u001B[38;5;241m=\u001B[39m \u001B[38;5;28;43mself\u001B[39;49m\u001B[38;5;241;43m.\u001B[39;49m\u001B[43m_data_queue\u001B[49m\u001B[38;5;241;43m.\u001B[39;49m\u001B[43mget\u001B[49m\u001B[43m(\u001B[49m\u001B[43mtimeout\u001B[49m\u001B[38;5;241;43m=\u001B[39;49m\u001B[43mtimeout\u001B[49m\u001B[43m)\u001B[49m\n\u001B[0;32m   1134\u001B[0m         \u001B[38;5;28;01mreturn\u001B[39;00m (\u001B[38;5;28;01mTrue\u001B[39;00m, data)\n\u001B[0;32m   1135\u001B[0m     \u001B[38;5;28;01mexcept\u001B[39;00m \u001B[38;5;167;01mException\u001B[39;00m \u001B[38;5;28;01mas\u001B[39;00m e:\n\u001B[0;32m   1136\u001B[0m         \u001B[38;5;66;03m# At timeout and error, we manually check whether any worker has\u001B[39;00m\n\u001B[0;32m   1137\u001B[0m         \u001B[38;5;66;03m# failed. Note that this is the only mechanism for Windows to detect\u001B[39;00m\n\u001B[0;32m   1138\u001B[0m         \u001B[38;5;66;03m# worker failures.\u001B[39;00m\n",
      "File \u001B[1;32m~\\miniconda3\\envs\\pytorch200_cuda118\\lib\\queue.py:180\u001B[0m, in \u001B[0;36mQueue.get\u001B[1;34m(self, block, timeout)\u001B[0m\n\u001B[0;32m    178\u001B[0m         \u001B[38;5;28;01mif\u001B[39;00m remaining \u001B[38;5;241m<\u001B[39m\u001B[38;5;241m=\u001B[39m \u001B[38;5;241m0.0\u001B[39m:\n\u001B[0;32m    179\u001B[0m             \u001B[38;5;28;01mraise\u001B[39;00m Empty\n\u001B[1;32m--> 180\u001B[0m         \u001B[38;5;28;43mself\u001B[39;49m\u001B[38;5;241;43m.\u001B[39;49m\u001B[43mnot_empty\u001B[49m\u001B[38;5;241;43m.\u001B[39;49m\u001B[43mwait\u001B[49m\u001B[43m(\u001B[49m\u001B[43mremaining\u001B[49m\u001B[43m)\u001B[49m\n\u001B[0;32m    181\u001B[0m item \u001B[38;5;241m=\u001B[39m \u001B[38;5;28mself\u001B[39m\u001B[38;5;241m.\u001B[39m_get()\n\u001B[0;32m    182\u001B[0m \u001B[38;5;28mself\u001B[39m\u001B[38;5;241m.\u001B[39mnot_full\u001B[38;5;241m.\u001B[39mnotify()\n",
      "File \u001B[1;32m~\\miniconda3\\envs\\pytorch200_cuda118\\lib\\threading.py:324\u001B[0m, in \u001B[0;36mCondition.wait\u001B[1;34m(self, timeout)\u001B[0m\n\u001B[0;32m    322\u001B[0m \u001B[38;5;28;01melse\u001B[39;00m:\n\u001B[0;32m    323\u001B[0m     \u001B[38;5;28;01mif\u001B[39;00m timeout \u001B[38;5;241m>\u001B[39m \u001B[38;5;241m0\u001B[39m:\n\u001B[1;32m--> 324\u001B[0m         gotit \u001B[38;5;241m=\u001B[39m \u001B[43mwaiter\u001B[49m\u001B[38;5;241;43m.\u001B[39;49m\u001B[43macquire\u001B[49m\u001B[43m(\u001B[49m\u001B[38;5;28;43;01mTrue\u001B[39;49;00m\u001B[43m,\u001B[49m\u001B[43m \u001B[49m\u001B[43mtimeout\u001B[49m\u001B[43m)\u001B[49m\n\u001B[0;32m    325\u001B[0m     \u001B[38;5;28;01melse\u001B[39;00m:\n\u001B[0;32m    326\u001B[0m         gotit \u001B[38;5;241m=\u001B[39m waiter\u001B[38;5;241m.\u001B[39macquire(\u001B[38;5;28;01mFalse\u001B[39;00m)\n",
      "\u001B[1;31mKeyboardInterrupt\u001B[0m: "
     ]
    }
   ],
   "execution_count": 5
  }
 ],
 "metadata": {
  "kernelspec": {
   "display_name": "Python 3",
   "language": "python",
   "name": "python3"
  },
  "language_info": {
   "codemirror_mode": {
    "name": "ipython",
    "version": 2
   },
   "file_extension": ".py",
   "mimetype": "text/x-python",
   "name": "python",
   "nbconvert_exporter": "python",
   "pygments_lexer": "ipython2",
   "version": "2.7.6"
  }
 },
 "nbformat": 4,
 "nbformat_minor": 5
}

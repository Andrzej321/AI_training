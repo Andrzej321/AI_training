{
 "cells": [
  {
   "metadata": {
    "ExecuteTime": {
     "end_time": "2025-05-28T16:36:45.251648Z",
     "start_time": "2025-05-28T16:36:45.248647Z"
    }
   },
   "cell_type": "code",
   "source": [
    "import torch.nn as nn\n",
    "import torch.optim as optim\n",
    "from classes import SpeedEstimatorRNN, VehicleSpeedDataset\n",
    "from torch.utils.data import DataLoader\n",
    "import torch"
   ],
   "id": "6be55e84bfa9497",
   "outputs": [],
   "execution_count": 12
  },
  {
   "metadata": {
    "ExecuteTime": {
     "end_time": "2025-05-28T16:36:46.353025Z",
     "start_time": "2025-05-28T16:36:46.350157Z"
    }
   },
   "cell_type": "code",
   "source": [
    "if torch.cuda.is_available():\n",
    "    print(\"CUDA is available! You can use a GPU for training.\")\n",
    "    print(\"Number of GPUs available:\", torch.cuda.device_count())\n",
    "    print(\"Current GPU being used:\", torch.cuda.current_device())\n",
    "    print(\"GPU Name:\", torch.cuda.get_device_name(torch.cuda.current_device()))\n",
    "else:\n",
    "    print(\"CUDA is not available. Training will be performed on the CPU.\")"
   ],
   "id": "223653cc21f3406c",
   "outputs": [
    {
     "name": "stdout",
     "output_type": "stream",
     "text": [
      "CUDA is available! You can use a GPU for training.\n",
      "Number of GPUs available: 1\n",
      "Current GPU being used: 0\n",
      "GPU Name: NVIDIA GeForce RTX 3050 Laptop GPU\n"
     ]
    }
   ],
   "execution_count": 13
  },
  {
   "metadata": {
    "ExecuteTime": {
     "end_time": "2025-05-28T16:37:12.516138Z",
     "start_time": "2025-05-28T16:37:12.511917Z"
    }
   },
   "cell_type": "code",
   "source": [
    "# Set dataset path\n",
    "data_path = r'C:\\my files\\thesis\\AI_training\\data\\i7\\it_1\\1_training'\n",
    "extension = \"*.csv\"\n",
    "\n",
    "# Hyperparameters that will alter throughout the model creations\n",
    "input_size = 20  # Number of CAN signals per timestep\n",
    "hidden_size = [256, 256, 512, 512, 512]\n",
    "num_layers = [3, 4, 3, 4, 3]\n",
    "learning_rate = [0.0001] * 5\n",
    "# num of sequences in one batch\n",
    "batch_size = [128] * 5\n",
    "dropout_rate = [0.2] * 5\n",
    "sequence_length = [800, 800, 800, 800, 1000]\n",
    "\n",
    "\n",
    "# parameters of the simulation\n",
    "step_size = 10 # what the overlap between the sequences should look like in the extracted dataset\n",
    "output_size = 2\n",
    "num_epochs = 20\n",
    "\n",
    "num_models = 5\n",
    "\n",
    "default_location = r\"C:\\my files\\thesis\\AI_training\\Simple RNN\\trained_models\\iteration_8\\model_\""
   ],
   "id": "65139ecfaf0a1ccf",
   "outputs": [],
   "execution_count": 16
  },
  {
   "metadata": {
    "ExecuteTime": {
     "end_time": "2025-05-28T16:20:05.496183Z",
     "start_time": "2025-05-28T16:20:04.972155Z"
    }
   },
   "cell_type": "code",
   "source": "dataset = VehicleSpeedDataset(data_path, extension, seq_length = sequence_length[1], step_size = step_size)",
   "id": "1ce61938144d6e6c",
   "outputs": [],
   "execution_count": 5
  },
  {
   "metadata": {
    "ExecuteTime": {
     "end_time": "2025-05-28T16:27:12.314007Z",
     "start_time": "2025-05-28T16:27:12.284747Z"
    }
   },
   "cell_type": "code",
   "source": "",
   "id": "6cf9e30cfcdf9e3b",
   "outputs": [
    {
     "name": "stdout",
     "output_type": "stream",
     "text": [
      "56\n"
     ]
    }
   ],
   "execution_count": 10
  },
  {
   "metadata": {
    "jupyter": {
     "is_executing": true
    },
    "ExecuteTime": {
     "start_time": "2025-05-28T16:37:14.858172Z"
    }
   },
   "cell_type": "code",
   "source": [
    "# Training loops\n",
    "for j in range(num_models):\n",
    "    # Load dataset and DataLoader\n",
    "    dataset = VehicleSpeedDataset(data_path, extension, seq_length = sequence_length[j], step_size = step_size)\n",
    "    dataloader = DataLoader(dataset, batch_size=batch_size[j], shuffle=True, num_workers= 6, pin_memory=True)\n",
    "\n",
    "    # Initialize model, loss function, and optimizer\n",
    "    device = torch.device(\"cuda\" if torch.cuda.is_available() else \"cpu\")\n",
    "    model = SpeedEstimatorRNN(input_size, hidden_size[j], num_layers[j], output_size).to(device)\n",
    "    criterion = nn.MSELoss()\n",
    "    optimizer = optim.Adam(model.parameters(), lr=learning_rate[j])\n",
    "\n",
    "    for epoch in range(num_epochs):\n",
    "        total_loss = 0\n",
    "\n",
    "        for batch_idx, (features, speeds) in enumerate(dataloader):\n",
    "            speeds = speeds.squeeze(1)  # Remove extra dimension from speeds if present\n",
    "            features, speeds = features.to(device), speeds.to(device)\n",
    "\n",
    "            # Forward pass\n",
    "            outputs = model(features)\n",
    "\n",
    "            assert outputs.shape == speeds.shape, f\"Shape mismatch: outputs {outputs.shape} vs speeds {speeds.shape}\"\n",
    "\n",
    "            loss = criterion(outputs, speeds)\n",
    "\n",
    "            # Backward pass\n",
    "            optimizer.zero_grad()\n",
    "            loss.backward()\n",
    "            optimizer.step()\n",
    "\n",
    "            total_loss += loss.item()\n",
    "\n",
    "        print(f\"Model: {j}, Epoch [{epoch+1}/{num_epochs}], Loss: {total_loss/len(dataloader):.4f}\")\n",
    "\n",
    "    torch.save({\n",
    "        \"model_state_dict\": model.state_dict(),\n",
    "        \"optimizer_state_dict\": optimizer.state_dict(),\n",
    "        \"sequence_length\": sequence_length,\n",
    "        \"input_size\": input_size,\n",
    "        \"hidden_size\": hidden_size,\n",
    "        \"num_layers\": num_layers,\n",
    "        \"output_size\": output_size,\n",
    "        \"learning_rate\": learning_rate,\n",
    "        \"num_epochs\": num_epochs\n",
    "    }, default_location + str(j) + \".pt\")"
   ],
   "id": "420abcdd902a5bd7",
   "outputs": [],
   "execution_count": null
  }
 ],
 "metadata": {
  "kernelspec": {
   "display_name": "Python 3",
   "language": "python",
   "name": "python3"
  },
  "language_info": {
   "codemirror_mode": {
    "name": "ipython",
    "version": 2
   },
   "file_extension": ".py",
   "mimetype": "text/x-python",
   "name": "python",
   "nbconvert_exporter": "python",
   "pygments_lexer": "ipython2",
   "version": "2.7.6"
  }
 },
 "nbformat": 4,
 "nbformat_minor": 5
}

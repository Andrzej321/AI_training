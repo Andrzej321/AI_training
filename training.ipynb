{
 "cells": [
  {
   "metadata": {
    "ExecuteTime": {
     "end_time": "2025-06-05T10:58:38.977818Z",
     "start_time": "2025-06-05T10:58:36.985536Z"
    }
   },
   "cell_type": "code",
   "source": [
    "import torch.nn as nn\n",
    "import torch.optim as optim\n",
    "from classes import SpeedEstimatorRNN, VehicleSpeedDataset, SpeedEstimatorLSTM\n",
    "from torch.utils.data import DataLoader\n",
    "import torch\n",
    "import torch.onnx"
   ],
   "id": "1c27703c12ca4f80",
   "outputs": [],
   "execution_count": 1
  },
  {
   "metadata": {
    "ExecuteTime": {
     "end_time": "2025-06-05T10:58:40.000243Z",
     "start_time": "2025-06-05T10:58:39.979551Z"
    }
   },
   "cell_type": "code",
   "source": [
    "if torch.cuda.is_available():\n",
    "    print(\"CUDA is available! You can use a GPU for training.\")\n",
    "    print(\"Number of GPUs available:\", torch.cuda.device_count())\n",
    "    print(\"Current GPU being used:\", torch.cuda.current_device())\n",
    "    print(\"GPU Name:\", torch.cuda.get_device_name(torch.cuda.current_device()))\n",
    "else:\n",
    "    print(\"CUDA is not available. Training will be performed on the CPU.\")"
   ],
   "id": "9e05ace579cb653b",
   "outputs": [
    {
     "name": "stdout",
     "output_type": "stream",
     "text": [
      "CUDA is available! You can use a GPU for training.\n",
      "Number of GPUs available: 1\n",
      "Current GPU being used: 0\n",
      "GPU Name: NVIDIA GeForce RTX 3050 Laptop GPU\n"
     ]
    }
   ],
   "execution_count": 2
  },
  {
   "metadata": {
    "ExecuteTime": {
     "end_time": "2025-06-05T10:58:41.476122Z",
     "start_time": "2025-06-05T10:58:41.471735Z"
    }
   },
   "cell_type": "code",
   "source": [
    "# Set dataset path\n",
    "training_data_path = \"data/i7/it_1/1_training\"\n",
    "extension = \"*.csv\"\n",
    "\n",
    "test_data_path = \"data/i7/it_1/2_testing\"\n",
    "\n",
    "# Hyperparameters that will alter throughout the model creations\n",
    "input_size = 20  # Number of CAN signals per timestep\n",
    "hidden_size = [256, 256, 512, 512, 768]\n",
    "num_layers = [3, 4, 3, 4, 3]\n",
    "learning_rate = [0.0001] * 5\n",
    "# num of sequences in one batch\n",
    "batch_size = [128] * 5\n",
    "dropout_rate = [0.2] * 5\n",
    "sequence_length = [800, 800, 800, 800, 1000]\n",
    "\n",
    "\n",
    "# parameters of the simulation\n",
    "step_size = 10 # what the overlap between the sequences should look like in the extracted dataset\n",
    "output_size = 2\n",
    "num_epochs = 30\n",
    "\n",
    "num_models = 5\n",
    "\n",
    "location_state = \"Simple RNN/trained_models/i7/it_1/state_models/model_\"\n",
    "location_traced = \"Simple RNN/trained_models/i7/it_1/traced_models/model_\"\n",
    "\n",
    "location_state_LSTM = \"LSTM/trained_models/i7/it_1/state_models/model_LSTM_\"\n",
    "location_traced_LSTM = \"LSTM/trained_models/i7/it_1/traced_models/model_LSTM_\""
   ],
   "id": "195f2955b83482f3",
   "outputs": [],
   "execution_count": 3
  },
  {
   "metadata": {},
   "cell_type": "markdown",
   "source": "RNN",
   "id": "5a758621e131cc05"
  },
  {
   "metadata": {
    "tags": [
     "RNN training"
    ]
   },
   "cell_type": "code",
   "outputs": [],
   "execution_count": null,
   "source": [
    "# Initialize variables to track the best test/validation loss\n",
    "patience = 5\n",
    "\n",
    "# Training loops\n",
    "for j in range(num_models):\n",
    "\n",
    "    early_stopping_counter = 0\n",
    "    best_test_loss = float('inf')\n",
    "\n",
    "    print(\"-------------------------------------\")\n",
    "    print(f\"Training has started for model {j}\")\n",
    "\n",
    "    # Load dataset and DataLoader\n",
    "    train_dataset = VehicleSpeedDataset(training_data_path, extension, seq_length = sequence_length[j], step_size = step_size)\n",
    "    train_dataloader = DataLoader(train_dataset, batch_size=batch_size[j], shuffle=True, num_workers= 6, pin_memory=True)\n",
    "\n",
    "    # Load test dataset and DataLoader\n",
    "    test_dataset = VehicleSpeedDataset(test_data_path, extension, seq_length=sequence_length[j], step_size=step_size)\n",
    "    test_dataloader = DataLoader(test_dataset, batch_size=1, shuffle=False)  # Batch size = 1 for test evaluation\n",
    "\n",
    "\n",
    "    # Initialize model, loss function, and optimizer\n",
    "    device = torch.device(\"cuda\" if torch.cuda.is_available() else \"cpu\")\n",
    "    model = SpeedEstimatorRNN(input_size, hidden_size[j], num_layers[j], output_size).to(device)\n",
    "    criterion = nn.MSELoss()\n",
    "    optimizer = optim.Adam(model.parameters(), lr=learning_rate[j])\n",
    "\n",
    "    example_input = torch.rand(1, sequence_length[j], input_size).to(device)  # Example input matching model dimensions\n",
    "\n",
    "    for epoch in range(num_epochs):\n",
    "        model.train()\n",
    "        total_train_loss = 0\n",
    "\n",
    "        for batch_idx, (features, speeds) in enumerate(train_dataloader):\n",
    "            speeds = speeds.squeeze(1)  # Remove extra dimension from speeds if present\n",
    "            features, speeds = features.to(device), speeds.to(device)\n",
    "\n",
    "            # Forward pass\n",
    "            outputs = model(features)\n",
    "\n",
    "            assert outputs.shape == speeds.shape, f\"Shape mismatch: outputs {outputs.shape} vs speeds {speeds.shape}\"\n",
    "\n",
    "            train_loss = criterion(outputs, speeds)\n",
    "\n",
    "            # Backward pass\n",
    "            optimizer.zero_grad()\n",
    "            train_loss.backward()\n",
    "            optimizer.step()\n",
    "\n",
    "            total_train_loss += train_loss.item()\n",
    "\n",
    "        print(f\"Model: {j}, Epoch [{epoch+1}/{num_epochs}], Loss: {total_train_loss/len(train_dataloader):.4f}\")\n",
    "\n",
    "        model.eval()\n",
    "        total_test_loss = 0\n",
    "\n",
    "        with torch.no_grad():  # No need to compute gradients for validation/test\n",
    "            for features, speeds in test_dataloader:\n",
    "                speeds = speeds.squeeze(1)\n",
    "                features, speeds = features.to(device), speeds.to(device)\n",
    "\n",
    "                # Forward pass\n",
    "                test_outputs = model(features)\n",
    "                test_loss = criterion(test_outputs, speeds)\n",
    "\n",
    "                total_test_loss += test_loss.item()\n",
    "\n",
    "        avg_test_loss = total_test_loss / len(test_dataloader)\n",
    "\n",
    "        print(f\"Model: {j}, Epoch [{epoch+1}/{num_epochs}], Test Loss: {avg_test_loss:.4f}\")\n",
    "\n",
    "         # Checkpoint: Save model if test loss improves\n",
    "        if avg_test_loss < best_test_loss:\n",
    "            print(f\"New best model found! Test Loss improved from {best_test_loss:.4f} to {avg_test_loss:.4f}\")\n",
    "            best_test_loss = avg_test_loss\n",
    "            early_stopping_counter = 0\n",
    "\n",
    "            # Save model state and optimizer state\n",
    "            torch.save({\n",
    "                \"model_state_dict\": model.state_dict(),\n",
    "                \"optimizer_state_dict\": optimizer.state_dict(),\n",
    "                \"sequence_length\": sequence_length,\n",
    "                \"input_size\": input_size,\n",
    "                \"hidden_size\": hidden_size,\n",
    "                \"num_layers\": num_layers,\n",
    "                \"output_size\": output_size,\n",
    "                \"learning_rate\": learning_rate,\n",
    "                \"num_epochs\": num_epochs\n",
    "            }, location_state + str(j) + \".pt\")\n",
    "\n",
    "            # Save traced model for MATLAB -> taken out\n",
    "            \"\"\"\n",
    "            traced_model = torch.jit.trace(model, example_input)\n",
    "            torch.jit.save(traced_model, location_traced + str(j) + \"_traced.pt\")  # Save as traced TorchScript model\n",
    "\n",
    "            traced_model.save(location_traced + str(j) + \"_traced_simple_save.pt\")  # Save as traced TorchScript model\n",
    "            \"\"\"\n",
    "\n",
    "\n",
    "            # Export model to ONNX\n",
    "            onnx_model_path = location_traced + str(j) + \"_traced.onnx\"\n",
    "\n",
    "            torch.onnx.export(\n",
    "                model,                     # PyTorch model\n",
    "                example_input,             # Example input (same as used for tracing)\n",
    "                onnx_model_path,           # Output filename\n",
    "                export_params=True,\n",
    "                opset_version=11,          # MATLAB supports up to opset 11/12 reliably\n",
    "                do_constant_folding=True,\n",
    "                input_names=['input'],\n",
    "                output_names=['output'],\n",
    "                dynamic_axes={'input': {0: 'batch_size'}, 'output': {0: 'batch_size'}}\n",
    "            )\n",
    "\n",
    "            print(f\"all model_{j} saved\")\n",
    "        else:\n",
    "            early_stopping_counter += 1\n",
    "            print(f\"Test loss has not improved; early stopping counter: {early_stopping_counter}\")\n",
    "\n",
    "        if early_stopping_counter >= patience:\n",
    "            print(\"Early stopping triggered -> starting next model!\")\n",
    "            print(\"------------------------------------------------\")\n",
    "            break  # Exit the training loop early\n",
    "\n",
    "    if early_stopping_counter < patience:\n",
    "        print(\"We're out of epochs but patience limit has not been reached -> starting next model!\")\n",
    "        print(\"-----------------------------------------------------------------------------------\")"
   ],
   "id": "cba7299d3753fdd1"
  },
  {
   "metadata": {},
   "cell_type": "markdown",
   "source": "LSTM",
   "id": "ca1baacdd6bb5f1d"
  },
  {
   "metadata": {
    "jupyter": {
     "is_executing": true
    },
    "ExecuteTime": {
     "start_time": "2025-06-05T11:13:52.912913Z"
    }
   },
   "cell_type": "code",
   "source": [
    "# Initialize variables to track the best test/validation loss\n",
    "patience = 5\n",
    "\n",
    "# Training loops\n",
    "for j in range(num_models):\n",
    "\n",
    "    early_stopping_counter = 0\n",
    "    best_test_loss = float('inf')\n",
    "\n",
    "    print(\"-------------------------------------\")\n",
    "    print(f\"Training has started for model {j}\")\n",
    "\n",
    "    # Load dataset and DataLoader\n",
    "    train_dataset = VehicleSpeedDataset(training_data_path, extension, seq_length = sequence_length[j], step_size = step_size)\n",
    "    train_dataloader = DataLoader(train_dataset, batch_size=batch_size[j], shuffle=True, num_workers= 6, pin_memory=True)\n",
    "\n",
    "    # Load test dataset and DataLoader\n",
    "    test_dataset = VehicleSpeedDataset(test_data_path, extension, seq_length=sequence_length[j], step_size=step_size)\n",
    "    test_dataloader = DataLoader(test_dataset, batch_size=1, shuffle=False)  # Batch size = 1 for test evaluation\n",
    "\n",
    "\n",
    "    # Initialize model, loss function, and optimizer\n",
    "    device = torch.device(\"cuda\" if torch.cuda.is_available() else \"cpu\")\n",
    "    model = SpeedEstimatorLSTM(input_size, hidden_size[j], num_layers[j], output_size).to(device)\n",
    "    criterion = nn.MSELoss()\n",
    "    optimizer = optim.Adam(model.parameters(), lr=learning_rate[j])\n",
    "\n",
    "    example_input = torch.rand(1, sequence_length[j], input_size).to(device)  # Example input matching model dimensions\n",
    "\n",
    "    for epoch in range(num_epochs):\n",
    "        model.train()\n",
    "        total_train_loss = 0\n",
    "\n",
    "        for batch_idx, (features, speeds) in enumerate(train_dataloader):\n",
    "            speeds = speeds.squeeze(1)  # Remove extra dimension from speeds if present\n",
    "            features, speeds = features.to(device), speeds.to(device)\n",
    "\n",
    "            # Forward pass\n",
    "            outputs = model(features)\n",
    "\n",
    "            assert outputs.shape == speeds.shape, f\"Shape mismatch: outputs {outputs.shape} vs speeds {speeds.shape}\"\n",
    "\n",
    "            train_loss = criterion(outputs, speeds)\n",
    "\n",
    "            # Backward pass\n",
    "            optimizer.zero_grad()\n",
    "            train_loss.backward()\n",
    "            optimizer.step()\n",
    "\n",
    "            total_train_loss += train_loss.item()\n",
    "\n",
    "        print(f\"Model: {j}, Epoch [{epoch+1}/{num_epochs}], Loss: {total_train_loss/len(train_dataloader):.4f}\")\n",
    "\n",
    "        model.eval()\n",
    "        total_test_loss = 0\n",
    "\n",
    "        with torch.no_grad():  # No need to compute gradients for validation/test\n",
    "            for features, speeds in test_dataloader:\n",
    "                speeds = speeds.squeeze(1)\n",
    "                features, speeds = features.to(device), speeds.to(device)\n",
    "\n",
    "                # Forward pass\n",
    "                test_outputs = model(features)\n",
    "                test_loss = criterion(test_outputs, speeds)\n",
    "\n",
    "                total_test_loss += test_loss.item()\n",
    "\n",
    "        avg_test_loss = total_test_loss / len(test_dataloader)\n",
    "\n",
    "        print(f\"Model: {j}, Epoch [{epoch+1}/{num_epochs}], Test Loss: {avg_test_loss:.4f}\")\n",
    "\n",
    "         # Checkpoint: Save model if test loss improves\n",
    "        if avg_test_loss < best_test_loss:\n",
    "            print(f\"New best model found! Test Loss improved from {best_test_loss:.4f} to {avg_test_loss:.4f}\")\n",
    "            best_test_loss = avg_test_loss\n",
    "            early_stopping_counter = 0\n",
    "\n",
    "            # Save model state and optimizer state\n",
    "            torch.save({\n",
    "                \"model_state_dict\": model.state_dict(),\n",
    "                \"optimizer_state_dict\": optimizer.state_dict(),\n",
    "                \"sequence_length\": sequence_length,\n",
    "                \"input_size\": input_size,\n",
    "                \"hidden_size\": hidden_size,\n",
    "                \"num_layers\": num_layers,\n",
    "                \"output_size\": output_size,\n",
    "                \"learning_rate\": learning_rate,\n",
    "                \"num_epochs\": num_epochs\n",
    "            }, location_state_LSTM + str(j) + \".pt\")\n",
    "\n",
    "            # Save traced model for MATLAB -> taken out\n",
    "            \"\"\"\n",
    "            traced_model = torch.jit.trace(model, example_input)\n",
    "            torch.jit.save(traced_model, location_traced + str(j) + \"_traced.pt\")  # Save as traced TorchScript model\n",
    "\n",
    "            traced_model.save(location_traced + str(j) + \"_traced_simple_save.pt\")  # Save as traced TorchScript model\n",
    "            \"\"\"\n",
    "\n",
    "\n",
    "            # Export model to ONNX\n",
    "            onnx_model_path = location_traced_LSTM + str(j) + \"_traced.onnx\"\n",
    "\n",
    "            torch.onnx.export(\n",
    "                model,                     # PyTorch model\n",
    "                example_input,             # Example input (same as used for tracing)\n",
    "                onnx_model_path,           # Output filename\n",
    "                export_params=True,\n",
    "                opset_version=11,          # MATLAB supports up to opset 11/12 reliably\n",
    "                do_constant_folding=True,\n",
    "                input_names=['input'],\n",
    "                output_names=['output'],\n",
    "                dynamic_axes={'input': {0: 'batch_size'}, 'output': {0: 'batch_size'}}\n",
    "            )\n",
    "\n",
    "            print(f\"all model_{j} saved\")\n",
    "        else:\n",
    "            early_stopping_counter += 1\n",
    "            print(f\"Test loss has not improved; early stopping counter: {early_stopping_counter}\")\n",
    "\n",
    "        if early_stopping_counter >= patience:\n",
    "            print(\"Early stopping triggered -> starting next model!\")\n",
    "            print(\"------------------------------------------------\")\n",
    "            break  # Exit the training loop early\n",
    "\n",
    "    if early_stopping_counter < patience:\n",
    "        print(\"We're out of epochs but patience limit has not been reached -> starting next model!\")\n",
    "        print(\"-----------------------------------------------------------------------------------\")"
   ],
   "id": "b9340f285099bb56",
   "outputs": [
    {
     "name": "stdout",
     "output_type": "stream",
     "text": [
      "-------------------------------------\n",
      "Training has started for model 0\n",
      "Model: 0, Epoch [1/30], Loss: 14.7596\n",
      "Model: 0, Epoch [1/30], Test Loss: 6.6731\n",
      "New best model found! Test Loss improved from inf to 6.6731\n",
      "all model_0 saved\n"
     ]
    },
    {
     "name": "stderr",
     "output_type": "stream",
     "text": [
      "C:\\Users\\ROG\\AppData\\Local\\Programs\\Python\\Python312\\Lib\\site-packages\\torch\\onnx\\symbolic_opset9.py:4277: UserWarning: Exporting a model to ONNX with a batch_size other than 1, with a variable length with LSTM can cause an error when running the ONNX model with a different batch size. Make sure to save the model with a batch size of 1, or define the initial states (h0/c0) as inputs of the model. \n",
      "  warnings.warn(\n"
     ]
    },
    {
     "name": "stdout",
     "output_type": "stream",
     "text": [
      "Model: 0, Epoch [2/30], Loss: 3.7189\n",
      "Model: 0, Epoch [2/30], Test Loss: 3.5021\n",
      "New best model found! Test Loss improved from 6.6731 to 3.5021\n",
      "all model_0 saved\n"
     ]
    },
    {
     "name": "stderr",
     "output_type": "stream",
     "text": [
      "C:\\Users\\ROG\\AppData\\Local\\Programs\\Python\\Python312\\Lib\\site-packages\\torch\\onnx\\symbolic_opset9.py:4277: UserWarning: Exporting a model to ONNX with a batch_size other than 1, with a variable length with LSTM can cause an error when running the ONNX model with a different batch size. Make sure to save the model with a batch size of 1, or define the initial states (h0/c0) as inputs of the model. \n",
      "  warnings.warn(\n"
     ]
    },
    {
     "name": "stdout",
     "output_type": "stream",
     "text": [
      "Model: 0, Epoch [3/30], Loss: 2.0570\n",
      "Model: 0, Epoch [3/30], Test Loss: 2.1332\n",
      "New best model found! Test Loss improved from 3.5021 to 2.1332\n"
     ]
    },
    {
     "name": "stderr",
     "output_type": "stream",
     "text": [
      "C:\\Users\\ROG\\AppData\\Local\\Programs\\Python\\Python312\\Lib\\site-packages\\torch\\onnx\\symbolic_opset9.py:4277: UserWarning: Exporting a model to ONNX with a batch_size other than 1, with a variable length with LSTM can cause an error when running the ONNX model with a different batch size. Make sure to save the model with a batch size of 1, or define the initial states (h0/c0) as inputs of the model. \n",
      "  warnings.warn(\n"
     ]
    },
    {
     "name": "stdout",
     "output_type": "stream",
     "text": [
      "all model_0 saved\n",
      "Model: 0, Epoch [4/30], Loss: 1.2617\n",
      "Model: 0, Epoch [4/30], Test Loss: 1.2712\n",
      "New best model found! Test Loss improved from 2.1332 to 1.2712\n",
      "all model_0 saved\n"
     ]
    },
    {
     "name": "stderr",
     "output_type": "stream",
     "text": [
      "C:\\Users\\ROG\\AppData\\Local\\Programs\\Python\\Python312\\Lib\\site-packages\\torch\\onnx\\symbolic_opset9.py:4277: UserWarning: Exporting a model to ONNX with a batch_size other than 1, with a variable length with LSTM can cause an error when running the ONNX model with a different batch size. Make sure to save the model with a batch size of 1, or define the initial states (h0/c0) as inputs of the model. \n",
      "  warnings.warn(\n"
     ]
    },
    {
     "name": "stdout",
     "output_type": "stream",
     "text": [
      "Model: 0, Epoch [5/30], Loss: 0.7557\n",
      "Model: 0, Epoch [5/30], Test Loss: 0.7590\n",
      "New best model found! Test Loss improved from 1.2712 to 0.7590\n"
     ]
    },
    {
     "name": "stderr",
     "output_type": "stream",
     "text": [
      "C:\\Users\\ROG\\AppData\\Local\\Programs\\Python\\Python312\\Lib\\site-packages\\torch\\onnx\\symbolic_opset9.py:4277: UserWarning: Exporting a model to ONNX with a batch_size other than 1, with a variable length with LSTM can cause an error when running the ONNX model with a different batch size. Make sure to save the model with a batch size of 1, or define the initial states (h0/c0) as inputs of the model. \n",
      "  warnings.warn(\n"
     ]
    },
    {
     "name": "stdout",
     "output_type": "stream",
     "text": [
      "all model_0 saved\n",
      "Model: 0, Epoch [6/30], Loss: 0.4573\n",
      "Model: 0, Epoch [6/30], Test Loss: 0.4628\n",
      "New best model found! Test Loss improved from 0.7590 to 0.4628\n",
      "all model_0 saved\n"
     ]
    },
    {
     "name": "stderr",
     "output_type": "stream",
     "text": [
      "C:\\Users\\ROG\\AppData\\Local\\Programs\\Python\\Python312\\Lib\\site-packages\\torch\\onnx\\symbolic_opset9.py:4277: UserWarning: Exporting a model to ONNX with a batch_size other than 1, with a variable length with LSTM can cause an error when running the ONNX model with a different batch size. Make sure to save the model with a batch size of 1, or define the initial states (h0/c0) as inputs of the model. \n",
      "  warnings.warn(\n"
     ]
    },
    {
     "name": "stdout",
     "output_type": "stream",
     "text": [
      "Model: 0, Epoch [7/30], Loss: 0.2722\n",
      "Model: 0, Epoch [7/30], Test Loss: 0.2909\n",
      "New best model found! Test Loss improved from 0.4628 to 0.2909\n",
      "all model_0 saved\n"
     ]
    },
    {
     "name": "stderr",
     "output_type": "stream",
     "text": [
      "C:\\Users\\ROG\\AppData\\Local\\Programs\\Python\\Python312\\Lib\\site-packages\\torch\\onnx\\symbolic_opset9.py:4277: UserWarning: Exporting a model to ONNX with a batch_size other than 1, with a variable length with LSTM can cause an error when running the ONNX model with a different batch size. Make sure to save the model with a batch size of 1, or define the initial states (h0/c0) as inputs of the model. \n",
      "  warnings.warn(\n"
     ]
    },
    {
     "name": "stdout",
     "output_type": "stream",
     "text": [
      "Model: 0, Epoch [8/30], Loss: 0.1691\n",
      "Model: 0, Epoch [8/30], Test Loss: 0.1848\n",
      "New best model found! Test Loss improved from 0.2909 to 0.1848\n",
      "all model_0 saved\n"
     ]
    },
    {
     "name": "stderr",
     "output_type": "stream",
     "text": [
      "C:\\Users\\ROG\\AppData\\Local\\Programs\\Python\\Python312\\Lib\\site-packages\\torch\\onnx\\symbolic_opset9.py:4277: UserWarning: Exporting a model to ONNX with a batch_size other than 1, with a variable length with LSTM can cause an error when running the ONNX model with a different batch size. Make sure to save the model with a batch size of 1, or define the initial states (h0/c0) as inputs of the model. \n",
      "  warnings.warn(\n"
     ]
    },
    {
     "name": "stdout",
     "output_type": "stream",
     "text": [
      "Model: 0, Epoch [9/30], Loss: 0.1127\n",
      "Model: 0, Epoch [9/30], Test Loss: 0.1200\n",
      "New best model found! Test Loss improved from 0.1848 to 0.1200\n",
      "all model_0 saved\n"
     ]
    },
    {
     "name": "stderr",
     "output_type": "stream",
     "text": [
      "C:\\Users\\ROG\\AppData\\Local\\Programs\\Python\\Python312\\Lib\\site-packages\\torch\\onnx\\symbolic_opset9.py:4277: UserWarning: Exporting a model to ONNX with a batch_size other than 1, with a variable length with LSTM can cause an error when running the ONNX model with a different batch size. Make sure to save the model with a batch size of 1, or define the initial states (h0/c0) as inputs of the model. \n",
      "  warnings.warn(\n"
     ]
    },
    {
     "name": "stdout",
     "output_type": "stream",
     "text": [
      "Model: 0, Epoch [10/30], Loss: 0.0747\n",
      "Model: 0, Epoch [10/30], Test Loss: 0.0936\n",
      "New best model found! Test Loss improved from 0.1200 to 0.0936\n"
     ]
    },
    {
     "name": "stderr",
     "output_type": "stream",
     "text": [
      "C:\\Users\\ROG\\AppData\\Local\\Programs\\Python\\Python312\\Lib\\site-packages\\torch\\onnx\\symbolic_opset9.py:4277: UserWarning: Exporting a model to ONNX with a batch_size other than 1, with a variable length with LSTM can cause an error when running the ONNX model with a different batch size. Make sure to save the model with a batch size of 1, or define the initial states (h0/c0) as inputs of the model. \n",
      "  warnings.warn(\n"
     ]
    },
    {
     "name": "stdout",
     "output_type": "stream",
     "text": [
      "all model_0 saved\n",
      "Model: 0, Epoch [11/30], Loss: 0.0501\n",
      "Model: 0, Epoch [11/30], Test Loss: 0.0726\n",
      "New best model found! Test Loss improved from 0.0936 to 0.0726\n"
     ]
    },
    {
     "name": "stderr",
     "output_type": "stream",
     "text": [
      "C:\\Users\\ROG\\AppData\\Local\\Programs\\Python\\Python312\\Lib\\site-packages\\torch\\onnx\\symbolic_opset9.py:4277: UserWarning: Exporting a model to ONNX with a batch_size other than 1, with a variable length with LSTM can cause an error when running the ONNX model with a different batch size. Make sure to save the model with a batch size of 1, or define the initial states (h0/c0) as inputs of the model. \n",
      "  warnings.warn(\n"
     ]
    },
    {
     "name": "stdout",
     "output_type": "stream",
     "text": [
      "all model_0 saved\n",
      "Model: 0, Epoch [12/30], Loss: 0.0379\n",
      "Model: 0, Epoch [12/30], Test Loss: 0.0731\n",
      "Test loss has not improved; early stopping counter: 1\n",
      "Model: 0, Epoch [13/30], Loss: 0.0268\n",
      "Model: 0, Epoch [13/30], Test Loss: 0.0547\n",
      "New best model found! Test Loss improved from 0.0726 to 0.0547\n",
      "all model_0 saved\n"
     ]
    },
    {
     "name": "stderr",
     "output_type": "stream",
     "text": [
      "C:\\Users\\ROG\\AppData\\Local\\Programs\\Python\\Python312\\Lib\\site-packages\\torch\\onnx\\symbolic_opset9.py:4277: UserWarning: Exporting a model to ONNX with a batch_size other than 1, with a variable length with LSTM can cause an error when running the ONNX model with a different batch size. Make sure to save the model with a batch size of 1, or define the initial states (h0/c0) as inputs of the model. \n",
      "  warnings.warn(\n"
     ]
    },
    {
     "name": "stdout",
     "output_type": "stream",
     "text": [
      "Model: 0, Epoch [14/30], Loss: 0.0237\n",
      "Model: 0, Epoch [14/30], Test Loss: 0.0462\n",
      "New best model found! Test Loss improved from 0.0547 to 0.0462\n",
      "all model_0 saved\n"
     ]
    },
    {
     "name": "stderr",
     "output_type": "stream",
     "text": [
      "C:\\Users\\ROG\\AppData\\Local\\Programs\\Python\\Python312\\Lib\\site-packages\\torch\\onnx\\symbolic_opset9.py:4277: UserWarning: Exporting a model to ONNX with a batch_size other than 1, with a variable length with LSTM can cause an error when running the ONNX model with a different batch size. Make sure to save the model with a batch size of 1, or define the initial states (h0/c0) as inputs of the model. \n",
      "  warnings.warn(\n"
     ]
    },
    {
     "name": "stdout",
     "output_type": "stream",
     "text": [
      "Model: 0, Epoch [15/30], Loss: 0.0192\n",
      "Model: 0, Epoch [15/30], Test Loss: 0.0454\n",
      "New best model found! Test Loss improved from 0.0462 to 0.0454\n",
      "all model_0 saved\n"
     ]
    },
    {
     "name": "stderr",
     "output_type": "stream",
     "text": [
      "C:\\Users\\ROG\\AppData\\Local\\Programs\\Python\\Python312\\Lib\\site-packages\\torch\\onnx\\symbolic_opset9.py:4277: UserWarning: Exporting a model to ONNX with a batch_size other than 1, with a variable length with LSTM can cause an error when running the ONNX model with a different batch size. Make sure to save the model with a batch size of 1, or define the initial states (h0/c0) as inputs of the model. \n",
      "  warnings.warn(\n"
     ]
    },
    {
     "name": "stdout",
     "output_type": "stream",
     "text": [
      "Model: 0, Epoch [16/30], Loss: 0.0163\n",
      "Model: 0, Epoch [16/30], Test Loss: 0.0523\n",
      "Test loss has not improved; early stopping counter: 1\n",
      "Model: 0, Epoch [17/30], Loss: 0.0148\n",
      "Model: 0, Epoch [17/30], Test Loss: 0.0488\n",
      "Test loss has not improved; early stopping counter: 2\n",
      "Model: 0, Epoch [18/30], Loss: 0.0147\n",
      "Model: 0, Epoch [18/30], Test Loss: 0.0416\n",
      "New best model found! Test Loss improved from 0.0454 to 0.0416\n",
      "all model_0 saved\n"
     ]
    },
    {
     "name": "stderr",
     "output_type": "stream",
     "text": [
      "C:\\Users\\ROG\\AppData\\Local\\Programs\\Python\\Python312\\Lib\\site-packages\\torch\\onnx\\symbolic_opset9.py:4277: UserWarning: Exporting a model to ONNX with a batch_size other than 1, with a variable length with LSTM can cause an error when running the ONNX model with a different batch size. Make sure to save the model with a batch size of 1, or define the initial states (h0/c0) as inputs of the model. \n",
      "  warnings.warn(\n"
     ]
    },
    {
     "name": "stdout",
     "output_type": "stream",
     "text": [
      "Model: 0, Epoch [19/30], Loss: 0.0135\n",
      "Model: 0, Epoch [19/30], Test Loss: 0.0450\n",
      "Test loss has not improved; early stopping counter: 1\n",
      "Model: 0, Epoch [20/30], Loss: 0.0133\n",
      "Model: 0, Epoch [20/30], Test Loss: 0.0427\n",
      "Test loss has not improved; early stopping counter: 2\n",
      "Model: 0, Epoch [21/30], Loss: 0.0095\n",
      "Model: 0, Epoch [21/30], Test Loss: 0.0410\n",
      "New best model found! Test Loss improved from 0.0416 to 0.0410\n",
      "all model_0 saved\n"
     ]
    },
    {
     "name": "stderr",
     "output_type": "stream",
     "text": [
      "C:\\Users\\ROG\\AppData\\Local\\Programs\\Python\\Python312\\Lib\\site-packages\\torch\\onnx\\symbolic_opset9.py:4277: UserWarning: Exporting a model to ONNX with a batch_size other than 1, with a variable length with LSTM can cause an error when running the ONNX model with a different batch size. Make sure to save the model with a batch size of 1, or define the initial states (h0/c0) as inputs of the model. \n",
      "  warnings.warn(\n"
     ]
    },
    {
     "name": "stdout",
     "output_type": "stream",
     "text": [
      "Model: 0, Epoch [22/30], Loss: 0.0122\n",
      "Model: 0, Epoch [22/30], Test Loss: 0.0444\n",
      "Test loss has not improved; early stopping counter: 1\n",
      "Model: 0, Epoch [23/30], Loss: 0.0087\n",
      "Model: 0, Epoch [23/30], Test Loss: 0.0463\n",
      "Test loss has not improved; early stopping counter: 2\n",
      "Model: 0, Epoch [24/30], Loss: 0.0066\n"
     ]
    }
   ],
   "execution_count": null
  },
  {
   "metadata": {},
   "cell_type": "markdown",
   "source": "i have developed a model with the first parameters -> the rest will come later",
   "id": "5ac93f6d93ec81c"
  }
 ],
 "metadata": {
  "kernelspec": {
   "display_name": "Python 3",
   "language": "python",
   "name": "python3"
  },
  "language_info": {
   "codemirror_mode": {
    "name": "ipython",
    "version": 2
   },
   "file_extension": ".py",
   "mimetype": "text/x-python",
   "name": "python",
   "nbconvert_exporter": "python",
   "pygments_lexer": "ipython2",
   "version": "2.7.6"
  }
 },
 "nbformat": 4,
 "nbformat_minor": 5
}

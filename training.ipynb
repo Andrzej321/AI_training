{
 "cells": [
  {
   "cell_type": "code",
   "id": "initial_id",
   "metadata": {
    "collapsed": true,
    "ExecuteTime": {
     "end_time": "2025-04-10T23:39:08.542216Z",
     "start_time": "2025-04-10T23:39:06.299296Z"
    }
   },
   "source": [
    "import torch.nn as nn\n",
    "import torch.optim as optim\n",
    "from classes import SpeedEstimatorRNN, VehicleSpeedDataset\n",
    "from torch.utils.data import DataLoader"
   ],
   "outputs": [],
   "execution_count": 1
  },
  {
   "metadata": {
    "ExecuteTime": {
     "end_time": "2025-04-10T23:39:10.073643Z",
     "start_time": "2025-04-10T23:39:09.423160Z"
    }
   },
   "cell_type": "code",
   "source": [
    "import torch\n",
    "\n",
    "if torch.cuda.is_available():\n",
    "    print(\"CUDA is available! You can use a GPU for training.\")\n",
    "    print(\"Number of GPUs available:\", torch.cuda.device_count())\n",
    "    print(\"Current GPU being used:\", torch.cuda.current_device())\n",
    "    print(\"GPU Name:\", torch.cuda.get_device_name(torch.cuda.current_device()))\n",
    "else:\n",
    "    print(\"CUDA is not available. Training will be performed on the CPU.\")"
   ],
   "id": "9c82fbe67df87554",
   "outputs": [
    {
     "name": "stdout",
     "output_type": "stream",
     "text": [
      "CUDA is available! You can use a GPU for training.\n",
      "Number of GPUs available: 1\n",
      "Current GPU being used: 0\n",
      "GPU Name: NVIDIA GeForce RTX 3050 Laptop GPU\n"
     ]
    }
   ],
   "execution_count": 2
  },
  {
   "metadata": {
    "ExecuteTime": {
     "end_time": "2025-04-10T23:39:12.311175Z",
     "start_time": "2025-04-10T23:39:12.306512Z"
    }
   },
   "cell_type": "code",
   "source": [
    "# Set dataset path\n",
    "data_path = r\"C:\\my files\\thesis\\AI_training\\training_data\\training_data\\training_data_2\"\n",
    "extension = \"*.csv\"\n",
    "\n",
    "# Hyperparameters that will alter throughout the model creations\n",
    "input_size = 14  # Number of CAN signals per timestep\n",
    "hidden_size = [64, 64, 64, 128, 128, 256, 128, 128, 128, 128, 128, 128]\n",
    "num_layers = [1, 2, 3, 1, 3, 3, 2, 2, 2, 2, 4, 3]\n",
    "learning_rate = [0.001, 0.001, 0.001, 0.001, 0.001, 0.001, 0.005, 0.001, 0.001, 0.0001, 0.0005, 0.001]\n",
    "# num of sequences in one batch\n",
    "batch_size = [64, 64, 64, 64, 64, 64, 64, 128, 64, 64, 64, 32]\n",
    "dropout_rate = [0, 0.2, 0.2, 0.2, 0.2, 0.2, 0.2, 0.2, 0.4, 0.2, 0.4, 0.2]\n",
    "sequence_length = [200, 200, 200, 200, 200, 200, 200, 200, 400, 50, 200, 200]\n",
    "\n",
    "\n",
    "# parameters of the simulation\n",
    "step_size = 10 # what the overlap between the sequences should look like in the extracted dataset\n",
    "output_size = 1\n",
    "num_epochs = 15\n",
    "\n",
    "num_models = 12\n",
    "\n",
    "default_location = r\"C:\\my files\\thesis\\AI_training\\trained_models\\iteration_2\\model_\""
   ],
   "id": "65139ecfaf0a1ccf",
   "outputs": [],
   "execution_count": 3
  },
  {
   "metadata": {},
   "cell_type": "code",
   "source": [
    "# Training loops\n",
    "for j in range(num_models):\n",
    "    # Load dataset and DataLoader\n",
    "    dataset = VehicleSpeedDataset(data_path, extension, seq_length = sequence_length[12], step_size = step_size)\n",
    "    dataloader = DataLoader(dataset, batch_size=batch_size[j], shuffle=True, num_workers= 6, pin_memory=True)\n",
    "\n",
    "    # Initialize model, loss function, and optimizer\n",
    "    device = torch.device(\"cuda\" if torch.cuda.is_available() else \"cpu\")\n",
    "    model = SpeedEstimatorRNN(input_size, hidden_size[j], num_layers[j], output_size).to(device)\n",
    "    criterion = nn.MSELoss()\n",
    "    optimizer = optim.Adam(model.parameters(), lr=learning_rate[j])\n",
    "\n",
    "    for epoch in range(num_epochs):\n",
    "        total_loss = 0\n",
    "\n",
    "        for batch_idx, (features, speeds) in enumerate(dataloader):\n",
    "            features, speeds = features.to(device), speeds.to(device)\n",
    "\n",
    "            # Forward pass\n",
    "            outputs = model(features)\n",
    "            loss = criterion(outputs, speeds)\n",
    "\n",
    "            # Backward pass\n",
    "            optimizer.zero_grad()\n",
    "            loss.backward()\n",
    "            optimizer.step()\n",
    "\n",
    "            total_loss += loss.item()\n",
    "\n",
    "        print(f\"Epoch [{epoch+1}/{num_epochs}], Loss: {total_loss/len(dataloader):.4f}\")\n",
    "\n",
    "    torch.save({\n",
    "        \"model_state_dict\": model.state_dict(),\n",
    "        \"optimizer_state_dict\": optimizer.state_dict(),\n",
    "        \"sequence_length\": sequence_length,\n",
    "        \"input_size\": input_size,\n",
    "        \"hidden_size\": hidden_size,\n",
    "        \"num_layers\": num_layers,\n",
    "        \"output_size\": output_size,\n",
    "        \"learning_rate\": learning_rate,\n",
    "        \"num_epochs\": num_epochs\n",
    "    }, default_location + str(j))\n",
    "\n",
    "#12th model should still be executed"
   ],
   "id": "420abcdd902a5bd7",
   "outputs": [],
   "execution_count": null
  },
  {
   "metadata": {
    "ExecuteTime": {
     "end_time": "2025-04-11T00:16:01.650404Z",
     "start_time": "2025-04-10T23:39:16.083835Z"
    }
   },
   "cell_type": "code",
   "source": [
    "# Load dataset and DataLoader\n",
    "dataset = VehicleSpeedDataset(data_path, extension, seq_length = sequence_length[11], step_size = step_size)\n",
    "dataloader = DataLoader(dataset, batch_size=batch_size[11], shuffle=True, num_workers= 6, pin_memory=True)\n",
    "\n",
    "# Initialize model, loss function, and optimizer\n",
    "device = torch.device(\"cuda\" if torch.cuda.is_available() else \"cpu\")\n",
    "model = SpeedEstimatorRNN(input_size, hidden_size[11], num_layers[11], output_size).to(device)\n",
    "criterion = nn.MSELoss()\n",
    "optimizer = optim.Adam(model.parameters(), lr=learning_rate[11])\n",
    "\n",
    "for epoch in range(num_epochs):\n",
    "    total_loss = 0\n",
    "\n",
    "    for batch_idx, (features, speeds) in enumerate(dataloader):\n",
    "        features, speeds = features.to(device), speeds.to(device)\n",
    "\n",
    "        # Forward pass\n",
    "        outputs = model(features)\n",
    "        loss = criterion(outputs, speeds)\n",
    "\n",
    "        # Backward pass\n",
    "        optimizer.zero_grad()\n",
    "        loss.backward()\n",
    "        optimizer.step()\n",
    "\n",
    "        total_loss += loss.item()\n",
    "\n",
    "    print(f\"Epoch [{epoch+1}/{num_epochs}], Loss: {total_loss/len(dataloader):.4f}\")\n",
    "\n",
    "torch.save({\n",
    "    \"model_state_dict\": model.state_dict(),\n",
    "    \"optimizer_state_dict\": optimizer.state_dict(),\n",
    "    \"sequence_length\": sequence_length,\n",
    "    \"input_size\": input_size,\n",
    "    \"hidden_size\": hidden_size,\n",
    "    \"num_layers\": num_layers,\n",
    "    \"output_size\": output_size,\n",
    "    \"learning_rate\": learning_rate,\n",
    "    \"num_epochs\": num_epochs\n",
    "}, default_location + str(12))"
   ],
   "id": "7d8deb826d54daa9",
   "outputs": [
    {
     "name": "stdout",
     "output_type": "stream",
     "text": [
      "Epoch [1/15], Loss: 12.3217\n",
      "Epoch [2/15], Loss: 0.7816\n",
      "Epoch [3/15], Loss: 0.8619\n",
      "Epoch [4/15], Loss: 0.5878\n",
      "Epoch [5/15], Loss: 0.6295\n",
      "Epoch [6/15], Loss: 0.5368\n",
      "Epoch [7/15], Loss: 0.6382\n",
      "Epoch [8/15], Loss: 0.4038\n",
      "Epoch [9/15], Loss: 0.4108\n",
      "Epoch [10/15], Loss: 0.4844\n",
      "Epoch [11/15], Loss: 0.4186\n",
      "Epoch [12/15], Loss: 0.3590\n",
      "Epoch [13/15], Loss: 0.3533\n",
      "Epoch [14/15], Loss: 0.4199\n",
      "Epoch [15/15], Loss: 0.3207\n"
     ]
    }
   ],
   "execution_count": 4
  }
 ],
 "metadata": {
  "kernelspec": {
   "display_name": "Python 3",
   "language": "python",
   "name": "python3"
  },
  "language_info": {
   "codemirror_mode": {
    "name": "ipython",
    "version": 2
   },
   "file_extension": ".py",
   "mimetype": "text/x-python",
   "name": "python",
   "nbconvert_exporter": "python",
   "pygments_lexer": "ipython2",
   "version": "2.7.6"
  }
 },
 "nbformat": 4,
 "nbformat_minor": 5
}

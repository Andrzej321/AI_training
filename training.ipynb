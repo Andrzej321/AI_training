{
 "cells": [
  {
   "cell_type": "code",
   "id": "initial_id",
   "metadata": {
    "collapsed": true,
    "ExecuteTime": {
     "end_time": "2025-05-20T21:12:19.593945Z",
     "start_time": "2025-05-20T21:12:17.521347Z"
    }
   },
   "source": [
    "import torch.nn as nn\n",
    "import torch.optim as optim\n",
    "from classes import SpeedEstimatorRNN, VehicleSpeedDataset\n",
    "from torch.utils.data import DataLoader"
   ],
   "outputs": [],
   "execution_count": 1
  },
  {
   "metadata": {
    "ExecuteTime": {
     "end_time": "2025-05-20T21:12:20.473672Z",
     "start_time": "2025-05-20T21:12:20.451320Z"
    }
   },
   "cell_type": "code",
   "source": [
    "import torch\n",
    "\n",
    "if torch.cuda.is_available():\n",
    "    print(\"CUDA is available! You can use a GPU for training.\")\n",
    "    print(\"Number of GPUs available:\", torch.cuda.device_count())\n",
    "    print(\"Current GPU being used:\", torch.cuda.current_device())\n",
    "    print(\"GPU Name:\", torch.cuda.get_device_name(torch.cuda.current_device()))\n",
    "else:\n",
    "    print(\"CUDA is not available. Training will be performed on the CPU.\")"
   ],
   "id": "9c82fbe67df87554",
   "outputs": [
    {
     "name": "stdout",
     "output_type": "stream",
     "text": [
      "CUDA is available! You can use a GPU for training.\n",
      "Number of GPUs available: 1\n",
      "Current GPU being used: 0\n",
      "GPU Name: NVIDIA GeForce RTX 3050 Laptop GPU\n"
     ]
    }
   ],
   "execution_count": 2
  },
  {
   "metadata": {
    "ExecuteTime": {
     "end_time": "2025-05-20T21:12:22.005209Z",
     "start_time": "2025-05-20T21:12:22.001821Z"
    }
   },
   "cell_type": "code",
   "source": [
    "# Set dataset path\n",
    "data_path = r'C:\\my files\\thesis\\AI_training\\data\\training_data\\training_data_noise_extended'\n",
    "extension = \"*.csv\"\n",
    "\n",
    "# Hyperparameters that will alter throughout the model creations\n",
    "input_size = 26  # Number of CAN signals per timestep\n",
    "hidden_size = [256]\n",
    "num_layers = [4]\n",
    "learning_rate = [0.0001]\n",
    "# num of sequences in one batch\n",
    "batch_size = [128]\n",
    "dropout_rate = [0.2]\n",
    "sequence_length = [800]\n",
    "\n",
    "\n",
    "# parameters of the simulation\n",
    "step_size = 10 # what the overlap between the sequences should look like in the extracted dataset\n",
    "output_size = 1\n",
    "num_epochs = 20\n",
    "\n",
    "num_models = 1\n",
    "\n",
    "default_location = r\"C:\\my files\\thesis\\AI_training\\Simple RNN\\trained_models\\iteration_6\\model_\""
   ],
   "id": "65139ecfaf0a1ccf",
   "outputs": [],
   "execution_count": 3
  },
  {
   "metadata": {
    "ExecuteTime": {
     "end_time": "2025-05-20T17:32:56.837634Z",
     "start_time": "2025-05-20T17:32:56.831777Z"
    }
   },
   "cell_type": "code",
   "source": "range(num_models)",
   "id": "e396db2fb932dd6e",
   "outputs": [
    {
     "data": {
      "text/plain": [
       "range(0, 1)"
      ]
     },
     "execution_count": 6,
     "metadata": {},
     "output_type": "execute_result"
    }
   ],
   "execution_count": 6
  },
  {
   "metadata": {
    "ExecuteTime": {
     "end_time": "2025-05-20T22:05:40.321804Z",
     "start_time": "2025-05-20T21:12:26.172804Z"
    }
   },
   "cell_type": "code",
   "source": [
    "# Training loops\n",
    "for j in range(num_models):\n",
    "    # Load dataset and DataLoader\n",
    "    dataset = VehicleSpeedDataset(data_path, extension, seq_length = sequence_length[j], step_size = step_size)\n",
    "    dataloader = DataLoader(dataset, batch_size=batch_size[j], shuffle=True, num_workers= 6, pin_memory=True)\n",
    "\n",
    "    # Initialize model, loss function, and optimizer\n",
    "    device = torch.device(\"cuda\" if torch.cuda.is_available() else \"cpu\")\n",
    "    model = SpeedEstimatorRNN(input_size, hidden_size[j], num_layers[j], output_size).to(device)\n",
    "    criterion = nn.MSELoss()\n",
    "    optimizer = optim.Adam(model.parameters(), lr=learning_rate[j])\n",
    "\n",
    "    for epoch in range(num_epochs):\n",
    "        total_loss = 0\n",
    "\n",
    "        for batch_idx, (features, speeds) in enumerate(dataloader):\n",
    "            features, speeds = features.to(device), speeds.to(device)\n",
    "\n",
    "            # Forward pass\n",
    "            outputs = model(features)\n",
    "            loss = criterion(outputs, speeds)\n",
    "\n",
    "            # Backward pass\n",
    "            optimizer.zero_grad()\n",
    "            loss.backward()\n",
    "            optimizer.step()\n",
    "\n",
    "            total_loss += loss.item()\n",
    "\n",
    "        print(f\"Model: {j}, Epoch [{epoch+1}/{num_epochs}], Loss: {total_loss/len(dataloader):.4f}\")\n",
    "\n",
    "    torch.save({\n",
    "        \"model_state_dict\": model.state_dict(),\n",
    "        \"optimizer_state_dict\": optimizer.state_dict(),\n",
    "        \"sequence_length\": sequence_length,\n",
    "        \"input_size\": input_size,\n",
    "        \"hidden_size\": hidden_size,\n",
    "        \"num_layers\": num_layers,\n",
    "        \"output_size\": output_size,\n",
    "        \"learning_rate\": learning_rate,\n",
    "        \"num_epochs\": num_epochs\n",
    "    }, default_location + str(j) + \".pt\")"
   ],
   "id": "420abcdd902a5bd7",
   "outputs": [
    {
     "name": "stdout",
     "output_type": "stream",
     "text": [
      "Model: 0, Epoch [1/20], Loss: 132.6036\n",
      "Model: 0, Epoch [2/20], Loss: 56.2399\n",
      "Model: 0, Epoch [3/20], Loss: 25.6993\n",
      "Model: 0, Epoch [4/20], Loss: 14.0145\n",
      "Model: 0, Epoch [5/20], Loss: 7.3529\n",
      "Model: 0, Epoch [6/20], Loss: 3.9149\n",
      "Model: 0, Epoch [7/20], Loss: 2.1530\n",
      "Model: 0, Epoch [8/20], Loss: 1.2369\n",
      "Model: 0, Epoch [9/20], Loss: 0.7287\n",
      "Model: 0, Epoch [10/20], Loss: 0.4376\n",
      "Model: 0, Epoch [11/20], Loss: 0.2651\n",
      "Model: 0, Epoch [12/20], Loss: 0.1912\n",
      "Model: 0, Epoch [13/20], Loss: 0.1186\n",
      "Model: 0, Epoch [14/20], Loss: 0.1071\n",
      "Model: 0, Epoch [15/20], Loss: 0.0695\n",
      "Model: 0, Epoch [16/20], Loss: 0.0708\n",
      "Model: 0, Epoch [17/20], Loss: 0.0591\n",
      "Model: 0, Epoch [18/20], Loss: 0.0553\n",
      "Model: 0, Epoch [19/20], Loss: 0.0502\n",
      "Model: 0, Epoch [20/20], Loss: 0.0462\n"
     ]
    }
   ],
   "execution_count": 4
  },
  {
   "metadata": {
    "ExecuteTime": {
     "end_time": "2025-04-24T10:34:30.072850Z",
     "start_time": "2025-04-24T10:34:26.813760Z"
    }
   },
   "cell_type": "code",
   "source": [
    "#To change the format of the created models\n",
    "import torch\n",
    "from classes import SpeedEstimatorRNNModified  # Import your model structure\n",
    "\n",
    "# Define paths\n",
    "num_models = 12  # Total number of models\n",
    "input_size = 14  # Define these based on your training setup\n",
    "output_size = 1\n",
    "hidden_size = [64, 64, 64, 128, 128, 256, 128, 128, 128, 128, 128, 128]  # Same as during training\n",
    "num_layers = [1, 2, 3, 1, 3, 3, 2, 2, 2, 2, 4, 3]  # Model config during training\n",
    "\n",
    "# Path to existing models and new .pt files\n",
    "old_model_location = r\"C:\\work\\AI_training\\Simple RNN\\trained_models\\iteration_3\\model_\"\n",
    "new_save_location = r\"C:\\work\\AI_training\\Simple RNN\\trained_models\\converted_models\\iteration_3\\model_\"  # New path to save the .pt files\n",
    "\n",
    "# Convert each model\n",
    "for i in range(num_models):\n",
    "    # Define model architecture\n",
    "    model = SpeedEstimatorRNNModified(input_size, hidden_size[i], num_layers[i], output_size)\n",
    "\n",
    "    # Load trained weights\n",
    "    checkpoint = torch.load(old_model_location + str(i), map_location=torch.device('cpu'))  # Adjust path as needed\n",
    "    model.load_state_dict(checkpoint[\"model_state_dict\"])  # Load the weights\n",
    "    model.eval()  # Set model to evaluation mode\n",
    "\n",
    "    # Save the model in .pt format\n",
    "    torch.save(model, new_save_location + str(i) + \".pt\")\n",
    "    print(f\"Model {i} saved in .pt format at {new_save_location + str(i) + '.pt'}\")"
   ],
   "id": "7d8deb826d54daa9",
   "outputs": [
    {
     "name": "stdout",
     "output_type": "stream",
     "text": [
      "Model 0 saved in .pt format at C:\\work\\AI_training\\Simple RNN\\trained_models\\converted_models\\iteration_3\\model_0.pt\n",
      "Model 1 saved in .pt format at C:\\work\\AI_training\\Simple RNN\\trained_models\\converted_models\\iteration_3\\model_1.pt\n",
      "Model 2 saved in .pt format at C:\\work\\AI_training\\Simple RNN\\trained_models\\converted_models\\iteration_3\\model_2.pt\n",
      "Model 3 saved in .pt format at C:\\work\\AI_training\\Simple RNN\\trained_models\\converted_models\\iteration_3\\model_3.pt\n",
      "Model 4 saved in .pt format at C:\\work\\AI_training\\Simple RNN\\trained_models\\converted_models\\iteration_3\\model_4.pt\n",
      "Model 5 saved in .pt format at C:\\work\\AI_training\\Simple RNN\\trained_models\\converted_models\\iteration_3\\model_5.pt\n",
      "Model 6 saved in .pt format at C:\\work\\AI_training\\Simple RNN\\trained_models\\converted_models\\iteration_3\\model_6.pt\n",
      "Model 7 saved in .pt format at C:\\work\\AI_training\\Simple RNN\\trained_models\\converted_models\\iteration_3\\model_7.pt\n",
      "Model 8 saved in .pt format at C:\\work\\AI_training\\Simple RNN\\trained_models\\converted_models\\iteration_3\\model_8.pt\n",
      "Model 9 saved in .pt format at C:\\work\\AI_training\\Simple RNN\\trained_models\\converted_models\\iteration_3\\model_9.pt\n",
      "Model 10 saved in .pt format at C:\\work\\AI_training\\Simple RNN\\trained_models\\converted_models\\iteration_3\\model_10.pt\n",
      "Model 11 saved in .pt format at C:\\work\\AI_training\\Simple RNN\\trained_models\\converted_models\\iteration_3\\model_11.pt\n"
     ]
    }
   ],
   "execution_count": 1
  }
 ],
 "metadata": {
  "kernelspec": {
   "display_name": "Python 3",
   "language": "python",
   "name": "python3"
  },
  "language_info": {
   "codemirror_mode": {
    "name": "ipython",
    "version": 2
   },
   "file_extension": ".py",
   "mimetype": "text/x-python",
   "name": "python",
   "nbconvert_exporter": "python",
   "pygments_lexer": "ipython2",
   "version": "2.7.6"
  }
 },
 "nbformat": 4,
 "nbformat_minor": 5
}

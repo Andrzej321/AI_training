{
 "cells": [
  {
   "cell_type": "code",
   "id": "initial_id",
   "metadata": {
    "collapsed": true,
    "ExecuteTime": {
     "end_time": "2025-06-02T07:46:40.980390Z",
     "start_time": "2025-06-02T07:46:38.307525Z"
    }
   },
   "source": [
    "import torch\n",
    "from classes import SpeedEstimatorRNN\n",
    "\n",
    "# model parameters\n",
    "input_size = 26\n",
    "hidden_size = 256\n",
    "num_layers = 3\n",
    "output_size = 1\n",
    "\n",
    "# Example: Load your trained PyTorch model\n",
    "model = SpeedEstimatorRNN(input_size, hidden_size, num_layers, output_size)\n",
    "checkpoint = torch.load('Simple RNN/trained_models/VTF/iteration_7/model_0.pt', map_location=torch.device(\"cpu\"))\n",
    "model.load_state_dict(checkpoint[\"model_state_dict\"])\n",
    "model.eval()\n"
   ],
   "outputs": [
    {
     "data": {
      "text/plain": [
       "SpeedEstimatorRNN(\n",
       "  (rnn): RNN(26, 256, num_layers=3, batch_first=True)\n",
       "  (dropout): Dropout(p=0.0, inplace=False)\n",
       "  (fc): Linear(in_features=256, out_features=1, bias=True)\n",
       ")"
      ]
     },
     "execution_count": 1,
     "metadata": {},
     "output_type": "execute_result"
    }
   ],
   "execution_count": 1
  },
  {
   "metadata": {
    "ExecuteTime": {
     "end_time": "2025-06-02T07:47:25.330159Z",
     "start_time": "2025-06-02T07:47:25.279134Z"
    }
   },
   "cell_type": "code",
   "source": [
    "# dummy input\n",
    "batch_size = 1\n",
    "sequence_length = 800\n",
    "\n",
    "dummy_input = torch.randn(batch_size, sequence_length, input_size)"
   ],
   "id": "c20173461827e0bb",
   "outputs": [],
   "execution_count": 4
  },
  {
   "metadata": {
    "ExecuteTime": {
     "end_time": "2025-06-02T07:30:16.935103Z",
     "start_time": "2025-06-02T07:30:16.927099Z"
    }
   },
   "cell_type": "code",
   "source": "",
   "id": "8552c7c00e3719bd",
   "outputs": [
    {
     "data": {
      "text/plain": [
       "tensor(0.3475)"
      ]
     },
     "execution_count": 13,
     "metadata": {},
     "output_type": "execute_result"
    }
   ],
   "execution_count": 13
  },
  {
   "metadata": {
    "ExecuteTime": {
     "end_time": "2025-06-02T07:47:26.597857Z",
     "start_time": "2025-06-02T07:47:26.436793Z"
    }
   },
   "cell_type": "code",
   "source": [
    "# Define output path for the ONNX file\n",
    "onnx_file_path = \"Simple RNN/trained_models/converted_models/for_matlab/it_7/model_0_7.onnx\"\n",
    "\n",
    "# Export your model to ONNX format\n",
    "torch.onnx.export(\n",
    "    model,                     # The PyTorch model\n",
    "    dummy_input,               # Dummy input tensor\n",
    "    onnx_file_path,            # Output file path\n",
    "    export_params=True,        # Store parameter weights in the model file\n",
    "    opset_version=11,          # ONNX version to use (MATLAB supports opset 11 and above)\n",
    "    input_names=[\"input\"],     # Define input tensor names\n",
    "    output_names=[\"output\"],   # Define output tensor names\n",
    "    dynamic_axes={             # Allow batching and dynamic sequence lengths\n",
    "        \"input\": {0: \"batch_size\", 1: \"sequence_length\"},\n",
    "        \"output\": {0: \"batch_size\"}\n",
    "    }\n",
    ")\n",
    "\n",
    "print(f\"Model exported to ONNX format at {onnx_file_path}\")"
   ],
   "id": "23a2b0fc5d4a600b",
   "outputs": [
    {
     "name": "stdout",
     "output_type": "stream",
     "text": [
      "Shape after dropout: torch.Size([1, 800, 256])\n",
      "Shape after fully connected layer: torch.Size([1, 1])\n",
      "Model exported to ONNX format at Simple RNN/trained_models/converted_models/for_matlab/model_0_7.onnx\n"
     ]
    }
   ],
   "execution_count": 5
  },
  {
   "metadata": {
    "ExecuteTime": {
     "end_time": "2025-06-05T14:35:41.395451Z",
     "start_time": "2025-06-05T14:35:41.151535Z"
    }
   },
   "cell_type": "code",
   "source": [
    "import netron\n",
    "\n",
    "onnx_file_path = \"Simple RNN/trained_models/converted_models/for_matlab/it_7/model_0_7.onnx\"\n",
    "netron.start(onnx_file_path)"
   ],
   "id": "2c8b36b63644c911",
   "outputs": [
    {
     "ename": "ModuleNotFoundError",
     "evalue": "No module named 'netron'",
     "output_type": "error",
     "traceback": [
      "\u001B[31m---------------------------------------------------------------------------\u001B[39m",
      "\u001B[31mModuleNotFoundError\u001B[39m                       Traceback (most recent call last)",
      "\u001B[36mCell\u001B[39m\u001B[36m \u001B[39m\u001B[32mIn[1]\u001B[39m\u001B[32m, line 1\u001B[39m\n\u001B[32m----> \u001B[39m\u001B[32m1\u001B[39m \u001B[38;5;28;01mimport\u001B[39;00m\u001B[38;5;250m \u001B[39m\u001B[34;01mnetron\u001B[39;00m\n\u001B[32m      3\u001B[39m onnx_file_path = \u001B[33m\"\u001B[39m\u001B[33mSimple RNN/trained_models/converted_models/for_matlab/it_7/model_0_7.onnx\u001B[39m\u001B[33m\"\u001B[39m\n\u001B[32m      4\u001B[39m netron.start(onnx_file_path)\n",
      "\u001B[31mModuleNotFoundError\u001B[39m: No module named 'netron'"
     ]
    }
   ],
   "execution_count": 1
  }
 ],
 "metadata": {
  "kernelspec": {
   "display_name": "Python 3",
   "language": "python",
   "name": "python3"
  },
  "language_info": {
   "codemirror_mode": {
    "name": "ipython",
    "version": 2
   },
   "file_extension": ".py",
   "mimetype": "text/x-python",
   "name": "python",
   "nbconvert_exporter": "python",
   "pygments_lexer": "ipython2",
   "version": "2.7.6"
  }
 },
 "nbformat": 4,
 "nbformat_minor": 5
}
